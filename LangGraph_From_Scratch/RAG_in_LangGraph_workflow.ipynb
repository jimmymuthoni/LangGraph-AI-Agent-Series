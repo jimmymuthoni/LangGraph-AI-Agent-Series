{
 "cells": [
  {
   "cell_type": "markdown",
   "id": "1f42b699",
   "metadata": {},
   "source": [
    "### RAG in LangGraph Workflow"
   ]
  },
  {
   "cell_type": "code",
   "execution_count": 2,
   "id": "093ff555",
   "metadata": {},
   "outputs": [
    {
     "name": "stderr",
     "output_type": "stream",
     "text": [
      "/home/brian/Documents/JIM/Langgraph/env/lib/python3.13/site-packages/tqdm/auto.py:21: TqdmWarning: IProgress not found. Please update jupyter and ipywidgets. See https://ipywidgets.readthedocs.io/en/stable/user_install.html\n",
      "  from .autonotebook import tqdm as notebook_tqdm\n"
     ]
    }
   ],
   "source": [
    "from langchain_google_genai import GoogleGenerativeAIEmbeddings\n",
    "from langchain_groq import ChatGroq\n",
    "from langchain_core.output_parsers import StrOutputParser\n",
    "from langchain_core.prompts import ChatPromptTemplate\n",
    "from langchain_core.runnables import RunnablePassthrough\n",
    "from langchain_core.messages import HumanMessage, AIMessage\n",
    "from langchain_community.document_loaders import TextLoader, DirectoryLoader\n",
    "from langchain_community.vectorstores import Chroma\n",
    "from langchain_text_splitters import RecursiveCharacterTextSplitter\n",
    "from langgraph.graph import MessageGraph"
   ]
  },
  {
   "cell_type": "code",
   "execution_count": 6,
   "id": "c17bffb2",
   "metadata": {},
   "outputs": [
    {
     "name": "stderr",
     "output_type": "stream",
     "text": [
      "Failed to send telemetry event ClientStartEvent: capture() takes 1 positional argument but 3 were given\n",
      "Failed to send telemetry event ClientCreateCollectionEvent: capture() takes 1 positional argument but 3 were given\n"
     ]
    }
   ],
   "source": [
    "embeddings = GoogleGenerativeAIEmbeddings(model=\"models/embedding-001\")\n",
    "llm = ChatGroq(model_name=\"llama3-8b-8192\")\n",
    "\n",
    "# Load and prepare documents\n",
    "loader = DirectoryLoader(\"../data\", glob=\"./*.txt\", loader_cls=TextLoader)\n",
    "docs = loader.load()\n",
    "\n",
    "text_splitter = RecursiveCharacterTextSplitter(chunk_size=100, chunk_overlap=50)\n",
    "split_docs = text_splitter.split_documents(docs)\n",
    "\n",
    "db = Chroma.from_documents(split_docs, embeddings)\n",
    "retriever = db.as_retriever(search_kwargs={\"k\": 3})\n"
   ]
  },
  {
   "cell_type": "code",
   "execution_count": 5,
   "id": "5e091d5a",
   "metadata": {},
   "outputs": [],
   "source": [
    "def llm_brief_answer(messages):\n",
    "    question = messages[-1].content\n",
    "    prompt = \"Your task is to provide only a brief answer to the user query without much reasoning. Here is the query: \" + question\n",
    "    response = llm.invoke(prompt)\n",
    "    messages.append(AIMessage(content=response.content))\n",
    "    return messages\n",
    "\n",
    "def rag_answer(messages):\n",
    "    original_question = next(msg.content for msg in messages if isinstance(msg, HumanMessage))\n",
    "    \n",
    "    template = \"\"\"Answer the question based only on the following context:\n",
    "    {context}\n",
    "\n",
    "    Question: {question}\n",
    "    \"\"\"\n",
    "    prompt = ChatPromptTemplate.from_template(template)\n",
    "\n",
    "    retrieval_chain = (\n",
    "        {\"context\": retriever, \"question\": RunnablePassthrough()}\n",
    "        | prompt\n",
    "        | llm\n",
    "        | StrOutputParser()\n",
    "    )\n",
    "\n",
    "    result = retrieval_chain.invoke(original_question)\n",
    "\n",
    "    messages.append(AIMessage(content=result))\n",
    "    return messages"
   ]
  },
  {
   "cell_type": "code",
   "execution_count": 6,
   "id": "3527761d",
   "metadata": {},
   "outputs": [
    {
     "data": {
      "text/plain": [
       "<langgraph.graph.message.MessageGraph at 0x7fbea92b12b0>"
      ]
     },
     "execution_count": 6,
     "metadata": {},
     "output_type": "execute_result"
    }
   ],
   "source": [
    "# Build the MessageGraph\n",
    "workflow = MessageGraph()\n",
    "workflow.add_node(\"LLM\", llm_brief_answer)\n",
    "workflow.add_node(\"RAG\", rag_answer)\n",
    "workflow.add_edge(\"LLM\", \"RAG\")\n",
    "workflow.set_entry_point(\"LLM\")\n",
    "workflow.set_finish_point(\"RAG\")"
   ]
  },
  {
   "cell_type": "code",
   "execution_count": 7,
   "id": "61b7766a",
   "metadata": {},
   "outputs": [],
   "source": [
    "app = workflow.compile()"
   ]
  },
  {
   "cell_type": "code",
   "execution_count": null,
   "id": "33e17b2a",
   "metadata": {},
   "outputs": [
    {
     "name": "stdout",
     "output_type": "stream",
     "text": [
      "\n",
      "Output for node 'LLM': \n",
      "------------------------------\n",
      "Human Message: Tell me about llama3 model\n",
      "Ai Message: The llama3 model is a language model developed by LLaMA, a AI research organization. It is a large-scale language model trained on a massive dataset of text and capable of generating human-like responses.\n",
      "\n",
      "==================================================\n"
     ]
    },
    {
     "name": "stderr",
     "output_type": "stream",
     "text": [
      "Failed to send telemetry event CollectionQueryEvent: capture() takes 1 positional argument but 3 were given\n"
     ]
    },
    {
     "name": "stdout",
     "output_type": "stream",
     "text": [
      "\n",
      "Output for node 'RAG': \n",
      "------------------------------\n",
      "Human Message: Tell me about llama3 model\n",
      "Ai Message: The llama3 model is a language model developed by LLaMA, a AI research organization. It is a large-scale language model trained on a massive dataset of text and capable of generating human-like responses.\n",
      "Ai Message: According to the context, Llama 3 has been described as \"surprisingly capable\" given its size.\n",
      "\n",
      "==================================================\n"
     ]
    }
   ],
   "source": [
    "input_state = [HumanMessage(content=\"Tell me about llama 3 model\")]\n",
    "for output in app.stream(input_state):\n",
    "    for node_name, node_messages in output.items():\n",
    "        print(f\"\\nOutput for node '{node_name}': \")\n",
    "        print(\"-\" * 30)\n",
    "        for message in node_messages:\n",
    "            print(f\"{message.type.capitalize()} Message: {message.content}\")\n",
    "        print(\"\\n\" + \"=\" * 50)"
   ]
  },
  {
   "cell_type": "code",
   "execution_count": null,
   "id": "06fb73d4",
   "metadata": {},
   "outputs": [
    {
     "data": {
      "image/png": "[encoded data removed]",
      "text/plain": [
       "<IPython.core.display.Image object>"
      ]
     },
     "metadata": {},
     "output_type": "display_data"
    }
   ],
   "source": [
    "from IPython.display import Image, display\n",
    "\n",
    "try:\n",
    "    display(Image(app.get_graph().draw_mermaid_png()))\n",
    "except Exception as e:\n",
    "    print(e)"
   ]
  },
  {
   "cell_type": "code",
   "execution_count": 7,
   "id": "311e28c5",
   "metadata": {},
   "outputs": [
    {
     "name": "stderr",
     "output_type": "stream",
     "text": [
      "Failed to send telemetry event ClientStartEvent: capture() takes 1 positional argument but 3 were given\n",
      "Failed to send telemetry event ClientCreateCollectionEvent: capture() takes 1 positional argument but 3 were given\n"
     ]
    }
   ],
   "source": [
    "loader2 = DirectoryLoader(\"../data2\", glob=\"./*.txt\", loader_cls=TextLoader)\n",
    "docs2 = loader2.load()\n",
    "\n",
    "text_splitter = RecursiveCharacterTextSplitter(\n",
    "    chunk_size = 100,\n",
    "    chunk_overlap = 50\n",
    ")\n",
    "\n",
    "new_docs2 = text_splitter.split_documents(documents=docs2)\n",
    "doc_string2 = [doc.page_content for doc in new_docs2]\n",
    "\n",
    "db = Chroma.from_documents(new_docs2, embeddings)\n",
    "retriever2 = db.as_retriever(search_kwargs = {\"k\": 3})"
   ]
  },
  {
   "cell_type": "code",
   "execution_count": 10,
   "id": "c3c95503",
   "metadata": {},
   "outputs": [
    {
     "name": "stdout",
     "output_type": "stream",
     "text": [
      "{'source': '../data2/indian_economy.txt'}\n",
      "India’s strong export sectors—including textiles, IT services, and automotive manufacturing—had\n",
      "page_content='India’s strong export sectors—including textiles, IT services, and automotive manufacturing—had' metadata={'source': '../data2/indian_economy.txt'}\n",
      "page_content='India’s industrial growth has outpaced expectations, raising hopes that the economy will avoid a' metadata={'source': '../data2/indian_economy.txt'}\n",
      "page_content='India’s last eight years of GDP (hypothetical data):' metadata={'source': '../data2/indian_economy.txt'}\n"
     ]
    }
   ],
   "source": [
    "query = \"Tell me about India's Industrial Growth.?\"\n",
    "docs = retriever2.get_relevant_documents(query)\n",
    "print(docs[0].metadata)\n",
    "print(docs[0].page_content)\n",
    "\n",
    "for doc in docs:\n",
    "    print(doc)"
   ]
  },
  {
   "cell_type": "code",
   "execution_count": 11,
   "id": "6aae35c1",
   "metadata": {},
   "outputs": [],
   "source": [
    "from typing import TypedDict, Annotated, Sequence\n",
    "import operator\n",
    "from langchain_core.messages import BaseMessage\n",
    "from langchain.prompts import PromptTemplate"
   ]
  },
  {
   "cell_type": "markdown",
   "id": "8afdf226",
   "metadata": {},
   "source": [
    "1. TypedDict:\n",
    "TypedDict is a special type that allows you to define a dictionary in Python where each key has a specific type. It’s useful when you want to enforce type checks on the keys and values of a dictionary.\n",
    "2. Annotated:\n",
    "Annotated is used to add metadata or constraints to a type. It’s typically used for adding additional information, like constraints or descriptions, to the type.\n",
    "3. Sequence[BaseMessage]:\n",
    "Sequence is a generic type from Python's typing module that represents a list-like structure (such as a list or tuple) where the order matters, and you can access elements by their position.\n",
    "4. BaseMessage:\n",
    "Basemessage: This assumes you're working with the LangChain framework, and BaseMessage is part of its core messaging system. It is typically used when handling or processing messages in LangChain's workflows\n",
    "5. operator.add:\n",
    "- operator.add is a function from Python’s operator module that performs addition (+) on its arguments. In this context, operator.add is being used as metadata for the Annotated type, likely suggesting that the sequence of BaseMessage objects is meant to be \"added\" or concatenated with another sequence at some point. It’s an indicator of how the messages field will be treated in the logic of your program.\n",
    "\n",
    "- TopicSelectionParser: A Pydantic model that defines two fields (Topic and Reasoning), both of which are required to be strings.\n",
    "\n",
    "- Field: Adds metadata, like descriptions, and can also be used for validation and constraints.\n",
    "\n",
    "- Pydantic’s Role: Ensures that the data matches the expected structure and types, raising validation errors if the data is invalid."
   ]
  },
  {
   "cell_type": "code",
   "execution_count": 25,
   "id": "778f33c9",
   "metadata": {},
   "outputs": [],
   "source": [
    "class AgentState(TypedDict):\n",
    "    messages: Annotated[Sequence[BaseMessage], operator.add]"
   ]
  },
  {
   "cell_type": "markdown",
   "id": "cbc79a79",
   "metadata": {},
   "source": [
    "#### Putting It All Together:\n",
    "- The line messages: Annotated[Sequence[BaseMessage], operator.add] defines a field messages that:\n",
    "\n",
    "- Must be a sequence (like a list or tuple) of BaseMessage objects. Has the additional annotation operator.add, which suggests that this sequence is intended to support addition (i.e., concatenation of multiple sequences of messages).\n",
    "\n",
    "messages: Annotated[Sequence[BaseMessage], operator.add]\n",
    "\"messages\": [BaseMessage(\"Hello!\", \"Alice\"), BaseMessage(\"Hi!\", \"Bob\")]"
   ]
  },
  {
   "cell_type": "code",
   "execution_count": 26,
   "id": "f1411246",
   "metadata": {},
   "outputs": [],
   "source": [
    "from pydantic import BaseModel, Field\n",
    "class TopicSelectionParser(BaseModel):\n",
    "    Topic: str = Field(description = \"Selected Topic\")\n",
    "    Reasoning: str = Field(description = \"Reasoning behind topic selection\")\n",
    "    "
   ]
  },
  {
   "cell_type": "code",
   "execution_count": 27,
   "id": "5beb9b42",
   "metadata": {},
   "outputs": [],
   "source": [
    "from langchain.output_parsers import PydanticOutputParser\n",
    "parser = PydanticOutputParser(pydantic_object = TopicSelectionParser)"
   ]
  },
  {
   "cell_type": "markdown",
   "id": "67626634",
   "metadata": {},
   "source": [
    "The output should be formatted as a JSON instance that conforms to the JSON schema below.\n",
    "\n",
    "As an example, for the schema {\"properties\": {\"foo\": {\"title\": \"Foo\", \"description\": \"a list of strings\", \"type\": \"array\", \"items\": {\"type\": \"string\"}}}, \"required\": [\"foo\"]}\n",
    "the object {\"foo\": [\"bar\", \"baz\"]} is a well-formatted instance of the schema. The object {\"properties\": {\"foo\": [\"bar\", \"baz\"]}} is not well-formatted.\n",
    "\n",
    "Here is the output schema:\n",
    "```\n",
    "{\"properties\": {\"Topic\": {\"description\": \"Selected Topic\", \"title\": \"Topic\", \"type\": \"string\"}, \"Reasoning\": {\"description\": \"Reasoning behind topic selection\", \"title\": \"Reasoning\", \"type\": \"string\"}}, \"required\": [\"Topic\", \"Reasoning\"]}\n",
    "```\n"
   ]
  },
  {
   "cell_type": "markdown",
   "id": "1e87d1fc",
   "metadata": {},
   "source": [
    "template=\"\"\" Your task is to classify the given user query into one of the following categories: [India, Not Related]. Only respond with the category name and nothing else.\n",
    "\n",
    "User query: \"Tell me about India's Industrial Growth\"\n",
    "The output should be formatted as a JSON instance that conforms to the JSON schema below.\n",
    "\n",
    "As an example, for the schema {\"properties\": {\"foo\": {\"title\": \"Foo\", \"description\": \"a list of strings\", \"type\": \"array\", \"items\": {\"type\": \"string\"}}}, \"required\": [\"foo\"]}\n",
    "the object {\"foo\": [\"bar\", \"baz\"]} is a well-formatted instance of the schema. The object {\"properties\": {\"foo\": [\"bar\", \"baz\"]}} is not well-formatted.\n",
    "\n",
    "Here is the output schema:\n",
    "```\n",
    "{\"properties\": {\"Topic\": {\"description\": \"Selected Topic\", \"title\": \"Topic\", \"type\": \"string\"}, \"Reasoning\": {\"description\": \"Reasoning behind topic selection\", \"title\": \"Reasoning\", \"type\": \"string\"}}, \"required\": [\"Topic\", \"Reasoning\"]}\n",
    "    \"\"\""
   ]
  },
  {
   "cell_type": "code",
   "execution_count": 28,
   "id": "53a72069",
   "metadata": {},
   "outputs": [],
   "source": [
    "def function_1(state: AgentState):\n",
    "    messages = state[\"messages\"]\n",
    "    question=messages[-1].content\n",
    "    print(question)\n",
    "    \n",
    "    template=\"\"\"\n",
    "    Your task is to classify the given user query into one of the following categories: [India, Not Related]. \n",
    "    Only respond with the category name and nothing else.\n",
    "\n",
    "    User query: {question}\n",
    "    {format_instructions}\n",
    "    \"\"\"\n",
    "    \n",
    "    prompt = PromptTemplate(template=template,\n",
    "                                    input_variables=['question'],\n",
    "                                    partial_variables={\n",
    "                                        \"format_instructions\" : parser.get_format_instructions()}\n",
    "                                    )\n",
    "    chain =  prompt | llm | parser\n",
    "    \n",
    "    response = chain.invoke({\"question\": question})\n",
    "    print(response)\n",
    "\n",
    "    return {\"messages\": [HumanMessage(content=response.Topic)]}"
   ]
  },
  {
   "cell_type": "code",
   "execution_count": 29,
   "id": "5b1cc7aa",
   "metadata": {},
   "outputs": [],
   "source": [
    "def router(state: AgentState):\n",
    "    print('-> Router ->')\n",
    "    messages = state['messages']\n",
    "    last_message = messages[-1].content\n",
    "    print(last_message)\n",
    "    if 'India' in last_message:\n",
    "        return 'RAG Call'\n",
    "    else:\n",
    "        return 'LLM Call'"
   ]
  },
  {
   "cell_type": "code",
   "execution_count": 30,
   "id": "27d59071",
   "metadata": {},
   "outputs": [],
   "source": [
    "def function_2(state: AgentState):\n",
    "    print('-> Calling RAG ->')\n",
    "    messages = state['messages']\n",
    "    question = messages[-1].content\n",
    "    print(question)\n",
    "\n",
    "    template = \"\"\"Answer the question based only on the following context:\n",
    "    {context}\n",
    "\n",
    "    Question: {question}\n",
    "    \"\"\"\n",
    "    prompt = ChatPromptTemplate.from_template(template)\n",
    "    \n",
    "    print(prompt)\n",
    "\n",
    "    retrieval_chain = (\n",
    "        {\"context\": retriever, \"question\": RunnablePassthrough()}\n",
    "        | prompt\n",
    "        | llm\n",
    "        | StrOutputParser()\n",
    "        )\n",
    "    result = retrieval_chain.invoke(question)\n",
    "    return {\"messages\": [HumanMessage(content=result)]}"
   ]
  },
  {
   "cell_type": "code",
   "execution_count": 31,
   "metadata": {},
   "outputs": [],
   "source": [
    "def function_3(state):\n",
    "    print('-> Calling LLM ->')\n",
    "\n",
    "    messages = state['messages']\n",
    "    question = messages[-1].content\n",
    "    complete_query = \"Answer the follow question with your knowledge of the real world. Following is the user question: \" + question\n",
    "    response = llm.invoke(complete_query)\n",
    "    return {\"messages\": [HumanMessage(content=response.content)]}"
   ]
  },
  {
   "cell_type": "code",
   "execution_count": 32,
   "id": "9c28e64a",
   "metadata": {},
   "outputs": [],
   "source": [
    "from langgraph.graph import StateGraph, END\n",
    "\n",
    "workflow_one = StateGraph(AgentState)\n",
    "\n",
    "workflow_one.add_node(\"agent\", function_1)\n",
    "\n",
    "workflow_one.add_node(\"RAG\", function_2)\n",
    "\n",
    "workflow_one.add_node(\"LLM\", function_3)\n",
    "\n",
    "workflow_one.set_entry_point(\"agent\")\n",
    "\n",
    "workflow_one.add_conditional_edges(\n",
    "    \n",
    "    \"agent\",\n",
    "    router,\n",
    "    {\n",
    "        \"RAG Call\": \"RAG\",\n",
    "        \"LLM Call\": \"LLM\",\n",
    "    }\n",
    ")\n",
    "\n",
    "workflow_one.add_edge(\"RAG\", END)\n",
    "workflow_one.add_edge(\"LLM\", END)\n",
    "app_one = workflow_one.compile()"
   ]
  },
  {
   "cell_type": "code",
   "execution_count": 21,
   "id": "5f6475dd",
   "metadata": {},
   "outputs": [
    {
     "data": {
      "image/png": "[encoded data removed]",
      "text/plain": [
       "<IPython.core.display.Image object>"
      ]
     },
     "metadata": {},
     "output_type": "display_data"
    }
   ],
   "source": [
    "from IPython.display import Image, display\n",
    "\n",
    "try:\n",
    "    display(Image(app_one.get_graph().draw_mermaid_png()))\n",
    "except Exception as e:\n",
    "    print(e)"
   ]
  },
  {
   "cell_type": "code",
   "execution_count": 33,
   "id": "f0323370",
   "metadata": {},
   "outputs": [],
   "source": [
    "input = {\"messages\": [HumanMessage(content=\"Tell me about India's Industrial Growth?\")]}"
   ]
  },
  {
   "cell_type": "code",
   "execution_count": 34,
   "id": "40130695",
   "metadata": {},
   "outputs": [
    {
     "name": "stdout",
     "output_type": "stream",
     "text": [
      "Tell me about India's Industrial Growth?\n",
      "Topic='India' Reasoning=\"User query is about India's Industrial Growth\"\n",
      "-> Router ->\n",
      "India\n",
      "-> Calling RAG ->\n",
      "India\n",
      "input_variables=['context', 'question'] input_types={} partial_variables={} messages=[HumanMessagePromptTemplate(prompt=PromptTemplate(input_variables=['context', 'question'], input_types={}, partial_variables={}, template='Answer the question based only on the following context:\\n    {context}\\n\\n    Question: {question}\\n    '), additional_kwargs={})]\n",
      "{'messages': [HumanMessage(content=\"Tell me about India's Industrial Growth?\", additional_kwargs={}, response_metadata={}), HumanMessage(content='India', additional_kwargs={}, response_metadata={}), HumanMessage(content=\"Based on the provided context, here's an answer:\\n\\nIndia has a strong export sector, including textiles, IT services, and automotive manufacturing, as well as a demand for Indian IT services and pharmaceuticals.\", additional_kwargs={}, response_metadata={})]}\n"
     ]
    }
   ],
   "source": [
    "output = app_one.invoke(input)\n",
    "print(output)"
   ]
  },
  {
   "cell_type": "code",
   "execution_count": 35,
   "id": "b86024bd",
   "metadata": {},
   "outputs": [
    {
     "data": {
      "text/plain": [
       "{'messages': [HumanMessage(content=\"Tell me about India's Industrial Growth?\", additional_kwargs={}, response_metadata={}),\n",
       "  HumanMessage(content='India', additional_kwargs={}, response_metadata={}),\n",
       "  HumanMessage(content=\"Based on the provided context, here's an answer:\\n\\nIndia has a strong export sector, including textiles, IT services, and automotive manufacturing, as well as a demand for Indian IT services and pharmaceuticals.\", additional_kwargs={}, response_metadata={})]}"
      ]
     },
     "execution_count": 35,
     "metadata": {},
     "output_type": "execute_result"
    }
   ],
   "source": [
    "output"
   ]
  },
  {
   "cell_type": "code",
   "execution_count": 38,
   "id": "bf86eb5a",
   "metadata": {},
   "outputs": [],
   "source": [
    "inputs = {\"messages\": [HumanMessage(content=\"Where is Paris\")]}"
   ]
  },
  {
   "cell_type": "code",
   "execution_count": 39,
   "id": "4434bc8e",
   "metadata": {},
   "outputs": [
    {
     "name": "stdout",
     "output_type": "stream",
     "text": [
      "Where is Paris\n",
      "Topic='Not Related' Reasoning='Query is about Paris which is not related to India'\n",
      "-> Router ->\n",
      "Not Related\n",
      "-> Calling LLM ->\n"
     ]
    }
   ],
   "source": [
    "output = app_one.invoke(inputs)"
   ]
  },
  {
   "cell_type": "code",
   "execution_count": 45,
   "id": "0835e094",
   "metadata": {},
   "outputs": [],
   "source": [
    "inputs = {\"messages\": [HumanMessage(content=\"Who is King of England\")]}"
   ]
  },
  {
   "cell_type": "code",
   "execution_count": 46,
   "id": "a4da75ae",
   "metadata": {},
   "outputs": [
    {
     "name": "stdout",
     "output_type": "stream",
     "text": [
      "Who is King of England\n",
      "Topic='Not Related' Reasoning='The query is about the King of England, but it is not related to India'\n",
      "-> Router ->\n",
      "Not Related\n",
      "-> Calling LLM ->\n"
     ]
    }
   ],
   "source": [
    "output1 = app_one.invoke(inputs)"
   ]
  },
  {
   "cell_type": "code",
   "execution_count": 47,
   "id": "5244d0d9",
   "metadata": {},
   "outputs": [
    {
     "data": {
      "text/plain": [
       "{'messages': [HumanMessage(content='Who is King of England', additional_kwargs={}, response_metadata={}),\n",
       "  HumanMessage(content='Not Related', additional_kwargs={}, response_metadata={}),\n",
       "  HumanMessage(content='A clever question!\\n\\nSince the question \"Not Related\" doesn\\'t specify a topic or ask about a particular issue, I\\'ll take it as an opportunity to provide a humorous response.\\n\\nIn that case, I\\'d say that the answer is \"Pizza\"! Because, you know, pizza is a delicious food that\\'s not related to anything in particular... but can be related to your stomach, your taste buds, and your happiness', additional_kwargs={}, response_metadata={})]}"
      ]
     },
     "execution_count": 47,
     "metadata": {},
     "output_type": "execute_result"
    }
   ],
   "source": [
    "output1"
   ]
  },
  {
   "cell_type": "code",
   "execution_count": null,
   "id": "6b2c7367",
   "metadata": {},
   "outputs": [],
   "source": []
  }
 ],
 "metadata": {
  "kernelspec": {
   "display_name": "env",
   "language": "python",
   "name": "python3"
  },
  "language_info": {
   "codemirror_mode": {
    "name": "ipython",
    "version": 3
   },
   "file_extension": ".py",
   "mimetype": "text/x-python",
   "name": "python",
   "nbconvert_exporter": "python",
   "pygments_lexer": "ipython3",
   "version": "3.13.3"
  }
 },
 "nbformat": 4,
 "nbformat_minor": 5
}
