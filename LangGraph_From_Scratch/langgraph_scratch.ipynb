{
 "cells": [
  {
   "cell_type": "markdown",
   "id": "00ff68ac",
   "metadata": {},
   "source": [
    "#### This is a workflow with Graph."
   ]
  },
  {
   "cell_type": "code",
   "execution_count": 1,
   "id": "83e606f2",
   "metadata": {},
   "outputs": [
    {
     "name": "stdout",
     "output_type": "stream",
     "text": [
      "Hey this is tech bro from first function Jimmy from second function\n"
     ]
    }
   ],
   "source": [
    "from langgraph.graph import MessageGraph\n",
    "from langchain_core.messages import HumanMessage\n",
    "\n",
    "def function_one(state):\n",
    "    last_message = state[-1]\n",
    "    result = last_message.content + \" from first function\"\n",
    "    return HumanMessage(content = result)\n",
    "\n",
    "def function_two(state):\n",
    "    last_message = state[-1]\n",
    "    result = last_message.content + \" Jimmy from second function\"\n",
    "    return HumanMessage(content=result)\n",
    "\n",
    "# Building the graph\n",
    "workflow = MessageGraph()\n",
    "workflow.add_node(\"function_one\", function_one)\n",
    "workflow.add_node(\"function_two\", function_two)\n",
    "\n",
    "# my workflow\n",
    "workflow.add_edge(\"function_one\", \"function_two\")\n",
    "\n",
    "# Setting the entry and finish points\n",
    "workflow.set_entry_point(\"function_one\")\n",
    "workflow.set_finish_point(\"function_two\")\n",
    "\n",
    "app_one = workflow.compile()\n",
    "\n",
    "result = app_one.invoke([HumanMessage(content = \"Hey this is tech bro\")])\n",
    "print(result[-1].content)"
   ]
  },
  {
   "cell_type": "code",
   "execution_count": 2,
   "id": "7935f101",
   "metadata": {},
   "outputs": [
    {
     "data": {
      "image/png": "[encoded data removed]",
      "text/plain": [
       "<IPython.core.display.Image object>"
      ]
     },
     "metadata": {},
     "output_type": "display_data"
    }
   ],
   "source": [
    "from IPython.display import Image, display\n",
    "\n",
    "try:\n",
    "    display(Image(app_one.get_graph().draw_mermaid_png()))\n",
    "except Exception as e:\n",
    "    print(e)"
   ]
  },
  {
   "cell_type": "code",
   "execution_count": 3,
   "id": "2246b691",
   "metadata": {},
   "outputs": [],
   "source": [
    "# Accessing function that is not inside workflow\n",
    "def function_three(state):\n",
    "    last_message = state[-1]\n",
    "    result = last_message + \"\"\n",
    "    return HumanMessage(content=result)"
   ]
  },
  {
   "cell_type": "code",
   "execution_count": 4,
   "id": "3900b5c5",
   "metadata": {},
   "outputs": [],
   "source": [
    "input = \"Hey this is tech bro \""
   ]
  },
  {
   "cell_type": "code",
   "execution_count": 5,
   "id": "6adaa1d4",
   "metadata": {},
   "outputs": [
    {
     "name": "stdout",
     "output_type": "stream",
     "text": [
      "Here is the output from function_one\n",
      "____________\n",
      "Hey this is tech bro  from first function\n",
      "\n",
      "\n",
      "Here is the output from function_two\n",
      "____________\n",
      "Hey this is tech bro  from first function Jimmy from second function\n",
      "\n",
      "\n"
     ]
    }
   ],
   "source": [
    "for output in app_one.stream(input):\n",
    "    for key, value in output.items():\n",
    "        print(f\"Here is the output from {key}\")\n",
    "        print(\"____________\")\n",
    "        print(value.content)\n",
    "        print(\"\\n\")"
   ]
  },
  {
   "cell_type": "code",
   "execution_count": null,
   "id": "5b107be8",
   "metadata": {},
   "outputs": [],
   "source": []
  },
  {
   "cell_type": "markdown",
   "id": "47f71122",
   "metadata": {},
   "source": [
    "#### Creating workflow with LLM"
   ]
  },
  {
   "cell_type": "code",
   "execution_count": 6,
   "id": "2447ecfb",
   "metadata": {},
   "outputs": [
    {
     "name": "stderr",
     "output_type": "stream",
     "text": [
      "/home/brian/Documents/JIM/Langgraph/env/lib/python3.13/site-packages/tqdm/auto.py:21: TqdmWarning: IProgress not found. Please update jupyter and ipywidgets. See https://ipywidgets.readthedocs.io/en/stable/user_install.html\n",
      "  from .autonotebook import tqdm as notebook_tqdm\n"
     ]
    },
    {
     "data": {
      "text/plain": [
       "\"Hi! It's nice to meet you. Is there something I can help you with or would you like to chat?\""
      ]
     },
     "execution_count": 6,
     "metadata": {},
     "output_type": "execute_result"
    }
   ],
   "source": [
    "from langchain_google_genai import GoogleGenerativeAIEmbeddings\n",
    "embeddings = GoogleGenerativeAIEmbeddings(model = \"models/embedding-001\")\n",
    "from langchain_groq import ChatGroq\n",
    "llm = ChatGroq(model_name = \"llama3-8b-8192\")\n",
    "llm.invoke(\"hi\").content"
   ]
  },
  {
   "cell_type": "code",
   "execution_count": 7,
   "id": "6c03e5be",
   "metadata": {},
   "outputs": [],
   "source": [
    "def function1(state):\n",
    "    last_message = state[-1]\n",
    "    llm = ChatGroq(model_name = \"llama-3.1-8b-instant\")\n",
    "    response = llm.invoke(last_message.content)\n",
    "    return HumanMessage(content=response.content)\n",
    "\n",
    "def function2(state):\n",
    "    last_message = state[-1]\n",
    "    upper_case = last_message.content.upper()\n",
    "    return HumanMessage(content=upper_case)"
   ]
  },
  {
   "cell_type": "code",
   "execution_count": 8,
   "id": "6185adcb",
   "metadata": {},
   "outputs": [
    {
     "data": {
      "text/plain": [
       "<langgraph.graph.message.MessageGraph at 0x726189e58b90>"
      ]
     },
     "execution_count": 8,
     "metadata": {},
     "output_type": "execute_result"
    }
   ],
   "source": [
    "workflow_two = MessageGraph()\n",
    "workflow_two.add_node(\"llm\", function1)\n",
    "workflow_two.add_node(\"upper_string\", function2)"
   ]
  },
  {
   "cell_type": "code",
   "execution_count": 11,
   "id": "24e68962",
   "metadata": {},
   "outputs": [
    {
     "data": {
      "text/plain": [
       "<langgraph.graph.message.MessageGraph at 0x726189e58b90>"
      ]
     },
     "execution_count": 11,
     "metadata": {},
     "output_type": "execute_result"
    }
   ],
   "source": [
    "workflow_two.add_edge(\"llm\", 'upper_string')\n",
    "workflow_two.set_entry_point(\"llm\")\n",
    "workflow_two.set_finish_point(\"upper_string\")"
   ]
  },
  {
   "cell_type": "code",
   "execution_count": 12,
   "id": "87f598de",
   "metadata": {},
   "outputs": [],
   "source": [
    "app_two =workflow_two.compile()"
   ]
  },
  {
   "cell_type": "code",
   "execution_count": 13,
   "id": "3158d877",
   "metadata": {},
   "outputs": [
    {
     "data": {
      "image/png": "[encoded data removed]",
      "text/plain": [
       "<IPython.core.display.Image object>"
      ]
     },
     "metadata": {},
     "output_type": "display_data"
    }
   ],
   "source": [
    "from IPython.display import Image, display\n",
    "\n",
    "try:\n",
    "    display(Image(app_two.get_graph().draw_mermaid_png()))\n",
    "except Exception as e:\n",
    "    print(e)"
   ]
  },
  {
   "cell_type": "code",
   "execution_count": 14,
   "id": "62a7eab9",
   "metadata": {},
   "outputs": [
    {
     "name": "stdout",
     "output_type": "stream",
     "text": [
      "THE DEPUTY PRESIDENT OF KENYA IS RIGATHI GACHAGUA. HE IS THE CURRENT DEPUTY PRESIDENT AND ASSUMED OFFICE ON SEPTEMBER 6, 2022, AFTER THE RESIGNATION OF WILLIAM RUTO'S PREDECESSOR.\n"
     ]
    }
   ],
   "source": [
    "result = app_two.invoke([HumanMessage(content = \"Whos is the deputy president of kenya\")])\n",
    "print(result[-1].content)"
   ]
  },
  {
   "cell_type": "code",
   "execution_count": 15,
   "id": "15e018b0",
   "metadata": {},
   "outputs": [
    {
     "name": "stdout",
     "output_type": "stream",
     "text": [
      "**GEN AI: A BREAKTHROUGH IN ARTIFICIAL INTELLIGENCE**\n",
      "\n",
      "GEN AI, ALSO KNOWN AS GENERAL AI, IS A TYPE OF ARTIFICIAL INTELLIGENCE (AI) THAT POSSESSES THE ABILITY TO PERFORM ANY INTELLECTUAL TASK THAT A HUMAN BEING CAN. IT IS A LONG-SOUGHT GOAL IN THE FIELD OF AI RESEARCH, AND ITS DEVELOPMENT HAS BEEN A MAJOR FOCUS OF MANY EXPERTS IN THE FIELD. HERE'S A DETAILED EXPLANATION OF GEN AI:\n",
      "\n",
      "**KEY CHARACTERISTICS OF GEN AI:**\n",
      "\n",
      "1. **AUTONOMY**: GEN AI SYSTEMS CAN OPERATE INDEPENDENTLY AND MAKE DECISIONS WITHOUT HUMAN INTERVENTION.\n",
      "2. **REASONING**: GEN AI SYSTEMS CAN REASON AND DRAW CONCLUSIONS FROM A VAST AMOUNT OF DATA, SIMILAR TO HUMAN REASONING.\n",
      "3. **LEARNING**: GEN AI SYSTEMS CAN LEARN FROM EXPERIENCE AND ADAPT TO NEW SITUATIONS.\n",
      "4. **PROBLEM-SOLVING**: GEN AI SYSTEMS CAN SOLVE COMPLEX PROBLEMS AND MAKE DECISIONS BASED ON INCOMPLETE INFORMATION.\n",
      "5. **COMMON SENSE**: GEN AI SYSTEMS CAN APPLY COMMON SENSE TO MAKE DECISIONS AND SOLVE PROBLEMS.\n",
      "\n",
      "**TYPES OF GEN AI:**\n",
      "\n",
      "1. **NARROW AI**: ALSO KNOWN AS WEAK AI, NARROW AI IS DESIGNED TO PERFORM A SPECIFIC TASK, SUCH AS PLAYING CHESS OR RECOGNIZING FACES.\n",
      "2. **GENERAL AI**: GEN AI IS A TYPE OF AI THAT CAN PERFORM ANY INTELLECTUAL TASK THAT A HUMAN CAN, SUCH AS REASONING, PROBLEM-SOLVING, AND LEARNING.\n",
      "3. **SUPERINTELLIGENCE**: SUPERINTELLIGENCE IS A HYPOTHETICAL AI SYSTEM THAT IS SIGNIFICANTLY MORE INTELLIGENT THAN THE BEST HUMAN MINDS.\n",
      "\n",
      "**CHALLENGES IN DEVELOPING GEN AI:**\n",
      "\n",
      "1. **COMPLEXITY**: DEVELOPING GEN AI REQUIRES ADDRESSING THE COMPLEXITY OF THE HUMAN BRAIN AND THE CHALLENGES OF CREATING A SYSTEM THAT CAN LEARN AND REASON LIKE A HUMAN.\n",
      "2. **DATA QUALITY**: GEN AI SYSTEMS REQUIRE VAST AMOUNTS OF HIGH-QUALITY DATA TO LEARN AND ADAPT.\n",
      "3. **ALGORITHMIC LIMITATIONS**: CURRENT AI ALGORITHMS MAY NOT BE SOPHISTICATED ENOUGH TO HANDLE THE COMPLEXITY OF GEN AI TASKS.\n",
      "4. **ETHICS AND SAFETY**: GEN AI RAISES SIGNIFICANT ETHICS AND SAFETY CONCERNS, SUCH AS THE POTENTIAL FOR BIAS, JOB DISPLACEMENT, AND LOSS OF HUMAN AGENCY.\n",
      "\n",
      "**POTENTIAL APPLICATIONS OF GEN AI:**\n",
      "\n",
      "1. **HEALTHCARE**: GEN AI CAN HELP DIAGNOSE DISEASES MORE ACCURATELY AND DEVELOP PERSONALIZED TREATMENT PLANS.\n",
      "2. **EDUCATION**: GEN AI CAN CREATE PERSONALIZED LEARNING EXPERIENCES AND HELP STUDENTS LEARN MORE EFFICIENTLY.\n",
      "3. **TRANSPORTATION**: GEN AI CAN IMPROVE THE SAFETY AND EFFICIENCY OF AUTONOMOUS VEHICLES.\n",
      "4. **ENVIRONMENTAL SUSTAINABILITY**: GEN AI CAN HELP OPTIMIZE RENEWABLE ENERGY SOURCES AND REDUCE CARBON EMISSIONS.\n",
      "\n",
      "**CURRENT STATUS OF GEN AI:**\n",
      "\n",
      "WHILE WE ARE STILL FAR FROM ACHIEVING TRUE GEN AI, SIGNIFICANT PROGRESS HAS BEEN MADE IN DEVELOPING NARROW AI SYSTEMS THAT CAN PERFORM SPECIFIC TASKS. HOWEVER, RESEARCHERS CONTINUE TO WORK ON DEVELOPING MORE ADVANCED AI SYSTEMS THAT CAN LEARN AND REASON LIKE HUMANS.\n",
      "\n",
      "**TIMELINE FOR GEN AI DEVELOPMENT:**\n",
      "\n",
      "1. **SHORT-TERM (2025-2030)**: NARROW AI SYSTEMS WILL CONTINUE TO IMPROVE AND BECOME MORE WIDESPREAD IN VARIOUS INDUSTRIES.\n",
      "2. **MEDIUM-TERM (2030-2040)**: RESEARCHERS WILL FOCUS ON DEVELOPING MORE ADVANCED AI SYSTEMS THAT CAN LEARN AND REASON LIKE HUMANS.\n",
      "3. **LONG-TERM (2040-2050)**: GEN AI SYSTEMS MAY BE DEVELOPED, BUT SIGNIFICANT CHALLENGES AND ETHICS CONCERNS WILL NEED TO BE ADDRESSED.\n",
      "\n",
      "IN CONCLUSION, GEN AI IS A LONG-SOUGHT GOAL IN AI RESEARCH THAT HAS THE POTENTIAL TO REVOLUTIONIZE VARIOUS INDUSTRIES AND ASPECTS OF OUR LIVES. WHILE SIGNIFICANT PROGRESS HAS BEEN MADE, SIGNIFICANT CHALLENGES AND ETHICS CONCERNS REMAIN TO BE ADDRESSED.\n"
     ]
    }
   ],
   "source": [
    "result = app_two.invoke([HumanMessage(content = \"What is Gen AI explain in setails\")])\n",
    "print(result[-1].content)"
   ]
  },
  {
   "cell_type": "code",
   "execution_count": 16,
   "id": "e3e9a46c",
   "metadata": {},
   "outputs": [],
   "source": [
    "input = \"What is the capital of France\""
   ]
  },
  {
   "cell_type": "code",
   "execution_count": 17,
   "id": "c60dceb8",
   "metadata": {},
   "outputs": [
    {
     "name": "stdout",
     "output_type": "stream",
     "text": [
      "Here is the output from llm\n",
      "____________\n",
      "The capital of France is Paris.\n",
      "\n",
      "\n",
      "Here is the output from upper_string\n",
      "____________\n",
      "THE CAPITAL OF FRANCE IS PARIS.\n",
      "\n",
      "\n"
     ]
    }
   ],
   "source": [
    "for output in app_two.stream(input):\n",
    "    for key, value in output.items():\n",
    "        print(f\"Here is the output from {key}\")\n",
    "        print(\"____________\")\n",
    "        print(value.content)\n",
    "        print(\"\\n\")"
   ]
  },
  {
   "cell_type": "markdown",
   "id": "9c1aa274",
   "metadata": {},
   "source": [
    "### Implementing our own ouput token counter"
   ]
  },
  {
   "cell_type": "code",
   "execution_count": 18,
   "id": "655cb848",
   "metadata": {},
   "outputs": [],
   "source": [
    "def function3(state):\n",
    "    last_message = state[-1]\n",
    "    tokens = last_message.content.split()\n",
    "    token_count = len(tokens)\n",
    "    return HumanMessage(content=f\"Total tokens count: {token_count}\")\n"
   ]
  },
  {
   "cell_type": "code",
   "execution_count": 19,
   "id": "7a53dec7",
   "metadata": {},
   "outputs": [],
   "source": [
    "workflow3 = MessageGraph()\n",
    "workflow3.add_node(\"llm\", function1)\n",
    "workflow3.add_node(\"token_counter\", function3)\n",
    "workflow3.add_edge(\"llm\",\"token_counter\")\n",
    "workflow3.set_entry_point(\"llm\")\n",
    "workflow3.set_finish_point(\"token_counter\")\n",
    "app_three = workflow3.compile()"
   ]
  },
  {
   "cell_type": "code",
   "execution_count": 20,
   "id": "cb5f6936",
   "metadata": {},
   "outputs": [
    {
     "data": {
      "image/png": "[encoded data removed]",
      "text/plain": [
       "<IPython.core.display.Image object>"
      ]
     },
     "metadata": {},
     "output_type": "display_data"
    }
   ],
   "source": [
    "from IPython.display import Image, display\n",
    "\n",
    "try:\n",
    "    display(Image(app_three.get_graph().draw_mermaid_png()))\n",
    "except Exception as e:\n",
    "    print(e)"
   ]
  },
  {
   "cell_type": "code",
   "execution_count": 21,
   "id": "d3700d46",
   "metadata": {},
   "outputs": [
    {
     "name": "stdout",
     "output_type": "stream",
     "text": [
      "Total tokens count: 6\n"
     ]
    }
   ],
   "source": [
    "result = app_three.invoke([HumanMessage(content = \"What is the capital of france?\")])\n",
    "print(result[-1].content)"
   ]
  },
  {
   "cell_type": "code",
   "execution_count": null,
   "id": "1e9b023d",
   "metadata": {},
   "outputs": [],
   "source": []
  },
  {
   "cell_type": "code",
   "execution_count": null,
   "id": "52125b78",
   "metadata": {},
   "outputs": [],
   "source": []
  }
 ],
 "metadata": {
  "kernelspec": {
   "display_name": "env",
   "language": "python",
   "name": "python3"
  },
  "language_info": {
   "codemirror_mode": {
    "name": "ipython",
    "version": 3
   },
   "file_extension": ".py",
   "mimetype": "text/x-python",
   "name": "python",
   "nbconvert_exporter": "python",
   "pygments_lexer": "ipython3",
   "version": "3.13.3"
  }
 },
 "nbformat": 4,
 "nbformat_minor": 5
}
