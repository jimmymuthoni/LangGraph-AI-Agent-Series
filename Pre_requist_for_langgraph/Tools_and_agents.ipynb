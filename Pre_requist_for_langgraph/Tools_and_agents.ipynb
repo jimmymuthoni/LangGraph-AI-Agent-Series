{
 "cells": [
  {
   "cell_type": "code",
   "execution_count": 63,
   "id": "10e39e4c",
   "metadata": {},
   "outputs": [],
   "source": [
    "#Loading the keys\n",
    "import os \n",
    "from dotenv import load_dotenv\n",
    "load_dotenv()\n",
    "LANGCHAIN_API_KEY = os.getenv(\"LANGCHAIN_API_KEY\")\n",
    "TAVILY_API_KEY = os.getenv(\"TAVILY_API_KEY\")\n",
    "GOOGLE_API_KEY = os.getenv(\"GOOGLE_API_KEY\")\n",
    "GROQ_API_KEY = os.getenv(\"GROQ_API_KEY\")\n",
    "LANGCHAIN_PROJECT =  os.getenv(\"LANGCHAIN_PROJECT\")\n",
    "\n",
    "\n",
    "#Setting keys as evironment variables\n",
    "os.environ['GOOGLE_API_KEY'] = GOOGLE_API_KEY\n",
    "os.environ['TAVILY_API_KEY'] = TAVILY_API_KEY\n",
    "os.environ['GROQ_API_KEY'] = GROQ_API_KEY\n",
    "os.environ['LANGCHAIN_API_KEY'] = LANGCHAIN_API_KEY\n",
    "os.environ['LANGCHAIN_TRACING_V2'] = \"true\"\n",
    "os.environ[\"LANGCHAIN_ENDPONT\"] =  \"https://api.smith.langchain.com\"\n",
    "os.environ['LANGCHAIN_PROJECT'] = LANGCHAIN_PROJECT"
   ]
  },
  {
   "cell_type": "code",
   "execution_count": 66,
   "id": "7374ea39",
   "metadata": {},
   "outputs": [],
   "source": [
    "from langchain_groq import ChatGroq\n",
    "llm = ChatGroq(model=\"Gemma2-9b-It\")"
   ]
  },
  {
   "cell_type": "code",
   "execution_count": 87,
   "id": "b5c0d137",
   "metadata": {},
   "outputs": [],
   "source": [
    "from langchain_huggingface import HuggingFaceEmbeddings\n",
    "embeddings = HuggingFaceEmbeddings(model_name = \"all-MiniLM-L6-v2\")"
   ]
  },
  {
   "cell_type": "code",
   "execution_count": 5,
   "id": "830c1ee4",
   "metadata": {},
   "outputs": [
    {
     "data": {
      "text/plain": [
       "AIMessage(content=\"As an AI, I don't have feelings, but I'm here and ready to assist you! How can I help you today? 😊\\n\", additional_kwargs={}, response_metadata={'token_usage': {'completion_tokens': 33, 'prompt_tokens': 15, 'total_tokens': 48, 'completion_time': 0.06, 'prompt_time': 0.001833377, 'queue_time': 0.161658412, 'total_time': 0.061833377}, 'model_name': 'Gemma2-9b-It', 'system_fingerprint': 'fp_10c08bf97d', 'finish_reason': 'stop', 'logprobs': None}, id='run--8d8562c5-b87e-42c5-b9d3-41a5a9c50f37-0', usage_metadata={'input_tokens': 15, 'output_tokens': 33, 'total_tokens': 48})"
      ]
     },
     "execution_count": 5,
     "metadata": {},
     "output_type": "execute_result"
    }
   ],
   "source": [
    "llm.invoke(\"Hey, How are you ?\")"
   ]
  },
  {
   "cell_type": "code",
   "execution_count": null,
   "id": "76ad82bb",
   "metadata": {},
   "outputs": [],
   "source": []
  },
  {
   "cell_type": "markdown",
   "id": "3550a901",
   "metadata": {},
   "source": [
    "### Pre defined Tools"
   ]
  },
  {
   "cell_type": "code",
   "execution_count": 6,
   "id": "12b18a73",
   "metadata": {},
   "outputs": [
    {
     "name": "stdout",
     "output_type": "stream",
     "text": [
      "Page: LangChain\n",
      "Summary: LangChain is a software framework that helps facilitate the integration of large language models (LLMs) into applications. As a language model integration framework, LangChain's use-cases largely overlap with those of language models in general, including document analysis and summarization, chatbots, and code analysis.\n",
      "\n",
      "\n",
      "\n",
      "Page: Retrieval-augmented generation\n",
      "Summary: Retrieval-augmented generation (RAG) is a technique that enables large language models (LLMs) to retrieve and incorporate new information. With RAG, LLMs do not respond to user queries until they refer to a specified set of documents. These documents supplement information from the LLM's pre-existing training data. This allows LLMs to use domain-specific and/or updated information that is not available in the training data. For example, this helps LLM-based chatbots access internal company data or generate responses based on authoritative sources.\n",
      "RAG improves large language models (LLMs) by incorporating information retrieval before generating responses. Unlike traditional LLMs that rely on static training data, RAG pulls relevant text from databases, uploaded documents, or web sources. According to Ars Technica, \"RAG is a way of improving LLM performance, in essence by blending the LLM process with a web search or other document look-up process to help LLMs stick to the facts.\" This method helps reduce AI hallucinations, which have caused chatbots to describe policies that don't exist, or recommend nonexistent legal cases to lawyers that are looking for citations to support their arguments.\n",
      "RAG also reduces the need to retrain LLMs with new data, saving on computational and financial costs. Beyond efficiency gains, RAG also allows LLMs to include sources in their responses, so users can verify the cited sources. This provides greater transparency, as users can cross-check retrieved content to ensure accuracy and relevance.\n",
      "The term RAG was first introduced in a 2020 research paper from Meta.\n",
      "\n",
      "Page: Milvus (vector database)\n",
      "Summary: Milvus is a distributed vector database developed by Zilliz. It is available as both open-source software and a cloud service.\n",
      "Milvus is an open-source project under LF AI & Data Foundation distributed under the Apache License 2.0.\n",
      "\n",
      "\n"
     ]
    }
   ],
   "source": [
    "from langchain_community.tools import WikipediaQueryRun\n",
    "from langchain_community.utilities import WikipediaAPIWrapper\n",
    "\n",
    "api_wrapper = WikipediaAPIWrapper()\n",
    "tool = WikipediaQueryRun(api_wrapper=api_wrapper)\n",
    "print(tool.run({'query': \"langchain\"}))"
   ]
  },
  {
   "cell_type": "code",
   "execution_count": 7,
   "id": "de15767c",
   "metadata": {},
   "outputs": [
    {
     "data": {
      "text/plain": [
       "\"['https://www.youtube.com/watch?v=_kpxLkH5vY0&pp=ygUMU3VubnkgU2F2aXRh', 'https://www.youtube.com/watch?v=oFMixPMJ6Ko&pp=ygUMU3VubnkgU2F2aXRh']\""
      ]
     },
     "execution_count": 7,
     "metadata": {},
     "output_type": "execute_result"
    }
   ],
   "source": [
    "from langchain_community.tools import YouTubeSearchTool\n",
    "youtube_tool = YouTubeSearchTool()\n",
    "youtube_tool.run(\"Sunny Savita\")"
   ]
  },
  {
   "cell_type": "code",
   "execution_count": 8,
   "id": "a6edb5b5",
   "metadata": {},
   "outputs": [
    {
     "name": "stderr",
     "output_type": "stream",
     "text": [
      "/tmp/ipykernel_72525/2573323815.py:2: LangChainDeprecationWarning: The class `TavilySearchResults` was deprecated in LangChain 0.3.25 and will be removed in 1.0. An updated version of the class exists in the :class:`~langchain-tavily package and should be used instead. To use it run `pip install -U :class:`~langchain-tavily` and import as `from :class:`~langchain_tavily import TavilySearch``.\n",
      "  tavily_tool = TavilySearchResults()\n"
     ]
    },
    {
     "data": {
      "text/plain": [
       "[{'title': \"A Timeline of Iran and Israel's Recent Attacks - The New York Times\",\n",
       "  'url': 'https://www.nytimes.com/2025/06/12/world/middleeast/israel-iran-conflict-history.html',\n",
       "  'content': 'By Ephrat LivniCassandra Vinograd and Eve Sampson\\n\\nPublished April 19, 2024 Updated June 24, 2025\\n\\nThe conflict between Iran and Israel, once relegated to the shadows, has escalated yet again.\\n\\nOn June 13, explosions rocked Tehran as Israel carried out a major attack on Iran’s nuclear program. Iran retaliated and has launched barrages of ballistic missiles and drones at Israel.',\n",
       "  'score': 0.8430832},\n",
       " {'title': 'Iran-Israel war - Wikipedia',\n",
       "  'url': 'https://en.wikipedia.org/wiki/Iran–Israel_war',\n",
       "  'content': 'In 2024, the two countries attacked each other openly and directly for the first time following decades of proxy conflict. In April 2024, an Israeli airstrike on the Iranian consulate in Damascus killed Iranian officers. Iran retaliated with strikes on Israel in April 2024, to which Israel then retaliated with strikes on Iran. In July 2024, Israel assassinated Hamas leader Ismail Haniyeh in Iran\\'s capital Tehran. In October 2024, Iran struck Israel, and Israel struck Iran.( [...] The Iran–Israel War began on 13 June 2025, when Israel launched attacks on dozens of Iranian targets with the stated aim of stopping the expansion of Iran\\'s nuclear program.( Under the codename Operation Rising Lion,( the Israel Defense Forces (IDF) and Mossad attacked key nuclear sites, military installations, and residential areas( including targeted assassinations of military and civilian personnel, many of whom were killed in their homes or in meetings( Beginning on the evening of 13 June, [...] The conflict is considered an escalation of decades-long animosity between the two countries, during which Iran challenged Israel\\'s legitimacy and called for its destruction, while Israel considered the Iranian nuclear program an existential threat. During the crisis in the Middle East \"Middle Eastern crisis (2023–present)\") that followed the October 7th attacks of 2023 and the ensuing Gaza war, animosity escalated to direct confrontation. Israel weakened Iranian proxies such as Hamas and',\n",
       "  'score': 0.8380581},\n",
       " {'title': 'Background to the Iran-Israel war - Wikipedia',\n",
       "  'url': 'https://en.wikipedia.org/wiki/Background_to_the_Iran–Israel_war',\n",
       "  'content': \"In 2024, the two countries attacked each other openly and directly for the first time following decades of proxy conflict. In April 2024, an Israeli airstrike on the Iranian consulate in Damascus killed Iranian officers. Iran retaliated with strikes on Israel in April 2024, to which Israel then retaliated with strikes on Iran. In July 2024, Israel assassinated Hamas leader Ismail Haniyeh in Iran's capital Tehran, and then assassinated Hezbollah leader Hassan Nasrallah and prominent IRGC [...] The background to the Iran–Israel war, ongoing since 13 June 2025, focuses on historical events during their proxy conflict since 1985, including scrutiny of Irans' nuclear program in the 1980s and 1990s, Iran signing the Joint Comprehensive Plan of Action (JCPOA) in 2015, and US President Donald Trump suspending US participation in the deal in 2018. In the past, Israel has fought wars with Iranian proxies including against Hezbollah since the 1982 Lebanon War. [...] In 2023, during the Gaza war, Israel severely weakened both Hamas and fellow Iranian proxy Hezbollah in Lebanon, while also attacking the Houthis in Yemen. This is said to have weakened Iranian deterrence and increased Iranian isolation. In June 2025, Netanyahu then announced the launch of Operation Rising Lion, targeting Iran's main enrichment facility in Natanz, its nuclear scientists, and parts of its ballistic missile program.\\n\\nIran–Israel conflict\\n--------------------\\n\\n[edit]\",\n",
       "  'score': 0.79883134},\n",
       " {'title': 'A timeline of conflict between Israel and Iran | AP News',\n",
       "  'url': 'https://apnews.com/article/israel-iran-timeline-tensions-conflict-66764c2843d62757d83e4a486946bcb8',\n",
       "  'content': 'April 30, 2025 — Iran executes a man it said worked for Israel’s Mossad foreign intelligence agency and played a role in the killing of Revolutionary Guard Col. Hassan Sayyad Khodaei in Tehran on May 22, 2022.\\n\\nFriday, June 13, 2025 — Israel launches blistering attacks on the heart of Iran’s nuclear and military structure, deploying warplanes and drones previously smuggled into the country to assault key facilities and kill top generals and scientists. [...] Oct. 1, 2024 — Iran launches its second direct attack on Israel, though a U.S.-led coalition and Israel shoot down most of the missiles.\\n\\nOct. 16, 2024 — Israel kills Hamas leader Yahya Sinwar in the Gaza Strip.\\n\\nOct. 26, 2024 — Israel openly attacks Iran for the first time, striking air defense systems and sites associated with its missile program. [...] ByTHE ASSOCIATED PRESS\\n\\nUpdated [hour]:[minute] [AMPM] [timezone], [monthFull] [day], [year]Updated 8:38 AM UTC, June 15, 2025\\n\\nShare\\n\\n Share \\n\\n   Facebook\\n    Copy Link copied \\n   Print)\\n   Email\\n   X\\n   LinkedIn\\n   Bluesky\\n   Flipboard\\n   Pinterest\\n   Reddit\\n\\nIsrael and Iran opened a new chapter in their long history of conflict when Israel launched a major attack with strikes early Friday that set off explosions in the Iranian capital of Tehran.',\n",
       "  'score': 0.7900289},\n",
       " {'title': 'Iran–Israel proxy conflict - Wikipedia',\n",
       "  'url': 'https://en.wikipedia.org/wiki/Iran%E2%80%93Israel_proxy_conflict',\n",
       "  'content': 'The Iran–Israel proxy conflict, also known as the Iran–Israel proxy war( or Iran–Israel Cold War,( is an ongoing proxy conflict between Iran and Israel. In the Israeli–Lebanese conflict, Iran has supported Lebanese Shia militias, most notably Hezbollah. In the Israeli-Palestinian conflict, Iran has backed Palestinian groups such as Hamas. Israel has supported Iranian rebels, such as the People\\'s Mujahedin of Iran, conducted airstrikes against Iranian allies in Syria and assassinated Iranian [...] On June 13 2025 Israel initiated Operation Rising Lion, a large‑scale aerial assault targeting Iranian nuclear facilities, missile factories, military sites, and commanders across cities including Tehran and Natanz. Among the targets were also Revolutionary Guard commander Hossein Salami and other senior IRGC leaders were reportedly killed. Iranian state media also confirm deaths of nuclear scientists and claim civilian casualties in Tehran.(\\n\\nInternational responses\\n----------------------- [...] (2024–present) \"Iran–Israel conflict (2024–present)\")  April 2024 Iranian strikes  April 2024 Israeli strikes  October 2024 Iranian strikes  October 2024 Israeli strikes  Iran–Israel war  Assassination of Ismail Haniyeh  Masyaf strikes  Israeli retaliation leak  Palmyra airstrike Yemen and the Red Sea  Red Sea crisis  _Galaxy Leader_  MV _Maersk Hangzhou_  _Chem Pluto_  _Marlin Luanda_  Operation Prosperity Guardian  CTF 153  2024 missile strikes  2024 Tel Aviv drone attack  July 2024 Israeli',\n",
       "  'score': 0.767429}]"
      ]
     },
     "execution_count": 8,
     "metadata": {},
     "output_type": "execute_result"
    }
   ],
   "source": [
    "from langchain_community.tools.tavily_search import TavilySearchResults\n",
    "tavily_tool = TavilySearchResults()\n",
    "tavily_tool.invoke({\"query\": \"What happened in the Israel Iran conflict ?\"})"
   ]
  },
  {
   "cell_type": "code",
   "execution_count": null,
   "id": "4f413168",
   "metadata": {},
   "outputs": [],
   "source": []
  },
  {
   "cell_type": "code",
   "execution_count": null,
   "id": "ba5bdcfb",
   "metadata": {},
   "outputs": [],
   "source": []
  },
  {
   "cell_type": "markdown",
   "id": "487567f7",
   "metadata": {},
   "source": [
    "### Creating Custom Tool"
   ]
  },
  {
   "cell_type": "code",
   "execution_count": 13,
   "id": "16544f4e",
   "metadata": {},
   "outputs": [
    {
     "data": {
      "text/plain": [
       "9"
      ]
     },
     "execution_count": 13,
     "metadata": {},
     "output_type": "execute_result"
    }
   ],
   "source": [
    "from langchain.agents import tool\n",
    "@tool\n",
    "def get_word_length(word: str) -> int:\n",
    "    \"\"\"Returns the length of a word\"\"\"\n",
    "    return len(word)\n",
    "\n",
    "get_word_length.invoke(\"Langchain\")"
   ]
  },
  {
   "cell_type": "code",
   "execution_count": 14,
   "id": "5063b4ac",
   "metadata": {},
   "outputs": [
    {
     "name": "stdout",
     "output_type": "stream",
     "text": [
      "multiply\n",
      "This multipliy two numbers\n",
      "{'a': {'title': 'A', 'type': 'integer'}, 'b': {'title': 'B', 'type': 'integer'}}\n"
     ]
    },
    {
     "data": {
      "text/plain": [
       "1035"
      ]
     },
     "execution_count": 14,
     "metadata": {},
     "output_type": "execute_result"
    }
   ],
   "source": [
    "@tool\n",
    "def multiply(a: int, b: int) -> int:\n",
    "    \"\"\"This multipliy two numbers\"\"\"\n",
    "    return a * b\n",
    "\n",
    "print(multiply.name)\n",
    "print(multiply.description)\n",
    "print(multiply.args)\n",
    "\n",
    "multiply.invoke({\"a\": 23, \"b\": 45})"
   ]
  },
  {
   "cell_type": "code",
   "execution_count": null,
   "id": "fd2cb7a9",
   "metadata": {},
   "outputs": [],
   "source": []
  },
  {
   "cell_type": "markdown",
   "id": "cb1d38b4",
   "metadata": {},
   "source": [
    "### Concept of Agents"
   ]
  },
  {
   "cell_type": "code",
   "execution_count": 48,
   "id": "29373d8a",
   "metadata": {},
   "outputs": [],
   "source": [
    "from langchain.agents import AgentType\n",
    "from langchain.agents import load_tools\n",
    "from langchain.agents import initialize_agent"
   ]
  },
  {
   "cell_type": "code",
   "execution_count": 49,
   "id": "9d0f52c6",
   "metadata": {},
   "outputs": [],
   "source": [
    "tool = load_tools(['wikipedia'], llm=llm)\n"
   ]
  },
  {
   "cell_type": "code",
   "execution_count": 50,
   "id": "736dfbb7",
   "metadata": {},
   "outputs": [],
   "source": [
    "agent = initialize_agent(tool,llm, agent=AgentType.ZERO_SHOT_REACT_DESCRIPTION, verbose=True)"
   ]
  },
  {
   "cell_type": "code",
   "execution_count": 51,
   "id": "51ce6476",
   "metadata": {},
   "outputs": [
    {
     "name": "stdout",
     "output_type": "stream",
     "text": [
      "\n",
      "\n",
      "\u001b[1m> Entering new AgentExecutor chain...\u001b[0m\n",
      "\u001b[32;1m\u001b[1;3mThought: I need to look up \"llama\" to see what it refers to.\n",
      "Action: wikipedia\n",
      "Action Input: llama\u001b[0m"
     ]
    },
    {
     "name": "stderr",
     "output_type": "stream",
     "text": [
      "/home/brian/Documents/JIM/Langgraph/env/lib/python3.13/site-packages/wikipedia/wikipedia.py:389: GuessedAtParserWarning: No parser was explicitly specified, so I'm using the best available HTML parser for this system (\"html.parser\"). This usually isn't a problem, but if you run this code on another system, or in a different virtual environment, it may use a different parser and behave differently.\n",
      "\n",
      "The code that caused this warning is on line 389 of the file /home/brian/Documents/JIM/Langgraph/env/lib/python3.13/site-packages/wikipedia/wikipedia.py. To get rid of this warning, pass the additional argument 'features=\"html.parser\"' to the BeautifulSoup constructor.\n",
      "\n",
      "  lis = BeautifulSoup(html).find_all('li')\n"
     ]
    },
    {
     "name": "stdout",
     "output_type": "stream",
     "text": [
      "\n",
      "Observation: \u001b[36;1m\u001b[1;3mPage: Llama\n",
      "Summary: The llama (; Spanish pronunciation: [ˈʎama] or [ˈʝama]) (Lama glama) is a domesticated South American camelid, widely used as a meat and pack animal by Andean cultures since the pre-Columbian era.\n",
      "Llamas are social animals and live with others as a herd. Their wool is soft and contains only a small amount of lanolin. Llamas can learn simple tasks after a few repetitions. When using a pack, they can carry about 25 to 30% of their body weight for 8 to 13 km (5–8 miles). The name llama (also historically spelled \"lama\" or \"glama\") was adopted by European settlers from native Peruvians.\n",
      "The ancestors of llamas are thought to have originated on the Great Plains of North America about 40 million years ago and subsequently migrated to South America about three million years ago during the Great American Interchange. By the end of the last ice age (10,000–12,000 years ago), camelids were extinct in North America. As of 2007, there were over seven million llamas and alpacas in South America. Some were imported to the United States and Canada late in the 20th century; their descendants now number more than 158,000 llamas and 100,000 alpacas.\n",
      "In Aymara mythology, llamas are important beings. The Heavenly Llama is said to drink water from the ocean and urinates as it rains. According to Aymara eschatology, llamas will return to the water springs and ponds where they come from at the end of time.\n",
      "\n",
      "\n",
      "\n",
      "Page: Llama (language model)\n",
      "Summary: Llama (Large Language Model Meta AI, formerly stylized as LLaMA) is a family of large language models (LLMs) released by Meta AI starting in February 2023. The latest version is Llama 4, released in April 2025.\n",
      "Llama models come in different sizes, ranging from 1 billion to 2 trillion parameters. Initially only a foundation model, starting with Llama 2, Meta AI released instruction fine-tuned versions alongside foundation models.\n",
      "Model weights for the first version of Llama were only available to researchers on a case-by-case basis, under a non-commercial license. Unauthorized copies of the first model were shared via BitTorrent. Subsequent versions of Llama were made accessible outside academia and released under licenses that permitted some commercial use.\n",
      "Alongside the release of Llama 3, Meta added virtual assistant features to Facebook and WhatsApp in select regions, and a standalone website. Both services use a Llama 3 model.\u001b[0m\n",
      "Thought:\u001b[32;1m\u001b[1;3mThought: I need to find out who developed Llama (the language model). \n",
      "Action: wikipedia\n",
      "Action Input: Llama (language model)\u001b[0m\n",
      "Observation: \u001b[36;1m\u001b[1;3mPage: Llama (language model)\n",
      "Summary: Llama (Large Language Model Meta AI, formerly stylized as LLaMA) is a family of large language models (LLMs) released by Meta AI starting in February 2023. The latest version is Llama 4, released in April 2025.\n",
      "Llama models come in different sizes, ranging from 1 billion to 2 trillion parameters. Initially only a foundation model, starting with Llama 2, Meta AI released instruction fine-tuned versions alongside foundation models.\n",
      "Model weights for the first version of Llama were only available to researchers on a case-by-case basis, under a non-commercial license. Unauthorized copies of the first model were shared via BitTorrent. Subsequent versions of Llama were made accessible outside academia and released under licenses that permitted some commercial use.\n",
      "Alongside the release of Llama 3, Meta added virtual assistant features to Facebook and WhatsApp in select regions, and a standalone website. Both services use a Llama 3 model.\n",
      "\n",
      "Page: Llama.cpp\n",
      "Summary: llama.cpp is an open source software library that performs inference on various large language models such as Llama. It is co-developed alongside the GGML project, a general-purpose tensor library.\n",
      "Command-line tools are included with the library, alongside a server with a simple web interface.\n",
      "\n",
      "Page: Language model\n",
      "Summary: A language model is a model of the human brain's ability to produce natural language. Language models are useful for a variety of tasks, including speech recognition, machine translation, natural language generation (generating more human-like text), optical character recognition, route optimization, handwriting recognition, grammar induction, and information retrieval.\n",
      "Large language models (LLMs), currently their most advanced form, are predominantly based on transformers trained on larger datasets (frequently using texts scraped from the public internet). They have superseded recurrent neural network-based models, which had previously superseded the purely statistical models, such as word n-gram language model.\u001b[0m\n",
      "Thought:\u001b[32;1m\u001b[1;3mThought: I now know the answer.\n",
      "Final Answer: Llama is a family of large language models developed by Meta AI. \n",
      "\n",
      "\n",
      "\u001b[0m\n",
      "\n",
      "\u001b[1m> Finished chain.\u001b[0m\n"
     ]
    },
    {
     "data": {
      "text/plain": [
       "'Llama is a family of large language models developed by Meta AI.'"
      ]
     },
     "execution_count": 51,
     "metadata": {},
     "output_type": "execute_result"
    }
   ],
   "source": [
    "agent.run(\"What is llama and who developed it?\")"
   ]
  },
  {
   "cell_type": "code",
   "execution_count": 52,
   "id": "bf79f284",
   "metadata": {},
   "outputs": [],
   "source": [
    "from langchain_community.tools.tavily_search import TavilySearchResults\n",
    "search = TavilySearchResults()"
   ]
  },
  {
   "cell_type": "code",
   "execution_count": 53,
   "id": "bd955be9",
   "metadata": {},
   "outputs": [
    {
     "data": {
      "text/plain": [
       "[{'title': 'What is Open AI? - Definition & Meaning',\n",
       "  'url': 'https://cubig.ai/glossary/open-ai',\n",
       "  'content': 'Open AI refers to an artificial intelligence research organization focused on developing AI technologies, including language models, reinforcement learning, and generative AI. It is known for innovations like GPT, Codex, and DALL·E, transforming various industries.',\n",
       "  'score': 0.95618236},\n",
       " {'title': 'OpenAI | ChatGPT, Sam Altman, Microsoft, & History - Britannica',\n",
       "  'url': 'https://www.britannica.com/money/OpenAI',\n",
       "  'content': 'OpenAI is an American artificial intelligence (AI) research organization consisting of two entities: OpenAI Inc., a nonprofit research segment, and OpenAI Global LLC, a for-profit subsidiary established to commercialize its AI technologies and applications. It was founded in 2015 by a consortium of researchers, scientists, and entrepreneurs; among the more notable founders are Sam Altman, Greg Brockman, Peter Thiel, and Elon Musk. [...] OpenAI was founded in December 2015 as a nonprofit organization dedicated to researching and advancing AI technology. Founded by a consortium of technologists and entrepreneurs, its key leadership included Sam Altman, Greg Brockman, Ilya Sutskever, and Elon Musk. Other investors were entrepreneur Peter Thiel and business entities such as Amazon Web Services (AWS), Infosys, and YC Research. These early commitments allowed OpenAI to begin with a $1 billion war chest to fund its research and',\n",
       "  'score': 0.93735445},\n",
       " {'title': 'The Definition of OpenAI | TIME',\n",
       "  'url': 'https://time.com/collections/the-ai-dictionary-from-allbusiness-com/7273977/definition-of-openai/',\n",
       "  'content': 'OpenAI is a San Francisco based artificial intelligence research organization dedicated to creating and advancing AI technologies in a safe and ethical manner. Founded in December 2015, OpenAI was established by a group of prominent tech entrepreneurs and researchers, including  Sam Altman, Greg Brockman, Ilya Sutskever, Elon Musk, John Schulman, and Wojciech Zaremba. [...] The mission of OpenAI is to ensure that artificial general intelligence (AGI), or highly autonomous systems capable of outperforming humans at most economically valuable work, benefits all of humanity. Initially, OpenAI operated as a non-profit organization, but it has since transitioned to a capped-profit model to attract investment while maintaining its focus on long-term ethical goals.',\n",
       "  'score': 0.9317675},\n",
       " {'title': 'What is OpenAI? - Moveworks',\n",
       "  'url': 'https://www.moveworks.com/us/en/resources/ai-terms-glossary/openai',\n",
       "  'content': \"OpenAI is an artificial intelligence research laboratory. Established in December 2015, OpenAI is dedicated to advancing artificial general intelligence (AGI) in a safe and beneficial manner. The organization was founded by a group of influential tech visionaries, including Sam Altman, Greg Brockman, Ilya Sutskever, John Schulman, and Wojciech Zaremba, among others. [...] Products\\n\\nTake a product tour to see Moveworks in action\\n\\nSolutions\\n\\n100+ Real World Use Cases of Agentic AI for the Enterprise\\n\\nDevelopers\\n\\nDiscover and deploy AI agents with pre-built solution packs\\n\\nResources\\n\\n100+ Real World Use Cases of Agentic AI for the Enterprise\\n\\nCompany\\n\\nServiceNow to acquire Moveworks\\n\\n# What is OpenAI?\\n\\n### OpenAI is a leading research organization focused on advancing safe and beneficial artificial general intelligence (AGI).\\n\\n## What is OpenAI? [...] OpenAI's mission revolves around ensuring that artificial general intelligence benefits all of humanity. It actively promotes the development and deployment of AI systems that prioritize safety, fairness, and transparency. The organization conducts cutting-edge research in machine learning, deep learning, reinforcement learning, and related fields, with the goal of pushing the boundaries of AI capabilities while addressing ethical concerns.\",\n",
       "  'score': 0.92825955},\n",
       " {'title': 'What Is OpenAI? Everything You Need to Know - Coursera',\n",
       "  'url': 'https://www.coursera.org/articles/what-is-openai',\n",
       "  'content': 'What is OpenAI?\\n---------------\\n\\nOpenAI is an artificial intelligence company and research lab that aims to develop AI and steer it in ways that “benefit all of humanity.” It was created at first as a non-profit organization due to its founders’ concerns about the potential misuse and catastrophe from AI being used “in the wild.” Several investors pooled together $1 billion to deliver research and resources that remain open to the public.\\n\\n### Timeline and history of OpenAI [...] OpenAI was founded in 2015 with a focus on developing AI and machine learning tools for various activities. Its first offering was an open-source toolkit for developing reinforcement learning algorithms (OpenAI Gym), which prompted it to focus on AI research for more general purposes.',\n",
       "  'score': 0.92715925}]"
      ]
     },
     "execution_count": 53,
     "metadata": {},
     "output_type": "execute_result"
    }
   ],
   "source": [
    "search.invoke(\"What is Open AI?\")"
   ]
  },
  {
   "cell_type": "code",
   "execution_count": 54,
   "id": "ff89a8d3",
   "metadata": {},
   "outputs": [],
   "source": [
    "tool = [search]\n",
    "from langchain import hub\n",
    "prompt=hub.pull(\"hwchase17/openai-functions-agent\")"
   ]
  },
  {
   "cell_type": "code",
   "execution_count": 55,
   "id": "88be5d09",
   "metadata": {},
   "outputs": [
    {
     "data": {
      "text/plain": [
       "[SystemMessagePromptTemplate(prompt=PromptTemplate(input_variables=[], input_types={}, partial_variables={}, template='You are a helpful assistant'), additional_kwargs={}),\n",
       " MessagesPlaceholder(variable_name='chat_history', optional=True),\n",
       " HumanMessagePromptTemplate(prompt=PromptTemplate(input_variables=['input'], input_types={}, partial_variables={}, template='{input}'), additional_kwargs={}),\n",
       " MessagesPlaceholder(variable_name='agent_scratchpad')]"
      ]
     },
     "execution_count": 55,
     "metadata": {},
     "output_type": "execute_result"
    }
   ],
   "source": [
    "prompt.messages"
   ]
  },
  {
   "cell_type": "code",
   "execution_count": 56,
   "id": "ceebbc7f",
   "metadata": {},
   "outputs": [],
   "source": [
    "from langchain.agents import create_tool_calling_agent\n",
    "agent = create_tool_calling_agent(llm, tool, prompt)"
   ]
  },
  {
   "cell_type": "code",
   "execution_count": 57,
   "id": "237af2df",
   "metadata": {},
   "outputs": [],
   "source": [
    "from langchain.agents import AgentExecutor\n",
    "agent_executor = AgentExecutor(agent=agent, tools=tool, verbose=True)"
   ]
  },
  {
   "cell_type": "code",
   "execution_count": 58,
   "id": "b01cb3e3",
   "metadata": {},
   "outputs": [
    {
     "name": "stdout",
     "output_type": "stream",
     "text": [
      "\n",
      "\n",
      "\u001b[1m> Entering new AgentExecutor chain...\u001b[0m\n",
      "\u001b[32;1m\u001b[1;3m\n",
      "Invoking: `tavily_search_results_json` with `{'query': 'hello how are you'}`\n",
      "\n",
      "\n",
      "\u001b[0m\u001b[36;1m\u001b[1;3m[{'title': '\"How are you?\" | 60+ Different Ways to Ask & Respond to \"How are you?\"', 'url': 'https://eslforums.com/how-are-you/', 'content': '“How are you?” is a common greeting that is used to ask someone about their well-being or current state. It is usually used as a casual greeting between friends, colleagues, and family members.\\n\\nTo use “how are you?”, you can simply ask the question to the person you are greeting. For example:\\n\\n   Person 1: “Hey, how are you?”\\n   Person 2: “I’m doing well, thanks for asking. How about you?” [...] “How are you?” is a common greeting that is used to ask someone about their well-being or current state. It is usually used as a casual greeting between friends, colleagues, and family members. In this lesson, you will learn a list of 16 sentences you can use instead of “How are you?” in English and how to respond to it. Learn those words to use in your daily life.\\n\\nTable of Contents [...] You can also use the question as a way to start a conversation with someone you have just met or haven’t seen in a while. For example:\\n\\n   Person 1: “Hi, it’s nice to meet you. How are you?”\\n   Person 2: “I’m doing well, thanks. It’s nice to meet you too.”\\n\\nIt is common to follow up the question with a brief conversation about each other’s well-being or current circumstances. However, you can also use the question as a simple greeting and move on to a different topic of conversation.', 'score': 0.8235701}, {'title': '6 Ways to Ask \"How Are You?\" and 18 Ways to Answer - FluentU', 'url': 'https://www.fluentu.com/blog/english/how-are-you-esl/', 'content': 'So, when one of these people (an acquaintance or a stranger) asks how you are, how should you respond?\\n\\nIt’s important to note: This person doesn’t want to know how you actually are that day. They’re just being polite.\\n\\nIn the United States, “Hi, how are you?” is almost a cultural greeting—it’s how we say hello. If you say this to an acquaintance or stranger, you probably aren’t really interested in their true answer. [...] Then, it’ll be time to take your knowledge to the streets! Say “hello” to as many people as you can and see how they answer your “How are you?”\\n\\nOnce you’ve mastered this question, you might be so happy that you answer “perfect” to the next person who asks how you are!\\n\\n_Download: This blog post is available as a convenient and portable PDF that you can take anywhere. Click here to get a copy. (Download)_\\n\\nAnd One More Thing...\\n---------------------', 'score': 0.7917732}, {'title': 'Hello! - Super Simple Songs', 'url': 'https://supersimple.com/song/hello/', 'content': 'More Fun... (3)\\n---------------\\n\\nImage 10: Hello, What Do You Do?\\n\\n### Hello, What Do You Do?\\n\\nImage 12\\n\\n### Hello Baby Sparrows\\n\\nImage 14: Hello\\n\\n### Hello! | featuring The Super Simple Puppets\\n\\n#### Song Lyrics\\n\\nHello, hello, hello, how are you?  \\nHello, hello, hello, how are you?\\n\\nI’m good.  \\nI’m great!  \\nI’m wonderful!  \\nI’m good.  \\nI’m great!  \\nI’m wonderful!\\n\\nHello, hello, hello, how are you?  \\nHello, hello, hello, how are you? [...] I’m tired.  \\nI’m hungry.  \\nI’m not so good.  \\nI’m tired.  \\nI’m hungry.  \\nI’m not so good.\\n\\nHello, hello, hello, how are you?  \\nHello, hello, hello, how are you?  \\nHello, hello, hello, how are you?  \\nHello, hello, hello, how are you?\\n\\nShow More ↓\\n\\n#### Sheet Music\\n\\n   Image 16: Hello! Sheet MusicDownload\\n\\n#### Related Songs (Greetings)', 'score': 0.74807674}, {'title': 'How to Respond to Greetings: The 43 Best Ways - Lost at Say', 'url': 'https://lostatsay.com/how-to-respond-to-greetings/', 'content': 'Keep your relationship with the person in mind. For professional exchanges, stick to a more formal greeting, such as “Hello! How are you?” Informal and overly friendly greetings, such as “What’s up?” or “Hey, bro,” should be reserved for close friends and casual acquaintances. [...] 1.   Hello.\\n2.   Hi there!\\n3.   Good [morning/afternoon/evening].\\n4.   It’s so good to see you!\\n5.   How are you doing?\\n6.   Good day.\\n7.   What’s up?\\n8.   Pleased to meet you.\\n9.   Hey.\\n10.   Morning.\\n11.   What’s been happening lately?\\n12.   It’s nice to see you again.\\n13.   How do you do?\\n14.   How’s it going?\\n15.   Long time no see.\\n16.   It’s lovely to see you.\\n17.   Hey, stranger!\\nfor someone you haven’t seen recently', 'score': 0.7382357}, {'title': '100+ Best Responses to \"Hello\" - The Rapid Response', 'url': 'https://therapidresponse.com/responses-to-hello/', 'content': '1.  “Hello! How’s your day going?”\\n2.  “Hi there! Hope you’re having a great day!”\\n3.  “Hey! It’s good to see you!”\\n4.  “Hello! How have you been?”\\n5.  “Hi! What’s new with you?”\\n6.  “Hey there! How’s life treating you?”\\n7.  “Hello! Always nice to hear from you!”\\n8.  “Hi! Long time no see! How are you?”\\n9.  “Hey! Hope everything is going well for you!”\\n10.  “Hello! Anything exciting happening today?”\\n\\nFunny Responses to “Hello”\\n------------------------------ [...] FAQs\\n----\\n\\n### What are the best ways to respond to “Hello”?\\n\\nThe best way to respond to “Hello” depends on the situation. A simple “Hi, how are you?” works in most cases. If you want to be friendly, you can say “Hey there! Hope you’re having a great day!” For a funny response, try “Oh no, not you again! Just kidding, hi!” Adjust your reply based on the tone and relationship with the person.\\n\\n### How do you respond to “Hello” in a flirty way? [...] 61.  “Hello! How can I assist you today?”\\n62.  “Hi! Hope you’re having a great day!”\\n63.  “Good to see you! How’s everything going?”\\n64.  “Hello! How can I help you today?”\\n65.  “Hi there! Nice to see you again.”\\n66.  “Hello! Hope your day is going well.”\\n67.  “Good morning/afternoon! How are you?”\\n68.  “Hey! Always a pleasure to chat with you!”\\n69.  “Hi! What can I do for you today?”\\n70.  “Hello! Let me know if you need anything.”', 'score': 0.7173491}]\u001b[0m\u001b[32;1m\u001b[1;3m\n",
      "Invoking: `tavily_search_results_json` with `{'query': 'how are you?'}`\n",
      "\n",
      "\n",
      "\u001b[0m\u001b[36;1m\u001b[1;3m[{'title': '\"How are you?\" | 60+ Different Ways to Ask & Respond to \"How are you?\"', 'url': 'https://eslforums.com/how-are-you/', 'content': '“How are you?” is a common greeting that is used to ask someone about their well-being or current state. It is usually used as a casual greeting between friends, colleagues, and family members.\\n\\nTo use “how are you?”, you can simply ask the question to the person you are greeting. For example:\\n\\n   Person 1: “Hey, how are you?”\\n   Person 2: “I’m doing well, thanks for asking. How about you?” [...] “How are you?” is a common greeting that is used to ask someone about their well-being or current state. It is usually used as a casual greeting between friends, colleagues, and family members. In this lesson, you will learn a list of 16 sentences you can use instead of “How are you?” in English and how to respond to it. Learn those words to use in your daily life.\\n\\nTable of Contents', 'score': 0.9061314}, {'title': 'What Is the Difference Between \"How Are You?\" and \"How ... - Readle', 'url': 'https://readle-app.com/en/blog/what-is-the-difference-between-how-are-you-and-how-are-you-doing/', 'content': '\"How are you?\" is a more personalized expression that focuses specifically on a person\\'s condition — their mood, state of health, or general well-being.\\n\\nIt is also a more formal form than \"How are you doing?\" and is usually used when speaking to a person you\\'ve met for the first time or someone you aren\\'t particularly close with. [...] While \"How are you?\" asks for a statement of a person\\'s condition, \"How are you doing?\" asks for a more detailed answer. This is a more casual form of greeting that can also mean \"How’s it going?\", \"How\\'s your day been so far?\" — aimed to find out how things are in general or whether everything is fine.\\n\\nAccording to a forum discussion at English Language & Usage Stack Exchange, the difference may also vary depending on the region. [...] Answer | Explanation\\nI\\'m fine, thanks. How are you? | This is by far one of the most socially acceptable answers and a basic form of social interaction that does not require any further details, regardless of your current life circumstances. Most people use this answer on a daily basis.\\nVery well, thank you. How are you? | This is a very formal way to answer this question, compared to \"Fine, thanks.”', 'score': 0.8872928}, {'title': 'How to Ask \"How Are You?\" and Answer It', 'url': 'https://loveyouenglish.com/how-to-ask-how-are-you-and-answer-it/', 'content': 'Why “How Are You?” Matters\\n--------------------------\\n\\n“How are you?” is more than just a greeting. It’s a way to connect with someone. When you ask it, you’re saying, “I see you, and I care about how you’re doing.”\\n\\nEven if the question seems small, it can open the door to deeper conversations or make someone feel valued.\\n\\nThe way you ask and answer this question depends on the situation. [...] “How are you?” isn’t used the same way everywhere. In some cultures, it’s just a polite greeting, and people don’t expect a real answer. In others, it’s an invitation to share. Here’s how it works in a few places:\\n\\n   United States: “How are you?” is often a casual greeting. Most people say “Good” or “Fine” unless they’re close friends.\\n\\n   United Kingdom: Similar to the U.S., it’s usually a polite question. People might say “Alright” or “Not bad.” [...] When someone asks, “How are you?” they usually expect a short, positive answer. If you’re doing well, you cansay:\\n\\n   “I’m good, thanks for asking!”\\n\\n   “Pretty great, actually!”\\n\\n   “Doing alright, how about you?”\\n\\nIf you’re not doing great, you don’t have to fake it, but keep it light unless you’re talking to someone close. For example:\\n\\n   “It’s been a rough day, but I’m hanging in there.”\\n\\n   “Not my best week, but thanks for asking.”\\n\\n   “Could be better, but I’ll manage.”', 'score': 0.8573986}, {'title': '201 Funny And Witty Responses To The Question \"How Are You?\"', 'url': 'https://www.stylecraze.com/articles/how-to-respond-to-how-are-you/', 'content': 'In some Middle Eastern countries, “How are you?” might be followed by questions about family and well-being, with answers expected to be more elaborate.\\n\\nIn professional or formal settings, especially in cultures like the U.S. or the U.K., “How are you?” is answered with, “I’m well, thank you.”\\n\\nThese cultural variations highlight how social norms shape not only the words we say but also the depth of connection and meaning we assign to them. [...] In professional settings, this question is typically a polite inquiry. Additionally, in times of stress or crisis, asking “How are you?” can take on a more empathetic tone, showing a desire to check in on someone’s emotional state. Therefore, understanding when and how to use this phrase can help you deal with social interactions with greater sensitivity to context and social etiquette. [...] The phrase “How are you?” is a common greeting, but its intent can vary depending on the context in which it is used. Diane Darling, a renowned speaker, instructor and author says, “Context is how I recommend that people respond to the question ‘how are you’. Is the person someone you know well? Acquaintance? Neighbor? Family members? Is the question about something that recently happened (job promotion, death in the family) or is it a cordiality? Assuming the latter, I encourage people to', 'score': 0.8235701}, {'title': 'What does it mean when someone says “how are you”? - Quora', 'url': 'https://www.quora.com/What-does-it-mean-when-someone-says-how-are-you', 'content': 'This is a VERY common expression (question) in English. It is a simple inquiry as to someone’s health. It literally asks that person, in effect how they feel and/or how is the status of their physical and/or mental health.\\n\\nIt could also be taken as a simple inquiry as to someone’s psychological makeup or social status.\\n\\nAs in any person answering an inquiry, the person being questioned has many options for conceivably pertinent replies.\\n\\nHere are a few typical answers: [...] As in any person answering an inquiry, the person being questioned has many options for conceivably pertinent replies.\\n\\nHere are a few typical answers:\\n\\n   I am doing well, thank you. (polite)\\n   I’m all right. How are you?\\n   Oh, I’m not feeling especially well, thanks for asking. (polite)\\n   Dude/\\n\\nContinue Reading [...] I am doing well, thank you. (polite)\\n   I’m all right. How are you?\\n   Oh, I’m not feeling especially well, thanks for asking. (polite)\\n   Dude/girl, I’m great! What’s up with you? (casual)\\n   I’m a single guy in my teens, looking for a cool place to practice skating. I’m tall and funny, too. (semi-’clueless’)\\n   I’m doing great. How’re you doin’? (casual)\\n\\nUpvote ·\\n\\n9928\\n\\n92\\n\\nSponsored by Fisher Investments\\n\\nShould Tariffs Change Your Investment Strategy?', 'score': 0.80771893}]\u001b[0m\u001b[32;1m\u001b[1;3m\n",
      "Invoking: `tavily_search_results_json` with `{'query': 'how are you?'}`\n",
      "\n",
      "\n",
      "\u001b[0m\u001b[36;1m\u001b[1;3m[{'title': '\"How are you?\" | 60+ Different Ways to Ask & Respond to \"How are you?\"', 'url': 'https://eslforums.com/how-are-you/', 'content': '“How are you?” is a common greeting that is used to ask someone about their well-being or current state. It is usually used as a casual greeting between friends, colleagues, and family members.\\n\\nTo use “how are you?”, you can simply ask the question to the person you are greeting. For example:\\n\\n   Person 1: “Hey, how are you?”\\n   Person 2: “I’m doing well, thanks for asking. How about you?” [...] “How are you?” is a common greeting that is used to ask someone about their well-being or current state. It is usually used as a casual greeting between friends, colleagues, and family members. In this lesson, you will learn a list of 16 sentences you can use instead of “How are you?” in English and how to respond to it. Learn those words to use in your daily life.\\n\\nTable of Contents', 'score': 0.9061314}, {'title': 'What Is the Difference Between \"How Are You?\" and \"How ... - Readle', 'url': 'https://readle-app.com/en/blog/what-is-the-difference-between-how-are-you-and-how-are-you-doing/', 'content': '\"How are you?\" is a more personalized expression that focuses specifically on a person\\'s condition — their mood, state of health, or general well-being.\\n\\nIt is also a more formal form than \"How are you doing?\" and is usually used when speaking to a person you\\'ve met for the first time or someone you aren\\'t particularly close with. [...] While \"How are you?\" asks for a statement of a person\\'s condition, \"How are you doing?\" asks for a more detailed answer. This is a more casual form of greeting that can also mean \"How’s it going?\", \"How\\'s your day been so far?\" — aimed to find out how things are in general or whether everything is fine.\\n\\nAccording to a forum discussion at English Language & Usage Stack Exchange, the difference may also vary depending on the region. [...] Answer | Explanation\\nI\\'m fine, thanks. How are you? | This is by far one of the most socially acceptable answers and a basic form of social interaction that does not require any further details, regardless of your current life circumstances. Most people use this answer on a daily basis.\\nVery well, thank you. How are you? | This is a very formal way to answer this question, compared to \"Fine, thanks.”', 'score': 0.8872928}, {'title': 'How to Ask \"How Are You?\" and Answer It', 'url': 'https://loveyouenglish.com/how-to-ask-how-are-you-and-answer-it/', 'content': 'Why “How Are You?” Matters\\n--------------------------\\n\\n“How are you?” is more than just a greeting. It’s a way to connect with someone. When you ask it, you’re saying, “I see you, and I care about how you’re doing.”\\n\\nEven if the question seems small, it can open the door to deeper conversations or make someone feel valued.\\n\\nThe way you ask and answer this question depends on the situation. [...] “How are you?” isn’t used the same way everywhere. In some cultures, it’s just a polite greeting, and people don’t expect a real answer. In others, it’s an invitation to share. Here’s how it works in a few places:\\n\\n   United States: “How are you?” is often a casual greeting. Most people say “Good” or “Fine” unless they’re close friends.\\n\\n   United Kingdom: Similar to the U.S., it’s usually a polite question. People might say “Alright” or “Not bad.” [...] When someone asks, “How are you?” they usually expect a short, positive answer. If you’re doing well, you cansay:\\n\\n   “I’m good, thanks for asking!”\\n\\n   “Pretty great, actually!”\\n\\n   “Doing alright, how about you?”\\n\\nIf you’re not doing great, you don’t have to fake it, but keep it light unless you’re talking to someone close. For example:\\n\\n   “It’s been a rough day, but I’m hanging in there.”\\n\\n   “Not my best week, but thanks for asking.”\\n\\n   “Could be better, but I’ll manage.”', 'score': 0.8573986}, {'title': '201 Funny And Witty Responses To The Question \"How Are You?\"', 'url': 'https://www.stylecraze.com/articles/how-to-respond-to-how-are-you/', 'content': 'In some Middle Eastern countries, “How are you?” might be followed by questions about family and well-being, with answers expected to be more elaborate.\\n\\nIn professional or formal settings, especially in cultures like the U.S. or the U.K., “How are you?” is answered with, “I’m well, thank you.”\\n\\nThese cultural variations highlight how social norms shape not only the words we say but also the depth of connection and meaning we assign to them. [...] In professional settings, this question is typically a polite inquiry. Additionally, in times of stress or crisis, asking “How are you?” can take on a more empathetic tone, showing a desire to check in on someone’s emotional state. Therefore, understanding when and how to use this phrase can help you deal with social interactions with greater sensitivity to context and social etiquette. [...] The phrase “How are you?” is a common greeting, but its intent can vary depending on the context in which it is used. Diane Darling, a renowned speaker, instructor and author says, “Context is how I recommend that people respond to the question ‘how are you’. Is the person someone you know well? Acquaintance? Neighbor? Family members? Is the question about something that recently happened (job promotion, death in the family) or is it a cordiality? Assuming the latter, I encourage people to', 'score': 0.8235701}, {'title': 'What does it mean when someone says “how are you”? - Quora', 'url': 'https://www.quora.com/What-does-it-mean-when-someone-says-how-are-you', 'content': 'This is a VERY common expression (question) in English. It is a simple inquiry as to someone’s health. It literally asks that person, in effect how they feel and/or how is the status of their physical and/or mental health.\\n\\nIt could also be taken as a simple inquiry as to someone’s psychological makeup or social status.\\n\\nAs in any person answering an inquiry, the person being questioned has many options for conceivably pertinent replies.\\n\\nHere are a few typical answers: [...] As in any person answering an inquiry, the person being questioned has many options for conceivably pertinent replies.\\n\\nHere are a few typical answers:\\n\\n   I am doing well, thank you. (polite)\\n   I’m all right. How are you?\\n   Oh, I’m not feeling especially well, thanks for asking. (polite)\\n   Dude/\\n\\nContinue Reading [...] I am doing well, thank you. (polite)\\n   I’m all right. How are you?\\n   Oh, I’m not feeling especially well, thanks for asking. (polite)\\n   Dude/girl, I’m great! What’s up with you? (casual)\\n   I’m a single guy in my teens, looking for a cool place to practice skating. I’m tall and funny, too. (semi-’clueless’)\\n   I’m doing great. How’re you doin’? (casual)\\n\\nUpvote ·\\n\\n9928\\n\\n92\\n\\nSponsored by Fisher Investments\\n\\nShould Tariffs Change Your Investment Strategy?', 'score': 0.80771893}]\u001b[0m\u001b[32;1m\u001b[1;3m\n",
      "\n",
      "\u001b[0m\n",
      "\n",
      "\u001b[1m> Finished chain.\u001b[0m\n"
     ]
    },
    {
     "data": {
      "text/plain": [
       "{'input': 'hello how are you?', 'output': '\\n\\n'}"
      ]
     },
     "execution_count": 58,
     "metadata": {},
     "output_type": "execute_result"
    }
   ],
   "source": [
    "agent_executor.invoke({\"input\": \"hello how are you?\"})"
   ]
  },
  {
   "cell_type": "code",
   "execution_count": 46,
   "id": "5febbc0f",
   "metadata": {},
   "outputs": [
    {
     "name": "stdout",
     "output_type": "stream",
     "text": [
      "\n",
      "\n",
      "\u001b[1m> Entering new AgentExecutor chain...\u001b[0m\n",
      "\u001b[32;1m\u001b[1;3m\n",
      "Invoking: `tavily_search_results_json` with `{'query': 'weather in new york'}`\n",
      "\n",
      "\n",
      "\u001b[0m\u001b[36;1m\u001b[1;3m[{'title': 'June 28 Weather in New York City: Detailed Weather Forecast for June 28 ...', 'url': 'https://world-weather.info/forecast/usa/new_york/28-june/', 'content': 'Weather Forecast for June 28 in New York City, New York - temperature, wind, atmospheric pressure, humidity and precipitations. Detailed hourly weather chart.\\n\\nJune 26June 27Select date: Image 1: Select a dateJune 29June 30\\n\\nJune 28, 2025\\n-------------\\n\\nAtmospheric conditions\\n\\nand temperature °F RealFeel °F Atmospheric\\n\\npressure inHg Wind speed\\n\\nmph Humidity\\n\\nNight+66°+66°30.1 4.9 79%\\nMorning+68°+70°30 4 91%\\nDay+79°+81°30 3.8 72%\\nEvening+77°+79°29.9 3.4 75%\\n\\n### Bio-meteorological forecast', 'score': 0.9184877}, {'title': 'United States weather forecast for Saturday, 28 June 2025', 'url': 'https://www.weather25.com/north-america/usa?page=date&date=28-6', 'content': '|  | 00:00 | 03:00 | 06:00 | 09:00 | 12:00 | 15:00 | 18:00 | 21:00 |\\n| --- |\\n| Temperature | 62°F | 62°F | 64°F | 68°F | 77°F | 84°F | 86°F | 82°F |\\n| Weather | Image 8: Overcast Overcast | Image 9: Mist Mist | Image 10: Fog Fog | Image 11: Mist Mist | Image 12: Overcast Overcast | Image 13: Partly cloudy Partly cloudy | Image 14: Clear Sunny | Image 15: Cloudy Cloudy |\\n| Chance of rain | 0% | 0% | 0% | 0% | 0% | 0% | 0% | 0% | [...] | Precipitation | 0 in | 0 in | 0 in | 0 in | 0 in | 0 in | 0 in | 0 in |\\n| Humidity | 89% | 95% | 97% | 97% | 82% | 64% | 66% | 77% |\\n| Wind | 6 Miles | 5 Miles | 3 Miles | 3 Miles | 4 Miles | 8 Miles | 9 Miles | 4 Miles |\\n| Wind Gust | 9 Miles | 8 Miles | 5 Miles | 4 Miles | 6 Miles | 10 Miles | 12 Miles | 9 Miles | [...] | Wind Degree | 144° Image 16: 234° | 143° Image 17: 234° | 127° Image 18: 234° | 156° Image 19: 234° | 214° Image 20: 234° | 232° Image 21: 234° | 236° Image 22: 234° | 234° Image 23: 234° |\\n| Wind Direction | SE | SE | SE | SSE | SW | SW | WSW | SW |\\n| Cloud Cover | 100% | 100% | 100% | 100% | 100% | 37% | 2% | 88% |\\n| UV Index | 0 | 0 | 0 | 1 | 6 | 6 | 1 | 0 |\\n| Visibility | 6 Miles | 6 Miles | 6 Miles | 1 Miles | 6 Miles | 6 Miles | 6 Miles | 4 Miles |', 'score': 0.915091}, {'title': 'New York weather in June 2025 - Weather25.com', 'url': 'https://www.weather25.com/north-america/usa/new-york?page=month&month=June', 'content': 'Friday Jun 27 Image 8: Overcast 0 mm 22°/17°Saturday Jun 28 Image 9: Moderate rain at times 4.8 mm 33°/17°Sunday Jun 29 Image 10: Sunny 1.8 mm 28°/22°Monday Jun 30 Image 11: Partly cloudy 0 mm 34°/18°Tuesday Jul 1 Image 12: Light rain shower 2.5 mm 27°/22°Wednesday Jul 2 Image 13: Sunny 0 mm 32°/20°Thursday Jul 3 Image 14: Sunny 0 mm 31°/20°Friday Jul 4 Image 15: Sunny 0 mm 32°/19°Saturday Jul 5 Image 16: Partly cloudy 0 mm 33°/21°Sunday Jul 6 Image 17: Patchy rain possible 4 mm 31°/21°Monday [...] | Sun | Mon | Tue | Wed | Thu | Fri | Sat |\\n| --- | --- | --- | --- | --- | --- | --- |\\n| 1 Image 28: Partly cloudy 24°/10° | 2 Image 29: Overcast 25°/13° | 3 Image 30: Light rain shower 24°/13° | 4 Image 31: Partly cloudy 26°/12° | 5 Image 32: Partly cloudy 27°/14° | 6 Image 33: Light rain shower 27°/17° | 7 Image 34: Partly cloudy 26°/15° | [...] | 22 Image 49: Patchy rain possible 25°/17° | 23 Image 50: Light rain shower 30°/17° | 24 Image 51: Partly cloudy 30°/18° | 25 Image 52: Sunny 31°/18° | 26 Image 53: Partly cloudy 30°/18° | 27 Image 54: Overcast 22°/17° | 28 Image 55: Moderate rain at times 33°/17° |\\n| 29 Image 56: Sunny 28°/22° | 30 Image 57: Partly cloudy 34°/18° |  |  |  |  |  |', 'score': 0.8825193}, {'title': 'Weather in June 2025 in New York, New York, USA - timeanddate.com', 'url': 'https://www.timeanddate.com/weather/usa/new-york/historic?month=6&year=2025', 'content': '| 3:51 pm |  | 64 °F | Overcast. | 7 mph | ↑ | 40% | 29.75 \"Hg | 10 mi |\\n| 4:51 pm |  | 64 °F | Mostly cloudy. | 7 mph | ↑ | 35% | 29.76 \"Hg | 10 mi |\\n| 5:51 pm |  | 64 °F | Overcast. | 3 mph | ↑ | 41% | 29.77 \"Hg | 10 mi |\\n| 6:51 pm |  | 64 °F | Overcast. | 6 mph | ↑ | 40% | 29.78 \"Hg | 10 mi |\\n| 7:51 pm |  | 64 °F | Sunny. | 8 mph | ↑ | 40% | 29.80 \"Hg | 10 mi |\\n| 8:51 pm |  | 62 °F | Clear. | No wind | ↑ | 41% | 29.81 \"Hg | 10 mi | [...] | 9:51 pm |  | 62 °F | Passing clouds. | No wind | ↑ | 41% | 29.84 \"Hg | 10 mi |\\n| 10:51 pm |  | 59 °F | Mostly cloudy. | 9 mph | ↑ | 54% | 29.89 \"Hg | 10 mi |\\n| 11:51 pm |  | 58 °F | Mostly cloudy. | 3 mph | ↑ | 54% | 29.90 \"Hg | 10 mi |\\n|  |  |  |  |  |  |  |  |  |\\n| --- | --- | --- | --- | --- | --- | --- | --- | --- |\\n| Weather by CustomWeather, © 2025 | | | | | | | | | [...] | 10:51 am |  | 57 °F | Overcast. | 13 mph | ↑ | 51% | 29.70 \"Hg | 10 mi |\\n| 11:51 am |  | 61 °F | Partly sunny. | 12 mph | ↑ | 42% | 29.71 \"Hg | 10 mi |\\n| 12:51 pm |  | 64 °F | Partly sunny. | 9 mph | ↑ | 38% | 29.72 \"Hg | 10 mi |\\n| 1:51 pm |  | 63 °F | Partly sunny. | 14 mph | ↑ | 38% | 29.72 \"Hg | 10 mi |\\n| 2:33 pm |  | 65 °F | Partly sunny. | 9 mph | ↑ | 34% | 29.75 \"Hg | 10 mi |\\n| 2:51 pm |  | 65 °F | Partly sunny. | 3 mph | ↑ | 36% | 29.72 \"Hg | 10 mi |', 'score': 0.8660535}, {'title': 'Weather New York in June 2025: Temperature & Climate', 'url': 'https://en.climate-data.org/north-america/united-states-of-america/new-york/new-york-1091/t/june-6/', 'content': '| 24. June | 23 °C | 73 °F | 27 °C | 81 °F | 18 °C | 65 °F | 20 °C | 68 °F | 1.3 mm | 0.1 inch. |\\n| 25. June | 23 °C | 74 °F | 28 °C | 82 °F | 19 °C | 66 °F | 20 °C | 68 °F | 1.0 mm | 0.0 inch. |\\n| 26. June | 24 °C | 75 °F | 29 °C | 84 °F | 19 °C | 67 °F | 20 °C | 69 °F | 0.8 mm | 0.0 inch. |\\n| 27. June | 23 °C | 74 °F | 28 °C | 82 °F | 20 °C | 67 °F | 21 °C | 69 °F | 0.6 mm | 0.0 inch. |\\n| 28. June | 23 °C | 74 °F | 28 °C | 83 °F | 19 °C | 66 °F | 21 °C | 69 °F | 0.6 mm | 0.0 inch. | [...] | 29. June | 24 °C | 74 °F | 28 °C | 83 °F | 20 °C | 67 °F | 21 °C | 70 °F | 1.0 mm | 0.0 inch. |\\n| 30. June | 24 °C | 74 °F | 28 °C | 83 °F | 19 °C | 67 °F | 21 °C | 70 °F | 0.8 mm | 0.0 inch. | [...] 97\\n\\n(3.8)\\n\\n7.7\\n\\n(45.8)\\n\\n4.4\\n\\n(39.9)\\n\\n11.9\\n\\n(53.3)\\n\\n76\\n\\n(3)\\n\\n2.5\\n\\n(36.5)\\n\\n-0.5\\n\\n(31)\\n\\n6.4\\n\\n(43.5)\\n\\n103\\n\\n(4.1)', 'score': 0.8619225}]\u001b[0m\u001b[32;1m\u001b[1;3m\n",
      "Invoking: `tavily_search_results_json` with `{'query': 'weather forecast for new york city june 28'}`\n",
      "\n",
      "\n",
      "\u001b[0m\u001b[36;1m\u001b[1;3m[{'title': 'June 2025 Daily Weather Forecast for New York City, New York - Plan Ahead', 'url': 'https://www.weathertab.com/en/d/06/united-states/new-york/new-york-city/', 'content': 'Our New York City, New York Daily Weather Forecast for June 2025, developed from a specialized dynamic long-range model, provides precise daily temperature and rainfall predictions. This model, distinct from standard statistical or climatological approaches, is the result of over 50 years of dedicated private research, offering a clearer and more accurate meteorological insight.\\n\\nJune 2025 Jun 2025Jul\\n\\n24 \\n\\nTue 65%76 to 86 °F 60 to 70 °F 22 to 32 °C 13 to 23 °CSunrise\\n\\n 5:26AM\\n\\nSunset [...] Sun 46%78 to 88 °F 62 to 72 °F 23 to 33 °C 14 to 24 °CSunrise\\n\\n 5:25AM\\n\\nSunset\\n\\n 8:24PM Waxing Gibbous\\n30 \\n\\nMon 38%78 to 88 °F 62 to 72 °F 23 to 33 °C 14 to 24 °CSunrise\\n\\n 5:25AM\\n\\nSunset\\n\\n 8:25PM Waxing Gibbous\\n\\nJul\\n\\nJune 2025 Summary\\n\\nPrecipitation Forecast\\n\\n Average Precipitation \\n\\nRain Frequency 4 to 6 days \\n\\nTemperature Forecast\\n\\nTemperature Forecast Normal \\n\\nAvg High Temps 75 to 85 °F 20 to 30 °C\\n\\nAvg Low Temps 55 to 70 °F 10 to 20 °C\\n\\nWeather Forecast Legend [...] 8:21PM Waxing Crescent\\n25 \\n\\nWed 70%76 to 86 °F 60 to 70 °F 22 to 32 °C 13 to 23 °CSunrise\\n\\n 5:26AM\\n\\nSunset\\n\\n 8:21PM Waxing Crescent\\n26 \\n\\nThu 75%76 to 86 °F 60 to 70 °F 22 to 32 °C 13 to 23 °CSunrise\\n\\n 5:26AM\\n\\nSunset\\n\\n 8:22PM First Quarter\\n27 \\n\\nFri 79%75 to 85 °F 60 to 70 °F 21 to 31 °C 13 to 23 °CSunrise\\n\\n 5:25AM\\n\\nSunset\\n\\n 8:23PM Waxing Gibbous\\n28 \\n\\nSat 43%77 to 87 °F 60 to 70 °F 22 to 32 °C 13 to 23 °CSunrise\\n\\n 5:25AM\\n\\nSunset\\n\\n 8:23PM Waxing Gibbous\\n29', 'score': 0.8783249}, {'title': 'New York City weather in June 2025 | Weather25.com', 'url': 'https://www.weather25.com/north-america/usa/new-york/new-york-city?page=month&month=June', 'content': 'Saturday Jun 21 Image 8: Cloudy 0 in 89°/69°Sunday Jun 22 Image 9: Thundery outbreaks possible 0 in 93°/73°Monday Jun 23 Image 10: Sunny 0 in 102°/84°Tuesday Jun 24 Image 11: Sunny 0 in 98°/77°Wednesday Jun 25 Image 12: Patchy rain possible 0.19 in 95°/66°Thursday Jun 26 Image 13: Light rain shower 0.18 in 82°/66°Friday Jun 27 Image 14: Light rain shower 0.14 in 77°/66°Saturday Jun 28 Image 15: Thundery outbreaks possible 0.38 in 95°/69°Sunday Jun 29 Image 16: Moderate rain at times 0.32 in [...] | Sun | Mon | Tue | Wed | Thu | Fri | Sat |\\n| --- | --- | --- | --- | --- | --- | --- |\\n| 1 Image 28: Partly cloudy 75°/50° | 2 Image 29: Overcast 77°/55° | 3 Image 30: Light rain shower 75°/55° | 4 Image 31: Partly cloudy 78°/53° | 5 Image 32: Partly cloudy 80°/57° | 6 Image 33: Light rain shower 80°/62° | 7 Image 34: Partly cloudy 78°/59° | [...] 95°/71°Monday Jun 30 Image 17: Patchy light rain with thunder 0.08 in 91°/73°Tuesday Jul 1 Image 18: Sunny 0 in 91°/71°Wednesday Jul 2 Image 19: Sunny 0 in 89°/69°Thursday Jul 3 Image 20: Patchy rain possible 0.01 in 84°/68°Friday Jul 4 Image 21: Sunny 0 in 82°/62°Next Month >>', 'score': 0.86358756}, {'title': 'New York weather in June 2025 | New York 14 day weather', 'url': 'https://www.weather25.com/north-america/usa/new-york?page=month&month=June', 'content': 'Friday Jun 27 Image 8: Overcast 0 mm 22°/17°Saturday Jun 28 Image 9: Moderate rain at times 4.8 mm 33°/17°Sunday Jun 29 Image 10: Sunny 1.8 mm 28°/22°Monday Jun 30 Image 11: Partly cloudy 0 mm 34°/18°Tuesday Jul 1 Image 12: Light rain shower 2.5 mm 27°/22°Wednesday Jul 2 Image 13: Sunny 0 mm 32°/20°Thursday Jul 3 Image 14: Sunny 0 mm 31°/20°Friday Jul 4 Image 15: Sunny 0 mm 32°/19°Saturday Jul 5 Image 16: Partly cloudy 0 mm 33°/21°Sunday Jul 6 Image 17: Patchy rain possible 4 mm 31°/21°Monday [...] | Sun | Mon | Tue | Wed | Thu | Fri | Sat |\\n| --- | --- | --- | --- | --- | --- | --- |\\n| 1 Image 28: Partly cloudy 24°/10° | 2 Image 29: Overcast 25°/13° | 3 Image 30: Light rain shower 24°/13° | 4 Image 31: Partly cloudy 26°/12° | 5 Image 32: Partly cloudy 27°/14° | 6 Image 33: Light rain shower 27°/17° | 7 Image 34: Partly cloudy 26°/15° | [...] | 22 Image 49: Patchy rain possible 25°/17° | 23 Image 50: Light rain shower 30°/17° | 24 Image 51: Partly cloudy 30°/18° | 25 Image 52: Sunny 31°/18° | 26 Image 53: Partly cloudy 30°/18° | 27 Image 54: Overcast 22°/17° | 28 Image 55: Moderate rain at times 33°/17° |\\n| 29 Image 56: Sunny 28°/22° | 30 Image 57: Partly cloudy 34°/18° |  |  |  |  |  |', 'score': 0.8571119}, {'title': 'New York City weather in June 2025 - Weather2Travel.com', 'url': 'https://www.weather2travel.com/new-york/new-york-city/june/', 'content': 'weather2travel.com - travel deals for your holiday in the sun\\nClick to search\\n\\n# New York City weather in June 2025\\n\\nExpect  daytime maximum temperatures of 26°C in New York City, New York in June based on long-term weather averages. There are 9 hours of sunshine per day on average with 10 days with some rainfall and typically 89 mm of rainfall in the month.', 'score': 0.83932644}, {'title': 'Weather New York in June 2025: Temperature & Climate', 'url': 'https://en.climate-data.org/north-america/united-states-of-america/new-york/new-york-1091/t/june-6/', 'content': '| 24. June | 23 °C | 73 °F | 27 °C | 81 °F | 18 °C | 65 °F | 20 °C | 68 °F | 1.3 mm | 0.1 inch. |\\n| 25. June | 23 °C | 74 °F | 28 °C | 82 °F | 19 °C | 66 °F | 20 °C | 68 °F | 1.0 mm | 0.0 inch. |\\n| 26. June | 24 °C | 75 °F | 29 °C | 84 °F | 19 °C | 67 °F | 20 °C | 69 °F | 0.8 mm | 0.0 inch. |\\n| 27. June | 23 °C | 74 °F | 28 °C | 82 °F | 20 °C | 67 °F | 21 °C | 69 °F | 0.6 mm | 0.0 inch. |\\n| 28. June | 23 °C | 74 °F | 28 °C | 83 °F | 19 °C | 66 °F | 21 °C | 69 °F | 0.6 mm | 0.0 inch. | [...] | 29. June | 24 °C | 74 °F | 28 °C | 83 °F | 20 °C | 67 °F | 21 °C | 70 °F | 1.0 mm | 0.0 inch. |\\n| 30. June | 24 °C | 74 °F | 28 °C | 83 °F | 19 °C | 67 °F | 21 °C | 70 °F | 0.8 mm | 0.0 inch. | [...] 97\\n\\n(3.8)\\n\\n7.7\\n\\n(45.8)\\n\\n4.4\\n\\n(39.9)\\n\\n11.9\\n\\n(53.3)\\n\\n76\\n\\n(3)\\n\\n2.5\\n\\n(36.5)\\n\\n-0.5\\n\\n(31)\\n\\n6.4\\n\\n(43.5)\\n\\n103\\n\\n(4.1)', 'score': 0.8380581}]\u001b[0m\u001b[32;1m\u001b[1;3m */\n",
      "<tool-use.74\n",
      "```json\n",
      "```json\n",
      "\"\n",
      "```json\n",
      "\"\n",
      "\"\n",
      "```json\n",
      "```json\n",
      "\"\n",
      "```json\n",
      "\"\n",
      "```json\n",
      "\"\n",
      "```json\n",
      "\"\n",
      "```json\n",
      "\"\n",
      "```json\n",
      "\"\n",
      "```json\n",
      "\"\n",
      "```json\n",
      "\"\n",
      "```json\n",
      "\"\n",
      "```json\n",
      "\"\n",
      "```json\n",
      "\"\n",
      "```json\n",
      "\"\n",
      "```json\n",
      "\"\n",
      "```json\n",
      "\"\n",
      "```json\n",
      "\"\n",
      "```json\n",
      "\"\n",
      "```json\n",
      "\"\n",
      "```json\n",
      "\"\n",
      "```json\n",
      "\"\n",
      "```json\n",
      "\"\n",
      "```json\n",
      "\"\n",
      "```json\n",
      "\"\n",
      "```json\n",
      "\"\n",
      "```json\n",
      "\n",
      "\n",
      "\"\n",
      "```json\n",
      "\"\n",
      "\n",
      "\n",
      " \"score\": 12\n",
      "```json\n",
      "\"\n",
      "```json\n",
      "\"\n",
      "```json\n",
      "\"\n",
      "```json\n",
      "\"\n",
      "```json\n",
      "\"\n",
      "```json\n",
      "\"\n",
      "```json\n",
      "\"\n",
      "```json\n",
      "\"\n",
      "```json\n",
      "\"\n",
      "```json\n",
      "\"\n",
      "```json\n",
      "\"\n",
      "```json\n",
      "\"\n",
      "```json\n",
      "\"\n",
      "```json\n",
      "\"\n",
      "```json\n",
      "\"\n",
      "```json\n",
      "\"\n",
      "```json\n",
      "\"\n",
      "```json\n",
      "\"\n",
      "```json\n",
      "\"\n",
      "```json\n",
      "\"\n",
      "```json\n",
      "\"\n",
      "```json\n",
      "\"\n",
      "```json\n",
      "\"\n",
      "```json\n",
      "\"\n",
      "```json\n",
      "\"\n",
      "```json\n",
      "\"\n",
      "```json\n",
      "\"\n",
      "```json\n",
      "\"\n",
      "```json\n",
      "\"\n",
      "```json\n",
      "\"\n",
      "```json\n",
      "\"\n",
      "```json\n",
      "\"\n",
      "```json\n",
      "\"\n",
      "```json\n",
      "\"\n",
      "```json\n",
      "\"\n",
      "```json\n",
      "\"\n",
      "```json\n",
      "\"\n",
      "```json\n",
      "\"\n",
      "```json\n",
      "\"\n",
      "```json\n",
      "\"\n",
      "```json\n",
      "\"\n",
      "```json\n",
      "\"\n",
      "```json\n",
      "\"\n",
      "```json\n",
      "\"\n",
      "```json\n",
      "\"\n",
      "```json\n",
      "\"\n",
      "```json\n",
      "\"\n",
      "```json\n",
      "\"\n",
      "```json\n",
      "\"\n",
      "```json\n",
      "\"\n",
      "```json\n",
      "\"\n",
      "```json\n",
      "\"\n",
      "```json\n",
      "\n",
      "\n",
      "\"\n",
      "```json\n",
      "\"\n",
      "```json\n",
      "\"\n",
      "```json\n",
      "\"\n",
      "```json\n",
      "\"\n",
      "```json\n",
      "\"\n",
      "```json\n",
      "\"\n",
      "```json\n",
      "\"\n",
      "```json\n",
      "\"\n",
      "```json\n",
      "\"\n",
      "```json\n",
      "\"\n",
      "```json\n",
      "\"\n",
      "```json\n",
      "\"\n",
      "```json\n",
      "\"\n",
      "```json\n",
      "\"\n",
      "```json\n",
      "\"\n",
      "```json\n",
      "\"\n",
      "```json\n",
      "\"\n",
      "```json\n",
      "\"\n",
      "```json\n",
      "\"\n",
      "```json\n",
      "\"\n",
      "```json\n",
      "\"\n",
      "```json\n",
      "\"\n",
      "```json\n",
      "\"\n",
      "```json\n",
      "\"\n",
      "```json\n",
      "\"\n",
      "```json\n",
      "\"\n",
      "```json\n",
      "\"\n",
      "\n",
      "\n",
      "```json\n",
      "\"\n",
      "```json\n",
      "\"\n",
      "```json\n",
      "\n",
      "\n",
      "\"\n",
      "```json\n",
      "\"\n",
      "```json\n",
      "\"\n",
      "```json\n",
      "\"\n",
      "```json\n",
      "\"\n",
      "```json\n",
      "\"\n",
      "```json\n",
      "\"\n",
      "```json\n",
      "\"\n",
      "```json\n",
      "\"\n",
      "```json\n",
      "\"\n",
      "```json\n",
      "\"\n",
      "```json\n",
      "\"\n",
      "```json\n",
      "\"\n",
      "```json\n",
      "\"\n",
      "```json\n",
      "\"\n",
      "```json\n",
      "\"\n",
      "```json\n",
      "\"\n",
      "```json\n",
      "\"\n",
      "```json\n",
      "\"\n",
      "```json\n",
      "\"\n",
      "```json\n",
      "\"\n",
      "```json\n",
      "\"\n",
      "```json\n",
      "\"\n",
      "```json\n",
      "\"\n",
      "```json\n",
      "\"\n",
      "```json\n",
      "\"\n",
      "```json\n",
      "\"\n",
      "```json\n",
      "\"\n",
      "```json\n",
      "\"\n",
      "```json\n",
      "\"\n",
      "```json\n",
      "\"\n",
      "```json\n",
      "\"\n",
      "```json\n",
      "\"\n",
      "```json\n",
      "\"\n",
      "```json\n",
      "\"\n",
      "```json\n",
      "\"\n",
      "```json\n",
      "\"\n",
      "```json\n",
      "\"\n",
      "```json\n",
      "\"\n",
      "```json\n",
      "\"\n",
      "```json\n",
      "\"\n",
      "```json\n",
      "\"\n",
      "```json\n",
      "\"\n",
      "```json\n",
      "\"\n",
      "```json\n",
      "\"\n",
      "```json\n",
      "\"\n",
      "```json\n",
      "\"\n",
      "```json\n",
      "\"\n",
      "```json\n",
      "\"\n",
      "```json\n",
      "\"\n",
      "```json\n",
      "\"\n",
      "```json\n",
      "\"\n",
      "```json\n",
      "\"\n",
      "```json\n",
      "\"\n",
      "```json\n",
      "\"\n",
      "```json\n",
      "\"\n",
      "```json\n",
      "\"\n",
      "```json\n",
      "\"\n",
      "```json\n",
      "\"\n",
      "```json\n",
      "\"\n",
      "```json\n",
      "\"\n",
      "```json\n",
      "\"\n",
      "```json\n",
      "\"\n",
      "```json\n",
      "\"\n",
      "```json\n",
      "\"\n",
      "```json\n",
      "\"\n",
      "```json\n",
      "\"\n",
      "```json\n",
      "\"\n",
      "```json\n",
      "\"\n",
      "```json\n",
      "\"\n",
      "```json\n",
      "\"\n",
      "```json\n",
      "\"\n",
      "```json\n",
      "\"\n",
      "```json\n",
      "\"\n",
      "\n",
      "\"\n",
      "```json\n",
      "\"\n",
      "```json\n",
      "\"\n",
      "```json\n",
      "\"\n",
      "```json\n",
      "\"\n",
      "```json\n",
      "\"\n",
      "```json\n",
      "\"\n",
      "```json\n",
      "\"\n",
      "```json\n",
      "\"\n",
      "```json\n",
      "\"\n",
      "\u001b[0m\n",
      "\n",
      "\u001b[1m> Finished chain.\u001b[0m\n"
     ]
    },
    {
     "data": {
      "text/plain": [
       "{'input': 'whats the weather in new york?',\n",
       " 'output': ' */\\n<tool-use.74\\n```json\\n```json\\n\"\\n```json\\n\"\\n\"\\n```json\\n```json\\n\"\\n```json\\n\"\\n```json\\n\"\\n```json\\n\"\\n```json\\n\"\\n```json\\n\"\\n```json\\n\"\\n```json\\n\"\\n```json\\n\"\\n```json\\n\"\\n```json\\n\"\\n```json\\n\"\\n```json\\n\"\\n```json\\n\"\\n```json\\n\"\\n```json\\n\"\\n```json\\n\"\\n```json\\n\"\\n```json\\n\"\\n```json\\n\"\\n```json\\n\"\\n```json\\n\"\\n```json\\n\"\\n```json\\n\\n\\n\"\\n```json\\n\"\\n\\n\\n \"score\": 12\\n```json\\n\"\\n```json\\n\"\\n```json\\n\"\\n```json\\n\"\\n```json\\n\"\\n```json\\n\"\\n```json\\n\"\\n```json\\n\"\\n```json\\n\"\\n```json\\n\"\\n```json\\n\"\\n```json\\n\"\\n```json\\n\"\\n```json\\n\"\\n```json\\n\"\\n```json\\n\"\\n```json\\n\"\\n```json\\n\"\\n```json\\n\"\\n```json\\n\"\\n```json\\n\"\\n```json\\n\"\\n```json\\n\"\\n```json\\n\"\\n```json\\n\"\\n```json\\n\"\\n```json\\n\"\\n```json\\n\"\\n```json\\n\"\\n```json\\n\"\\n```json\\n\"\\n```json\\n\"\\n```json\\n\"\\n```json\\n\"\\n```json\\n\"\\n```json\\n\"\\n```json\\n\"\\n```json\\n\"\\n```json\\n\"\\n```json\\n\"\\n```json\\n\"\\n```json\\n\"\\n```json\\n\"\\n```json\\n\"\\n```json\\n\"\\n```json\\n\"\\n```json\\n\"\\n```json\\n\"\\n```json\\n\"\\n```json\\n\"\\n```json\\n\"\\n```json\\n\"\\n```json\\n\\n\\n\"\\n```json\\n\"\\n```json\\n\"\\n```json\\n\"\\n```json\\n\"\\n```json\\n\"\\n```json\\n\"\\n```json\\n\"\\n```json\\n\"\\n```json\\n\"\\n```json\\n\"\\n```json\\n\"\\n```json\\n\"\\n```json\\n\"\\n```json\\n\"\\n```json\\n\"\\n```json\\n\"\\n```json\\n\"\\n```json\\n\"\\n```json\\n\"\\n```json\\n\"\\n```json\\n\"\\n```json\\n\"\\n```json\\n\"\\n```json\\n\"\\n```json\\n\"\\n```json\\n\"\\n```json\\n\"\\n\\n\\n```json\\n\"\\n```json\\n\"\\n```json\\n\\n\\n\"\\n```json\\n\"\\n```json\\n\"\\n```json\\n\"\\n```json\\n\"\\n```json\\n\"\\n```json\\n\"\\n```json\\n\"\\n```json\\n\"\\n```json\\n\"\\n```json\\n\"\\n```json\\n\"\\n```json\\n\"\\n```json\\n\"\\n```json\\n\"\\n```json\\n\"\\n```json\\n\"\\n```json\\n\"\\n```json\\n\"\\n```json\\n\"\\n```json\\n\"\\n```json\\n\"\\n```json\\n\"\\n```json\\n\"\\n```json\\n\"\\n```json\\n\"\\n```json\\n\"\\n```json\\n\"\\n```json\\n\"\\n```json\\n\"\\n```json\\n\"\\n```json\\n\"\\n```json\\n\"\\n```json\\n\"\\n```json\\n\"\\n```json\\n\"\\n```json\\n\"\\n```json\\n\"\\n```json\\n\"\\n```json\\n\"\\n```json\\n\"\\n```json\\n\"\\n```json\\n\"\\n```json\\n\"\\n```json\\n\"\\n```json\\n\"\\n```json\\n\"\\n```json\\n\"\\n```json\\n\"\\n```json\\n\"\\n```json\\n\"\\n```json\\n\"\\n```json\\n\"\\n```json\\n\"\\n```json\\n\"\\n```json\\n\"\\n```json\\n\"\\n```json\\n\"\\n```json\\n\"\\n```json\\n\"\\n```json\\n\"\\n```json\\n\"\\n```json\\n\"\\n```json\\n\"\\n```json\\n\"\\n```json\\n\"\\n```json\\n\"\\n```json\\n\"\\n```json\\n\"\\n```json\\n\"\\n```json\\n\"\\n```json\\n\"\\n```json\\n\"\\n```json\\n\"\\n\\n\"\\n```json\\n\"\\n```json\\n\"\\n```json\\n\"\\n```json\\n\"\\n```json\\n\"\\n```json\\n\"\\n```json\\n\"\\n```json\\n\"\\n```json\\n\"\\n'}"
      ]
     },
     "execution_count": 46,
     "metadata": {},
     "output_type": "execute_result"
    }
   ],
   "source": [
    "agent_executor.invoke({\"input\": \"whats the weather in new york?\"})"
   ]
  },
  {
   "cell_type": "code",
   "execution_count": null,
   "id": "e0d16590",
   "metadata": {},
   "outputs": [],
   "source": []
  },
  {
   "cell_type": "code",
   "execution_count": null,
   "id": "36493ad6",
   "metadata": {},
   "outputs": [],
   "source": []
  },
  {
   "cell_type": "markdown",
   "id": "9bb861cb",
   "metadata": {},
   "source": [
    "### Tool Calling Agent\n",
    "A Tool Calling Agent refers to an AI system or framework that dynamically invokes external tools or APIs to accomplish tasks as part of its decision-making process. Instead of relying solely on internal reasoning or knowledge, the agent calls specific tools to perform actions like calculations, searches, or other operations. This type of agent is often used in real-world applications where tasks require interaction with external systems."
   ]
  },
  {
   "cell_type": "code",
   "execution_count": 59,
   "id": "900eec9b",
   "metadata": {},
   "outputs": [
    {
     "data": {
      "text/plain": [
       "[{'title': 'Saturday, June 28, 2025. San Francisco, CA - Weather Forecast',\n",
       "  'url': 'https://weathershogun.com/weather/usa/ca/san-francisco/480/june/2025-06-28',\n",
       "  'content': \"Saturday, June 28, 2025. San Francisco, CA - Weather Forecast \\n\\n===============\\n\\n☰\\n\\nSan Francisco, CA\\n\\nImage 1: WeatherShogun.com\\n\\nHomeContactBrowse StatesPrivacy PolicyTerms and Conditions\\n\\n°F)°C)\\n\\n❮\\n\\nTodayTomorrowHourly7 days30 daysJune\\n\\n❯\\n\\nSan Francisco, California Weather: \\n\\nSaturday, June 28, 2025\\n\\nDay 64°\\n\\nNight 54°\\n\\nPrecipitation 0 %\\n\\nWind 12 mph\\n\\nUV Index (0 - 11+)11\\n\\nSunday\\n\\n   Hourly\\n   Today\\n   Tomorrow\\n   7 days\\n   30 days\\n\\nWeather Forecast History\\n------------------------ [...] Last Year's Weather on This Day (June 28, 2024)\\n\\n### Day\\n\\n72°\\n\\n### Night\\n\\n52°\\n\\nPlease note that while we strive for accuracy, the information provided may not always be correct. Use at your own risk.\\n\\n© Copyright by WeatherShogun.com\",\n",
       "  'score': 0.9435197},\n",
       " {'title': 'Weather San Francisco in June 2025: Temperature & Climate',\n",
       "  'url': 'https://en.climate-data.org/north-america/costa-rica/guanacaste/san-francisco-484220/t/june-6/',\n",
       "  'content': '| 26\\\\. June | 26 °C | 79 °F | 28 °C | 82 °F | 24 °C | 76 °F | 15.0 mm | 0.6 inch. |\\n| 27\\\\. June | 26 °C | 79 °F | 28 °C | 83 °F | 25 °C | 76 °F | 13.0 mm | 0.5 inch. |\\n| 28\\\\. June | 26 °C | 79 °F | 28 °C | 82 °F | 25 °C | 76 °F | 15.0 mm | 0.6 inch. |\\n| 29\\\\. June | 26 °C | 79 °F | 28 °C | 82 °F | 24 °C | 76 °F | 13.9 mm | 0.5 inch. |\\n| 30\\\\. June | 26 °C | 79 °F | 28 °C | 82 °F | 24 °C | 76 °F | 15.3 mm | 0.6 inch. | [...] (81.6) °F\\n\\n | 27.3 °C\\n\\n(81.1) °F\\n\\n | 26.9 °C\\n\\n(80.4) °F\\n\\n | 27.2 °C\\n\\n(80.9) °F\\n\\n | 27.9 °C\\n\\n(82.2) °F\\n\\n |\\n| Precipitation / Rainfall mm (in) | 16\\n\\n(0)\\n\\n | 11\\n\\n(0)\\n\\n | 17\\n\\n(0)\\n\\n | 65\\n\\n(2)\\n\\n | 314\\n\\n(12)\\n\\n | 317\\n\\n(12)\\n\\n | 290\\n\\n(11)\\n\\n | 315\\n\\n(12)\\n\\n | 352\\n\\n(13)\\n\\n | 417\\n\\n(16)\\n\\n | 196\\n\\n(7)\\n\\n | 48\\n\\n(1)',\n",
       "  'score': 0.8737439},\n",
       " {'title': 'Weather in San Francisco in June 2025 - Detailed Forecast',\n",
       "  'url': 'https://www.easeweather.com/north-america/united-states/california/city-and-county-of-san-francisco/san-francisco/june',\n",
       "  'content': '| Jun. 23 | Image 64: Partly cloudy Partly cloudy | 55°/50° | 0 in | 2.2 |  |\\n| Jun. 24 | Image 65: Cloudy Cloudy | 53°/50° | 0 in | 2.2 |  |\\n| Jun. 25 | Image 66: Mist Mist | 55°/50° | 0 in | 2.5 |  |\\n| Jun. 26 | Image 67: Cloudy Cloudy | 62°/51° | 0 in | 2.6 |  |\\n| Jun. 27 | Image 68: Sunny Sunny | 64°/51° | 0 in | 0 |  |\\n| Jun. 28 | Image 69: Sunny Sunny | 64°/53° | 0 in | 4 |  |\\n| Jun. 29 | Image 70: Partly cloudy Partly cloudy | 62°/53° | 0 in | 4 |  | [...] Weather in San Francisco, California for June 2025\\n==================================================\\n\\nYour guide to San Francisco weather in June - trends and predictions\\n\\n### Official Weather Alert ⚠️\\n\\n   Coastal Flood Advisory - See hour by hour.\\n\\n### Temperatures\\n\\n   Until now, June 2025 in San Francisco has been significantly cooler than historical averages by -9.7°F, with average temperature of 55°F. [...] | Jun. 30 | Image 71: Partly cloudy Partly cloudy | 64°/53° | 0 in | 4 |  |\\n| Next |',\n",
       "  'score': 0.8668671},\n",
       " {'title': \"Today's Weather in San Francisco - Hourly Forecast and Conditions\",\n",
       "  'url': 'https://www.easeweather.com/north-america/united-states/california/san-francisco/today',\n",
       "  'content': \"Published Time: Sat, 28 Jun 2025 04:32:34 GMT\\n\\nToday's Weather in San Francisco - Hourly Forecast and Conditions\\n\\n===============\\n\\nImage 1: easeweather.com\\n\\nUnits\\n\\n°C\\n\\n- [x]  \\n\\n°F\\n\\nSan Francisco\\n\\nForecastTodayTomorrow\\n\\nMore destinations\\n\\nCaliforniaUnited States\\n\\nSearch for a location\\n\\nSearch\\n\\nForecastJuneJulyTodayTomorrowHistoryWebcam\\n\\nSan Francisco (CA) [...] Image 2: United States weather\\n\\nToday\\n\\nToday\\n\\nTomorrowSunday, Jun. 29Monday, Jun. 30Tuesday, Jul. 1Wednesday, Jul. 2Thursday, Jul. 3Friday, Jul. 4Saturday, Jul. 5Sunday, Jul. 6Monday, Jul. 7Tuesday, Jul. 8Wednesday, Jul. 9Thursday, Jul. 10\\n\\nToday weather in San Francisco\\n==============================\\n\\nFriday, June 27th, 2025\\n\\nImage 3: Partly cloudy\\n\\n15°\\n\\nPartly cloudy\\n\\nSubscribe for notifications\",\n",
       "  'score': 0.8593928},\n",
       " {'title': 'Weather San Francisco in June 2025: Temperature & Climate',\n",
       "  'url': 'https://en.climate-data.org/north-america/united-states-of-america/california/san-francisco-385/t/june-6/',\n",
       "  'content': \"| 24. June | 16 °C | 61 °F | 22 °C | 71 °F | 12 °C | 54 °F | 12 °C | 54 °F | 0.1 mm | 0.0 inch. |\\n| 25. June | 16 °C | 61 °F | 22 °C | 71 °F | 12 °C | 54 °F | 12 °C | 54 °F | 0.1 mm | 0.0 inch. |\\n| 26. June | 16 °C | 61 °F | 22 °C | 72 °F | 12 °C | 54 °F | 13 °C | 55 °F | 0.1 mm | 0.0 inch. |\\n| 27. June | 16 °C | 61 °F | 22 °C | 71 °F | 12 °C | 54 °F | 13 °C | 55 °F | 0.1 mm | 0.0 inch. |\\n| 28. June | 16 °C | 62 °F | 22 °C | 71 °F | 13 °C | 55 °F | 13 °C | 55 °F | 0.2 mm | 0.0 inch. | [...] June is an excellent time to visit San Francisco, offering mild weather and less fog compared to the summer months. The temperatures are comfortable, typically ranging from the mid-50s to low 70s Fahrenheit, making it ideal for exploring the city's numerous attractions. During your visit, don't miss the iconic Golden Gate Bridge; its majestic presence is a must-see. Another highlight is Alcatraz Island, where you can tour the infamous former prison and learn about its fascinating history. [...] | Min. Temperature °C (°F) | 6.2 °C (43.2) °F | 7.1 °C (44.8) °F | 8.2 °C (46.8) °F | 8.9 °C (48.1) °F | 10.3 °C (50.6) °F | 11.8 °C (53.3) °F | 12.7 °C (54.9) °F | 13.3 °C (55.9) °F | 13.1 °C (55.6) °F | 11.9 °C (53.4) °F | 9 °C (48.2) °F | 6.8 °C (44.2) °F |\",\n",
       "  'score': 0.852752}]"
      ]
     },
     "execution_count": 59,
     "metadata": {},
     "output_type": "execute_result"
    }
   ],
   "source": [
    "from langchain_community.tools import TavilySearchResults\n",
    "search = TavilySearchResults()\n",
    "search.invoke(\"What is the weather in SF?\")"
   ]
  },
  {
   "cell_type": "code",
   "execution_count": 73,
   "id": "3f485115",
   "metadata": {},
   "outputs": [],
   "source": [
    "tool = [search]\n",
    "\n",
    "from langchain import hub\n",
    "prompt=hub.pull(\"hwchase17/openai-functions-agent\")"
   ]
  },
  {
   "cell_type": "code",
   "execution_count": 74,
   "id": "745ba468",
   "metadata": {},
   "outputs": [
    {
     "data": {
      "text/plain": [
       "[SystemMessagePromptTemplate(prompt=PromptTemplate(input_variables=[], input_types={}, partial_variables={}, template='You are a helpful assistant'), additional_kwargs={}),\n",
       " MessagesPlaceholder(variable_name='chat_history', optional=True),\n",
       " HumanMessagePromptTemplate(prompt=PromptTemplate(input_variables=['input'], input_types={}, partial_variables={}, template='{input}'), additional_kwargs={}),\n",
       " MessagesPlaceholder(variable_name='agent_scratchpad')]"
      ]
     },
     "execution_count": 74,
     "metadata": {},
     "output_type": "execute_result"
    }
   ],
   "source": [
    "prompt.messages"
   ]
  },
  {
   "cell_type": "markdown",
   "id": "df77b985",
   "metadata": {},
   "source": [
    "### agent_scratchpad: \n",
    "The agent does not call a tool just once to get the desired answer, but has a structure that calls tools repeatedly until the desired answer is obtained. Each time you call a tool, what the previous call was like, information about the previous call, and the result are stored in this field.\n",
    "\n"
   ]
  },
  {
   "cell_type": "code",
   "execution_count": 75,
   "id": "05d48baf",
   "metadata": {},
   "outputs": [],
   "source": [
    "from langchain_groq import ChatGroq\n",
    "llm=ChatGroq(model_name=\"Gemma2-9b-It\")\n",
    "\n",
    "from langchain.agents import create_tool_calling_agent\n",
    "agent = create_tool_calling_agent(llm, tool, prompt)"
   ]
  },
  {
   "cell_type": "code",
   "execution_count": 79,
   "id": "9164f989",
   "metadata": {},
   "outputs": [],
   "source": [
    "from langchain.agents import AgentExecutor\n",
    "agent_executor = AgentExecutor(agent=agent, tools=tool, verbose=True)"
   ]
  },
  {
   "cell_type": "code",
   "execution_count": 80,
   "id": "2505d8b7",
   "metadata": {},
   "outputs": [
    {
     "name": "stdout",
     "output_type": "stream",
     "text": [
      "\n",
      "\n",
      "\u001b[1m> Entering new AgentExecutor chain...\u001b[0m\n",
      "\u001b[32;1m\u001b[1;3m\n",
      "Invoking: `tavily_search_results_json` with `{'query': 'how are you doing'}`\n",
      "\n",
      "\n",
      "\u001b[0m\u001b[36;1m\u001b[1;3m[{'title': '“How Are You Doing?” & “How Are You?”: Meaning, Usage & More', 'url': 'https://www.wikihow.com/How-Are-You-Doing', 'content': '“How are you doing?” is a popular casual expression used by English speakers to ask how another person is feeling or dealing with a specific situation. This question is often confused with the phrase “How are you?” which is more commonly used as an informal greeting. While “How are you doing?” often needs a detailed, direct answer, “How are you?” just requires a short positive description. Keep reading to learn what these effective conversation starters mean, how they’re used, how to reply to [...] ## “How Are You Doing?” vs. “How Are You?”\\n\\n“How are you doing?” is a casual question that asks for a longer, more detailed answer about the other person’s emotions or their general well-being. “How are you?” is a polite informal greeting that only asks for a short positive response like “good,” “not bad,” or “I’m doing well.”\\n\\n## Steps\\n\\n### What does “How are you doing?” mean?\\n\\nPDF download\\n“How are you doing?” is a casual question about someone’s well-being.', 'score': 0.8638634}, {'title': 'How Are You Doing? Meaning & How to Answer - dotefl.com', 'url': 'https://www.dotefl.com/how-are-you-doing/', 'content': 'This guide will help you understand the meaning of “How are you doing?”, when to use it, how to reply naturally, and what to avoid.\\n\\n## What Does “How Are You Doing?” Mean?\\n\\nThe phrase “How are you doing?” is a friendly question. It usually means “How are you?” or “How’s everything going?”\\n\\nIt’s informal, polite, and commonly used in American English. It can express concern, friendliness, or simply serve as a conversation starter.\\n\\n### 1. It Can Be a Polite Greeting [...] Be friendly, read the context, and use the reply that feels most natural. Whether you’re catching up with a friend, flirting, or making small talk, you’re ready to handle the question smoothly.\\n\\nNext time someone asks, “How are you doing?” you won’t hesitate, you’ll have the perfect reply ready.\\n\\nFounder of DoTEFL, James has been helping people teach English abroad and online since 2011. [...] Context helps you figure out how serious the question is.\\n\\nRead the situation and adjust your answer accordingly.\\n\\n## How to Answer “How Are You Doing?”\\n\\nThere’s no single right answer. Your reply depends on your mood, relationship, and how much you want to share.\\n\\n### 1. Standard, Casual Replies\\n\\nThese are short and polite. Use them when you want to keep things simple.\\n\\nThese replies work best in professional or casual situations.\\n\\n### 2. Honest, Detailed Replies', 'score': 0.82728493}, {'title': 'The Subtle Art of Greetings: Understanding \"How Are You?\" and \"How Are ...', 'url': 'https://englishproblems.com/how-are-you-vs-how-are-you-doing/', 'content': 'Understanding the Phrases: \"How Are You?\" vs. \"How Are You Doing?\" Definitions and Differences \"How are you?\" is a classic greeting used to inquire about someone\\'s well-being. It\\'s often perceived as more formal and polite. On the other hand, \"How are you doing?\" is a slightly more casual and conversational variant.', 'score': 0.8215175}, {'title': 'What does “How are you doing?” mean, and what is the correct ...', 'url': 'https://www.quora.com/What-does-How-are-you-doing-mean-and-what-is-the-correct-response', 'content': \"“How are you doing?” is a ritual formula that is said when greeting someone. Ostensibly, it's a question about health or well-being, but a\", 'score': 0.82082915}, {'title': \"What do you mean by 'How are you doing' and what's the proper ...\", 'url': 'https://www.reddit.com/r/ENGLISH/comments/1k7eb93/what_do_you_mean_by_how_are_you_doing_and_whats/', 'content': 'How are you/how are you doing means hello, unless there is other context. Treat it as a casual greeting nothing more. Many languages have this,', 'score': 0.8170061}]\u001b[0m\u001b[32;1m\u001b[1;3m\n",
      "Invoking: `tavily_search_results_json` with `{'query': 'How are you doing?'}`\n",
      "\n",
      "\n",
      "\u001b[0m\u001b[36;1m\u001b[1;3m[{'title': '“How Are You Doing?” & “How Are You?”: Meaning, Usage & More', 'url': 'https://www.wikihow.com/How-Are-You-Doing', 'content': '“How are you doing?” is a popular casual expression used by English speakers to ask how another person is feeling or dealing with a specific situation. This question is often confused with the phrase “How are you?” which is more commonly used as an informal greeting. While “How are you doing?” often needs a detailed, direct answer, “How are you?” just requires a short positive description. Keep reading to learn what these effective conversation starters mean, how they’re used, how to reply to [...] ## “How Are You Doing?” vs. “How Are You?”\\n\\n“How are you doing?” is a casual question that asks for a longer, more detailed answer about the other person’s emotions or their general well-being. “How are you?” is a polite informal greeting that only asks for a short positive response like “good,” “not bad,” or “I’m doing well.”\\n\\n## Steps\\n\\n### What does “How are you doing?” mean?\\n\\nPDF download\\n“How are you doing?” is a casual question about someone’s well-being. [...] This article was reviewed by Tami Claytor and by wikiHow staff writer, Cheyenne Main. Tami Claytor is an Etiquette Coach, Image Consultant, and the Owner of Always Appropriate Image and Etiquette Consulting in New York, New York. With over 20 years of experience, Tami specializes in teaching etiquette classes to individuals, students, companies, and community organizations. Tami has spent decades studying cultures through her extensive travels across five continents and has created cultural', 'score': 0.91023487}, {'title': 'What does “How are you doing?” mean, and what is the correct ...', 'url': 'https://www.quora.com/What-does-How-are-you-doing-mean-and-what-is-the-correct-response', 'content': \"“How are you doing?” is a ritual formula that is said when greeting someone. Ostensibly, it's a question about health or well-being, but a\", 'score': 0.8755427}, {'title': 'What Is the Difference Between \"How Are You?\" and \"How ... - Readle', 'url': 'https://readle-app.com/en/blog/what-is-the-difference-between-how-are-you-and-how-are-you-doing/', 'content': '\"How are you?\" is a more personalized expression that focuses specifically on a person\\'s condition — their mood, state of health, or general well-being.\\n\\nIt is also a more formal form than \"How are you doing?\" and is usually used when speaking to a person you\\'ve met for the first time or someone you aren\\'t particularly close with. [...] Thus, while \"How are you?\" can be considered a bland greeting for someone you haven\\'t seen for a while, \"How are you doing?\" spoken in full (as opposed to being shortened to \"Howyadoin?\") may be an actual inquiry - for example, when you\\'re meeting with an old friend. The latter usually occurs when there is some expectation that the subject might not be doing well. [...] While \"How are you?\" asks for a statement of a person\\'s condition, \"How are you doing?\" asks for a more detailed answer. This is a more casual form of greeting that can also mean \"How’s it going?\", \"How\\'s your day been so far?\" — aimed to find out how things are in general or whether everything is fine.\\n\\nAccording to a forum discussion at English Language & Usage Stack Exchange, the difference may also vary depending on the region.', 'score': 0.8571119}, {'title': \"What do you mean by 'How are you doing' and what's the proper ...\", 'url': 'https://www.reddit.com/r/ENGLISH/comments/1k7eb93/what_do_you_mean_by_how_are_you_doing_and_whats/', 'content': 'How are you/how are you doing means hello, unless there is other context. Treat it as a casual greeting nothing more. Many languages have this', 'score': 0.84707206}, {'title': 'How to Respond to \"How Are You Doing?\" (With Examples) - HowChimp', 'url': 'https://howchimp.com/how-to-respond-to-how-are-you/', 'content': 'When we’re asked, “How are you?” we usually respond with “I’m fine,” “I’m good,” or “I’m doing alright,” even though we’re not.\\n\\nPeople tend to do or say this because they sometimes don’t want to burden people with their problems, so when you’re asked “How are you?” you can reply with something positive, and you can either return the question or end the conversation with an: “I’m fine, thank you.” [...] “How are you?” is a question people often ask whether you know the person or not. This phrase can be used as asking someone about their health. But usually, it’s used as a simple, friendly greeting. “How are you?” is also another way to say hello to someone. [...] There are hundreds of responses to “How are you?” This is because it’s also a greeting like saying “Hi” or “Hello.” Your response depends on your relationship with the person. If you don’t know the person, how you respond depends on whether you are interested in chatting with them or not.\\n\\nOne way to respond to the question “How are you?” is replying with one or two positive words, thanking them for asking, and asking them the same question.', 'score': 0.84246206}]\u001b[0m\u001b[32;1m\u001b[1;3mI am doing well, thank you for asking.  How are you?\u001b[0m\n",
      "\n",
      "\u001b[1m> Finished chain.\u001b[0m\n"
     ]
    },
    {
     "data": {
      "text/plain": [
       "{'input': 'hello how are you doing ?',\n",
       " 'output': 'I am doing well, thank you for asking.  How are you?'}"
      ]
     },
     "execution_count": 80,
     "metadata": {},
     "output_type": "execute_result"
    }
   ],
   "source": [
    "agent_executor.invoke({\"input\": \"hello how are you doing ?\"})"
   ]
  },
  {
   "cell_type": "code",
   "execution_count": 82,
   "id": "298e40f2",
   "metadata": {},
   "outputs": [
    {
     "name": "stdout",
     "output_type": "stream",
     "text": [
      "\n",
      "\n",
      "\u001b[1m> Entering new AgentExecutor chain...\u001b[0m\n",
      "\u001b[32;1m\u001b[1;3m\n",
      "Invoking: `tavily_search_results_json` with `{'query': 'weather in Nairobi'}`\n",
      "\n",
      "\n",
      "\u001b[0m\u001b[36;1m\u001b[1;3m[{'title': 'Weather Nairobi in June 2025: Temperature & Climate', 'url': 'https://en.climate-data.org/africa/kenya/nairobi/nairobi-541/t/june-6/', 'content': 'Weather Nairobi ; 28. June, Scattered clouds, 25 °C 77 °F · 15 °C 59 °F · 20 % ; 29. June, Overcast clouds, 18 °C 64.4 °F · 13 °C 55.4 °F · 10 %', 'score': 0.9418739}, {'title': 'Weather in Nairobi Area in June 2025 - Detailed Forecast', 'url': 'https://www.easeweather.com/africa/kenya/nairobi-area/june', 'content': 'Discover the most accurate weather forecast for Nairobi Area in June 2025 ... 28 Jun. Patchy rain possible. 22° /14°, 0.5 mm, 1.7. 29 Jun', 'score': 0.935964}, {'title': 'Nairobi weather in June 2025 | Kenya: How hot? - Weather2Travel.com', 'url': 'https://www.weather2travel.com/kenya/nairobi/june/', 'content': 'Nairobi weather in June 2025 Expect daytime maximum temperatures of 22°C in Nairobi, Kenya in June based on long-term weather averages. There are 5 hours of sunshine per day on average with typically 42 mm of rainfall in the month.', 'score': 0.8430832}, {'title': 'Nairobi weather in June 2025 - Weather25.com', 'url': 'https://www.weather25.com/africa/kenya/nairobi-area/nairobi?page=month&month=June', 'content': '| Sun | Mon | Tue | Wed | Thu | Fri | Sat |\\n| --- | --- | --- | --- | --- | --- | --- |\\n| 1 Image 28: Patchy rain possible 24°/13° | 2 Image 29: Patchy rain possible 23°/14° | 3 Image 30: Cloudy 24°/13° | 4 Image 31: Patchy rain possible 23°/13° | 5 Image 32: Partly cloudy 24°/13° | 6 Image 33: Patchy rain possible 23°/13° | 7 Image 34: Light rain shower 24°/13° | [...] The average weather in Nairobi in June\\n--------------------------------------\\n\\nThe temperatures in Nairobi in June are comfortable with low of 14°C and and high up to 23°C.\\n\\nYou can expect about 3 to 8 days of rain in Nairobi during the month of June. It’s a good idea to bring along your umbrella so that you don’t get caught in poor weather.\\n\\nOur weather forecast can give you a great sense of what weather to expect in Nairobi in June 2025. [...] | 22 Image 49: Patchy rain possible 20°/14° | 23 Image 50: Patchy rain possible 21°/13° | 24 Image 51: Patchy light rain 22°/13° | 25 Image 52: Light rain shower 22°/13° | 26 Image 53: Patchy rain possible 23°/13° | 27 Image 54: Partly cloudy 23°/12° | 28 Image 55: Patchy rain possible 22°/12° |\\n| 29 Image 56: Cloudy 21°/12° | 30 Image 57: Patchy rain possible 21°/13° |  |  |  |  |  |', 'score': 0.8266142}, {'title': 'June 2025 Weather History at Nairobi / Wilson Kenya', 'url': 'https://weatherspark.com/h/m/148712/2025/6/Historical-Weather-in-June-2025-at-Nairobi-Wilson-Kenya', 'content': 'Today Yesterday Jun 2025    1960197019801990200020102020    2016201720182019202020212022202320242025    Spring SummerFallWinter JanFebMarAprMayJunJul Aug Sep Oct Nov Dec    123456789101112131415161718192021 22 23 24 25 26 27 28 29 30 June 2025 Weather History at Nairobi / Wilson Kenya =================================================== Latest Report — 5:00 PM ----------------------- Fri, Jun 20, 2025 2 hr, 1 min ago UTC 14:00 Call Sign HKNW Temp. 59°F cool Dew Pt.57°F comfortable Rel. Humidity [...] | | 6 | | 82% | - | 2:33 AM | W | 2:51 PM | E | 9:02 PM | S | 251,849 mi | | 7 | | 89% | - | 3:14 AM | WSW | 3:32 PM | ESE | 9:44 PM | S | 251,965 mi | | 8 | | 94% | - | 3:57 AM | WSW | 4:16 PM | ESE | 10:28 PM | S | 251,477 mi | | 9 | | 98% | - | 4:43 AM | WSW | 5:02 PM | ESE | 11:16 PM | S | 250,483 mi | | 10 | | 99% | - | 5:32 AM | WSW | 5:52 PM | ESE | - | - | | 11 | | 100% | - | 6:24 AM | WSW | 6:45 PM | ESE | 12:07 AM | S | 249,084 mi | | 12 | | 100% | - | 7:18 AM | WSW | 7:39 PM | ESE | [...] 94% Precipitation No Report Wind 0.0 mph calm Cloud Cover Mostly Cloudy 1,900 ft Mostly Clear 1,800 ft Mostly Cloudy 8,000 ft Vis.4.97 mi Alt.30.27 inHg Raw: HKNW 201400Z 00000KT 8000 -TSRA FEW018CB BKN019 BKN080 15/14 Q1025 This report shows the past weather for Nairobi / Wilson, providing a weather history for June 2025. It features all historical weather data series we have available, including the Nairobi / Wilson temperature history for June 2025. You can drill down from year to month and', 'score': 0.81489426}]\u001b[0m\u001b[32;1m\u001b[1;3mThe average weather in Nairobi in June is comfortable with a low of 14°C and high up to 23°C. You can expect about 3 to 8 days of rain in Nairobi during June.  \u001b[0m\n",
      "\n",
      "\u001b[1m> Finished chain.\u001b[0m\n"
     ]
    },
    {
     "data": {
      "text/plain": [
       "{'input': 'What is the weather in Nairobi?',\n",
       " 'output': 'The average weather in Nairobi in June is comfortable with a low of 14°C and high up to 23°C. You can expect about 3 to 8 days of rain in Nairobi during June.  '}"
      ]
     },
     "execution_count": 82,
     "metadata": {},
     "output_type": "execute_result"
    }
   ],
   "source": [
    "agent_executor.invoke({'input': \"What is the weather in Nairobi?\"})"
   ]
  },
  {
   "cell_type": "code",
   "execution_count": null,
   "id": "9f8b28b6",
   "metadata": {},
   "outputs": [],
   "source": []
  },
  {
   "cell_type": "markdown",
   "id": "477ccc0c",
   "metadata": {},
   "source": [
    "#### 1. RAG Tool\n",
    "#### 2. ReAct\n",
    "#### 3. Custom toll with ReAct\n",
    "#### 4. Agent code from latest versions"
   ]
  },
  {
   "cell_type": "code",
   "execution_count": 85,
   "id": "faf5043f",
   "metadata": {},
   "outputs": [
    {
     "data": {
      "text/plain": [
       "[Document(metadata={'source': 'https://blog.langchain.dev/langgraph-studio-the-first-agent-ide/', 'title': 'LangGraph Studio: The first agent IDE', 'description': 'LangGraph Studio provides a specialized agent IDE for visualizing, interacting with, and debugging complex agentic applications. See how to use it on your desktop today.', 'language': 'en'}, page_content=\"\\n\\n\\nLangGraph Studio: The first agent IDE\\n\\n\\n\\n\\n\\n\\n\\n\\n\\n\\n\\n\\n\\n\\n\\n\\n\\n\\n\\n\\n\\n\\n\\n\\n\\n\\n\\n\\n\\n\\n\\n\\n\\n\\n\\n\\n\\n\\n\\n\\n\\n\\n\\n\\n\\n\\n\\n\\n\\n\\n\\nSkip to content\\n\\n\\n\\n\\n\\n\\n\\n\\n\\n\\n\\n\\n\\n\\n\\n\\nCase Studies\\n\\n\\n\\n\\nIn the Loop\\n\\n\\n\\n\\nLangChain\\n\\n\\n\\n\\nDocs\\n\\n\\n\\n\\nChangelog\\n\\n\\n\\n\\n\\nSign in\\nSubscribe\\n\\n\\n\\n\\n\\n\\n\\n\\n\\n\\n\\n\\n\\n\\n\\n\\n\\n\\n\\nLangGraph Studio: The first agent IDE\\nLangGraph Studio provides a specialized agent IDE for visualizing, interacting with, and debugging complex agentic applications. See how to use it on your desktop today.\\n\\n4 min read\\nAug 1, 2024\\n\\n\\n\\n\\n\\nLLMs have paved the way for the development of new types of agentic applications — and as LLM applications evolve, so must the tooling needed to efficiently develop them. Today, we're announcing LangGraph Studio - the first IDE designed specifically for agent development - in open beta.LangGraph Studio offers a new way to develop LLM applications, providing a specialized agent IDE for visualizing, interacting with, and debugging complex agentic applications. In this blog, we'll give a brief overview of LangGraph and then explore how LangGraph Studio streamlines the development of agentic applications.LangGraph: Balancing agent control with agency  In January 2023, we launched LangGraph, a highly controllable, low-level orchestration framework for building agentic applications. Since then, we've seen  teams build more complex agentic applications for production; in turn, we've heavily invested in LangGraph, leading to a stable 0.1 release this past June.LangGraph features a persistence layer that enables human-in-the-loop interactions, and it excels at building complex (i.e. more than a single LLM call) applications that require highly domain-specific cognitive architecture. Most of the agents we see in production fit this description.LangGraph is fully open source, available in both Python and Javascript. It works with or without LangChain, and integrates seamlessly with LangSmith.LangGraph Studio: Visualize and interact with agent graphs for quick iterationWhile LangGraph offers a new framework for developing agentic applications, we also strongly believe that new tooling is needed to make the development process easier. Building LLM applications differs from traditional software development, requiring different tooling outside of the traditional code editor.Coding is still important to developing LLM applications — after all, production-ready LangGraph applications have complicated custom logic in the nodes and edges of the graphs that are created. We don't aim to replace code editors but, instead, to augment the development experience with tools tailored for LangGraph applications. LangGraph Studio facilitates this by making it easy to visualize and interact with agent graphs, even if development still primarily happens in code. Visualizing graphs helps developers understand their structure. Furthermore, you can modify an agent result (or the logic underlying a specific node) halfway through the agent's trajectory. This creates an iterative process, by letting you interact with and manipulate the state at that point in time.While there is much more to explore, we're excited to introduce LangGraph Studio to start with bringing some of the core features of an agent IDE to the world.How to use LangGraph StudioLangGraph Studio is a desktop app, currently available for Apple Silicon. You can download a version here. Support for more platforms is coming soon.After you download and open LangGraph Studio, you will be prompted to log in with your LangSmith account. All users of LangSmith (including those with free accounts) currently have access to LangGraph Studio while it is in beta. You can sign up for a LangSmith account here.After downloading LangSmith, you can open a directory. At a bare minimum, this directory needs to contain a Python file with a graph defined in it. Next, you will need to create a langgraph.json file containing details such as where the agent is defined, which dependencies to install, and which environment variables to load. This file can be created in the UI, or can exist as a file in the directory already. For an example repository which meets these requirements, see this GitHub repo.After you open a directory, we will build an environment for you agent to run. After it builds, you should see a visualization of the graph along with a box for interacting with the agent.When you interact with the agent, you'll get a stream of real-time information about what steps are happening. You can see the agent decide which tools to call, call those tools, and then continue looping. You can interrupt the agent at any time if veers off course, or you can interrupt the agent to run it in a “debug mode” where it pauses after each step of the graph (so you can walk-through step by step).\\n\\n\\n\\n\\n\\n\\n\\n\\n\\n\\n\\n\\n\\n\\n\\n\\n\\n\\n\\n\\n\\n\\n0:00\\n\\n                            /0:19\\n\\n\\n1×\\n\\n\\n\\n\\n\\n\\n\\n\\n\\n\\n\\n\\n\\n\\n💡At any point, you can interact with the state of the agent.If you don’t like what the agent responded with at a specific step, you can directly modify the response and then continue with that new response. This can be useful for simulating what would have happened if the agent or a tool returned something different.\\n\\n\\n\\n\\n\\n\\n\\n\\n\\n\\n\\n\\n\\n\\n\\n\\n\\n\\n\\n\\n\\n\\n0:00\\n\\n                            /0:14\\n\\n\\n1×\\n\\n\\n\\n\\n\\n\\n\\n\\n\\n\\n\\n\\n\\n\\nYou can also modify the underlying code and then replay the node. LangGraph Studio detects changes to the underlying code files, allowing you to update prompts in your code editor and rerun nodes if an agent responds poorly. This can make it much easier to iterate on long-running agents.\\n\\n\\n\\n\\n\\n\\n\\n\\n\\n\\n\\n\\n\\n\\n\\n\\n\\n\\n\\n\\n\\n\\n0:00\\n\\n                            /0:20\\n\\n\\n1×\\n\\n\\n\\n\\n\\n\\n\\n\\n\\n\\n\\n\\n\\n\\nConclusionBuilding agentic applications differs from traditional software development. While code editors remain important, new IDEs designed for agents are also needed. LangGraph Studio is a step in this direction, and we're excited to see how it enhances your workflow.For more on LangGraph Studio, check out our documentation. You can also watch a video walkthrough on YouTube if that's more your style. You can\\xa0sign up for LangSmith\\xa0today to try out LangGraph Studio for free.We'd also love your feedback - drop us a line at hello@langchain.dev or on Twitter to share your thoughts.\\n\\n\\nJoin our newsletter\\nUpdates from the LangChain team and community\\n\\n\\nEnter your email\\n\\nSubscribe\\n\\nProcessing your application...\\nSuccess! Please check your inbox and click the link to confirm your subscription.\\nSorry, something went wrong. Please try again.\\n\\n\\n\\n\\n\\n\\n\\n\\n\\n\\n\\n\\n\\nSign up\\n\\n\\n\\n\\n\\n            © LangChain Blog 2025\\n        \\n\\n\\n\\n\\n\\n\\n\\n\\n\\n\")]"
      ]
     },
     "execution_count": 85,
     "metadata": {},
     "output_type": "execute_result"
    }
   ],
   "source": [
    "from langchain_community.document_loaders import WebBaseLoader\n",
    "from langchain_community.vectorstores import FAISS\n",
    "from langchain_text_splitters import RecursiveCharacterTextSplitter\n",
    "\n",
    "loader = WebBaseLoader(\"https://blog.langchain.dev/langgraph-studio-the-first-agent-ide/\")\n",
    "docs = loader.load()\n",
    "docs"
   ]
  },
  {
   "cell_type": "code",
   "execution_count": 86,
   "id": "c7b1e9b2",
   "metadata": {},
   "outputs": [],
   "source": [
    "documents = RecursiveCharacterTextSplitter(\n",
    "    chunk_size = 1000,\n",
    "    chunk_overlap = 200\n",
    ").split_documents(docs)"
   ]
  },
  {
   "cell_type": "code",
   "execution_count": 92,
   "metadata": {},
   "outputs": [
    {
     "data": {
      "text/plain": [
       "Document(id='e26fca3b-b9d9-41d6-8594-b5da4dbc2932', metadata={'source': 'https://blog.langchain.dev/langgraph-studio-the-first-agent-ide/', 'title': 'LangGraph Studio: The first agent IDE', 'description': 'LangGraph Studio provides a specialized agent IDE for visualizing, interacting with, and debugging complex agentic applications. See how to use it on your desktop today.', 'language': 'en'}, page_content=\"0:00\\n\\n                            /0:20\\n\\n\\n1×\\n\\n\\n\\n\\n\\n\\n\\n\\n\\n\\n\\n\\n\\n\\nConclusionBuilding agentic applications differs from traditional software development. While code editors remain important, new IDEs designed for agents are also needed. LangGraph Studio is a step in this direction, and we're excited to see how it enhances your workflow.For more on LangGraph Studio, check out our documentation. You can also watch a video walkthrough on YouTube if that's more your style. You can\\xa0sign up for LangSmith\\xa0today to try out LangGraph Studio for free.We'd also love your feedback - drop us a line at hello@langchain.dev or on Twitter to share your thoughts.\\n\\n\\nJoin our newsletter\\nUpdates from the LangChain team and community\\n\\n\\nEnter your email\\n\\nSubscribe\\n\\nProcessing your application...\\nSuccess! Please check your inbox and click the link to confirm your subscription.\\nSorry, something went wrong. Please try again.\\n\\n\\n\\n\\n\\n\\n\\n\\n\\n\\n\\n\\n\\nSign up\\n\\n\\n\\n\\n\\n            © LangChain Blog 2025\")"
      ]
     },
     "execution_count": 92,
     "metadata": {},
     "output_type": "execute_result"
    }
   ],
   "source": [
    "vector_db = FAISS.from_documents(documents, embeddings)\n",
    "retriver = vector_db.as_retriever()\n",
    "retriver.invoke(\"What is langgraph studion?\")[0]"
   ]
  },
  {
   "cell_type": "code",
   "execution_count": 95,
   "id": "bf4744ce",
   "metadata": {},
   "outputs": [],
   "source": [
    "from langchain.tools.retriever import create_retriever_tool\n",
    "retriver_tool = create_retriever_tool(\n",
    "    retriver,\n",
    "    \"langgraph_studio_search\",\n",
    "    \"Search for information about LangGraph, For any uestions about langGraph, you may use ythis tool!\"\n",
    ")"
   ]
  },
  {
   "cell_type": "code",
   "execution_count": 96,
   "id": "b3093802",
   "metadata": {},
   "outputs": [],
   "source": [
    "tool = [search, retriver_tool]\n",
    "\n",
    "from langchain.agents import create_tool_calling_agent\n",
    "agent = create_tool_calling_agent(llm, tool, prompt)"
   ]
  },
  {
   "cell_type": "code",
   "execution_count": 97,
   "id": "5b05478f",
   "metadata": {},
   "outputs": [],
   "source": [
    "from langchain.agents import AgentExecutor\n",
    "agent_executor = AgentExecutor(agent=agent, tools=tool, verbose = True)"
   ]
  },
  {
   "cell_type": "code",
   "execution_count": 98,
   "id": "af87b633",
   "metadata": {},
   "outputs": [
    {
     "name": "stdout",
     "output_type": "stream",
     "text": [
      "\n",
      "\n",
      "\u001b[1m> Entering new AgentExecutor chain...\u001b[0m\n",
      "\u001b[32;1m\u001b[1;3m\n",
      "Invoking: `langgraph_studio_search` with `{'query': 'what is LangGraph studio and how to use it'}`\n",
      "\n",
      "\n",
      "\u001b[0m\u001b[33;1m\u001b[1;3m0:00\n",
      "\n",
      "                            /0:20\n",
      "\n",
      "\n",
      "1×\n",
      "\n",
      "\n",
      "\n",
      "\n",
      "\n",
      "\n",
      "\n",
      "\n",
      "\n",
      "\n",
      "\n",
      "\n",
      "\n",
      "\n",
      "ConclusionBuilding agentic applications differs from traditional software development. While code editors remain important, new IDEs designed for agents are also needed. LangGraph Studio is a step in this direction, and we're excited to see how it enhances your workflow.For more on LangGraph Studio, check out our documentation. You can also watch a video walkthrough on YouTube if that's more your style. You can sign up for LangSmith today to try out LangGraph Studio for free.We'd also love your feedback - drop us a line at hello@langchain.dev or on Twitter to share your thoughts.\n",
      "\n",
      "\n",
      "Join our newsletter\n",
      "Updates from the LangChain team and community\n",
      "\n",
      "\n",
      "Enter your email\n",
      "\n",
      "Subscribe\n",
      "\n",
      "Processing your application...\n",
      "Success! Please check your inbox and click the link to confirm your subscription.\n",
      "Sorry, something went wrong. Please try again.\n",
      "\n",
      "\n",
      "\n",
      "\n",
      "\n",
      "\n",
      "\n",
      "\n",
      "\n",
      "\n",
      "\n",
      "\n",
      "\n",
      "Sign up\n",
      "\n",
      "\n",
      "\n",
      "\n",
      "\n",
      "            © LangChain Blog 2025\n",
      "\n",
      "a specific node) halfway through the agent's trajectory. This creates an iterative process, by letting you interact with and manipulate the state at that point in time.While there is much more to explore, we're excited to introduce LangGraph Studio to start with bringing some of the core features of an agent IDE to the world.How to use LangGraph StudioLangGraph Studio is a desktop app, currently available for Apple Silicon. You can download a version here. Support for more platforms is coming soon.After you download and open LangGraph Studio, you will be prompted to log in with your LangSmith account. All users of LangSmith (including those with free accounts) currently have access to LangGraph Studio while it is in beta. You can sign up for a LangSmith account here.After downloading LangSmith, you can open a directory. At a bare minimum, this directory needs to contain a Python file with a graph defined in it. Next, you will need to create a langgraph.json file containing details\n",
      "\n",
      "is needed to make the development process easier. Building LLM applications differs from traditional software development, requiring different tooling outside of the traditional code editor.Coding is still important to developing LLM applications — after all, production-ready LangGraph applications have complicated custom logic in the nodes and edges of the graphs that are created. We don't aim to replace code editors but, instead, to augment the development experience with tools tailored for LangGraph applications. LangGraph Studio facilitates this by making it easy to visualize and interact with agent graphs, even if development still primarily happens in code. Visualizing graphs helps developers understand their structure. Furthermore, you can modify an agent result (or the logic underlying a specific node) halfway through the agent's trajectory. This creates an iterative process, by letting you interact with and manipulate the state at that point in time.While there is much more\n",
      "\n",
      "LangGraph Studio: The first agent IDE\n",
      "\n",
      "\n",
      "\n",
      "\n",
      "\n",
      "\n",
      "\n",
      "\n",
      "\n",
      "\n",
      "\n",
      "\n",
      "\n",
      "\n",
      "\n",
      "\n",
      "\n",
      "\n",
      "\n",
      "\n",
      "\n",
      "\n",
      "\n",
      "\n",
      "\n",
      "\n",
      "\n",
      "\n",
      "\n",
      "\n",
      "\n",
      "\n",
      "\n",
      "\n",
      "\n",
      "\n",
      "\n",
      "\n",
      "\n",
      "\n",
      "\n",
      "\n",
      "\n",
      "\n",
      "\n",
      "\n",
      "\n",
      "\n",
      "\n",
      "\n",
      "\n",
      "Skip to content\n",
      "\n",
      "\n",
      "\n",
      "\n",
      "\n",
      "\n",
      "\n",
      "\n",
      "\n",
      "\n",
      "\n",
      "\n",
      "\n",
      "\n",
      "\n",
      "\n",
      "Case Studies\n",
      "\n",
      "\n",
      "\n",
      "\n",
      "In the Loop\n",
      "\n",
      "\n",
      "\n",
      "\n",
      "LangChain\n",
      "\n",
      "\n",
      "\n",
      "\n",
      "Docs\n",
      "\n",
      "\n",
      "\n",
      "\n",
      "Changelog\n",
      "\n",
      "\n",
      "\n",
      "\n",
      "\n",
      "Sign in\n",
      "Subscribe\n",
      "\n",
      "\n",
      "\n",
      "\n",
      "\n",
      "\n",
      "\n",
      "\n",
      "\n",
      "\n",
      "\n",
      "\n",
      "\n",
      "\n",
      "\n",
      "\n",
      "\n",
      "\n",
      "\n",
      "LangGraph Studio: The first agent IDE\n",
      "LangGraph Studio provides a specialized agent IDE for visualizing, interacting with, and debugging complex agentic applications. See how to use it on your desktop today.\n",
      "\n",
      "4 min read\n",
      "Aug 1, 2024\u001b[0m\u001b[32;1m\u001b[1;3mLangGraph Studio is a desktop application, currently available for Apple Silicon, that acts as an IDE specifically designed for agent applications. It helps visualize, interact with, and debug these complex applications. \n",
      "\n",
      "To use LangGraph Studio, you'll need a LangSmith account and download the application.  You can then open a directory containing a Python file with a graph definition and a langgraph.json file with additional details. \n",
      "\n",
      "\n",
      "\n",
      "It's designed to complement traditional code editors, providing a visual way to understand and manipulate agent graphs, even during the development process. \n",
      "\u001b[0m\n",
      "\n",
      "\u001b[1m> Finished chain.\u001b[0m\n"
     ]
    },
    {
     "data": {
      "text/plain": [
       "{'input': 'Hi wahat is LangGraph studio and how to use it?',\n",
       " 'output': \"LangGraph Studio is a desktop application, currently available for Apple Silicon, that acts as an IDE specifically designed for agent applications. It helps visualize, interact with, and debug these complex applications. \\n\\nTo use LangGraph Studio, you'll need a LangSmith account and download the application.  You can then open a directory containing a Python file with a graph definition and a langgraph.json file with additional details. \\n\\n\\n\\nIt's designed to complement traditional code editors, providing a visual way to understand and manipulate agent graphs, even during the development process. \\n\"}"
      ]
     },
     "execution_count": 98,
     "metadata": {},
     "output_type": "execute_result"
    }
   ],
   "source": [
    "agent_executor.invoke({\"input\": \"Hi wahat is LangGraph studio and how to use it?\"})"
   ]
  },
  {
   "cell_type": "code",
   "execution_count": 101,
   "metadata": {},
   "outputs": [
    {
     "name": "stdout",
     "output_type": "stream",
     "text": [
      "\n",
      "\n",
      "\u001b[1m> Entering new AgentExecutor chain...\u001b[0m\n",
      "\u001b[32;1m\u001b[1;3m\n",
      "Invoking: `tavily_search_results_json` with `{'query': 'weather in Nairobi'}`\n",
      "\n",
      "\n",
      "\u001b[0m\u001b[36;1m\u001b[1;3m[{'title': 'Weather Nairobi in June 2025: Temperature & Climate', 'url': 'https://en.climate-data.org/africa/kenya/nairobi/nairobi-541/t/june-6/', 'content': 'Weather Nairobi ; 28. June, Scattered clouds, 25 °C 77 °F · 15 °C 59 °F · 20 % ; 29. June, Overcast clouds, 18 °C 64.4 °F · 13 °C 55.4 °F · 10 %', 'score': 0.9418739}, {'title': 'Weather in Nairobi Area in June 2025 - Detailed Forecast', 'url': 'https://www.easeweather.com/africa/kenya/nairobi-area/june', 'content': 'Discover the most accurate weather forecast for Nairobi Area in June 2025 ... 28 Jun. Patchy rain possible. 22° /14°, 0.5 mm, 1.7. 29 Jun', 'score': 0.935964}, {'title': 'Nairobi weather in June 2025 | Kenya: How hot? - Weather2Travel.com', 'url': 'https://www.weather2travel.com/kenya/nairobi/june/', 'content': 'Nairobi weather in June 2025 Expect daytime maximum temperatures of 22°C in Nairobi, Kenya in June based on long-term weather averages. There are 5 hours of sunshine per day on average with typically 42 mm of rainfall in the month.', 'score': 0.8430832}, {'title': 'Nairobi weather in June 2025 - Weather25.com', 'url': 'https://www.weather25.com/africa/kenya/nairobi-area/nairobi?page=month&month=June', 'content': '| Sun | Mon | Tue | Wed | Thu | Fri | Sat |\\n| --- | --- | --- | --- | --- | --- | --- |\\n| 1 Image 28: Patchy rain possible 24°/13° | 2 Image 29: Patchy rain possible 23°/14° | 3 Image 30: Cloudy 24°/13° | 4 Image 31: Patchy rain possible 23°/13° | 5 Image 32: Partly cloudy 24°/13° | 6 Image 33: Patchy rain possible 23°/13° | 7 Image 34: Light rain shower 24°/13° | [...] The average weather in Nairobi in June\\n--------------------------------------\\n\\nThe temperatures in Nairobi in June are comfortable with low of 14°C and and high up to 23°C.\\n\\nYou can expect about 3 to 8 days of rain in Nairobi during the month of June. It’s a good idea to bring along your umbrella so that you don’t get caught in poor weather.\\n\\nOur weather forecast can give you a great sense of what weather to expect in Nairobi in June 2025. [...] | 22 Image 49: Patchy rain possible 20°/14° | 23 Image 50: Patchy rain possible 21°/13° | 24 Image 51: Patchy light rain 22°/13° | 25 Image 52: Light rain shower 22°/13° | 26 Image 53: Patchy rain possible 23°/13° | 27 Image 54: Partly cloudy 23°/12° | 28 Image 55: Patchy rain possible 22°/12° |\\n| 29 Image 56: Cloudy 21°/12° | 30 Image 57: Patchy rain possible 21°/13° |  |  |  |  |  |', 'score': 0.8266142}, {'title': 'June 2025 Weather History at Nairobi / Wilson Kenya', 'url': 'https://weatherspark.com/h/m/148712/2025/6/Historical-Weather-in-June-2025-at-Nairobi-Wilson-Kenya', 'content': 'Today Yesterday Jun 2025    1960197019801990200020102020    2016201720182019202020212022202320242025    Spring SummerFallWinter JanFebMarAprMayJunJul Aug Sep Oct Nov Dec    123456789101112131415161718192021 22 23 24 25 26 27 28 29 30 June 2025 Weather History at Nairobi / Wilson Kenya =================================================== Latest Report — 5:00 PM ----------------------- Fri, Jun 20, 2025 2 hr, 1 min ago UTC 14:00 Call Sign HKNW Temp. 59°F cool Dew Pt.57°F comfortable Rel. Humidity [...] | | 6 | | 82% | - | 2:33 AM | W | 2:51 PM | E | 9:02 PM | S | 251,849 mi | | 7 | | 89% | - | 3:14 AM | WSW | 3:32 PM | ESE | 9:44 PM | S | 251,965 mi | | 8 | | 94% | - | 3:57 AM | WSW | 4:16 PM | ESE | 10:28 PM | S | 251,477 mi | | 9 | | 98% | - | 4:43 AM | WSW | 5:02 PM | ESE | 11:16 PM | S | 250,483 mi | | 10 | | 99% | - | 5:32 AM | WSW | 5:52 PM | ESE | - | - | | 11 | | 100% | - | 6:24 AM | WSW | 6:45 PM | ESE | 12:07 AM | S | 249,084 mi | | 12 | | 100% | - | 7:18 AM | WSW | 7:39 PM | ESE | [...] 94% Precipitation No Report Wind 0.0 mph calm Cloud Cover Mostly Cloudy 1,900 ft Mostly Clear 1,800 ft Mostly Cloudy 8,000 ft Vis.4.97 mi Alt.30.27 inHg Raw: HKNW 201400Z 00000KT 8000 -TSRA FEW018CB BKN019 BKN080 15/14 Q1025 This report shows the past weather for Nairobi / Wilson, providing a weather history for June 2025. It features all historical weather data series we have available, including the Nairobi / Wilson temperature history for June 2025. You can drill down from year to month and', 'score': 0.81489426}]\u001b[0m\u001b[32;1m\u001b[1;3mThe weather in Nairobi in June 2025 is expected to be comfortable with low of 14°C and a high up to 23°C.  You can expect about 3 to 8 days of rain in Nairobi during the month of June. \n",
      "\n",
      "\n",
      "\u001b[0m\n",
      "\n",
      "\u001b[1m> Finished chain.\u001b[0m\n"
     ]
    },
    {
     "data": {
      "text/plain": [
       "{'input': 'What is the weather in Nairobi city?',\n",
       " 'output': 'The weather in Nairobi in June 2025 is expected to be comfortable with low of 14°C and a high up to 23°C.  You can expect about 3 to 8 days of rain in Nairobi during the month of June. \\n\\n\\n'}"
      ]
     },
     "execution_count": 101,
     "metadata": {},
     "output_type": "execute_result"
    }
   ],
   "source": [
    "agent_executor.invoke({\"input\": \"What is the weather in Nairobi city?\"})"
   ]
  },
  {
   "cell_type": "code",
   "execution_count": null,
   "metadata": {},
   "outputs": [],
   "source": []
  },
  {
   "cell_type": "code",
   "execution_count": null,
   "metadata": {},
   "outputs": [],
   "source": []
  },
  {
   "cell_type": "markdown",
   "id": "58f3e006",
   "metadata": {},
   "source": []
  }
 ],
 "metadata": {
  "kernelspec": {
   "display_name": "env",
   "language": "python",
   "name": "python3"
  },
  "language_info": {
   "codemirror_mode": {
    "name": "ipython",
    "version": 3
   },
   "file_extension": ".py",
   "mimetype": "text/x-python",
   "name": "python",
   "nbconvert_exporter": "python",
   "pygments_lexer": "ipython3",
   "version": "3.13.3"
  }
 },
 "nbformat": 4,
 "nbformat_minor": 5
}
