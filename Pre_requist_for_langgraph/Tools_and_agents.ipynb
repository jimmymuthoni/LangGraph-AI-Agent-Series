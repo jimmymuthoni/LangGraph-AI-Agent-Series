{
 "cells": [
  {
   "cell_type": "code",
   "execution_count": 1,
   "id": "10e39e4c",
   "metadata": {},
   "outputs": [],
   "source": [
    "#Loading the keys\n",
    "import os \n",
    "from dotenv import load_dotenv\n",
    "load_dotenv()\n",
    "LANGCHAIN_API_KEY = os.getenv(\"LANGCHAIN_API_KEY\")\n",
    "TAVILY_API_KEY = os.getenv(\"TAVILY_API_KEY\")\n",
    "GOOGLE_API_KEY = os.getenv(\"GOOGLE_API_KEY\")\n",
    "GROQ_API_KEY = os.getenv(\"GROQ_API_KEY\")\n",
    "LANGCHAIN_PROJECT =  os.getenv(\"LANGCHAIN_PROJECT\")\n",
    "\n",
    "\n",
    "#Setting keys as evironment variables\n",
    "os.environ['GOOGLE_API_KEY'] = GOOGLE_API_KEY\n",
    "os.environ['TAVILY_API_KEY'] = TAVILY_API_KEY\n",
    "os.environ['GROQ_API_KEY'] = GROQ_API_KEY\n",
    "os.environ['LANGCHAIN_API_KEY'] = LANGCHAIN_API_KEY\n",
    "os.environ['LANGCHAIN_TRACING_V2'] = \"true\"\n",
    "os.environ[\"LANGCHAIN_ENDPONT\"] =  \"https://api.smith.langchain.com\"\n",
    "os.environ['LANGCHAIN_PROJECT'] = LANGCHAIN_PROJECT"
   ]
  },
  {
   "cell_type": "code",
   "execution_count": 4,
   "id": "7374ea39",
   "metadata": {},
   "outputs": [],
   "source": [
    "from langchain_groq import ChatGroq\n",
    "llm = ChatGroq(model=\"Gemma2-9b-It\")"
   ]
  },
  {
   "cell_type": "code",
   "execution_count": 9,
   "id": "b5c0d137",
   "metadata": {},
   "outputs": [
    {
     "name": "stderr",
     "output_type": "stream",
     "text": [
      "/home/brian/Documents/JIM/Langgraph/env/lib/python3.13/site-packages/tqdm/auto.py:21: TqdmWarning: IProgress not found. Please update jupyter and ipywidgets. See https://ipywidgets.readthedocs.io/en/stable/user_install.html\n",
      "  from .autonotebook import tqdm as notebook_tqdm\n"
     ]
    }
   ],
   "source": [
    "from langchain_huggingface import HuggingFaceEmbeddings\n",
    "embeddings = HuggingFaceEmbeddings(model_name = \"all-MiniLM-L6-v2\")"
   ]
  },
  {
   "cell_type": "code",
   "execution_count": 5,
   "id": "830c1ee4",
   "metadata": {},
   "outputs": [
    {
     "data": {
      "text/plain": [
       "AIMessage(content=\"As an AI, I don't have feelings, but I'm here and ready to assist you! How can I help you today? 😊\\n\", additional_kwargs={}, response_metadata={'token_usage': {'completion_tokens': 33, 'prompt_tokens': 15, 'total_tokens': 48, 'completion_time': 0.06, 'prompt_time': 0.001833377, 'queue_time': 0.161658412, 'total_time': 0.061833377}, 'model_name': 'Gemma2-9b-It', 'system_fingerprint': 'fp_10c08bf97d', 'finish_reason': 'stop', 'logprobs': None}, id='run--8d8562c5-b87e-42c5-b9d3-41a5a9c50f37-0', usage_metadata={'input_tokens': 15, 'output_tokens': 33, 'total_tokens': 48})"
      ]
     },
     "execution_count": 5,
     "metadata": {},
     "output_type": "execute_result"
    }
   ],
   "source": [
    "llm.invoke(\"Hey, How are you ?\")"
   ]
  },
  {
   "cell_type": "code",
   "execution_count": null,
   "id": "76ad82bb",
   "metadata": {},
   "outputs": [],
   "source": []
  },
  {
   "cell_type": "markdown",
   "id": "3550a901",
   "metadata": {},
   "source": [
    "### Pre defined Tools"
   ]
  },
  {
   "cell_type": "code",
   "execution_count": 6,
   "id": "12b18a73",
   "metadata": {},
   "outputs": [
    {
     "name": "stdout",
     "output_type": "stream",
     "text": [
      "Page: LangChain\n",
      "Summary: LangChain is a software framework that helps facilitate the integration of large language models (LLMs) into applications. As a language model integration framework, LangChain's use-cases largely overlap with those of language models in general, including document analysis and summarization, chatbots, and code analysis.\n",
      "\n",
      "\n",
      "\n",
      "Page: Retrieval-augmented generation\n",
      "Summary: Retrieval-augmented generation (RAG) is a technique that enables large language models (LLMs) to retrieve and incorporate new information. With RAG, LLMs do not respond to user queries until they refer to a specified set of documents. These documents supplement information from the LLM's pre-existing training data. This allows LLMs to use domain-specific and/or updated information that is not available in the training data. For example, this helps LLM-based chatbots access internal company data or generate responses based on authoritative sources.\n",
      "RAG improves large language models (LLMs) by incorporating information retrieval before generating responses. Unlike traditional LLMs that rely on static training data, RAG pulls relevant text from databases, uploaded documents, or web sources. According to Ars Technica, \"RAG is a way of improving LLM performance, in essence by blending the LLM process with a web search or other document look-up process to help LLMs stick to the facts.\" This method helps reduce AI hallucinations, which have caused chatbots to describe policies that don't exist, or recommend nonexistent legal cases to lawyers that are looking for citations to support their arguments.\n",
      "RAG also reduces the need to retrain LLMs with new data, saving on computational and financial costs. Beyond efficiency gains, RAG also allows LLMs to include sources in their responses, so users can verify the cited sources. This provides greater transparency, as users can cross-check retrieved content to ensure accuracy and relevance.\n",
      "The term RAG was first introduced in a 2020 research paper from Meta.\n",
      "\n",
      "Page: Milvus (vector database)\n",
      "Summary: Milvus is a distributed vector database developed by Zilliz. It is available as both open-source software and a cloud service.\n",
      "Milvus is an open-source project under LF AI & Data Foundation distributed under the Apache License 2.0.\n",
      "\n",
      "\n"
     ]
    }
   ],
   "source": [
    "from langchain_community.tools import WikipediaQueryRun\n",
    "from langchain_community.utilities import WikipediaAPIWrapper\n",
    "\n",
    "api_wrapper = WikipediaAPIWrapper()\n",
    "tool = WikipediaQueryRun(api_wrapper=api_wrapper)\n",
    "print(tool.run({'query': \"langchain\"}))"
   ]
  },
  {
   "cell_type": "code",
   "execution_count": 7,
   "id": "de15767c",
   "metadata": {},
   "outputs": [
    {
     "data": {
      "text/plain": [
       "\"['https://www.youtube.com/watch?v=_kpxLkH5vY0&pp=ygUMU3VubnkgU2F2aXRh', 'https://www.youtube.com/watch?v=oFMixPMJ6Ko&pp=ygUMU3VubnkgU2F2aXRh']\""
      ]
     },
     "execution_count": 7,
     "metadata": {},
     "output_type": "execute_result"
    }
   ],
   "source": [
    "from langchain_community.tools import YouTubeSearchTool\n",
    "youtube_tool = YouTubeSearchTool()\n",
    "youtube_tool.run(\"Sunny Savita\")"
   ]
  },
  {
   "cell_type": "code",
   "execution_count": 8,
   "id": "a6edb5b5",
   "metadata": {},
   "outputs": [
    {
     "name": "stderr",
     "output_type": "stream",
     "text": [
      "/tmp/ipykernel_72525/2573323815.py:2: LangChainDeprecationWarning: The class `TavilySearchResults` was deprecated in LangChain 0.3.25 and will be removed in 1.0. An updated version of the class exists in the :class:`~langchain-tavily package and should be used instead. To use it run `pip install -U :class:`~langchain-tavily` and import as `from :class:`~langchain_tavily import TavilySearch``.\n",
      "  tavily_tool = TavilySearchResults()\n"
     ]
    },
    {
     "data": {
      "text/plain": [
       "[{'title': \"A Timeline of Iran and Israel's Recent Attacks - The New York Times\",\n",
       "  'url': 'https://www.nytimes.com/2025/06/12/world/middleeast/israel-iran-conflict-history.html',\n",
       "  'content': 'By Ephrat LivniCassandra Vinograd and Eve Sampson\\n\\nPublished April 19, 2024 Updated June 24, 2025\\n\\nThe conflict between Iran and Israel, once relegated to the shadows, has escalated yet again.\\n\\nOn June 13, explosions rocked Tehran as Israel carried out a major attack on Iran’s nuclear program. Iran retaliated and has launched barrages of ballistic missiles and drones at Israel.',\n",
       "  'score': 0.8430832},\n",
       " {'title': 'Iran-Israel war - Wikipedia',\n",
       "  'url': 'https://en.wikipedia.org/wiki/Iran–Israel_war',\n",
       "  'content': 'In 2024, the two countries attacked each other openly and directly for the first time following decades of proxy conflict. In April 2024, an Israeli airstrike on the Iranian consulate in Damascus killed Iranian officers. Iran retaliated with strikes on Israel in April 2024, to which Israel then retaliated with strikes on Iran. In July 2024, Israel assassinated Hamas leader Ismail Haniyeh in Iran\\'s capital Tehran. In October 2024, Iran struck Israel, and Israel struck Iran.( [...] The Iran–Israel War began on 13 June 2025, when Israel launched attacks on dozens of Iranian targets with the stated aim of stopping the expansion of Iran\\'s nuclear program.( Under the codename Operation Rising Lion,( the Israel Defense Forces (IDF) and Mossad attacked key nuclear sites, military installations, and residential areas( including targeted assassinations of military and civilian personnel, many of whom were killed in their homes or in meetings( Beginning on the evening of 13 June, [...] The conflict is considered an escalation of decades-long animosity between the two countries, during which Iran challenged Israel\\'s legitimacy and called for its destruction, while Israel considered the Iranian nuclear program an existential threat. During the crisis in the Middle East \"Middle Eastern crisis (2023–present)\") that followed the October 7th attacks of 2023 and the ensuing Gaza war, animosity escalated to direct confrontation. Israel weakened Iranian proxies such as Hamas and',\n",
       "  'score': 0.8380581},\n",
       " {'title': 'Background to the Iran-Israel war - Wikipedia',\n",
       "  'url': 'https://en.wikipedia.org/wiki/Background_to_the_Iran–Israel_war',\n",
       "  'content': \"In 2024, the two countries attacked each other openly and directly for the first time following decades of proxy conflict. In April 2024, an Israeli airstrike on the Iranian consulate in Damascus killed Iranian officers. Iran retaliated with strikes on Israel in April 2024, to which Israel then retaliated with strikes on Iran. In July 2024, Israel assassinated Hamas leader Ismail Haniyeh in Iran's capital Tehran, and then assassinated Hezbollah leader Hassan Nasrallah and prominent IRGC [...] The background to the Iran–Israel war, ongoing since 13 June 2025, focuses on historical events during their proxy conflict since 1985, including scrutiny of Irans' nuclear program in the 1980s and 1990s, Iran signing the Joint Comprehensive Plan of Action (JCPOA) in 2015, and US President Donald Trump suspending US participation in the deal in 2018. In the past, Israel has fought wars with Iranian proxies including against Hezbollah since the 1982 Lebanon War. [...] In 2023, during the Gaza war, Israel severely weakened both Hamas and fellow Iranian proxy Hezbollah in Lebanon, while also attacking the Houthis in Yemen. This is said to have weakened Iranian deterrence and increased Iranian isolation. In June 2025, Netanyahu then announced the launch of Operation Rising Lion, targeting Iran's main enrichment facility in Natanz, its nuclear scientists, and parts of its ballistic missile program.\\n\\nIran–Israel conflict\\n--------------------\\n\\n[edit]\",\n",
       "  'score': 0.79883134},\n",
       " {'title': 'A timeline of conflict between Israel and Iran | AP News',\n",
       "  'url': 'https://apnews.com/article/israel-iran-timeline-tensions-conflict-66764c2843d62757d83e4a486946bcb8',\n",
       "  'content': 'April 30, 2025 — Iran executes a man it said worked for Israel’s Mossad foreign intelligence agency and played a role in the killing of Revolutionary Guard Col. Hassan Sayyad Khodaei in Tehran on May 22, 2022.\\n\\nFriday, June 13, 2025 — Israel launches blistering attacks on the heart of Iran’s nuclear and military structure, deploying warplanes and drones previously smuggled into the country to assault key facilities and kill top generals and scientists. [...] Oct. 1, 2024 — Iran launches its second direct attack on Israel, though a U.S.-led coalition and Israel shoot down most of the missiles.\\n\\nOct. 16, 2024 — Israel kills Hamas leader Yahya Sinwar in the Gaza Strip.\\n\\nOct. 26, 2024 — Israel openly attacks Iran for the first time, striking air defense systems and sites associated with its missile program. [...] ByTHE ASSOCIATED PRESS\\n\\nUpdated [hour]:[minute] [AMPM] [timezone], [monthFull] [day], [year]Updated 8:38 AM UTC, June 15, 2025\\n\\nShare\\n\\n Share \\n\\n   Facebook\\n    Copy Link copied \\n   Print)\\n   Email\\n   X\\n   LinkedIn\\n   Bluesky\\n   Flipboard\\n   Pinterest\\n   Reddit\\n\\nIsrael and Iran opened a new chapter in their long history of conflict when Israel launched a major attack with strikes early Friday that set off explosions in the Iranian capital of Tehran.',\n",
       "  'score': 0.7900289},\n",
       " {'title': 'Iran–Israel proxy conflict - Wikipedia',\n",
       "  'url': 'https://en.wikipedia.org/wiki/Iran%E2%80%93Israel_proxy_conflict',\n",
       "  'content': 'The Iran–Israel proxy conflict, also known as the Iran–Israel proxy war( or Iran–Israel Cold War,( is an ongoing proxy conflict between Iran and Israel. In the Israeli–Lebanese conflict, Iran has supported Lebanese Shia militias, most notably Hezbollah. In the Israeli-Palestinian conflict, Iran has backed Palestinian groups such as Hamas. Israel has supported Iranian rebels, such as the People\\'s Mujahedin of Iran, conducted airstrikes against Iranian allies in Syria and assassinated Iranian [...] On June 13 2025 Israel initiated Operation Rising Lion, a large‑scale aerial assault targeting Iranian nuclear facilities, missile factories, military sites, and commanders across cities including Tehran and Natanz. Among the targets were also Revolutionary Guard commander Hossein Salami and other senior IRGC leaders were reportedly killed. Iranian state media also confirm deaths of nuclear scientists and claim civilian casualties in Tehran.(\\n\\nInternational responses\\n----------------------- [...] (2024–present) \"Iran–Israel conflict (2024–present)\")  April 2024 Iranian strikes  April 2024 Israeli strikes  October 2024 Iranian strikes  October 2024 Israeli strikes  Iran–Israel war  Assassination of Ismail Haniyeh  Masyaf strikes  Israeli retaliation leak  Palmyra airstrike Yemen and the Red Sea  Red Sea crisis  _Galaxy Leader_  MV _Maersk Hangzhou_  _Chem Pluto_  _Marlin Luanda_  Operation Prosperity Guardian  CTF 153  2024 missile strikes  2024 Tel Aviv drone attack  July 2024 Israeli',\n",
       "  'score': 0.767429}]"
      ]
     },
     "execution_count": 8,
     "metadata": {},
     "output_type": "execute_result"
    }
   ],
   "source": [
    "from langchain_community.tools.tavily_search import TavilySearchResults\n",
    "tavily_tool = TavilySearchResults()\n",
    "tavily_tool.invoke({\"query\": \"What happened in the Israel Iran conflict ?\"})"
   ]
  },
  {
   "cell_type": "code",
   "execution_count": null,
   "id": "4f413168",
   "metadata": {},
   "outputs": [],
   "source": []
  },
  {
   "cell_type": "code",
   "execution_count": null,
   "id": "ba5bdcfb",
   "metadata": {},
   "outputs": [],
   "source": []
  },
  {
   "cell_type": "markdown",
   "id": "487567f7",
   "metadata": {},
   "source": [
    "### Creating Custom Tool"
   ]
  },
  {
   "cell_type": "code",
   "execution_count": 13,
   "id": "16544f4e",
   "metadata": {},
   "outputs": [
    {
     "data": {
      "text/plain": [
       "9"
      ]
     },
     "execution_count": 13,
     "metadata": {},
     "output_type": "execute_result"
    }
   ],
   "source": [
    "from langchain.agents import tool\n",
    "@tool\n",
    "def get_word_length(word: str) -> int:\n",
    "    \"\"\"Returns the length of a word\"\"\"\n",
    "    return len(word)\n",
    "\n",
    "get_word_length.invoke(\"Langchain\")"
   ]
  },
  {
   "cell_type": "code",
   "execution_count": 14,
   "id": "5063b4ac",
   "metadata": {},
   "outputs": [
    {
     "name": "stdout",
     "output_type": "stream",
     "text": [
      "multiply\n",
      "This multipliy two numbers\n",
      "{'a': {'title': 'A', 'type': 'integer'}, 'b': {'title': 'B', 'type': 'integer'}}\n"
     ]
    },
    {
     "data": {
      "text/plain": [
       "1035"
      ]
     },
     "execution_count": 14,
     "metadata": {},
     "output_type": "execute_result"
    }
   ],
   "source": [
    "@tool\n",
    "def multiply(a: int, b: int) -> int:\n",
    "    \"\"\"This multipliy two numbers\"\"\"\n",
    "    return a * b\n",
    "\n",
    "print(multiply.name)\n",
    "print(multiply.description)\n",
    "print(multiply.args)\n",
    "\n",
    "multiply.invoke({\"a\": 23, \"b\": 45})"
   ]
  },
  {
   "cell_type": "code",
   "execution_count": null,
   "id": "fd2cb7a9",
   "metadata": {},
   "outputs": [],
   "source": []
  },
  {
   "cell_type": "markdown",
   "id": "cb1d38b4",
   "metadata": {},
   "source": [
    "### Concept of Agents"
   ]
  },
  {
   "cell_type": "code",
   "execution_count": 15,
   "id": "29373d8a",
   "metadata": {},
   "outputs": [],
   "source": [
    "from langchain.agents import AgentType\n",
    "from langchain.agents import load_tools\n",
    "from langchain.agents import initialize_agent"
   ]
  },
  {
   "cell_type": "code",
   "execution_count": 16,
   "id": "9d0f52c6",
   "metadata": {},
   "outputs": [],
   "source": [
    "tool = load_tools(['wikipedia'], llm=llm)\n"
   ]
  },
  {
   "cell_type": "code",
   "execution_count": 18,
   "id": "736dfbb7",
   "metadata": {},
   "outputs": [],
   "source": [
    "agent = initialize_agent(tool,llm, agent=AgentType.ZERO_SHOT_REACT_DESCRIPTION, verbose=True)"
   ]
  },
  {
   "cell_type": "code",
   "execution_count": 20,
   "id": "51ce6476",
   "metadata": {},
   "outputs": [
    {
     "name": "stdout",
     "output_type": "stream",
     "text": [
      "\n",
      "\n",
      "\u001b[1m> Entering new AgentExecutor chain...\u001b[0m\n",
      "\u001b[32;1m\u001b[1;3mThought: I need to look up \"llama\" to see what it refers to and who developed it. \n",
      "Action: wikipedia\n",
      "Action Input: llama \u001b[0m"
     ]
    },
    {
     "name": "stderr",
     "output_type": "stream",
     "text": [
      "/home/brian/Documents/JIM/Langgraph/env/lib/python3.13/site-packages/wikipedia/wikipedia.py:389: GuessedAtParserWarning: No parser was explicitly specified, so I'm using the best available HTML parser for this system (\"html.parser\"). This usually isn't a problem, but if you run this code on another system, or in a different virtual environment, it may use a different parser and behave differently.\n",
      "\n",
      "The code that caused this warning is on line 389 of the file /home/brian/Documents/JIM/Langgraph/env/lib/python3.13/site-packages/wikipedia/wikipedia.py. To get rid of this warning, pass the additional argument 'features=\"html.parser\"' to the BeautifulSoup constructor.\n",
      "\n",
      "  lis = BeautifulSoup(html).find_all('li')\n"
     ]
    },
    {
     "name": "stdout",
     "output_type": "stream",
     "text": [
      "\n",
      "Observation: \u001b[36;1m\u001b[1;3mPage: Llama\n",
      "Summary: The llama (; Spanish pronunciation: [ˈʎama] or [ˈʝama]) (Lama glama) is a domesticated South American camelid, widely used as a meat and pack animal by Andean cultures since the pre-Columbian era.\n",
      "Llamas are social animals and live with others as a herd. Their wool is soft and contains only a small amount of lanolin. Llamas can learn simple tasks after a few repetitions. When using a pack, they can carry about 25 to 30% of their body weight for 8 to 13 km (5–8 miles). The name llama (also historically spelled \"lama\" or \"glama\") was adopted by European settlers from native Peruvians.\n",
      "The ancestors of llamas are thought to have originated on the Great Plains of North America about 40 million years ago and subsequently migrated to South America about three million years ago during the Great American Interchange. By the end of the last ice age (10,000–12,000 years ago), camelids were extinct in North America. As of 2007, there were over seven million llamas and alpacas in South America. Some were imported to the United States and Canada late in the 20th century; their descendants now number more than 158,000 llamas and 100,000 alpacas.\n",
      "In Aymara mythology, llamas are important beings. The Heavenly Llama is said to drink water from the ocean and urinates as it rains. According to Aymara eschatology, llamas will return to the water springs and ponds where they come from at the end of time.\n",
      "\n",
      "\n",
      "\n",
      "Page: Llama (language model)\n",
      "Summary: Llama (Large Language Model Meta AI, formerly stylized as LLaMA) is a family of large language models (LLMs) released by Meta AI starting in February 2023. The latest version is Llama 4, released in April 2025.\n",
      "Llama models come in different sizes, ranging from 1 billion to 2 trillion parameters. Initially only a foundation model, starting with Llama 2, Meta AI released instruction fine-tuned versions alongside foundation models.\n",
      "Model weights for the first version of Llama were only available to researchers on a case-by-case basis, under a non-commercial license. Unauthorized copies of the first model were shared via BitTorrent. Subsequent versions of Llama were made accessible outside academia and released under licenses that permitted some commercial use.\n",
      "Alongside the release of Llama 3, Meta added virtual assistant features to Facebook and WhatsApp in select regions, and a standalone website. Both services use a Llama 3 model.\u001b[0m\n",
      "Thought:\u001b[32;1m\u001b[1;3mThought: It seems I need to look up \"Llama (language model)\" to get information about who developed it.\n",
      "Action: wikipedia\n",
      "Action Input: Llama (language model)\u001b[0m\n",
      "Observation: \u001b[36;1m\u001b[1;3mPage: Llama (language model)\n",
      "Summary: Llama (Large Language Model Meta AI, formerly stylized as LLaMA) is a family of large language models (LLMs) released by Meta AI starting in February 2023. The latest version is Llama 4, released in April 2025.\n",
      "Llama models come in different sizes, ranging from 1 billion to 2 trillion parameters. Initially only a foundation model, starting with Llama 2, Meta AI released instruction fine-tuned versions alongside foundation models.\n",
      "Model weights for the first version of Llama were only available to researchers on a case-by-case basis, under a non-commercial license. Unauthorized copies of the first model were shared via BitTorrent. Subsequent versions of Llama were made accessible outside academia and released under licenses that permitted some commercial use.\n",
      "Alongside the release of Llama 3, Meta added virtual assistant features to Facebook and WhatsApp in select regions, and a standalone website. Both services use a Llama 3 model.\n",
      "\n",
      "Page: Llama.cpp\n",
      "Summary: llama.cpp is an open source software library that performs inference on various large language models such as Llama. It is co-developed alongside the GGML project, a general-purpose tensor library.\n",
      "Command-line tools are included with the library, alongside a server with a simple web interface.\n",
      "\n",
      "\n",
      "\n",
      "Page: Language model\n",
      "Summary: A language model is a model of the human brain's ability to produce natural language. Language models are useful for a variety of tasks, including speech recognition, machine translation, natural language generation (generating more human-like text), optical character recognition, route optimization, handwriting recognition, grammar induction, and information retrieval.\n",
      "Large language models (LLMs), currently their most advanced form, are predominantly based on transformers trained on larger datasets (frequently using texts scraped from the public internet). They have superseded recurrent neural network-based models, which had previously superseded the purely statistical models, such as word n-gram language model.\u001b[0m\n",
      "Thought:\u001b[32;1m\u001b[1;3mThought: I now know the final answer\n",
      "Final Answer: Llama is a family of large language models (LLMs) released by Meta AI. \n",
      "\n",
      "\n",
      "\u001b[0m\n",
      "\n",
      "\u001b[1m> Finished chain.\u001b[0m\n"
     ]
    },
    {
     "data": {
      "text/plain": [
       "'Llama is a family of large language models (LLMs) released by Meta AI.'"
      ]
     },
     "execution_count": 20,
     "metadata": {},
     "output_type": "execute_result"
    }
   ],
   "source": [
    "agent.run(\"What is llama and who developed it?\")"
   ]
  },
  {
   "cell_type": "code",
   "execution_count": 21,
   "id": "bf79f284",
   "metadata": {},
   "outputs": [],
   "source": [
    "from langchain_community.tools.tavily_search import TavilySearchResults\n",
    "search = TavilySearchResults()"
   ]
  },
  {
   "cell_type": "code",
   "execution_count": 22,
   "id": "bd955be9",
   "metadata": {},
   "outputs": [
    {
     "data": {
      "text/plain": [
       "[{'title': 'What is Open AI? - Definition & Meaning',\n",
       "  'url': 'https://cubig.ai/glossary/open-ai',\n",
       "  'content': 'Open AI refers to an artificial intelligence research organization focused on developing AI technologies, including language models, reinforcement learning, and generative AI. It is known for innovations like GPT, Codex, and DALL·E, transforming various industries.',\n",
       "  'score': 0.95618236},\n",
       " {'title': 'OpenAI | ChatGPT, Sam Altman, Microsoft, & History - Britannica',\n",
       "  'url': 'https://www.britannica.com/money/OpenAI',\n",
       "  'content': 'OpenAI is an American artificial intelligence (AI) research organization consisting of two entities: OpenAI Inc., a nonprofit research segment, and OpenAI Global LLC, a for-profit subsidiary established to commercialize its AI technologies and applications. It was founded in 2015 by a consortium of researchers, scientists, and entrepreneurs; among the more notable founders are Sam Altman, Greg Brockman, Peter Thiel, and Elon Musk. [...] OpenAI was founded in December 2015 as a nonprofit organization dedicated to researching and advancing AI technology. Founded by a consortium of technologists and entrepreneurs, its key leadership included Sam Altman, Greg Brockman, Ilya Sutskever, and Elon Musk. Other investors were entrepreneur Peter Thiel and business entities such as Amazon Web Services (AWS), Infosys, and YC Research. These early commitments allowed OpenAI to begin with a $1 billion war chest to fund its research and',\n",
       "  'score': 0.93735445},\n",
       " {'title': 'What is OpenAI? - Moveworks',\n",
       "  'url': 'https://www.moveworks.com/us/en/resources/ai-terms-glossary/openai',\n",
       "  'content': \"OpenAI is an artificial intelligence research laboratory. Established in December 2015, OpenAI is dedicated to advancing artificial general intelligence (AGI) in a safe and beneficial manner. The organization was founded by a group of influential tech visionaries, including Sam Altman, Greg Brockman, Ilya Sutskever, John Schulman, and Wojciech Zaremba, among others. [...] Products\\n\\nTake a product tour to see Moveworks in action\\n\\nSolutions\\n\\n100+ Real World Use Cases of Agentic AI for the Enterprise\\n\\nDevelopers\\n\\nDiscover and deploy AI agents with pre-built solution packs\\n\\nResources\\n\\n100+ Real World Use Cases of Agentic AI for the Enterprise\\n\\nCompany\\n\\nServiceNow to acquire Moveworks\\n\\n# What is OpenAI?\\n\\n### OpenAI is a leading research organization focused on advancing safe and beneficial artificial general intelligence (AGI).\\n\\n## What is OpenAI? [...] OpenAI's mission revolves around ensuring that artificial general intelligence benefits all of humanity. It actively promotes the development and deployment of AI systems that prioritize safety, fairness, and transparency. The organization conducts cutting-edge research in machine learning, deep learning, reinforcement learning, and related fields, with the goal of pushing the boundaries of AI capabilities while addressing ethical concerns.\",\n",
       "  'score': 0.92825955},\n",
       " {'title': 'What Is OpenAI? Everything You Need to Know - Coursera',\n",
       "  'url': 'https://www.coursera.org/articles/what-is-openai',\n",
       "  'content': 'What is OpenAI?\\n---------------\\n\\nOpenAI is an artificial intelligence company and research lab that aims to develop AI and steer it in ways that “benefit all of humanity.” It was created at first as a non-profit organization due to its founders’ concerns about the potential misuse and catastrophe from AI being used “in the wild.” Several investors pooled together $1 billion to deliver research and resources that remain open to the public.\\n\\n### Timeline and history of OpenAI [...] OpenAI was founded in 2015 with a focus on developing AI and machine learning tools for various activities. Its first offering was an open-source toolkit for developing reinforcement learning algorithms (OpenAI Gym), which prompted it to focus on AI research for more general purposes.',\n",
       "  'score': 0.92715925},\n",
       " {'title': 'OpenAI - LinkedIn',\n",
       "  'url': 'https://www.linkedin.com/company/openai',\n",
       "  'content': 'OpenAI is an AI research and deployment company dedicated to ensuring that general-purpose artificial intelligence benefits all of humanity. AI is an extremely powerful tool that must be created with safety and human needs at its core. OpenAI is dedicated to putting that alignment of interests first — ahead of profit. To achieve our mission, we must encompass and value the many different perspectives, voices, and experiences that form the full spectrum of humanity. Our investment in diversity,',\n",
       "  'score': 0.92604345}]"
      ]
     },
     "execution_count": 22,
     "metadata": {},
     "output_type": "execute_result"
    }
   ],
   "source": [
    "search.invoke(\"What is Open AI?\")"
   ]
  },
  {
   "cell_type": "code",
   "execution_count": 24,
   "id": "ff89a8d3",
   "metadata": {},
   "outputs": [],
   "source": [
    "tool = [search]\n",
    "from langchain import hub\n",
    "prompt = hub.pull(\"hwchase17/openai-functions-agent\")"
   ]
  },
  {
   "cell_type": "code",
   "execution_count": 25,
   "id": "ceebbc7f",
   "metadata": {},
   "outputs": [],
   "source": [
    "from langchain.agents import create_tool_calling_agent\n",
    "agent = create_tool_calling_agent(llm, tools=tool, prompt=prompt)"
   ]
  },
  {
   "cell_type": "code",
   "execution_count": 26,
   "id": "237af2df",
   "metadata": {},
   "outputs": [],
   "source": [
    "from langchain.agents import AgentExecutor\n",
    "agent_executor = AgentExecutor(agent=agent, tools=tool, verbose = True)"
   ]
  },
  {
   "cell_type": "code",
   "execution_count": 27,
   "id": "b01cb3e3",
   "metadata": {},
   "outputs": [
    {
     "name": "stdout",
     "output_type": "stream",
     "text": [
      "\n",
      "\n",
      "\u001b[1m> Entering new AgentExecutor chain...\u001b[0m\n",
      "\u001b[32;1m\u001b[1;3m\n",
      "Invoking: `tavily_search_results_json` with `{'query': 'how are you'}`\n",
      "\n",
      "\n",
      "\u001b[0m\u001b[36;1m\u001b[1;3m[{'title': '\"How are you?\" | 60+ Different Ways to Ask & Respond to \"How are you?\"', 'url': 'https://eslforums.com/how-are-you/', 'content': '“How are you?” is a common greeting that is used to ask someone about their well-being or current state. It is usually used as a casual greeting between friends, colleagues, and family members.\\n\\nTo use “how are you?”, you can simply ask the question to the person you are greeting. For example:\\n\\n   Person 1: “Hey, how are you?”\\n   Person 2: “I’m doing well, thanks for asking. How about you?” [...] “How are you?” is a common greeting that is used to ask someone about their well-being or current state. It is usually used as a casual greeting between friends, colleagues, and family members. In this lesson, you will learn a list of 16 sentences you can use instead of “How are you?” in English and how to respond to it. Learn those words to use in your daily life.\\n\\nTable of Contents [...] To answer the question, you can use any of the phrases I provided as well. Some examples of positive answers include “I’m doing well, thank you.”, “I’m feeling good.”, and “I’m feeling great.” If you’re not doing as well, you can say something like “I’ve been better.” or “I’m hanging in there.” You can also give a more detailed answer and share how you’re really feeling, such as “I’ve been feeling a bit overwhelmed with work lately, but I’m trying to stay positive.” or “I’ve been feeling a bit', 'score': 0.882276}, {'title': \"What does 'how are you?' mean? - Quora\", 'url': 'https://www.quora.com/What-does-How-are-you-mean-1?top_ans=216332206', 'content': '“How are you?” is a greeting and wellness check. Short for “how are things with you?” or “how are you doing?” or “Are you feeling well?” or “how', 'score': 0.81595254}, {'title': 'Greeting - How are you? good or fine? - WordReference Forums', 'url': 'https://forum.wordreference.com/threads/greeting-how-are-you-good-or-fine.586256/', 'content': \"'How are you?' refers to the idea of 'how are you feeling today?' The answer would be an adverb ( = I am feeling well or fine).\", 'score': 0.8016413}, {'title': '201 Funny And Witty Responses To The Question \"How Are You?\"', 'url': 'https://www.stylecraze.com/articles/how-to-respond-to-how-are-you/', 'content': 'In some Middle Eastern countries, “How are you?” might be followed by questions about family and well-being, with answers expected to be more elaborate.\\n\\nIn professional or formal settings, especially in cultures like the U.S. or the U.K., “How are you?” is answered with, “I’m well, thank you.”\\n\\nThese cultural variations highlight how social norms shape not only the words we say but also the depth of connection and meaning we assign to them. [...] In professional settings, this question is typically a polite inquiry. Additionally, in times of stress or crisis, asking “How are you?” can take on a more empathetic tone, showing a desire to check in on someone’s emotional state. Therefore, understanding when and how to use this phrase can help you deal with social interactions with greater sensitivity to context and social etiquette. [...] The phrase “How are you?” is a common greeting, but its intent can vary depending on the context in which it is used. Diane Darling, a renowned speaker, instructor and author says, “Context is how I recommend that people respond to the question ‘how are you’. Is the person someone you know well? Acquaintance? Neighbor? Family members? Is the question about something that recently happened (job promotion, death in the family) or is it a cordiality? Assuming the latter, I encourage people to', 'score': 0.79022324}, {'title': 'What does it mean when someone says “how are you”? - Quora', 'url': 'https://www.quora.com/What-does-it-mean-when-someone-says-how-are-you', 'content': 'This is a VERY common expression (question) in English. It is a simple inquiry as to someone’s health. It literally asks that person, in effect how they feel and/or how is the status of their physical and/or mental health.\\n\\nIt could also be taken as a simple inquiry as to someone’s psychological makeup or social status.\\n\\nAs in any person answering an inquiry, the person being questioned has many options for conceivably pertinent replies.\\n\\nHere are a few typical answers: [...] As in any person answering an inquiry, the person being questioned has many options for conceivably pertinent replies.\\n\\nHere are a few typical answers:\\n\\n   I am doing well, thank you. (polite)\\n   I’m all right. How are you?\\n   Oh, I’m not feeling especially well, thanks for asking. (polite)\\n   Dude/\\n\\nContinue Reading [...] Human for life · Author has 6.6K answers and 18.6M answer views\\n\\n · 8y\\n\\nOriginally Answered: What is the meaning of \"how are you doing\"? ·\\n\\nThis is a VERY common expression (question) in English. It is a simple inquiry as to someone’s health. It literally asks that person, in effect how they feel and/or how is the status of their physical and/or mental health.\\n\\nIt could also be taken as a simple inquiry as to someone’s psychological makeup or social status.', 'score': 0.78473216}]\u001b[0m\u001b[32;1m\u001b[1;3m\n",
      "Invoking: `tavily_search_results_json` with `{'query': 'how are you?'}`\n",
      "\n",
      "\n",
      "\u001b[0m\u001b[36;1m\u001b[1;3m[{'title': '\"How are you?\" | 60+ Different Ways to Ask & Respond to \"How are you?\"', 'url': 'https://eslforums.com/how-are-you/', 'content': '“How are you?” is a common greeting that is used to ask someone about their well-being or current state. It is usually used as a casual greeting between friends, colleagues, and family members.\\n\\nTo use “how are you?”, you can simply ask the question to the person you are greeting. For example:\\n\\n   Person 1: “Hey, how are you?”\\n   Person 2: “I’m doing well, thanks for asking. How about you?” [...] “How are you?” is a common greeting that is used to ask someone about their well-being or current state. It is usually used as a casual greeting between friends, colleagues, and family members. In this lesson, you will learn a list of 16 sentences you can use instead of “How are you?” in English and how to respond to it. Learn those words to use in your daily life.\\n\\nTable of Contents', 'score': 0.9061314}, {'title': 'What Is the Difference Between \"How Are You?\" and \"How ... - Readle', 'url': 'https://readle-app.com/en/blog/what-is-the-difference-between-how-are-you-and-how-are-you-doing/', 'content': '\"How are you?\" is a more personalized expression that focuses specifically on a person\\'s condition — their mood, state of health, or general well-being.\\n\\nIt is also a more formal form than \"How are you doing?\" and is usually used when speaking to a person you\\'ve met for the first time or someone you aren\\'t particularly close with. [...] While \"How are you?\" asks for a statement of a person\\'s condition, \"How are you doing?\" asks for a more detailed answer. This is a more casual form of greeting that can also mean \"How’s it going?\", \"How\\'s your day been so far?\" — aimed to find out how things are in general or whether everything is fine.\\n\\nAccording to a forum discussion at English Language & Usage Stack Exchange, the difference may also vary depending on the region. [...] Answer | Explanation\\nI\\'m fine, thanks. How are you? | This is by far one of the most socially acceptable answers and a basic form of social interaction that does not require any further details, regardless of your current life circumstances. Most people use this answer on a daily basis.\\nVery well, thank you. How are you? | This is a very formal way to answer this question, compared to \"Fine, thanks.”', 'score': 0.8872928}, {'title': \"50 Creative Ways to Ask 'How Are You' in English: From Formal to ...\", 'url': 'https://eslbuzz.com/how-are-you/', 'content': '“How are you?” is a common and polite way to start a conversation in English. However, there are other ways to ask this question, depending on the context and formality of the situation. For example, in a formal setting, one might use phrases such as “How do you do?” or “How have you been?” while in an informal setting, phrases like “What’s up?” or “How’s it going?” may be more appropriate. Additionally, there are idiomatic ways to ask “how are you” that are playful and unique, such as “What’s [...] 1.  “How do you do?” – This is a very formal and traditional way of asking “how are you” and is often used when meeting someone for the first time, in a professional or formal setting, or when addressing someone with a higher social or professional status than yourself. It is important to wait for the other person’s response and not to say “good, and you?” in return, as it is not considered part of the conversation but a purely politeness formula.', 'score': 0.83093774}, {'title': '201 Funny And Witty Responses To The Question \"How Are You?\"', 'url': 'https://www.stylecraze.com/articles/how-to-respond-to-how-are-you/', 'content': 'In some Middle Eastern countries, “How are you?” might be followed by questions about family and well-being, with answers expected to be more elaborate.\\n\\nIn professional or formal settings, especially in cultures like the U.S. or the U.K., “How are you?” is answered with, “I’m well, thank you.”\\n\\nThese cultural variations highlight how social norms shape not only the words we say but also the depth of connection and meaning we assign to them. [...] In professional settings, this question is typically a polite inquiry. Additionally, in times of stress or crisis, asking “How are you?” can take on a more empathetic tone, showing a desire to check in on someone’s emotional state. Therefore, understanding when and how to use this phrase can help you deal with social interactions with greater sensitivity to context and social etiquette. [...] The phrase “How are you?” is a common greeting, but its intent can vary depending on the context in which it is used. Diane Darling, a renowned speaker, instructor and author says, “Context is how I recommend that people respond to the question ‘how are you’. Is the person someone you know well? Acquaintance? Neighbor? Family members? Is the question about something that recently happened (job promotion, death in the family) or is it a cordiality? Assuming the latter, I encourage people to', 'score': 0.8235701}, {'title': 'What does it mean when someone says “how are you”? - Quora', 'url': 'https://www.quora.com/What-does-it-mean-when-someone-says-how-are-you', 'content': 'This is a VERY common expression (question) in English. It is a simple inquiry as to someone’s health. It literally asks that person, in effect how they feel and/or how is the status of their physical and/or mental health.\\n\\nIt could also be taken as a simple inquiry as to someone’s psychological makeup or social status.\\n\\nAs in any person answering an inquiry, the person being questioned has many options for conceivably pertinent replies.\\n\\nHere are a few typical answers: [...] As in any person answering an inquiry, the person being questioned has many options for conceivably pertinent replies.\\n\\nHere are a few typical answers:\\n\\n   I am doing well, thank you. (polite)\\n   I’m all right. How are you?\\n   Oh, I’m not feeling especially well, thanks for asking. (polite)\\n   Dude/\\n\\nContinue Reading [...] I am doing well, thank you. (polite)\\n   I’m all right. How are you?\\n   Oh, I’m not feeling especially well, thanks for asking. (polite)\\n   Dude/girl, I’m great! What’s up with you? (casual)\\n   I’m a single guy in my teens, looking for a cool place to practice skating. I’m tall and funny, too. (semi-’clueless’)\\n   I’m doing great. How’re you doin’? (casual)\\n\\nUpvote ·\\n\\n9928\\n\\n92\\n\\nSponsored by Fisher Investments\\n\\nShould Tariffs Change Your Investment Strategy?', 'score': 0.80771893}]\u001b[0m\u001b[32;1m\u001b[1;3m\n",
      "Invoking: `tavily_search_results_json` with `{'query': 'how are you doing?'}`\n",
      "\n",
      "\n",
      "\u001b[0m\u001b[36;1m\u001b[1;3m[{'title': '“How Are You Doing?” & “How Are You?”: Meaning, Usage & More', 'url': 'https://www.wikihow.com/How-Are-You-Doing', 'content': '“How are you doing?” is a popular casual expression used by English speakers to ask how another person is feeling or dealing with a specific situation. This question is often confused with the phrase “How are you?” which is more commonly used as an informal greeting. While “How are you doing?” often needs a detailed, direct answer, “How are you?” just requires a short positive description. Keep reading to learn what these effective conversation starters mean, how they’re used, how to reply to [...] ## “How Are You Doing?” vs. “How Are You?”\\n\\n“How are you doing?” is a casual question that asks for a longer, more detailed answer about the other person’s emotions or their general well-being. “How are you?” is a polite informal greeting that only asks for a short positive response like “good,” “not bad,” or “I’m doing well.”\\n\\n## Steps\\n\\n### What does “How are you doing?” mean?\\n\\nPDF download\\n“How are you doing?” is a casual question about someone’s well-being. [...] This article was reviewed by Tami Claytor and by wikiHow staff writer, Cheyenne Main. Tami Claytor is an Etiquette Coach, Image Consultant, and the Owner of Always Appropriate Image and Etiquette Consulting in New York, New York. With over 20 years of experience, Tami specializes in teaching etiquette classes to individuals, students, companies, and community organizations. Tami has spent decades studying cultures through her extensive travels across five continents and has created cultural', 'score': 0.89279664}, {'title': 'What Is the Difference Between \"How Are You?\" and \"How ... - Readle', 'url': 'https://readle-app.com/en/blog/what-is-the-difference-between-how-are-you-and-how-are-you-doing/', 'content': '\"How are you?\" is a more personalized expression that focuses specifically on a person\\'s condition — their mood, state of health, or general well-being.\\n\\nIt is also a more formal form than \"How are you doing?\" and is usually used when speaking to a person you\\'ve met for the first time or someone you aren\\'t particularly close with. [...] Thus, while \"How are you?\" can be considered a bland greeting for someone you haven\\'t seen for a while, \"How are you doing?\" spoken in full (as opposed to being shortened to \"Howyadoin?\") may be an actual inquiry - for example, when you\\'re meeting with an old friend. The latter usually occurs when there is some expectation that the subject might not be doing well. [...] While \"How are you?\" asks for a statement of a person\\'s condition, \"How are you doing?\" asks for a more detailed answer. This is a more casual form of greeting that can also mean \"How’s it going?\", \"How\\'s your day been so far?\" — aimed to find out how things are in general or whether everything is fine.\\n\\nAccording to a forum discussion at English Language & Usage Stack Exchange, the difference may also vary depending on the region.', 'score': 0.83678174}, {'title': \"What do you mean by 'How are you doing' and what's the proper ...\", 'url': 'https://www.reddit.com/r/ENGLISH/comments/1k7eb93/what_do_you_mean_by_how_are_you_doing_and_whats/', 'content': 'How are you/how are you doing means hello, unless there is other context. Treat it as a casual greeting nothing more. Many languages have this', 'score': 0.82694983}, {'title': 'How to Respond to \"How Are You Doing?\" (With Examples) - HowChimp', 'url': 'https://howchimp.com/how-to-respond-to-how-are-you/', 'content': 'When we’re asked, “How are you?” we usually respond with “I’m fine,” “I’m good,” or “I’m doing alright,” even though we’re not.\\n\\nPeople tend to do or say this because they sometimes don’t want to burden people with their problems, so when you’re asked “How are you?” you can reply with something positive, and you can either return the question or end the conversation with an: “I’m fine, thank you.” [...] “How are you?” is a question people often ask whether you know the person or not. This phrase can be used as asking someone about their health. But usually, it’s used as a simple, friendly greeting. “How are you?” is also another way to say hello to someone. [...] How to Respond to “How Are You Doing?” (With Examples)\\n\\nHow are you doing is one of the most common greetings in the English language. When someone asks, “How are you?” it is important to respond so as not to be awkward or insulting. But how should you respond to this question? How to respond to “How are you?” or “How are you doing?”\\n\\nWhen someone says, “How are you?”, you can respond with any of these three common responses:', 'score': 0.82082915}, {'title': \"The Best Formal & Creative Responses to 'How Are You?'\", 'url': 'https://pumble.com/blog/how-to-respond-to-how-are-you/', 'content': 'If you want to showcase your personality with your reply to a _“How are you?”_ from a coworker, there are plenty of other hilarious ways to respond to the question.\\n\\nSo, if you’re looking for funny and creative ways to answer _“How are you?”_ or _“How are you doing?”_, try one of the following suggestions.\\n\\nWhen you’re feeling fairly well, you can answer the question with:\\n\\n> _“Medium well.”_\\n\\n> _“Good enough!”_\\n\\n> _“Better than I deserve.”_\\n\\n> _“Not bad for a human.”_ [...] As we all know, professional communication can feel somewhat formulaic at times — as though there’s a set of acceptable responses for every question we are asked.\\n\\nThat’s why coming up with the perfect reply to a coworker’s _“How are you doing?”_ can momentarily mystify even the most sociable among us.\\n\\nShould you take the question as a basic greeting and respond accordingly?\\n\\nConversely, should you take it as a conversation starter, and deliver a more personal response? [...] How to answer variations of _“How are you?__”_\\n----------------------------------------------\\n\\nAs we have demonstrated in some of our examples, asking _“How are you?”_ isn’t the only way someone might inquire about your general wellbeing in a professional environment.\\n\\nVariations to this question include, among others:\\n\\n> _“How are you doing?”_\\n\\n> _“What did you do today?”_\\n\\n> _“How are you keeping?”_\\n\\n> _“How’s life treating you?”_', 'score': 0.8029425}]\u001b[0m\u001b[32;1m\u001b[1;3m```json\n",
      "{\"tool_call\": \"\n",
      "\n",
      "\n",
      "\n",
      "\n",
      "\n",
      "\n",
      "\u001b[0m\n",
      "\n",
      "\u001b[1m> Finished chain.\u001b[0m\n"
     ]
    },
    {
     "data": {
      "text/plain": [
       "{'input': 'hello how are you ?',\n",
       " 'output': '```json\\n{\"tool_call\": \"\\n\\n\\n\\n\\n\\n\\n'}"
      ]
     },
     "execution_count": 27,
     "metadata": {},
     "output_type": "execute_result"
    }
   ],
   "source": [
    "agent_executor.invoke({\"input\": \"hello how are you ?\"})"
   ]
  },
  {
   "cell_type": "code",
   "execution_count": null,
   "id": "5febbc0f",
   "metadata": {},
   "outputs": [],
   "source": []
  }
 ],
 "metadata": {
  "kernelspec": {
   "display_name": "env",
   "language": "python",
   "name": "python3"
  },
  "language_info": {
   "codemirror_mode": {
    "name": "ipython",
    "version": 3
   },
   "file_extension": ".py",
   "mimetype": "text/x-python",
   "name": "python",
   "nbconvert_exporter": "python",
   "pygments_lexer": "ipython3",
   "version": "3.13.3"
  }
 },
 "nbformat": 4,
 "nbformat_minor": 5
}
