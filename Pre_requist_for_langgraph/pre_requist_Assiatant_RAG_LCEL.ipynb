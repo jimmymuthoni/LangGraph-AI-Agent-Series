{
 "cells": [
  {
   "cell_type": "code",
   "execution_count": 1,
   "id": "5bea848b",
   "metadata": {},
   "outputs": [
    {
     "data": {
      "text/plain": [
       "True"
      ]
     },
     "execution_count": 1,
     "metadata": {},
     "output_type": "execute_result"
    }
   ],
   "source": [
    "import os\n",
    "from dotenv import load_dotenv\n",
    "load_dotenv()"
   ]
  },
  {
   "cell_type": "code",
   "execution_count": 2,
   "metadata": {},
   "outputs": [],
   "source": [
    "LANGCHAIN_API_KEY = os.getenv(\"LANGCHAIN_API_KEY\")\n",
    "TAVILY_API_KEY = os.getenv(\"TAVILY_API_KEY\")\n",
    "GOOGLE_API_KEY = os.getenv(\"GOOGLE_API_KEY\")\n",
    "GROQ_API_KEY = os.getenv(\"GROQ_API_KEY\")\n",
    "LANGCHAIN_PROJECT =  os.getenv(\"LANGCHAIN_PROJECT\")"
   ]
  },
  {
   "cell_type": "code",
   "execution_count": 3,
   "metadata": {},
   "outputs": [],
   "source": [
    "os.environ['GOOGLE_API_KEY'] = GOOGLE_API_KEY\n",
    "os.environ['TAVILY_API_KEY'] = TAVILY_API_KEY\n",
    "os.environ['GROQ_API_KEY'] = GROQ_API_KEY\n",
    "os.environ['LANGCHAIN_API_KEY'] = LANGCHAIN_API_KEY\n",
    "os.environ['LANGCHAIN_TRACING_V2'] = \"true\"\n",
    "os.environ[\"LANGCHAIN_ENDPONT\"] =  \"https://api.smith.langchain.com\"\n",
    "os.environ['LANGCHAIN_PROJECT'] = LANGCHAIN_PROJECT"
   ]
  },
  {
   "cell_type": "code",
   "execution_count": 4,
   "id": "b0a0ae21",
   "metadata": {},
   "outputs": [
    {
     "data": {
      "text/plain": [
       "'Langgraph end to end'"
      ]
     },
     "execution_count": 4,
     "metadata": {},
     "output_type": "execute_result"
    }
   ],
   "source": [
    "LANGCHAIN_PROJECT"
   ]
  },
  {
   "cell_type": "code",
   "execution_count": 5,
   "metadata": {},
   "outputs": [
    {
     "name": "stderr",
     "output_type": "stream",
     "text": [
      "/home/brian/Documents/JIM/Langgraph/env/lib/python3.13/site-packages/tqdm/auto.py:21: TqdmWarning: IProgress not found. Please update jupyter and ipywidgets. See https://ipywidgets.readthedocs.io/en/stable/user_install.html\n",
      "  from .autonotebook import tqdm as notebook_tqdm\n"
     ]
    }
   ],
   "source": [
    "#reading model from google\n",
    "from langchain_google_genai import GoogleGenerativeAIEmbeddings\n",
    "from langchain_google_genai import ChatGoogleGenerativeAI\n",
    "   \n",
    "embeddings = GoogleGenerativeAIEmbeddings(model = \"models/embedding-001\")\n",
    "# llm = ChatGoogleGenerativeAI(model=\"gemini-1.5-pro\")\n"
   ]
  },
  {
   "cell_type": "code",
   "execution_count": 6,
   "id": "69ba27ad",
   "metadata": {},
   "outputs": [],
   "source": [
    "from langchain_groq import ChatGroq\n",
    "import os\n",
    "llm=ChatGroq(model_name = \"gemma2-9b-it\")"
   ]
  },
  {
   "cell_type": "code",
   "execution_count": null,
   "id": "08fa827f",
   "metadata": {},
   "outputs": [],
   "source": []
  },
  {
   "cell_type": "markdown",
   "id": "a3e5afb6",
   "metadata": {},
   "source": [
    "### Simple AI Assistant"
   ]
  },
  {
   "cell_type": "code",
   "execution_count": 7,
   "id": "50e5655a",
   "metadata": {},
   "outputs": [
    {
     "name": "stdout",
     "output_type": "stream",
     "text": [
      "Hello! 👋  How can I help you today? 😄\n",
      "\n",
      "Hello! 👋  How can I help you today? 😄\n",
      "\n",
      "It seems like you're asking me to be quiet. \n",
      "\n",
      "Is there anything else I can help you with?  😊 \n",
      "\n",
      "Goodbye take care\n"
     ]
    }
   ],
   "source": [
    "while True:\n",
    "    question = input(\"Type your question. If you want to quit the chat write quit.\")\n",
    "    if question != \"quit\":\n",
    "        print(llm.invoke(question).content)\n",
    "    else:\n",
    "        print(\"Goodbye take care\")\n",
    "        break"
   ]
  },
  {
   "cell_type": "code",
   "execution_count": 8,
   "id": "8c1b94f4",
   "metadata": {},
   "outputs": [],
   "source": [
    "from langchain_core.chat_history import BaseChatMessageHistory\n",
    "from langchain_core.chat_history import InMemoryChatMessageHistory\n",
    "from langchain_core.runnables.history import RunnableWithMessageHistory\n",
    "from langchain_core.messages import AIMessage"
   ]
  },
  {
   "cell_type": "code",
   "execution_count": 9,
   "id": "fd8bbe99",
   "metadata": {},
   "outputs": [],
   "source": [
    "store = {}\n",
    "\n",
    "def get_session_history(session_id: str) -> BaseChatMessageHistory:\n",
    "    if session_id not in store:\n",
    "        store[session_id] = InMemoryChatMessageHistory()\n",
    "    return store[session_id]\n",
    "\n",
    "config = {\"configurable\": {\"session_id\": \"firstchat\"}}\n",
    "model_with_memory = RunnableWithMessageHistory(llm, get_session_history)"
   ]
  },
  {
   "cell_type": "code",
   "execution_count": 10,
   "id": "d1874618",
   "metadata": {},
   "outputs": [
    {
     "data": {
      "text/plain": [
       "\"Hi Jim, it's nice to meet you! What can I do for you today?\\n\""
      ]
     },
     "execution_count": 10,
     "metadata": {},
     "output_type": "execute_result"
    }
   ],
   "source": [
    "model_with_memory.invoke((\"Hi, I'm Jim\"), config=config).content"
   ]
  },
  {
   "cell_type": "code",
   "execution_count": 11,
   "id": "d65662a4",
   "metadata": {},
   "outputs": [
    {
     "data": {
      "text/plain": [
       "'You told me your name is Jim! 😊  \\n\\nIs there anything else I can help you with?\\n'"
      ]
     },
     "execution_count": 11,
     "metadata": {},
     "output_type": "execute_result"
    }
   ],
   "source": [
    "model_with_memory.invoke((\"tell me my what is my name ?\"), config=config).content"
   ]
  },
  {
   "cell_type": "code",
   "execution_count": 12,
   "id": "cfebf6b2",
   "metadata": {},
   "outputs": [
    {
     "data": {
      "text/plain": [
       "{'firstchat': InMemoryChatMessageHistory(messages=[HumanMessage(content=\"Hi, I'm Jim\", additional_kwargs={}, response_metadata={}), AIMessage(content=\"Hi Jim, it's nice to meet you! What can I do for you today?\\n\", additional_kwargs={}, response_metadata={'token_usage': {'completion_tokens': 22, 'prompt_tokens': 15, 'total_tokens': 37, 'completion_time': 0.04, 'prompt_time': 0.00187667, 'queue_time': 0.2378481, 'total_time': 0.04187667}, 'model_name': 'gemma2-9b-it', 'system_fingerprint': 'fp_10c08bf97d', 'finish_reason': 'stop', 'logprobs': None}, id='run--a5c91b89-6f27-45af-8fda-185e3b167010-0', usage_metadata={'input_tokens': 15, 'output_tokens': 22, 'total_tokens': 37}), HumanMessage(content='tell me my what is my name ?', additional_kwargs={}, response_metadata={}), AIMessage(content='You told me your name is Jim! 😊  \\n\\nIs there anything else I can help you with?\\n', additional_kwargs={}, response_metadata={'token_usage': {'completion_tokens': 24, 'prompt_tokens': 53, 'total_tokens': 77, 'completion_time': 0.043636364, 'prompt_time': 0.0036928, 'queue_time': 0.23900005900000001, 'total_time': 0.047329164}, 'model_name': 'gemma2-9b-it', 'system_fingerprint': 'fp_10c08bf97d', 'finish_reason': 'stop', 'logprobs': None}, id='run--7dfb81c5-d0a3-4f73-9e5e-b010af310331-0', usage_metadata={'input_tokens': 53, 'output_tokens': 24, 'total_tokens': 77})])}"
      ]
     },
     "execution_count": 12,
     "metadata": {},
     "output_type": "execute_result"
    }
   ],
   "source": [
    "store"
   ]
  },
  {
   "cell_type": "code",
   "execution_count": null,
   "id": "bfc45b4e",
   "metadata": {},
   "outputs": [],
   "source": []
  },
  {
   "cell_type": "markdown",
   "id": "20be6456",
   "metadata": {},
   "source": [
    "### RAG with LCEL"
   ]
  },
  {
   "cell_type": "code",
   "execution_count": 13,
   "id": "210119b1",
   "metadata": {},
   "outputs": [],
   "source": [
    "from langchain_community.document_loaders import TextLoader, DirectoryLoader\n",
    "from langchain.text_splitter import RecursiveCharacterTextSplitter\n",
    "from langchain_community.vectorstores import Chroma\n",
    "from langchain import PromptTemplate\n",
    "from langchain_core.runnables import RunnableParallel, RunnablePassthrough, RunnableLambda\n",
    "from langchain_core.output_parsers import StrOutputParser"
   ]
  },
  {
   "cell_type": "code",
   "execution_count": 14,
   "id": "29b84774",
   "metadata": {},
   "outputs": [
    {
     "name": "stderr",
     "output_type": "stream",
     "text": [
      "Failed to send telemetry event ClientStartEvent: capture() takes 1 positional argument but 3 were given\n",
      "Failed to send telemetry event ClientCreateCollectionEvent: capture() takes 1 positional argument but 3 were given\n"
     ]
    }
   ],
   "source": [
    "# reading the text files from source directory\n",
    "loader = DirectoryLoader('../data', glob=\"./*.txt\", loader_cls=TextLoader)\n",
    "docs = loader.load()\n",
    "\n",
    "#creating chunks\n",
    "text_splitter = RecursiveCharacterTextSplitter(\n",
    "    chunk_size=50,\n",
    "    chunk_overlap=10,\n",
    "    length_function=len\n",
    ")\n",
    "new_docs = text_splitter.split_documents(documents=docs)\n",
    "doc_strings = [doc.page_content for doc in new_docs]\n",
    "\n",
    "db = Chroma.from_documents(new_docs, embeddings)\n",
    "retriever = db.as_retriever(search_kwargs={\"k\": 4})"
   ]
  },
  {
   "cell_type": "code",
   "execution_count": 15,
   "id": "56075c5d",
   "metadata": {},
   "outputs": [],
   "source": [
    "template = \"\"\"Answer the question based only on the following context:\n",
    "{context}\n",
    "\n",
    "Question: {question}\n",
    "\"\"\"\n",
    "prompt = PromptTemplate.from_template(template)"
   ]
  },
  {
   "cell_type": "code",
   "execution_count": 16,
   "id": "c3145dd2",
   "metadata": {},
   "outputs": [],
   "source": [
    "retrieval_chain = (\n",
    "    RunnableParallel({\"context\": retriever, \"question\": RunnablePassthrough()})\n",
    "    | prompt\n",
    "    | llm\n",
    "    | StrOutputParser()\n",
    "    )"
   ]
  },
  {
   "cell_type": "code",
   "execution_count": 17,
   "id": "f07f1096",
   "metadata": {},
   "outputs": [
    {
     "name": "stderr",
     "output_type": "stream",
     "text": [
      "Failed to send telemetry event CollectionQueryEvent: capture() takes 1 positional argument but 3 were given\n"
     ]
    },
    {
     "name": "stdout",
     "output_type": "stream",
     "text": [
      "Llama 3 is a large language model. Here are 3 important points:\n",
      "\n",
      "* **8B parameter version:** There is a version of Llama 3 with 8 billion parameters. \n",
      "* **Released in April 2024:**  Llama 3 was released to the public in April 2024.\n",
      "* **Accessible outside:** Versions of Llama 3 are available for use outside of Meta's internal systems. \n",
      "\n",
      "\n",
      "Let me know if you have any other questions! \n",
      "\n"
     ]
    }
   ],
   "source": [
    "question =\"what is llama3? can you highlight 3 important points?\"\n",
    "print(retrieval_chain.invoke(question))"
   ]
  },
  {
   "cell_type": "code",
   "execution_count": null,
   "id": "0b1803b3",
   "metadata": {},
   "outputs": [],
   "source": []
  },
  {
   "cell_type": "markdown",
   "id": "820de9fb",
   "metadata": {},
   "source": [
    "### Tools And Agents"
   ]
  },
  {
   "cell_type": "code",
   "execution_count": 18,
   "id": "0266a96e",
   "metadata": {},
   "outputs": [],
   "source": [
    "from langchain_community.tools import WikipediaQueryRun\n",
    "from langchain_community.utilities import WikipediaAPIWrapper"
   ]
  },
  {
   "cell_type": "code",
   "execution_count": 20,
   "id": "f79a2546",
   "metadata": {},
   "outputs": [],
   "source": [
    "api_wrapper = WikipediaAPIWrapper()\n",
    "tool = WikipediaQueryRun(api_wrapper = api_wrapper)"
   ]
  },
  {
   "cell_type": "code",
   "execution_count": 21,
   "id": "f63122ec",
   "metadata": {},
   "outputs": [
    {
     "data": {
      "text/plain": [
       "'wikipedia'"
      ]
     },
     "execution_count": 21,
     "metadata": {},
     "output_type": "execute_result"
    }
   ],
   "source": [
    "tool.name"
   ]
  },
  {
   "cell_type": "code",
   "execution_count": 22,
   "id": "3611a0b0",
   "metadata": {},
   "outputs": [
    {
     "data": {
      "text/plain": [
       "'A wrapper around Wikipedia. Useful for when you need to answer general questions about people, places, companies, facts, historical events, or other subjects. Input should be a search query.'"
      ]
     },
     "execution_count": 22,
     "metadata": {},
     "output_type": "execute_result"
    }
   ],
   "source": [
    "tool.description"
   ]
  },
  {
   "cell_type": "code",
   "execution_count": 23,
   "id": "dfbfc6b8",
   "metadata": {},
   "outputs": [
    {
     "data": {
      "text/plain": [
       "{'query': {'description': 'query to look up on wikipedia',\n",
       "  'title': 'Query',\n",
       "  'type': 'string'}}"
      ]
     },
     "execution_count": 23,
     "metadata": {},
     "output_type": "execute_result"
    }
   ],
   "source": [
    "tool.args"
   ]
  },
  {
   "cell_type": "code",
   "execution_count": 26,
   "id": "cb7dc4f5",
   "metadata": {},
   "outputs": [
    {
     "name": "stdout",
     "output_type": "stream",
     "text": [
      "Page: LangChain\n",
      "Summary: LangChain is a software framework that helps facilitate the integration of large language models (LLMs) into applications. As a language model integration framework, LangChain's use-cases largely overlap with those of language models in general, including document analysis and summarization, chatbots, and code analysis.\n",
      "\n",
      "\n",
      "\n",
      "Page: List of unsolved problems in mathematics\n",
      "Summary: Many mathematical problems have been stated but not yet solved. These problems come from many areas of mathematics, such as theoretical physics, computer science, algebra, analysis, combinatorics, algebraic, differential, discrete and Euclidean geometries, graph theory, group theory, model theory, number theory, set theory, Ramsey theory, dynamical systems, and partial differential equations. Some problems belong to more than one discipline and are studied using techniques from different areas. Prizes are often awarded for the solution to a long-standing problem, and some lists of unsolved problems, such as the Millennium Prize Problems, receive considerable attention.\n",
      "This list is a composite of notable unsolved problems mentioned in previously published lists, including but not limited to lists considered authoritative, and the problems listed here vary widely in both difficulty and importance.\n",
      "\n",
      "\n",
      "\n",
      "Page: Milvus (vector database)\n",
      "Summary: Milvus is a distributed vector database developed by Zilliz. It is available as both open-source software and a cloud service.\n",
      "Milvus is an open-source project under LF AI & Data Foundation distributed under the Apache License 2.0.\n",
      "\n",
      "\n"
     ]
    }
   ],
   "source": [
    "print(tool.run({\"query\": \"LangGraph\"}))"
   ]
  },
  {
   "cell_type": "code",
   "execution_count": 27,
   "id": "d975f403",
   "metadata": {},
   "outputs": [],
   "source": [
    "from langchain_community.tools import YouTubeSearchTool\n",
    "youtube_tool = YouTubeSearchTool()"
   ]
  },
  {
   "cell_type": "code",
   "execution_count": 28,
   "id": "7c9bda3a",
   "metadata": {},
   "outputs": [
    {
     "data": {
      "text/plain": [
       "'youtube_search'"
      ]
     },
     "execution_count": 28,
     "metadata": {},
     "output_type": "execute_result"
    }
   ],
   "source": [
    "youtube_tool.name"
   ]
  },
  {
   "cell_type": "code",
   "execution_count": 30,
   "id": "0ede996e",
   "metadata": {},
   "outputs": [
    {
     "data": {
      "text/plain": [
       "\"['https://www.youtube.com/watch?v=JxgmHe2NyeY&pp=ygUKS3Jpc2ggTmFpaw%3D%3D', 'https://www.youtube.com/watch?v=p4pHsuEf4Ms&pp=ygUKS3Jpc2ggTmFpaw%3D%3D']\""
      ]
     },
     "execution_count": 30,
     "metadata": {},
     "output_type": "execute_result"
    }
   ],
   "source": [
    "youtube_tool.run(\"Krish Naik\")"
   ]
  },
  {
   "cell_type": "code",
   "execution_count": 31,
   "id": "54af6d5d",
   "metadata": {},
   "outputs": [
    {
     "name": "stderr",
     "output_type": "stream",
     "text": [
      "/tmp/ipykernel_67572/706410539.py:2: LangChainDeprecationWarning: The class `TavilySearchResults` was deprecated in LangChain 0.3.25 and will be removed in 1.0. An updated version of the class exists in the :class:`~langchain-tavily package and should be used instead. To use it run `pip install -U :class:`~langchain-tavily` and import as `from :class:`~langchain_tavily import TavilySearch``.\n",
      "  tavily_tool = TavilySearchResults()\n"
     ]
    }
   ],
   "source": [
    "from langchain_community.tools.tavily_search import TavilySearchResults\n",
    "tavily_tool = TavilySearchResults()"
   ]
  },
  {
   "cell_type": "code",
   "execution_count": null,
   "id": "7bd5db2e",
   "metadata": {},
   "outputs": [
    {
     "data": {
      "text/plain": [
       "[{'title': 'Israel-Iran conflict: A timeline of how the attacks unfolded',\n",
       "  'url': 'https://www.independent.co.uk/news/world/middle-east/israel-iran-conflict-timeline-attacks-b2770765.html',\n",
       "  'content': 'In a major escalation, Israel announced on Friday morning that around 200 Israeli Air Force aircraft dropped 330 munitions on around 100 targets in total overnight, hitting six cities including Tehran and Iran’s nuclear facility in Natanz.\\n\\nAtleast 20 senior commanders were killed, two regional sources told _Reuters_, including the chief of staff of Iran’s armed forces, and senior leaders in the Revolutionary Guards. [...] Overnight on Saturday, Israel targeted Iran’s defence ministry headquarters in Tehran, while footage showed a blaze raging at the nearby Shahran oil depot.\\n\\nAround a million people were forced into air raid shelters as sirens were heard in Tel Aviv and Jerusalem. Nearly 200 were wounded and six killed in a strike on an eight-storey building in Bat Yam, a city south of Tel Aviv, officials said. Four civilians were also reported dead in the predominantly Palestinian town of Tamra. [...] But Israel insisted just seven out of fewer than 100 missiles fired by Iran overnight had landed in Israel. Israel’s military also claimed to have achieved aerial superiority over Iran and to have destroyed more than a third of Iran’s surface-to-surface missile launchers.\\n\\nIran also announced that dozens of alleged saboteurs and “spies” linked to Israel had been arrested since the start of the conflict.',\n",
       "  'score': 0.43669468},\n",
       " {'title': 'A timeline of conflict between Israel and Iran | AP News',\n",
       "  'url': 'https://apnews.com/article/israel-iran-timeline-tensions-conflict-66764c2843d62757d83e4a486946bcb8',\n",
       "  'content': 'ByTHE ASSOCIATED PRESS\\n\\nUpdated [hour]:[minute] [AMPM] [timezone], [monthFull] [day], [year]Updated 8:38 AM UTC, June 15, 2025\\n\\nShare\\n\\n Share \\n\\n   Facebook\\n    Copy Link copied \\n   Print)\\n   Email\\n   X\\n   LinkedIn\\n   Bluesky\\n   Flipboard\\n   Pinterest\\n   Reddit\\n\\nIsrael and Iran opened a new chapter in their long history of conflict when Israel launched a major attack with strikes early Friday that set off explosions in the Iranian capital of Tehran. [...] Feb. 14, 2024 — An Israeli sabotage attack causes multiple explosions on an Iranian natural gas pipeline running from Iran’s western Chaharmahal and Bakhtiari province to cities on the Caspian Sea.\\n\\nApril 1, 2024 — An Israeli airstrike demolishes Iran’s Consulate in Damascus, Syria, killing 16 people, including two Iranian generals. [...] April 30, 2025 — Iran executes a man it said worked for Israel’s Mossad foreign intelligence agency and played a role in the killing of Revolutionary Guard Col. Hassan Sayyad Khodaei in Tehran on May 22, 2022.\\n\\nFriday, June 13, 2025 — Israel launches blistering attacks on the heart of Iran’s nuclear and military structure, deploying warplanes and drones previously smuggled into the country to assault key facilities and kill top generals and scientists.',\n",
       "  'score': 0.39796236},\n",
       " {'title': \"Israel-Iran Conflict 2025 Explained: Timeline, Causes & What's Next\",\n",
       "  'url': 'https://defensefeeds.com/analysis/conflicts/israel-iran-conflict/',\n",
       "  'content': 'The situation has not gone unnoticed internationally. The US role in the Israel-Iran conflict has become increasingly pronounced. While Washington has publicly backed Israel’s right to defend itself, officials have also urged restraint, wary of being drawn into a broader regional war. U.S. air and naval assets have reportedly been repositioned closer to the Persian Gulf, signaling readiness without direct engagement—at least for now. Some observers suggest this reflects a hedging strategy:',\n",
       "  'score': 0.3624957},\n",
       " {'title': 'Iran–Israel proxy conflict - Wikipedia',\n",
       "  'url': 'https://en.wikipedia.org/wiki/Iran%E2%80%93Israel_proxy_conflict',\n",
       "  'content': 'It was reported in the end of April that Israel killed an IRGC operative in Tehran who was allegedly involved in targeting Jews in Germany.( [...] On 15 November, an oil tanker owned by an Israeli billionaire was attacked off the coast of Oman by an Iranian drone belonging to the IRGC, causing damage but no injuries.( The same day security services in Georgia announced they foiled an Iranian plot to assassinate an Israeli businessman in that country, which was supposed to have been carried out by a Pakistani hit squad hired by Iran and assisted by the IRGC.( On 23 November, Iran blamed Israel for the death of a senior adviser of the [...] On June 13 2025 Israel initiated Operation Rising Lion, a large‑scale aerial assault targeting Iranian nuclear facilities, missile factories, military sites, and commanders across cities including Tehran and Natanz. Among the targets were also Revolutionary Guard commander Hossein Salami and other senior IRGC leaders were reportedly killed. Iranian state media also confirm deaths of nuclear scientists and claim civilian casualties in Tehran.(\\n\\nInternational responses\\n-----------------------',\n",
       "  'score': 0.3430341},\n",
       " {'title': 'Timeline of the Iran-Israel war - Wikipedia',\n",
       "  'url': 'https://en.wikipedia.org/wiki/Timeline_of_the_Iran–Israel_war',\n",
       "  'content': 'Israel downed three Iranian drones during the night between 17 and 18 June.(\\n\\nBy this date, the IDF estimated that Iran launched 400 missiles and 1,000 drones at Israel since the conflict began. It added that only 20 missiles impacted urban areas, causing far fewer casualties than Israel anticipated. Of the drones, less than 200 entered Israeli airspace, but none of them hit any targets.(\\n\\n### 19 June\\n\\nImage 11\\n\\nLocation of Iranian missile strike against civilians in Ramat Gan [...] conflict (2023–present) \"Israel–Hezbollah conflict (2023–present)\") (Killing of Fuad Shukr  Assassination of Hassan Nasrallah  2024 Israeli invasion of Lebanon) Gaza–Israel conflict  Gaza War (2008–2009) \"Gaza War (2008–2009)\")  2014 Gaza War  May 2023 Gaza–Israel clashes  Gaza war Iran–Israel conflict during the Syrian civil war  Golan border incidents Israel–Yemen conflict  Red Sea crisis  Galaxy Leader hijacking  2024 Houthi drone attack on Israel  July 2024 Israeli attacks on Yemen [...] In the night, Iran fired another barrage of missiles targeting northern Israel, killing five people and injuring at least 23 others. The Home Front Command put out phone alerts at 11 p.m., and citizens were cleared to leave shelters at 11:45.( A ballistic missile hit a two-story house in Tamra, killing a woman and wounding 14 others.( Four members of a family, including a woman and her two daughters, were killed in a separate missile strike.( A fire also broke out near the BAZAN oil refinery in',\n",
       "  'score': 0.32704523}]"
      ]
     },
     "execution_count": 32,
     "metadata": {},
     "output_type": "execute_result"
    }
   ],
   "source": [
    "tavily_tool.invoke({\"query\": \"What happened in the Israel Iran conflict ?\"})"
   ]
  }
 ],
 "metadata": {
  "kernelspec": {
   "display_name": "env",
   "language": "python",
   "name": "python3"
  },
  "language_info": {
   "codemirror_mode": {
    "name": "ipython",
    "version": 3
   },
   "file_extension": ".py",
   "mimetype": "text/x-python",
   "name": "python",
   "nbconvert_exporter": "python",
   "pygments_lexer": "ipython3",
   "version": "3.13.3"
  }
 },
 "nbformat": 4,
 "nbformat_minor": 5
}
