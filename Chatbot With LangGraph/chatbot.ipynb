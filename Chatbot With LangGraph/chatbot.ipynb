{
 "cells": [
  {
   "cell_type": "code",
   "execution_count": 40,
   "metadata": {},
   "outputs": [
    {
     "data": {
      "text/plain": [
       "'Hey there! 👋 How can I help you today?\\n'"
      ]
     },
     "execution_count": 40,
     "metadata": {},
     "output_type": "execute_result"
    }
   ],
   "source": [
    "from langchain_groq import ChatGroq\n",
    "llm = ChatGroq(model_name = \"Gemma2-9b-It\")\n",
    "llm.invoke(\"Hey there\").content"
   ]
  },
  {
   "cell_type": "code",
   "execution_count": 41,
   "id": "7d7850fe",
   "metadata": {},
   "outputs": [],
   "source": [
    "from langgraph.graph import StateGraph, MessagesState, START, END\n",
    "from langgraph.graph.message import add_messages\n",
    "from typing import Annotated, Literal, TypedDict\n",
    "from langchain_core.tools import tool\n",
    "from langchain_core.messages import HumanMessage\n",
    "from langgraph.checkpoint.memory import MemorySaver\n",
    "from langgraph.prebuilt import ToolNode"
   ]
  },
  {
   "cell_type": "code",
   "execution_count": 42,
   "metadata": {},
   "outputs": [],
   "source": [
    "def call_model(state: MessagesState):\n",
    "    messages = state['messages']\n",
    "    response = llm.invoke(messages)\n",
    "    return {\"messages\": [response]}"
   ]
  },
  {
   "cell_type": "code",
   "execution_count": 43,
   "metadata": {},
   "outputs": [],
   "source": [
    "workflow = StateGraph(MessagesState)\n",
    "workflow.add_node('chatbot', call_model)\n",
    "workflow.add_edge(START, \"chatbot\")\n",
    "workflow.add_edge('chatbot', END)\n",
    "app = workflow.compile()"
   ]
  },
  {
   "cell_type": "code",
   "execution_count": 44,
   "metadata": {},
   "outputs": [
    {
     "data": {
      "image/png": "[encoded data removed]",
      "text/plain": [
       "<IPython.core.display.Image object>"
      ]
     },
     "metadata": {},
     "output_type": "display_data"
    }
   ],
   "source": [
    "from IPython.display import Image, display\n",
    "try:\n",
    "    display(Image(app.get_graph().draw_mermaid_png()))\n",
    "except Exception as e:\n",
    "    print(e)"
   ]
  },
  {
   "cell_type": "code",
   "execution_count": 45,
   "id": "e59acb66",
   "metadata": {},
   "outputs": [
    {
     "data": {
      "text/plain": [
       "{'messages': [HumanMessage(content='Hey, my name is Jimmy', additional_kwargs={}, response_metadata={}, id='c5d2219f-e285-467e-96e5-328c129c2554'),\n",
       "  AIMessage(content=\"Hi Jimmy, it's nice to meet you! 👋 \\n\\nWhat can I do for you today? 😊\\n\", additional_kwargs={}, response_metadata={'token_usage': {'completion_tokens': 26, 'prompt_tokens': 15, 'total_tokens': 41, 'completion_time': 0.047272727, 'prompt_time': 0.0018867, 'queue_time': 0.16112472800000002, 'total_time': 0.049159427}, 'model_name': 'Gemma2-9b-It', 'system_fingerprint': 'fp_10c08bf97d', 'finish_reason': 'stop', 'logprobs': None}, id='run--7d7003fb-109f-410d-a19f-fa55570d3d25-0', usage_metadata={'input_tokens': 15, 'output_tokens': 26, 'total_tokens': 41})]}"
      ]
     },
     "execution_count": 45,
     "metadata": {},
     "output_type": "execute_result"
    }
   ],
   "source": [
    "input = {\"messages\": [\"Hey, my name is Jimmy\"]}\n",
    "app.invoke(input)"
   ]
  },
  {
   "cell_type": "code",
   "execution_count": 46,
   "id": "b657b8c5",
   "metadata": {},
   "outputs": [
    {
     "name": "stdout",
     "output_type": "stream",
     "text": [
      "Ouput from chatbot Node\n",
      "_____________\n",
      "{'messages': [AIMessage(content=\"Hi Jimmy! It's nice to meet you. 👋 \\n\\nWhat can I do for you today? 😊\\n\", additional_kwargs={}, response_metadata={'token_usage': {'completion_tokens': 26, 'prompt_tokens': 15, 'total_tokens': 41, 'completion_time': 0.047272727, 'prompt_time': 0.001952459, 'queue_time': 0.158064895, 'total_time': 0.049225186}, 'model_name': 'Gemma2-9b-It', 'system_fingerprint': 'fp_10c08bf97d', 'finish_reason': 'stop', 'logprobs': None}, id='run--1220dd0d-092b-4777-8f83-330b0961a59e-0', usage_metadata={'input_tokens': 15, 'output_tokens': 26, 'total_tokens': 41})]}\n",
      "\n",
      "\n"
     ]
    }
   ],
   "source": [
    "for output in app.stream(input):\n",
    "    for key, value in output.items():\n",
    "        print(f\"Ouput from {key} Node\")\n",
    "        print(\"_____________\")\n",
    "        print(value)\n",
    "        print(\"\\n\")"
   ]
  },
  {
   "cell_type": "code",
   "execution_count": 47,
   "id": "8f28c66b",
   "metadata": {},
   "outputs": [],
   "source": [
    "@tool\n",
    "def search(query: str):\n",
    "    \"\"\"This is a custom tool to check weather\"\"\"\n",
    "    if 'sf' in query.lower() or 'san francisco' in query.lower():\n",
    "        return \"It is 20 degrees and foggy.\"\n",
    "    return \"It is 35 degrees and sunny.\""
   ]
  },
  {
   "cell_type": "code",
   "execution_count": 48,
   "id": "889dbae6",
   "metadata": {},
   "outputs": [
    {
     "data": {
      "text/plain": [
       "'It is 20 degrees and foggy.'"
      ]
     },
     "execution_count": 48,
     "metadata": {},
     "output_type": "execute_result"
    }
   ],
   "source": [
    "search.invoke(\"What is the temperature in sf?\")"
   ]
  },
  {
   "cell_type": "code",
   "execution_count": 49,
   "id": "e95d3786",
   "metadata": {},
   "outputs": [
    {
     "data": {
      "text/plain": [
       "'It is 35 degrees and sunny.'"
      ]
     },
     "execution_count": 49,
     "metadata": {},
     "output_type": "execute_result"
    }
   ],
   "source": [
    "search.invoke(\"What is the temperature in Qatar?\")"
   ]
  },
  {
   "cell_type": "code",
   "execution_count": 50,
   "id": "621f9503",
   "metadata": {},
   "outputs": [],
   "source": [
    "tools = [search]"
   ]
  },
  {
   "cell_type": "code",
   "execution_count": 51,
   "id": "331a534c",
   "metadata": {},
   "outputs": [],
   "source": [
    "tool_node = ToolNode(tools)"
   ]
  },
  {
   "cell_type": "code",
   "execution_count": 52,
   "id": "80a276c6",
   "metadata": {},
   "outputs": [],
   "source": [
    "llm_with_tool = llm.bind_tools(tools)"
   ]
  },
  {
   "cell_type": "code",
   "execution_count": 53,
   "id": "a251268c",
   "metadata": {},
   "outputs": [],
   "source": [
    "def call_model(state: MessagesState):\n",
    "    messages = state['messages']\n",
    "    response = llm_with_tool.invoke(messages)\n",
    "    return {\"messages\": [response]}"
   ]
  },
  {
   "cell_type": "code",
   "execution_count": 54,
   "id": "e902c775",
   "metadata": {},
   "outputs": [],
   "source": [
    "response=call_model({\"messages\": [\"hi how are you?\"]})"
   ]
  },
  {
   "cell_type": "code",
   "execution_count": 55,
   "id": "33817ca5",
   "metadata": {},
   "outputs": [
    {
     "data": {
      "text/plain": [
       "{'messages': [AIMessage(content='', additional_kwargs={'tool_calls': [{'id': 'dyd8r7vbg', 'function': {'arguments': '{\"query\":\"hi how are you?\"}', 'name': 'search'}, 'type': 'function'}]}, response_metadata={'token_usage': {'completion_tokens': 83, 'prompt_tokens': 943, 'total_tokens': 1026, 'completion_time': 0.150909091, 'prompt_time': 0.032836536, 'queue_time': 0.159464651, 'total_time': 0.183745627}, 'model_name': 'Gemma2-9b-It', 'system_fingerprint': 'fp_10c08bf97d', 'finish_reason': 'tool_calls', 'logprobs': None}, id='run--67ec7c76-91c0-49fe-978b-b777881ed62d-0', tool_calls=[{'name': 'search', 'args': {'query': 'hi how are you?'}, 'id': 'dyd8r7vbg', 'type': 'tool_call'}], usage_metadata={'input_tokens': 943, 'output_tokens': 83, 'total_tokens': 1026})]}"
      ]
     },
     "execution_count": 55,
     "metadata": {},
     "output_type": "execute_result"
    }
   ],
   "source": [
    "response"
   ]
  },
  {
   "cell_type": "code",
   "execution_count": 56,
   "id": "6eda4b0f",
   "metadata": {},
   "outputs": [],
   "source": [
    "response = call_model({\"messages\": [\"what is the weather in kenya?\"]})"
   ]
  },
  {
   "cell_type": "code",
   "execution_count": 57,
   "id": "911322f4",
   "metadata": {},
   "outputs": [
    {
     "data": {
      "text/plain": [
       "{'messages': [AIMessage(content='', additional_kwargs={'tool_calls': [{'id': 'm2drhwc4h', 'function': {'arguments': '{\"query\":\"weather in kenya\"}', 'name': 'search'}, 'type': 'function'}]}, response_metadata={'token_usage': {'completion_tokens': 83, 'prompt_tokens': 946, 'total_tokens': 1029, 'completion_time': 0.150909091, 'prompt_time': 0.042128265, 'queue_time': 0.338094735, 'total_time': 0.193037356}, 'model_name': 'Gemma2-9b-It', 'system_fingerprint': 'fp_10c08bf97d', 'finish_reason': 'tool_calls', 'logprobs': None}, id='run--44895f67-a6cc-47d4-8154-fc8a183366aa-0', tool_calls=[{'name': 'search', 'args': {'query': 'weather in kenya'}, 'id': 'm2drhwc4h', 'type': 'tool_call'}], usage_metadata={'input_tokens': 946, 'output_tokens': 83, 'total_tokens': 1029})]}"
      ]
     },
     "execution_count": 57,
     "metadata": {},
     "output_type": "execute_result"
    }
   ],
   "source": [
    "response"
   ]
  },
  {
   "cell_type": "code",
   "execution_count": 58,
   "id": "38a92e36",
   "metadata": {},
   "outputs": [
    {
     "data": {
      "text/plain": [
       "[{'name': 'search',\n",
       "  'args': {'query': 'weather in kenya'},\n",
       "  'id': 'm2drhwc4h',\n",
       "  'type': 'tool_call'}]"
      ]
     },
     "execution_count": 58,
     "metadata": {},
     "output_type": "execute_result"
    }
   ],
   "source": [
    "messages = response['messages']\n",
    "last_message = messages[-1]\n",
    "last_message.tool_calls"
   ]
  },
  {
   "cell_type": "code",
   "execution_count": null,
   "id": "65f99796",
   "metadata": {},
   "outputs": [],
   "source": []
  },
  {
   "cell_type": "code",
   "execution_count": 59,
   "id": "6722fe6d",
   "metadata": {},
   "outputs": [],
   "source": [
    "def router_function(state: MessagesState) -> Literal[\"tools\", END]:\n",
    "    #print(f\"here is a state from should continue {state}\")\n",
    "    messages = state['messages']\n",
    "    last_message = messages[-1]\n",
    "    #print(f\"here is a last message from should continue {last_message}\")\n",
    "    if last_message.tool_calls:\n",
    "        return \"tools\"\n",
    "    return END"
   ]
  },
  {
   "cell_type": "code",
   "execution_count": 60,
   "id": "3d7db34a",
   "metadata": {},
   "outputs": [],
   "source": [
    "# Define a new graph\n",
    "workflow = StateGraph(MessagesState)\n",
    "\n",
    "workflow.add_node(\"agent\", call_model)\n",
    "workflow.add_node(\"tools\", tool_node)\n",
    "\n",
    "workflow.add_edge(START, \"agent\")\n",
    "\n",
    "workflow.add_conditional_edges(\"agent\",router_function,{\"tools\": \"tools\", END: END})\n",
    "\n",
    "app = workflow.compile()"
   ]
  },
  {
   "cell_type": "code",
   "execution_count": 61,
   "id": "d05ba4bb",
   "metadata": {},
   "outputs": [
    {
     "name": "stdout",
     "output_type": "stream",
     "text": [
      "Failed to reach https://mermaid.ink/ API while trying to render your graph after 1 retries. To resolve this issue:\n",
      "1. Check your internet connection and try again\n",
      "2. Try with higher retry settings: `draw_mermaid_png(..., max_retries=5, retry_delay=2.0)`\n",
      "3. Use the Pyppeteer rendering method which will render your graph locally in a browser: `draw_mermaid_png(..., draw_method=MermaidDrawMethod.PYPPETEER)`\n"
     ]
    }
   ],
   "source": [
    "from IPython.display import Image, display\n",
    "try:\n",
    "    display(Image(app.get_graph().draw_mermaid_png()))\n",
    "except Exception as e:\n",
    "    print(e)"
   ]
  },
  {
   "cell_type": "code",
   "execution_count": 62,
   "id": "8d7b2188",
   "metadata": {},
   "outputs": [
    {
     "data": {
      "text/plain": [
       "{'messages': [HumanMessage(content='Hey there how are you ?', additional_kwargs={}, response_metadata={}, id='583f39b6-331f-4bc6-a620-0e71af410c2c'),\n",
       "  AIMessage(content='', additional_kwargs={'tool_calls': [{'id': 'p2jg5kkp2', 'function': {'arguments': '{\"query\":\"How are you?\"}', 'name': 'search'}, 'type': 'function'}]}, response_metadata={'token_usage': {'completion_tokens': 80, 'prompt_tokens': 944, 'total_tokens': 1024, 'completion_time': 0.145454545, 'prompt_time': 0.040749636, 'queue_time': 0.352306714, 'total_time': 0.186204181}, 'model_name': 'Gemma2-9b-It', 'system_fingerprint': 'fp_10c08bf97d', 'finish_reason': 'tool_calls', 'logprobs': None}, id='run--dbbdb1e9-2545-48d7-b542-b66a7e3408f0-0', tool_calls=[{'name': 'search', 'args': {'query': 'How are you?'}, 'id': 'p2jg5kkp2', 'type': 'tool_call'}], usage_metadata={'input_tokens': 944, 'output_tokens': 80, 'total_tokens': 1024}),\n",
       "  ToolMessage(content='It is 35 degrees and sunny.', name='search', id='6d152ae4-b8e8-4908-84b4-7d5ba3941a6f', tool_call_id='p2jg5kkp2')]}"
      ]
     },
     "execution_count": 62,
     "metadata": {},
     "output_type": "execute_result"
    }
   ],
   "source": [
    "app.invoke({\"messages\": [\"Hey there how are you ?\"]})"
   ]
  },
  {
   "cell_type": "code",
   "execution_count": 63,
   "id": "7f14c90c",
   "metadata": {},
   "outputs": [
    {
     "data": {
      "text/plain": [
       "{'messages': [HumanMessage(content='what is the weather in sf', additional_kwargs={}, response_metadata={}, id='1b25a57a-9b3c-4ef3-a5df-44eef91b587c'),\n",
       "  AIMessage(content='', additional_kwargs={'tool_calls': [{'id': 'd92wdsbzj', 'function': {'arguments': '{\"query\":\"weather in sf\"}', 'name': 'search'}, 'type': 'function'}]}, response_metadata={'token_usage': {'completion_tokens': 82, 'prompt_tokens': 944, 'total_tokens': 1026, 'completion_time': 0.149090909, 'prompt_time': 0.040576956, 'queue_time': 0.161204724, 'total_time': 0.189667865}, 'model_name': 'Gemma2-9b-It', 'system_fingerprint': 'fp_10c08bf97d', 'finish_reason': 'tool_calls', 'logprobs': None}, id='run--bd2e3c4a-9980-4045-969c-b9c9a3ce7256-0', tool_calls=[{'name': 'search', 'args': {'query': 'weather in sf'}, 'id': 'd92wdsbzj', 'type': 'tool_call'}], usage_metadata={'input_tokens': 944, 'output_tokens': 82, 'total_tokens': 1026}),\n",
       "  ToolMessage(content='It is 20 degrees and foggy.', name='search', id='13cc3335-6623-42d1-ac26-61aa094fa403', tool_call_id='d92wdsbzj')]}"
      ]
     },
     "execution_count": 63,
     "metadata": {},
     "output_type": "execute_result"
    }
   ],
   "source": [
    "app.invoke({\"messages\": [\"what is the weather in sf\"]})"
   ]
  },
  {
   "cell_type": "code",
   "execution_count": 64,
   "id": "ffb820e4",
   "metadata": {},
   "outputs": [
    {
     "name": "stderr",
     "output_type": "stream",
     "text": [
      "Adding an edge to a graph that has already been compiled. This will not be reflected in the compiled graph.\n"
     ]
    },
    {
     "data": {
      "text/plain": [
       "<langgraph.graph.state.StateGraph at 0x78edad45afd0>"
      ]
     },
     "execution_count": 64,
     "metadata": {},
     "output_type": "execute_result"
    }
   ],
   "source": [
    "workflow.add_edge('tools', 'agent')"
   ]
  },
  {
   "cell_type": "code",
   "execution_count": 65,
   "id": "32251b4a",
   "metadata": {},
   "outputs": [],
   "source": [
    "app = workflow.compile()"
   ]
  },
  {
   "cell_type": "code",
   "execution_count": 66,
   "id": "563ababb",
   "metadata": {},
   "outputs": [
    {
     "data": {
      "image/png": "[encoded data removed]",
      "text/plain": [
       "<IPython.core.display.Image object>"
      ]
     },
     "metadata": {},
     "output_type": "display_data"
    }
   ],
   "source": [
    "from IPython.display import Image, display\n",
    "try:\n",
    "    display(Image(app.get_graph().draw_mermaid_png()))\n",
    "except Exception as e:\n",
    "    print(e)"
   ]
  },
  {
   "cell_type": "code",
   "execution_count": 67,
   "id": "b4074b4e",
   "metadata": {},
   "outputs": [
    {
     "name": "stdout",
     "output_type": "stream",
     "text": [
      "here is output from agent\n",
      "_______\n",
      "{'messages': [AIMessage(content='', additional_kwargs={'tool_calls': [{'id': 'k41m2wshc', 'function': {'arguments': '{\"query\":\"weather in sf\"}', 'name': 'search'}, 'type': 'function'}]}, response_metadata={'token_usage': {'completion_tokens': 80, 'prompt_tokens': 944, 'total_tokens': 1024, 'completion_time': 0.145454545, 'prompt_time': 0.040587766, 'queue_time': 0.160459281, 'total_time': 0.186042311}, 'model_name': 'Gemma2-9b-It', 'system_fingerprint': 'fp_10c08bf97d', 'finish_reason': 'tool_calls', 'logprobs': None}, id='run--347bdf08-4d8b-4a84-b8ba-d19a10fc5ce4-0', tool_calls=[{'name': 'search', 'args': {'query': 'weather in sf'}, 'id': 'k41m2wshc', 'type': 'tool_call'}], usage_metadata={'input_tokens': 944, 'output_tokens': 80, 'total_tokens': 1024})]}\n",
      "\n",
      "\n",
      "here is output from tools\n",
      "_______\n",
      "{'messages': [ToolMessage(content='It is 20 degrees and foggy.', name='search', id='d700d222-da80-4996-9166-a9160ec0f246', tool_call_id='k41m2wshc')]}\n",
      "\n",
      "\n",
      "here is output from agent\n",
      "_______\n",
      "{'messages': [AIMessage(content='It is 20 degrees and foggy. \\n', additional_kwargs={}, response_metadata={'token_usage': {'completion_tokens': 13, 'prompt_tokens': 1028, 'total_tokens': 1041, 'completion_time': 0.023636364, 'prompt_time': 0.050182324, 'queue_time': 0.162820059, 'total_time': 0.073818688}, 'model_name': 'Gemma2-9b-It', 'system_fingerprint': 'fp_10c08bf97d', 'finish_reason': 'stop', 'logprobs': None}, id='run--23f29cd8-ad42-42ea-be91-2e0cd663ef1c-0', usage_metadata={'input_tokens': 1028, 'output_tokens': 13, 'total_tokens': 1041})]}\n",
      "\n",
      "\n"
     ]
    }
   ],
   "source": [
    "for output in app.stream({\"messages\": [\"what is the weather in sf\"]}):\n",
    "    for key,value in output.items():\n",
    "        print(f\"here is output from {key}\")\n",
    "        print(\"_______\")\n",
    "        print(value)\n",
    "        print(\"\\n\")"
   ]
  },
  {
   "cell_type": "code",
   "execution_count": null,
   "id": "c2c9841b",
   "metadata": {},
   "outputs": [],
   "source": []
  },
  {
   "cell_type": "code",
   "execution_count": 68,
   "id": "35c8f1ea",
   "metadata": {},
   "outputs": [],
   "source": [
    "from langgraph.checkpoint.memory import MemorySaver\n",
    "memory = MemorySaver()"
   ]
  },
  {
   "cell_type": "code",
   "execution_count": 69,
   "id": "644fed41",
   "metadata": {},
   "outputs": [
    {
     "data": {
      "text/plain": [
       "<langgraph.graph.state.StateGraph at 0x78edad3cdd90>"
      ]
     },
     "execution_count": 69,
     "metadata": {},
     "output_type": "execute_result"
    }
   ],
   "source": [
    "workflow3 = StateGraph(MessagesState)\n",
    "\n",
    "workflow3.add_node(\"agent\", call_model)\n",
    "workflow3.add_node(\"tools\", tool_node)\n",
    "\n",
    "workflow3.add_edge(START, \"agent\")\n",
    "\n",
    "workflow3.add_conditional_edges(\"agent\",router_function,{\"tools\": \"tools\", END: END})\n",
    "\n",
    "workflow3.add_edge(\"tools\", 'agent')"
   ]
  },
  {
   "cell_type": "code",
   "execution_count": 70,
   "id": "d72e5188",
   "metadata": {},
   "outputs": [],
   "source": [
    "app2 = workflow3.compile(checkpointer = memory)"
   ]
  },
  {
   "cell_type": "code",
   "execution_count": 71,
   "id": "44f3119c",
   "metadata": {},
   "outputs": [
    {
     "data": {
      "image/png": "[encoded data removed]",
      "text/plain": [
       "<IPython.core.display.Image object>"
      ]
     },
     "metadata": {},
     "output_type": "display_data"
    }
   ],
   "source": [
    "from IPython.display import Image, display\n",
    "try:\n",
    "    display(Image(app2.get_graph().draw_mermaid_png()))\n",
    "except Exception as e:\n",
    "    print(e)"
   ]
  },
  {
   "cell_type": "code",
   "execution_count": 72,
   "id": "41c2dc28",
   "metadata": {},
   "outputs": [],
   "source": [
    "config = {\"configurable\": {\"thread_id\": \"1\"}}"
   ]
  },
  {
   "cell_type": "code",
   "execution_count": 73,
   "id": "99760f2e",
   "metadata": {},
   "outputs": [],
   "source": [
    "events = app2.stream(\n",
    "    {\"messages\": [\"Hi there! My name is Jimmy\"]}, config, stream_mode=\"values\"\n",
    ")"
   ]
  },
  {
   "cell_type": "code",
   "execution_count": 74,
   "id": "ad503694",
   "metadata": {},
   "outputs": [
    {
     "name": "stdout",
     "output_type": "stream",
     "text": [
      "================================\u001b[1m Human Message \u001b[0m=================================\n",
      "\n",
      "Hi there! My name is Jimmy\n",
      "==================================\u001b[1m Ai Message \u001b[0m==================================\n",
      "Tool Calls:\n",
      "  search (qjp4wc28d)\n",
      " Call ID: qjp4wc28d\n",
      "  Args:\n",
      "    query: Hi there! My name is Jimmy\n",
      "=================================\u001b[1m Tool Message \u001b[0m=================================\n",
      "Name: search\n",
      "\n",
      "It is 35 degrees and sunny.\n",
      "==================================\u001b[1m Ai Message \u001b[0m==================================\n",
      "Tool Calls:\n",
      "  search (db9pmyn95)\n",
      " Call ID: db9pmyn95\n",
      "  Args:\n",
      "    query: What is the weather like?\n",
      "=================================\u001b[1m Tool Message \u001b[0m=================================\n",
      "Name: search\n",
      "\n",
      "It is 35 degrees and sunny.\n",
      "==================================\u001b[1m Ai Message \u001b[0m==================================\n",
      "\n",
      "It is 35 degrees and sunny.\n"
     ]
    }
   ],
   "source": [
    "for event in events:\n",
    "    event[\"messages\"][-1].pretty_print()"
   ]
  },
  {
   "cell_type": "code",
   "execution_count": 75,
   "id": "ef58bd12",
   "metadata": {},
   "outputs": [],
   "source": [
    "events = app2.stream(\n",
    "    {\"messages\": [\"can you tell me what was my name?\"]}, config, stream_mode=\"values\"\n",
    ")"
   ]
  },
  {
   "cell_type": "code",
   "execution_count": 76,
   "id": "a6c1d962",
   "metadata": {},
   "outputs": [
    {
     "name": "stdout",
     "output_type": "stream",
     "text": [
      "================================\u001b[1m Human Message \u001b[0m=================================\n",
      "\n",
      "can you tell me what was my name?\n",
      "==================================\u001b[1m Ai Message \u001b[0m==================================\n",
      "\n",
      "Your name is Jimmy.\n"
     ]
    }
   ],
   "source": [
    "for event in events:\n",
    "    event[\"messages\"][-1].pretty_print()"
   ]
  },
  {
   "cell_type": "code",
   "execution_count": 77,
   "id": "0705392c",
   "metadata": {},
   "outputs": [
    {
     "data": {
      "text/plain": [
       "{'v': 4,\n",
       " 'ts': '2025-07-02T15:31:08.298540+00:00',\n",
       " 'id': '1f057599-3455-6635-8008-e9c6ed1b0312',\n",
       " 'channel_versions': {'__start__': '00000000000000000000000000000009.0.6527839195934059',\n",
       "  'messages': '00000000000000000000000000000010.0.9531956276901375',\n",
       "  'branch:to:agent': '00000000000000000000000000000010.0.9531956276901375',\n",
       "  'branch:to:tools': '00000000000000000000000000000006.0.5318776421587786'},\n",
       " 'versions_seen': {'__input__': {},\n",
       "  '__start__': {'__start__': '00000000000000000000000000000008.0.9693365966094609'},\n",
       "  'agent': {'branch:to:agent': '00000000000000000000000000000009.0.6527839195934059'},\n",
       "  'tools': {'branch:to:tools': '00000000000000000000000000000005.0.425589163224251'}},\n",
       " 'channel_values': {'messages': [HumanMessage(content='Hi there! My name is Jimmy', additional_kwargs={}, response_metadata={}, id='eb149c1d-b58b-404e-9a6d-a96652e26c9a'),\n",
       "   AIMessage(content='', additional_kwargs={'tool_calls': [{'id': 'qjp4wc28d', 'function': {'arguments': '{\"query\":\"Hi there! My name is Jimmy\"}', 'name': 'search'}, 'type': 'function'}]}, response_metadata={'token_usage': {'completion_tokens': 86, 'prompt_tokens': 945, 'total_tokens': 1031, 'completion_time': 0.156363636, 'prompt_time': 0.048081974, 'queue_time': 0.29667390400000004, 'total_time': 0.20444561}, 'model_name': 'Gemma2-9b-It', 'system_fingerprint': 'fp_10c08bf97d', 'finish_reason': 'tool_calls', 'logprobs': None}, id='run--6c850a94-c67f-42be-82fd-2531db2550e0-0', tool_calls=[{'name': 'search', 'args': {'query': 'Hi there! My name is Jimmy'}, 'id': 'qjp4wc28d', 'type': 'tool_call'}], usage_metadata={'input_tokens': 945, 'output_tokens': 86, 'total_tokens': 1031}),\n",
       "   ToolMessage(content='It is 35 degrees and sunny.', name='search', id='e55bdade-ce71-4ddf-8611-647a8eb9cb88', tool_call_id='qjp4wc28d'),\n",
       "   AIMessage(content='', additional_kwargs={'tool_calls': [{'id': 'db9pmyn95', 'function': {'arguments': '{\"query\":\"What is the weather like?\"}', 'name': 'search'}, 'type': 'function'}]}, response_metadata={'token_usage': {'completion_tokens': 44, 'prompt_tokens': 1031, 'total_tokens': 1075, 'completion_time': 0.08, 'prompt_time': 0.036137407, 'queue_time': 0.161974288, 'total_time': 0.116137407}, 'model_name': 'Gemma2-9b-It', 'system_fingerprint': 'fp_10c08bf97d', 'finish_reason': 'tool_calls', 'logprobs': None}, id='run--afd60024-9f9e-4eda-a5ea-70173ee374dc-0', tool_calls=[{'name': 'search', 'args': {'query': 'What is the weather like?'}, 'id': 'db9pmyn95', 'type': 'tool_call'}], usage_metadata={'input_tokens': 1031, 'output_tokens': 44, 'total_tokens': 1075}),\n",
       "   ToolMessage(content='It is 35 degrees and sunny.', name='search', id='c3d1159c-a79b-4084-bb4a-c82f602454e6', tool_call_id='db9pmyn95'),\n",
       "   AIMessage(content='It is 35 degrees and sunny. \\n', additional_kwargs={}, response_metadata={'token_usage': {'completion_tokens': 13, 'prompt_tokens': 1114, 'total_tokens': 1127, 'completion_time': 0.023636364, 'prompt_time': 0.038719465, 'queue_time': 0.160321664, 'total_time': 0.062355829}, 'model_name': 'Gemma2-9b-It', 'system_fingerprint': 'fp_10c08bf97d', 'finish_reason': 'stop', 'logprobs': None}, id='run--79563751-5589-4084-922a-ed5197ed0cbf-0', usage_metadata={'input_tokens': 1114, 'output_tokens': 13, 'total_tokens': 1127}),\n",
       "   HumanMessage(content='can you tell me what was my name?', additional_kwargs={}, response_metadata={}, id='60f44b9d-01e0-4a60-8c2f-bd3b9dd6fb9b'),\n",
       "   AIMessage(content='Your name is Jimmy.', additional_kwargs={}, response_metadata={'token_usage': {'completion_tokens': 7, 'prompt_tokens': 1144, 'total_tokens': 1151, 'completion_time': 0.012727273, 'prompt_time': 0.048915404, 'queue_time': 0.161993527, 'total_time': 0.061642677}, 'model_name': 'Gemma2-9b-It', 'system_fingerprint': 'fp_10c08bf97d', 'finish_reason': 'stop', 'logprobs': None}, id='run--b035026c-b446-4d3e-be2b-8723dcc1f3a6-0', usage_metadata={'input_tokens': 1144, 'output_tokens': 7, 'total_tokens': 1151})]}}"
      ]
     },
     "execution_count": 77,
     "metadata": {},
     "output_type": "execute_result"
    }
   ],
   "source": [
    "memory.get(config)"
   ]
  }
 ],
 "metadata": {
  "kernelspec": {
   "display_name": "env",
   "language": "python",
   "name": "python3"
  },
  "language_info": {
   "codemirror_mode": {
    "name": "ipython",
    "version": 3
   },
   "file_extension": ".py",
   "mimetype": "text/x-python",
   "name": "python",
   "nbconvert_exporter": "python",
   "pygments_lexer": "ipython3",
   "version": "3.13.3"
  }
 },
 "nbformat": 4,
 "nbformat_minor": 5
}
