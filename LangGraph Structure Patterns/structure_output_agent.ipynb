{
 "cells": [
  {
   "cell_type": "markdown",
   "id": "79aa1ad2",
   "metadata": {},
   "source": [
    "**A Structured Output Agent in LangChain (or other LLM frameworks) refers to an agent that produces responses in a specific structured format, such as JSON, dictionaries, or other structured data types. These agents are particularly useful when you want to ensure that your responses conform to a defined schema, making it easier to parse, validate, and utilize in downstream applications.**\n",
    "\n",
    "#### Why Use a Structured Output Agent?\n",
    "\n",
    "- Controlled Responses: Ensures that the outputs follow a specific format, reducing ambiguity.\n",
    "- Data Validation: Useful when you want the model output to fit predefined structures, like for APIs or database entries.\n",
    "- Automation: Makes integration with systems like dashboards, ETL pipelines, or business workflows easier."
   ]
  },
  {
   "cell_type": "code",
   "execution_count": 8,
   "id": "c327f99b",
   "metadata": {},
   "outputs": [],
   "source": [
    "from langchain_tavily import TavilySearch\n",
    "from langchain_core.tools import tool\n",
    "from pydantic import BaseModel, Field\n",
    "from langgraph.graph import MessagesState, StateGraph, END\n",
    "from langgraph.prebuilt import ToolNode\n",
    "from langchain_core.messages import HumanMessage"
   ]
  },
  {
   "cell_type": "code",
   "execution_count": 9,
   "metadata": {},
   "outputs": [],
   "source": [
    "from langchain_groq import ChatGroq\n",
    "llm = ChatGroq(model_name = \"Gemma2-9b-It\")"
   ]
  },
  {
   "cell_type": "code",
   "execution_count": 10,
   "metadata": {},
   "outputs": [],
   "source": [
    "tavily_tool = TavilySearch()"
   ]
  },
  {
   "cell_type": "code",
   "execution_count": 11,
   "metadata": {},
   "outputs": [],
   "source": [
    "@tool\n",
    "def get_city_details(prompt):\n",
    "    \"\"\"Should do a web search to find the required cit details\"\"\"\n",
    "    response = tavily_tool.invoke(prompt)\n",
    "    return response"
   ]
  },
  {
   "cell_type": "code",
   "execution_count": 12,
   "id": "8a703170",
   "metadata": {},
   "outputs": [],
   "source": [
    "tools = [get_city_details]"
   ]
  },
  {
   "cell_type": "code",
   "execution_count": 13,
   "id": "cc23d833",
   "metadata": {},
   "outputs": [],
   "source": [
    "model_with_tools = llm.bind_tools(tools)"
   ]
  },
  {
   "cell_type": "markdown",
   "id": "9df77a1a",
   "metadata": {},
   "source": [
    "#### The BaseModel class is a core component of Pydantic, which is used extensively in Python applications for data validation, type checking, and parsing. It's particularly useful when working with APIs, web frameworks like FastAPI, and other scenarios where you need to enforce data structure and ensure data integrity.\n",
    "\n",
    "**Here's an overview of the BaseModel class, along with some examples to demonstrate how you can use it effectively.**\n",
    "\n",
    "This code defines a Pydantic model called CityDetails using the BaseModel class. Let's break it down:\n",
    "- Explanation:\n",
    "\n",
    "- Class Definition:\n",
    "\n",
    "- CityDetails inherits from BaseModel, making it a data validation model.\n",
    "\n",
    "- Fields with Type Annotations:\n",
    "\n",
    "- state_name: A string representing the state name of a city.\n",
    "\n",
    "- state_capital: A string representing the capital of that state.\n",
    "\n",
    "- country_name: A string representing the country name where the city is located.\n",
    "\n",
    "- country_capital: A string representing the capital of that country.\n",
    "\n",
    "### Field Descriptions:\n",
    "\n",
    "Each field uses Field() to provide a description that helps clarify what information each attribute represents.\n",
    "#### Purpose:\n",
    "\n",
    "The model validates and structures data related to cities.\n",
    "Useful for ensuring that any data related to cities has the correct structure before processing.\n",
    "Helpful in APIs (like FastAPI) to generate self-documenting endpoints."
   ]
  },
  {
   "cell_type": "code",
   "execution_count": 14,
   "id": "d5ae13c5",
   "metadata": {},
   "outputs": [],
   "source": [
    "class CityDetails(BaseModel):\n",
    "    \"\"\"Respond to the user with this\"\"\"\n",
    "    state_name: str = Field(description=\"State name of the city\")\n",
    "    state_capital: str = Field(description=\"State capital of the city\")\n",
    "    country_name: str = Field(description=\"Country name of the city\")\n",
    "    country_capital: str = Field(description=\"Country capital of the city\")"
   ]
  },
  {
   "cell_type": "code",
   "execution_count": 15,
   "id": "ff3fb49f",
   "metadata": {},
   "outputs": [],
   "source": [
    "# Inherit 'messages' key from MessagesState, which is a list of chat messages\n",
    "class AgentState(MessagesState):\n",
    "    # Final structured response from the agent\n",
    "    final_response: CityDetails"
   ]
  },
  {
   "cell_type": "code",
   "execution_count": 16,
   "id": "d703596a",
   "metadata": {},
   "outputs": [],
   "source": [
    "model_with_structured_output = llm.with_structured_output(CityDetails)"
   ]
  },
  {
   "cell_type": "code",
   "execution_count": 17,
   "metadata": {},
   "outputs": [],
   "source": [
    "def call_model(state: AgentState):\n",
    "    print(f\" this is 01 input from call model {state}\")\n",
    "    response = model_with_tools.invoke(state['messages'])\n",
    "    print(f\"this is 02 response from call model  {response}\")\n",
    "    # We return a list, because this will get added to the existing list\n",
    "    return {\"messages\": [response]}"
   ]
  },
  {
   "cell_type": "code",
   "execution_count": 18,
   "id": "d10053b4",
   "metadata": {},
   "outputs": [],
   "source": [
    "def should_continue(state: AgentState):\n",
    "    messages = state[\"messages\"]\n",
    "    last_message = messages[-1]\n",
    "    \n",
    "    # If there is no function call, then we respond to the user\n",
    "    if not last_message.tool_calls:\n",
    "        return \"respond\"\n",
    "    # Otherwise if there is, we continue with the tool\n",
    "    else:\n",
    "        return \"continue\""
   ]
  },
  {
   "cell_type": "code",
   "execution_count": 19,
   "id": "4b2ed9d9",
   "metadata": {},
   "outputs": [],
   "source": [
    "def respond(state: AgentState):\n",
    "    print(f\"here is 03 state from respond {state}\")\n",
    "    response = model_with_structured_output.invoke([HumanMessage(content=state['messages'][-1].content)])\n",
    "    # We return the final answer\n",
    "    print(f\"this is 04 response from respond{response}\")\n",
    "    return {\"final_response\": response}"
   ]
  },
  {
   "cell_type": "code",
   "execution_count": 20,
   "id": "64b21638",
   "metadata": {},
   "outputs": [],
   "source": [
    "# Define a new graph\n",
    "workflow = StateGraph(AgentState)\n",
    "\n",
    "# Define the two nodes we will cycle between\n",
    "workflow.add_node(\"llm\", call_model)\n",
    "workflow.add_node(\"tools\", ToolNode(tools))\n",
    "workflow.add_node(\"respond\", respond)\n",
    "\n",
    "\n",
    "# Set the entrypoint as `agent`\n",
    "# This means that this node is the first one called\n",
    "workflow.set_entry_point(\"llm\")\n",
    "\n",
    "# We now add a conditional edge\n",
    "workflow.add_conditional_edges(\n",
    "    \"llm\",\n",
    "    \n",
    "    should_continue,\n",
    "    {\n",
    "        \"continue\": \"tools\",\n",
    "        \"respond\": \"respond\",\n",
    "    },\n",
    ")\n",
    "\n",
    "workflow.add_edge(\"tools\", \"llm\")\n",
    "workflow.add_edge(\"respond\", END)\n",
    "graph = workflow.compile()"
   ]
  },
  {
   "cell_type": "code",
   "execution_count": 21,
   "id": "24fb73c4",
   "metadata": {},
   "outputs": [
    {
     "data": {
      "image/png": "[encoded data removed]",
      "text/plain": [
       "<IPython.core.display.Image object>"
      ]
     },
     "metadata": {},
     "output_type": "display_data"
    }
   ],
   "source": [
    "from IPython.display import Image, display\n",
    "# View\n",
    "display(Image(graph.get_graph().draw_mermaid_png()))"
   ]
  },
  {
   "cell_type": "code",
   "execution_count": 22,
   "id": "2a95f1b0",
   "metadata": {},
   "outputs": [
    {
     "name": "stdout",
     "output_type": "stream",
     "text": [
      " this is 01 input from call model {'messages': [HumanMessage(content='Tell me about the city details for gwalior?', additional_kwargs={}, response_metadata={}, id='e8028e9e-ac2c-410d-b536-05a6813aaea6')]}\n",
      "this is 02 response from call model  content='' additional_kwargs={'tool_calls': [{'id': '65qrs3z3x', 'function': {'arguments': '{\"prompt\":\"gwalior\"}', 'name': 'get_city_details'}, 'type': 'function'}]} response_metadata={'token_usage': {'completion_tokens': 86, 'prompt_tokens': 945, 'total_tokens': 1031, 'completion_time': 0.156363636, 'prompt_time': 0.032649179, 'queue_time': 0.24042401, 'total_time': 0.189012815}, 'model_name': 'Gemma2-9b-It', 'system_fingerprint': 'fp_10c08bf97d', 'finish_reason': 'tool_calls', 'logprobs': None} id='run--002b8a2b-bdb8-4a9a-9137-15b69350811f-0' tool_calls=[{'name': 'get_city_details', 'args': {'prompt': 'gwalior'}, 'id': '65qrs3z3x', 'type': 'tool_call'}] usage_metadata={'input_tokens': 945, 'output_tokens': 86, 'total_tokens': 1031}\n",
      " this is 01 input from call model {'messages': [HumanMessage(content='Tell me about the city details for gwalior?', additional_kwargs={}, response_metadata={}, id='e8028e9e-ac2c-410d-b536-05a6813aaea6'), AIMessage(content='', additional_kwargs={'tool_calls': [{'id': '65qrs3z3x', 'function': {'arguments': '{\"prompt\":\"gwalior\"}', 'name': 'get_city_details'}, 'type': 'function'}]}, response_metadata={'token_usage': {'completion_tokens': 86, 'prompt_tokens': 945, 'total_tokens': 1031, 'completion_time': 0.156363636, 'prompt_time': 0.032649179, 'queue_time': 0.24042401, 'total_time': 0.189012815}, 'model_name': 'Gemma2-9b-It', 'system_fingerprint': 'fp_10c08bf97d', 'finish_reason': 'tool_calls', 'logprobs': None}, id='run--002b8a2b-bdb8-4a9a-9137-15b69350811f-0', tool_calls=[{'name': 'get_city_details', 'args': {'prompt': 'gwalior'}, 'id': '65qrs3z3x', 'type': 'tool_call'}], usage_metadata={'input_tokens': 945, 'output_tokens': 86, 'total_tokens': 1031}), ToolMessage(content='{\"query\": \"gwalior\", \"follow_up_questions\": null, \"answer\": null, \"images\": [], \"results\": [{\"title\": \"Gwalior - Wikipedia\", \"url\": \"https://en.wikipedia.org/wiki/Gwalior\", \"content\": \"# Gwalior Gwalior Gwalior Gwalior (Hindi: IPA: (/wiki/Help:IPA/Hindi_and_Urdu \\\\\"Help:IPA/Hindi and Urdu\\\\\"), pronunciationⓘ) is a major city in the central Indian state of Madhya Pradesh; It is known as the Music City of India having oldest musical gharana in existence. Located 313 kilometres (194 mi) south of New Delhi, the capital city of India and 446 kilometres (277 mi) from Bhopal, the state capital, Gwalior occupies a strategic location in the Gwalior Chambal region of India. Gwalior\\'s metropolitan area includes Lashkar, Old City (Fort City), Gwalior West, Gwalior East, Greater Gwalior, and Morar Cantonment. This clan included rulers of the Gwalior State in the 18th and 19th centuries, who were a princely state during the period of British colonial rule until Indian independence. ### Old City (Fort Gwalior)\", \"score\": 0.9293445, \"raw_content\": null}, {\"title\": \"List of tourist attractions in Gwalior - Wikipedia\", \"url\": \"https://en.wikipedia.org/wiki/List_of_tourist_attractions_in_Gwalior\", \"content\": \"Gwalior is a historic and beautiful city in Madhya Pradesh, India, with many landmarks and buildings. Explore the Gwalior Fort, Man Mandir Palace, Jai Vilas Palace, Sun Temple, Tomb of Tansen, and more.\", \"score\": 0.8458536, \"raw_content\": null}, {\"title\": \"Gwalior | History, Culture & Tourist Attractions | Britannica\", \"url\": \"https://www.britannica.com/place/Gwalior-India\", \"content\": \"Gwalior, Madhya Pradesh, India(more) Gwalior, city, northern Madhya Pradesh state, central India. 9th century, from the fort at Gwalior, Madhya Pradesh, India.(more) The old city of Gwalior centres on the walled fortress, one of the most famous in India, that is situated atop a cliffed plateau nearly 2 miles (3 km) long that rises a sheer 300 feet (90 metres) from the plain. Mughal architecture, building style that flourished in northern and central India under the patronage of the Mughal emperors from the mid-16th to the late 17th century. The Mughal period marked a striking revival of Islamic architecture in northern India. Encyclopedia Britannica, 25 Apr. 2025, https://www.britannica.com/place/Gwalior-India. https://www.britannica.com/place/Gwalior-India Encyclopedia Britannica, 14 Feb. 2025, https://www.britannica.com/art/Mughal-architecture. https://www.britannica.com/art/Mughal-architecture\", \"score\": 0.7668008, \"raw_content\": null}, {\"title\": \"Must-Visit Tourist Places in Gwalior (2025) | MPTourism\", \"url\": \"https://www.mptourism.com/destination-gwalior.php\", \"content\": \"Explore the rich heritage and culture of Gwalior, a city with a legend of a saint and a leper. Visit the Gwalior Fort, Jai Vilas Palace, Teli Ka Mandir, and more historic sites and attractions.\", \"score\": 0.67527276, \"raw_content\": null}, {\"title\": \"34 Places to visit in Gwalior India 2025 | Best Tourist places\", \"url\": \"https://www.holidify.com/places/gwalior/sightseeing-and-things-to-do.html\", \"content\": \"See most popular tourist places to visit in Gwalior, top things to do, shopping and nightlife in Gwalior, find entry timings, fees about various attractions in Gwalior, Madhya Pradesh\", \"score\": 0.498902, \"raw_content\": null}], \"response_time\": 1.33}', name='get_city_details', id='56b4fdd6-4ff6-4deb-aebd-f7b10def28e6', tool_call_id='65qrs3z3x')]}\n",
      "this is 02 response from call model  content='```json\\n{\\n\\t\"tool_call\": {\\n\\t\\t\"id\": \"pending\",\\n\\t\\t\"type\": \"function\",\\n\\t\\t\"function\": {\\n\\t\\t\\t\"name\": \"get_city_details\"\\n\\t\\t},\\n\\t\\t\"parameters\": {\\n\\t\\t\\t\"prompt\": \"Gwalior\"\\n\\t\\t}\\n\\t}\\n}\\n```' additional_kwargs={} response_metadata={'token_usage': {'completion_tokens': 77, 'prompt_tokens': 2004, 'total_tokens': 2081, 'completion_time': 0.14, 'prompt_time': 0.073437905, 'queue_time': 0.26632907400000005, 'total_time': 0.213437905}, 'model_name': 'Gemma2-9b-It', 'system_fingerprint': 'fp_10c08bf97d', 'finish_reason': 'stop', 'logprobs': None} id='run--3d8c9e55-ca7e-4bf8-be46-593a08a6b3bf-0' usage_metadata={'input_tokens': 2004, 'output_tokens': 77, 'total_tokens': 2081}\n",
      "here is 03 state from respond {'messages': [HumanMessage(content='Tell me about the city details for gwalior?', additional_kwargs={}, response_metadata={}, id='e8028e9e-ac2c-410d-b536-05a6813aaea6'), AIMessage(content='', additional_kwargs={'tool_calls': [{'id': '65qrs3z3x', 'function': {'arguments': '{\"prompt\":\"gwalior\"}', 'name': 'get_city_details'}, 'type': 'function'}]}, response_metadata={'token_usage': {'completion_tokens': 86, 'prompt_tokens': 945, 'total_tokens': 1031, 'completion_time': 0.156363636, 'prompt_time': 0.032649179, 'queue_time': 0.24042401, 'total_time': 0.189012815}, 'model_name': 'Gemma2-9b-It', 'system_fingerprint': 'fp_10c08bf97d', 'finish_reason': 'tool_calls', 'logprobs': None}, id='run--002b8a2b-bdb8-4a9a-9137-15b69350811f-0', tool_calls=[{'name': 'get_city_details', 'args': {'prompt': 'gwalior'}, 'id': '65qrs3z3x', 'type': 'tool_call'}], usage_metadata={'input_tokens': 945, 'output_tokens': 86, 'total_tokens': 1031}), ToolMessage(content='{\"query\": \"gwalior\", \"follow_up_questions\": null, \"answer\": null, \"images\": [], \"results\": [{\"title\": \"Gwalior - Wikipedia\", \"url\": \"https://en.wikipedia.org/wiki/Gwalior\", \"content\": \"# Gwalior Gwalior Gwalior Gwalior (Hindi: IPA: (/wiki/Help:IPA/Hindi_and_Urdu \\\\\"Help:IPA/Hindi and Urdu\\\\\"), pronunciationⓘ) is a major city in the central Indian state of Madhya Pradesh; It is known as the Music City of India having oldest musical gharana in existence. Located 313 kilometres (194 mi) south of New Delhi, the capital city of India and 446 kilometres (277 mi) from Bhopal, the state capital, Gwalior occupies a strategic location in the Gwalior Chambal region of India. Gwalior\\'s metropolitan area includes Lashkar, Old City (Fort City), Gwalior West, Gwalior East, Greater Gwalior, and Morar Cantonment. This clan included rulers of the Gwalior State in the 18th and 19th centuries, who were a princely state during the period of British colonial rule until Indian independence. ### Old City (Fort Gwalior)\", \"score\": 0.9293445, \"raw_content\": null}, {\"title\": \"List of tourist attractions in Gwalior - Wikipedia\", \"url\": \"https://en.wikipedia.org/wiki/List_of_tourist_attractions_in_Gwalior\", \"content\": \"Gwalior is a historic and beautiful city in Madhya Pradesh, India, with many landmarks and buildings. Explore the Gwalior Fort, Man Mandir Palace, Jai Vilas Palace, Sun Temple, Tomb of Tansen, and more.\", \"score\": 0.8458536, \"raw_content\": null}, {\"title\": \"Gwalior | History, Culture & Tourist Attractions | Britannica\", \"url\": \"https://www.britannica.com/place/Gwalior-India\", \"content\": \"Gwalior, Madhya Pradesh, India(more) Gwalior, city, northern Madhya Pradesh state, central India. 9th century, from the fort at Gwalior, Madhya Pradesh, India.(more) The old city of Gwalior centres on the walled fortress, one of the most famous in India, that is situated atop a cliffed plateau nearly 2 miles (3 km) long that rises a sheer 300 feet (90 metres) from the plain. Mughal architecture, building style that flourished in northern and central India under the patronage of the Mughal emperors from the mid-16th to the late 17th century. The Mughal period marked a striking revival of Islamic architecture in northern India. Encyclopedia Britannica, 25 Apr. 2025, https://www.britannica.com/place/Gwalior-India. https://www.britannica.com/place/Gwalior-India Encyclopedia Britannica, 14 Feb. 2025, https://www.britannica.com/art/Mughal-architecture. https://www.britannica.com/art/Mughal-architecture\", \"score\": 0.7668008, \"raw_content\": null}, {\"title\": \"Must-Visit Tourist Places in Gwalior (2025) | MPTourism\", \"url\": \"https://www.mptourism.com/destination-gwalior.php\", \"content\": \"Explore the rich heritage and culture of Gwalior, a city with a legend of a saint and a leper. Visit the Gwalior Fort, Jai Vilas Palace, Teli Ka Mandir, and more historic sites and attractions.\", \"score\": 0.67527276, \"raw_content\": null}, {\"title\": \"34 Places to visit in Gwalior India 2025 | Best Tourist places\", \"url\": \"https://www.holidify.com/places/gwalior/sightseeing-and-things-to-do.html\", \"content\": \"See most popular tourist places to visit in Gwalior, top things to do, shopping and nightlife in Gwalior, find entry timings, fees about various attractions in Gwalior, Madhya Pradesh\", \"score\": 0.498902, \"raw_content\": null}], \"response_time\": 1.33}', name='get_city_details', id='56b4fdd6-4ff6-4deb-aebd-f7b10def28e6', tool_call_id='65qrs3z3x'), AIMessage(content='```json\\n{\\n\\t\"tool_call\": {\\n\\t\\t\"id\": \"pending\",\\n\\t\\t\"type\": \"function\",\\n\\t\\t\"function\": {\\n\\t\\t\\t\"name\": \"get_city_details\"\\n\\t\\t},\\n\\t\\t\"parameters\": {\\n\\t\\t\\t\"prompt\": \"Gwalior\"\\n\\t\\t}\\n\\t}\\n}\\n```', additional_kwargs={}, response_metadata={'token_usage': {'completion_tokens': 77, 'prompt_tokens': 2004, 'total_tokens': 2081, 'completion_time': 0.14, 'prompt_time': 0.073437905, 'queue_time': 0.26632907400000005, 'total_time': 0.213437905}, 'model_name': 'Gemma2-9b-It', 'system_fingerprint': 'fp_10c08bf97d', 'finish_reason': 'stop', 'logprobs': None}, id='run--3d8c9e55-ca7e-4bf8-be46-593a08a6b3bf-0', usage_metadata={'input_tokens': 2004, 'output_tokens': 77, 'total_tokens': 2081})]}\n",
      "this is 04 response from respondstate_name='Madhya Pradesh' state_capital='Bhopal' country_name='India' country_capital='New Delhi'\n"
     ]
    }
   ],
   "source": [
    "answer = graph.invoke(input={\"messages\": [(\"human\", \"Tell me about the city details for gwalior?\")]})['final_response']"
   ]
  },
  {
   "cell_type": "code",
   "execution_count": 23,
   "id": "65d0b193",
   "metadata": {},
   "outputs": [
    {
     "data": {
      "text/plain": [
       "CityDetails(state_name='Madhya Pradesh', state_capital='Bhopal', country_name='India', country_capital='New Delhi')"
      ]
     },
     "execution_count": 23,
     "metadata": {},
     "output_type": "execute_result"
    }
   ],
   "source": [
    "answer"
   ]
  },
  {
   "cell_type": "code",
   "execution_count": null,
   "id": "bcba3298",
   "metadata": {},
   "outputs": [],
   "source": []
  }
 ],
 "metadata": {
  "kernelspec": {
   "display_name": "env",
   "language": "python",
   "name": "python3"
  },
  "language_info": {
   "codemirror_mode": {
    "name": "ipython",
    "version": 3
   },
   "file_extension": ".py",
   "mimetype": "text/x-python",
   "name": "python",
   "nbconvert_exporter": "python",
   "pygments_lexer": "ipython3",
   "version": "3.13.3"
  }
 },
 "nbformat": 4,
 "nbformat_minor": 5
}
