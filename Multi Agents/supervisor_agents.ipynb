{
 "cells": [
  {
   "cell_type": "code",
   "execution_count": 1,
   "id": "be4deda6",
   "metadata": {},
   "outputs": [],
   "source": [
    "from typing import Annotated\n",
    "from typing import Literal\n",
    "from langchain_community.tools.tavily_search import TavilySearchResults\n",
    "from langchain_core.tools import tool\n",
    "from langchain_experimental.utilities import PythonREPL\n",
    "from typing_extensions import TypedDict\n",
    "from langgraph.graph import MessagesState, END,StateGraph, START\n",
    "from langgraph.types import Command\n",
    "from langchain_core.messages import HumanMessage\n",
    "from langgraph.prebuilt import create_react_agent"
   ]
  },
  {
   "cell_type": "code",
   "execution_count": 2,
   "metadata": {},
   "outputs": [
    {
     "data": {
      "text/plain": [
       "True"
      ]
     },
     "execution_count": 2,
     "metadata": {},
     "output_type": "execute_result"
    }
   ],
   "source": [
    "from dotenv import load_dotenv\n",
    "load_dotenv()"
   ]
  },
  {
   "cell_type": "code",
   "execution_count": 3,
   "metadata": {},
   "outputs": [
    {
     "data": {
      "text/plain": [
       "'<think>\\n\\n</think>\\n\\nHello! How can I assist you today? 😊'"
      ]
     },
     "execution_count": 3,
     "metadata": {},
     "output_type": "execute_result"
    }
   ],
   "source": [
    "from langchain_openai import ChatOpenAI\n",
    "from langchain_groq import ChatGroq\n",
    "import os\n",
    "openai_api_key = os.getenv(\"OPENAI_KEY\")\n",
    "groq_model = ChatGroq(model='deepseek-r1-distill-llama-70b')\n",
    "groq_model.invoke(\"Hello there\").content"
   ]
  },
  {
   "cell_type": "code",
   "execution_count": 4,
   "metadata": {},
   "outputs": [
    {
     "data": {
      "text/plain": [
       "'Hello! How can I assist you today? 😊'"
      ]
     },
     "execution_count": 4,
     "metadata": {},
     "output_type": "execute_result"
    }
   ],
   "source": [
    "def clean_text(text):\n",
    "    import re\n",
    "    clean_text = re.sub(r\"<think>.*?</think>\\s*\", \"\", text, flags=re.DOTALL)\n",
    "    return clean_text\n",
    "response = groq_model.invoke(\"Hello there\")\n",
    "clean_text(response.content)"
   ]
  },
  {
   "cell_type": "code",
   "execution_count": 5,
   "metadata": {},
   "outputs": [
    {
     "name": "stderr",
     "output_type": "stream",
     "text": [
      "/tmp/ipykernel_37955/140375964.py:1: LangChainDeprecationWarning: The class `TavilySearchResults` was deprecated in LangChain 0.3.25 and will be removed in 1.0. An updated version of the class exists in the :class:`~langchain-tavily package and should be used instead. To use it run `pip install -U :class:`~langchain-tavily` and import as `from :class:`~langchain_tavily import TavilySearch``.\n",
      "  taviliy_tool = TavilySearchResults()\n"
     ]
    },
    {
     "data": {
      "text/plain": [
       "[{'title': 'Gross domestic product - Wikipedia',\n",
       "  'url': 'https://en.wikipedia.org/wiki/Gross_domestic_product',\n",
       "  'content': 'Gross domestic product (GDP) is a monetarymeasure of the total market value( of all the final goods and services produced and rendered in a specific time period by a country( or countries.( GDP is often used to measure the economic performance of a country or region.( Several national and international economic organizations maintain definitions of GDP, such as the OECD and the International Monetary Fund.( [...] GDP (Y) is the sum of consumption (C), investment (I), government expenditures (G) and net exports (X − M).\\n\\nY = C + I + G + (X − M)\\nHere is a description of each GDP component: [...] GDP.',\n",
       "  'score': 0.8969848},\n",
       " {'title': 'Beginners:GDP - What is gross domestic product (GDP)?',\n",
       "  'url': 'https://ec.europa.eu/eurostat/statistics-explained/index.php/Beginners:GDP_-_What_is_gross_domestic_product_(GDP)%3F',\n",
       "  'content': 'GDP \"Glossary:Gross domestic product (GDP)\") is the most common measure for the size of an economy. It measures the total value of goods and services produced by that economy during a specific time period, typically a year or a quarter, so it helps us understand the size of an economy and the standard of living of its population. [...] GDP is a key measure within a wider framework of economic statistics which is often simply referred to as national accounts. The European system of national and regional accounts (ESA) defines the binding standards and methods used for compiling these accounts, whereas the global standard set by the United Nations (UN) is called the System of National Accounts (SNA) \"Glossary:System of national accounts (SNA)\").\\n\\nGDP can be calculated in 3 ways, but the most common is the production method.',\n",
       "  'score': 0.8803145},\n",
       " {'title': 'Gross Domestic Product - National Geographic Education',\n",
       "  'url': 'https://education.nationalgeographic.org/resource/gross-domestic-product/',\n",
       "  'content': 'ENCYCLOPEDIC ENTRY\\n\\nENCYCLOPEDIC ENTRY\\n\\nGross Domestic Product\\n\\nGross Domestic Product\\n\\nGross domestic product (GDP), the total value of all goods and services produced in a country in a given period, is one method to determine a country’s economic growth, and therefore success—but it is not necessarily always the most accurate.\\n\\nGrades\\n\\n5 - 8\\n\\nSubjects\\n\\nSocial Studies, Economics\\n\\nImage\\n\\nContainer Ship into Seattle [...] Gross domestic product, or GDP, represents the total dollar value of all goods and services produced in a country in a given period. GDP is often used to track the growth of a country’s economy. Officials associate the number with prosperity when it is high. GDP helps to identify a society’s standard of living and income; it is an accepted measure of productivity in a society. In the most general sense, GDP is an indication of the size of a country’s economy.GDP can be measured via the [...] C + G + I + (X – M) = GDP',\n",
       "  'score': 0.86981434},\n",
       " {'title': 'What is GDP? | Bank of England',\n",
       "  'url': 'https://www.bankofengland.co.uk/explainers/what-is-gdp',\n",
       "  'content': 'Gross domestic product (GDP) is a measure of the size and health of a country’s economy over a period (usually one quarter or one year). We also use it to compare the size of different economies at different points in time. \\n\\nImage 2\\n\\nHow is it calculated?\\n---------------------\\n\\nTo measure GDP each quarter, the Office for National Statistics Opens in a new window (ONS) collects data from thousands of companies in the UK. And to complicate matters, there are three ways to measure it: [...] When GDP goes up, the economy is growing – people are spending more and businesses may be expanding. \\n\\nFor the above reason, GDP growth – also called ‘economic growth’ or just ‘growth’ – is a key measure of the overall strength of the economy.\\n\\nFalling GDP often comes with falling incomes, lower spending and job cuts – which all lead to lower quality of life. If GDP falls during two consecutive quarters, this means the economy is in recession.\\n\\n   Find out more about why growth matters [...] the total value of goods and services (output) produced\\n   everyone in the country’s income\\n   or what everyone in the country has spent\\n\\nAs this ONS guide to measuring GDP Opens in a new window explains, these are three ways to estimate the same thing. You get different figures depending on which method you use because there is never enough data to build a picture of the economy that is 100% complete.\\n\\nThe last one – total spending – is perhaps the most familiar and can be broken down as:',\n",
       "  'score': 0.85186684},\n",
       " {'title': 'Gross domestic product (GDP) | Definition & Formula - Britannica',\n",
       "  'url': 'https://www.britannica.com/money/gross-domestic-product',\n",
       "  'content': 'gross domestic product (GDP), total market value of the goods and services produced by a country’s economy during a specified period of time. It includes all final goods and services—that is, those that are produced by the economic agents located in that country regardless of their ownership and that are not resold in any form. It is used throughout the world as the main measure of output and economic activity. [...] In economics, the final users of goods and services are divided into three main groups: households, businesses, and the government. One way gross domestic product (GDP) is calculated—known as the expenditure approach—is by adding the expenditures made by those three groups of users. Accordingly, GDP is defined by the following formula: GDP = Consumption + Investment + Government Spending + Net Exports or more succinctly as GDP = C + I + G + NX where consumption (C) represents [...] GDP per capita (also called GDP per person) is used as a measure of a country’s standard of living. A country with a higher level of GDP per capita is considered to be better off in economic terms than a country with a lower level.',\n",
       "  'score': 0.85008353}]"
      ]
     },
     "execution_count": 5,
     "metadata": {},
     "output_type": "execute_result"
    }
   ],
   "source": [
    "taviliy_tool = TavilySearchResults()\n",
    "taviliy_tool.invoke(\"What is gdp?\")"
   ]
  },
  {
   "cell_type": "code",
   "execution_count": 6,
   "id": "5917d6c5",
   "metadata": {},
   "outputs": [],
   "source": [
    "code = \"\"\"\n",
    "x = 5\n",
    "y = x * 2\n",
    "print(y)\n",
    "\"\"\""
   ]
  },
  {
   "cell_type": "code",
   "execution_count": 7,
   "metadata": {},
   "outputs": [],
   "source": [
    "repl = PythonREPL()"
   ]
  },
  {
   "cell_type": "code",
   "execution_count": 8,
   "metadata": {},
   "outputs": [
    {
     "name": "stderr",
     "output_type": "stream",
     "text": [
      "Python REPL can execute arbitrary code. Use with caution.\n"
     ]
    },
    {
     "data": {
      "text/plain": [
       "'10\\n'"
      ]
     },
     "execution_count": 8,
     "metadata": {},
     "output_type": "execute_result"
    }
   ],
   "source": [
    "repl.run(code)"
   ]
  },
  {
   "cell_type": "code",
   "execution_count": 9,
   "id": "6571fadf",
   "metadata": {},
   "outputs": [
    {
     "name": "stderr",
     "output_type": "stream",
     "text": [
      "<>:14: SyntaxWarning: invalid escape sequence '\\`'\n",
      "<>:14: SyntaxWarning: invalid escape sequence '\\`'\n",
      "<>:14: SyntaxWarning: invalid escape sequence '\\`'\n",
      "<>:14: SyntaxWarning: invalid escape sequence '\\`'\n",
      "/tmp/ipykernel_37955/3774809755.py:14: SyntaxWarning: invalid escape sequence '\\`'\n",
      "  result_str = f\"Successfully executed:\\n\\`\\`\\`python\\n{code}\\n\\`\\`\\`\\nStdout: {result}\"\n",
      "/tmp/ipykernel_37955/3774809755.py:14: SyntaxWarning: invalid escape sequence '\\`'\n",
      "  result_str = f\"Successfully executed:\\n\\`\\`\\`python\\n{code}\\n\\`\\`\\`\\nStdout: {result}\"\n"
     ]
    }
   ],
   "source": [
    "@tool\n",
    "def python_repl_tool(\n",
    "    code: Annotated[str, \"The python code to execute to generate your chart.\"]\n",
    "):\n",
    "    \"\"\"\n",
    "    Use this to execute python code and do math. If you want to see the output of a value,\n",
    "    you should print it out with `print(...)`. This is visible to the user.\n",
    "\n",
    "    \"\"\"\n",
    "    try:\n",
    "        result = repl.run(code)\n",
    "    except BaseException as e:\n",
    "        return f\"Failed to execute. Error: {repl(e)}\"\n",
    "    result_str = f\"Successfully executed:\\n\\`\\`\\`python\\n{code}\\n\\`\\`\\`\\nStdout: {result}\"\n",
    "    return result_str\n",
    "    "
   ]
  },
  {
   "cell_type": "code",
   "execution_count": 10,
   "id": "f2d67cee",
   "metadata": {},
   "outputs": [
    {
     "name": "stdout",
     "output_type": "stream",
     "text": [
      "Successfully executed:\n",
      "\\`\\`\\`python\n",
      "\n",
      "x = 5\n",
      "y = x * 2\n",
      "print(y)\n",
      "\n",
      "\\`\\`\\`\n",
      "Stdout: 10\n",
      "\n"
     ]
    }
   ],
   "source": [
    "print(python_repl_tool.invoke(code))"
   ]
  },
  {
   "cell_type": "code",
   "execution_count": 11,
   "id": "2a96748f",
   "metadata": {},
   "outputs": [
    {
     "data": {
      "text/plain": [
       "['researcher', 'coder', 'FINISH']"
      ]
     },
     "execution_count": 11,
     "metadata": {},
     "output_type": "execute_result"
    }
   ],
   "source": [
    "members = ['researcher','coder']\n",
    "options = members + ['FINISH']\n",
    "options"
   ]
  },
  {
   "cell_type": "code",
   "execution_count": 12,
   "id": "57d560f5",
   "metadata": {},
   "outputs": [],
   "source": [
    "class Router(TypedDict):\n",
    "    \"\"\"Worker to route to next. If no workers needed, route to FINISH.\"\"\"\n",
    "    next: Literal['researcher', 'coder', 'FINISH']"
   ]
  },
  {
   "cell_type": "code",
   "execution_count": 13,
   "id": "61e92d6f",
   "metadata": {},
   "outputs": [],
   "source": [
    "class State(MessagesState):\n",
    "    next: str"
   ]
  },
  {
   "cell_type": "code",
   "execution_count": 14,
   "id": "c4225f98",
   "metadata": {},
   "outputs": [],
   "source": [
    "system_prompt = f\"\"\"\n",
    "You are a supervisor, tasked with managing a conversation between the following workers: {members}. \n",
    "Given the following user request, respond with the worker to act next. \n",
    "Each worker will perform a task and respond with their results and status. \n",
    "When finished, respond with FINISH.\n",
    "\"\"\""
   ]
  },
  {
   "cell_type": "code",
   "execution_count": 15,
   "id": "303ce819",
   "metadata": {},
   "outputs": [
    {
     "data": {
      "text/plain": [
       "[{'role': 'system',\n",
       "  'content': \"\\nYou are a supervisor, tasked with managing a conversation between the following workers: ['researcher', 'coder']. \\nGiven the following user request, respond with the worker to act next. \\nEach worker will perform a task and respond with their results and status. \\nWhen finished, respond with FINISH.\\n\"}]"
      ]
     },
     "execution_count": 15,
     "metadata": {},
     "output_type": "execute_result"
    }
   ],
   "source": [
    "[{\"role\": \"system\", \"content\": system_prompt},]"
   ]
  },
  {
   "cell_type": "code",
   "execution_count": 16,
   "id": "acaa9251",
   "metadata": {},
   "outputs": [],
   "source": [
    "state = {\"next\":[\"hi\"]}"
   ]
  },
  {
   "cell_type": "code",
   "execution_count": 17,
   "id": "74884894",
   "metadata": {},
   "outputs": [
    {
     "data": {
      "text/plain": [
       "[{'role': 'system',\n",
       "  'content': \"\\nYou are a supervisor, tasked with managing a conversation between the following workers: ['researcher', 'coder']. \\nGiven the following user request, respond with the worker to act next. \\nEach worker will perform a task and respond with their results and status. \\nWhen finished, respond with FINISH.\\n\"},\n",
       " 'hi']"
      ]
     },
     "execution_count": 17,
     "metadata": {},
     "output_type": "execute_result"
    }
   ],
   "source": [
    "[{\"role\": \"system\", \"content\": system_prompt},] + state[\"next\"]"
   ]
  },
  {
   "cell_type": "code",
   "execution_count": null,
   "metadata": {},
   "outputs": [],
   "source": []
  },
  {
   "cell_type": "code",
   "execution_count": 18,
   "id": "40c507a6",
   "metadata": {},
   "outputs": [],
   "source": [
    "def supervisor_node(state: State) -> Command[Literal[\"researcher\", \"coder\", \"__end__\"]]: \n",
    "    messages = [{\"role\": \"system\", \"content\": system_prompt},] + state[\"messages\"] \n",
    "    response = groq_model.with_structured_output(Router).invoke(messages)\n",
    "    goto = response[\"next\"]\n",
    "    print(\"below my goto**********************************\")\n",
    "    print(goto)\n",
    "    \n",
    "    if goto == \"FINISH\":\n",
    "        goto = END      \n",
    "    return Command(goto=goto, update={\"next\": goto})"
   ]
  },
  {
   "cell_type": "code",
   "execution_count": 19,
   "metadata": {},
   "outputs": [],
   "source": [
    "def research_node(state: State) -> Command[Literal[\"supervisor\"]]: \n",
    "    research_agent = create_react_agent(groq_model, tools=[taviliy_tool], prompt=\"You are a researcher. DO NOT do any math.\") \n",
    "    result = research_agent.invoke(state)\n",
    "    return Command(\n",
    "        update={\n",
    "            \"messages\": [\n",
    "                HumanMessage(content=result[\"messages\"][-1].content, name=\"researcher\")\n",
    "            ]\n",
    "        },\n",
    "        goto=\"supervisor\",\n",
    "    )"
   ]
  },
  {
   "cell_type": "code",
   "execution_count": 20,
   "id": "4b439f37",
   "metadata": {},
   "outputs": [],
   "source": [
    "def code_node(state: State) -> Command[Literal[\"supervisor\"]]: \n",
    "    code_agent = create_react_agent(groq_model, tools=[python_repl_tool])\n",
    "    result = code_agent.invoke(state)\n",
    "    return Command(\n",
    "        update={\n",
    "            \"messages\": [\n",
    "                HumanMessage(content=result[\"messages\"][-1].content, name=\"coder\")\n",
    "            ]\n",
    "        },\n",
    "        goto=\"supervisor\",\n",
    "    )"
   ]
  },
  {
   "cell_type": "code",
   "execution_count": 21,
   "id": "8bdc7db9",
   "metadata": {},
   "outputs": [],
   "source": [
    "graph=StateGraph(State)\n",
    "graph.add_node(\"supervisor\",supervisor_node)\n",
    "graph.add_node(\"researcher\", research_node)\n",
    "graph.add_node(\"coder\", code_node)\n",
    "graph.add_edge(START,\"supervisor\")\n",
    "app = graph.compile()"
   ]
  },
  {
   "cell_type": "code",
   "execution_count": 22,
   "id": "f267eefc",
   "metadata": {},
   "outputs": [
    {
     "data": {
      "image/png": "[encoded data removed]",
      "text/plain": [
       "<IPython.core.display.Image object>"
      ]
     },
     "metadata": {},
     "output_type": "display_data"
    }
   ],
   "source": [
    "from IPython.display import display, Image\n",
    "display(Image(app.get_graph().draw_mermaid_png()))"
   ]
  },
  {
   "cell_type": "code",
   "execution_count": 23,
   "metadata": {},
   "outputs": [
    {
     "name": "stdout",
     "output_type": "stream",
     "text": [
      "below my goto**********************************\n",
      "researcher\n",
      "((), {'supervisor': {'next': 'researcher'}})\n",
      "----\n",
      "(('researcher:1f306fa0-9046-4d2e-d074-063b8b7ab0bd',), {'agent': {'messages': [AIMessage(content='', additional_kwargs={'reasoning_content': 'Okay, the user is asking for the square root of 42. Hmm, I\\'m a researcher and I can\\'t do any math, but I have this tool called tavily_search_results_json that I can use. Let me think about how to approach this.\\n\\nFirst, I need to figure out a good search query to get the information. The square root of 42 isn\\'t something I remember off the top of my head, so I should look it up. I\\'ll try a straightforward query like \"square root of 42\" to get the most accurate results.\\n\\nI should make sure to use the tool correctly. The function requires a query parameter, so I\\'ll structure the JSON with the name and arguments. The arguments should be an object with the query property set to my search string.\\n\\nOnce I call the tool, it should return a JSON object with the search results. From there, I can extract the answer and provide it to the user. I need to make sure the response is clear and helpful, even though I can\\'t compute it myself.\\n\\nAlright, time to put it all together and call the tool with the appropriate query.\\n', 'tool_calls': [{'id': 'qj2aexk4s', 'function': {'arguments': '{\"query\":\"square root of 42\"}', 'name': 'tavily_search_results_json'}, 'type': 'function'}]}, response_metadata={'token_usage': {'completion_tokens': 266, 'prompt_tokens': 179, 'total_tokens': 445, 'completion_time': 1.352115919, 'prompt_time': 0.011794057, 'queue_time': 0.286959672, 'total_time': 1.363909976}, 'model_name': 'deepseek-r1-distill-llama-70b', 'system_fingerprint': 'fp_1bbe7845ec', 'finish_reason': 'tool_calls', 'logprobs': None}, id='run--7eb8d6df-1efc-4d1a-b477-cfc3432b7c73-0', tool_calls=[{'name': 'tavily_search_results_json', 'args': {'query': 'square root of 42'}, 'id': 'qj2aexk4s', 'type': 'tool_call'}], usage_metadata={'input_tokens': 179, 'output_tokens': 266, 'total_tokens': 445})]}})\n",
      "----\n",
      "(('researcher:1f306fa0-9046-4d2e-d074-063b8b7ab0bd',), {'tools': {'messages': [ToolMessage(content='[{\"title\": \"Square Root of 42 - BYJU\\'S\", \"url\": \"https://byjus.com/maths/square-root-of-42/\", \"content\": \"What is the value of the square root of 42? The value of the square root of 42 is approximately equal to 6.481, which is rounded to three decimal places.\", \"score\": 0.9323611}, {\"title\": \"Square Root of 42 | Learn Important Terms and Concepts - Vedantu\", \"url\": \"https://www.vedantu.com/maths/square-root-of-42\", \"content\": \"Square root of 42 in Decimal = 6.4807\\\\n\\\\nSquare root of 42 in Radical = \\\\\\\\[\\\\\\\\sqrt {42} \\\\\\\\]\\\\n\\\\nThe square root of 42 without actual multiplication = 6.461\\\\n\\\\n## What is the Square Root of 42?\\\\n\\\\nThe square root of 42 is a number when it is multiplied by the number itself gives us 42. The symbol of representation of the square root is “\\\\\\\\[\\\\\\\\sqrt {} \\\\\\\\]”, so we can represent the square root of 42 as\\\\\\\\[\\\\\\\\sqrt {42} \\\\\\\\]. Let’s take the square root of 42 as “x”.\\\\n\\\\nHence, \\\\\\\\[\\\\\\\\sqrt {42} = \\\\\\\\sqrt {x \\\\\\\\times x} \\\\\\\\]. [...] The value of \\\\\\\\[\\\\\\\\sqrt {42} \\\\\\\\] or we can say the square root of 42 is 6.4807.\\\\n\\\\nIn the radical form, we can write a square root of 42, which can not be reduced further.\\\\n\\\\nIn the exponential form, we can write the square root of 42 as \\\\\\\\[{42^{\\\\\\\\dfrac{1}{2}}}\\\\\\\\].\\\\n\\\\n## Prime Factorization Method to Find the Square Root of 42\\\\n\\\\nFor the Prime factorization method, first we have to find the prime factors of 42 and then the square root of 42.\\\\n\\\\nPrime factors of 42 = 2, 3, & 7 [...] Now take the square roots of all numbers.\\\\n\\\\nSquare Root of 42 on the Number Line\\\\n\\\\nSquare Root of 42 on the Number Line\\\\n\\\\nSquare Root of 42 on the Number Line\\\\n\\\\nThe square root of 42 lies near 6.5 on a number line.\\\\n\\\\n## Interesting Facts\\\\n\\\\nThe square of square root is a number of a number that is the same number.\\\\n\\\\nA perfect square root exists for a perfect square number.\\\\n\\\\nThe square roots of 0 and 1 are 0 and 1, respectively.\\\\n\\\\n## Solved Examples\", \"score\": 0.91435975}, {\"title\": \"How to Find the Square Root of 42? - Cuemath\", \"url\": \"https://www.cuemath.com/algebra/square-root-of-42/\", \"content\": \"Square root of 42\\\\n\\\\nSo, we get the square root of √42 = 6.480 by the long division method.\\\\n\\\\nExplore square roots using illustrations and interactive examples.\\\\n\\\\nImportant Notes:\\\\n\\\\n## Square Root of 42 Solved Examples\\\\n\\\\nExample 1: Alex is riding her car at a speed of √42 m/s. By how much she should increase her speed so that she can cover 1 km in 100 seconds? [...] The negative square root of 42 is -6.4807.\\\\n\\\\n### What is the square of 42?\\\\n\\\\nThe square of 42 is (42)2 = 1764.\\\\n\\\\n### Can we find the square root of 42 using the prime factorization form?\\\\n\\\\nNo, we can’t find the square root of 42 by the prime factorization method as it cannot be reduced further.  \\\\nBecause the number 42 has three prime factors 2, 3, and 7.\\\\n\\\\n### Can we calculate the square root of 42 using the repeated subtraction method? [...] cuemath_logo\\\\ncuemath_logo\\\\n\\\\n# Square Root of 42\\\\n\\\\nThe number 42 is a number with three prime factors 2, 3, and 7. So, its prime factorization. The square root of a number is both positive and negative. We will now calculate the square root of 42 using various methods and learn a few interesting facts and questions as well.\", \"score\": 0.9121316}, {\"title\": \"SQUARE ROOT OF 42 - YouTube\", \"url\": \"https://www.youtube.com/watch?v=Yuldm4-qC_Q\", \"content\": \"# SQUARE ROOT OF 42\\\\n\\\\nLast Night Study\\\\n103 likes\\\\n9473 views\\\\n13 Mar 2021\\\\n\\\\n6 comments\", \"score\": 0.46701634}, {\"title\": \"Square Root Calculator\", \"url\": \"https://www.omnicalculator.com/math/square-root\", \"content\": \"√8 = √(4 × 2) = √4 × √2 = 2√2\\\\n\\\\nWhen can you simplify a root? To answer this question, we need to find the factors of the radicand. Suppose that the radicand has a perfect square factor, i.e., 4, 9, 16, 25, 36, 49, 64, and so on (these numbers can be respectively expressed as 2², 3², 4², 5², 6², 7², hence the name). Then, you can simplify the square root by following these steps:\\\\n\\\\nBy combining these steps, we get √8 = 2√2 as we wanted! Let\\'s take a look at more examples: [...] digits in the above example). [...] Square root of 1: √1 = 1, since 1 × 1 = 1;\\\\n\\\\nSquare root of 4: √4 = 2, since 2 × 2 = 4;\\\\n\\\\nSquare root of 9: √9 = 3, since 3 × 3 = 9;\\\\n\\\\nSquare root of 16: √16 = 4, since 4 × 4 = 16;\\\\n\\\\nSquare root of 25: √25 = 5, since 5 × 5 = 25;\\\\n\\\\nSquare root of 36: √36 = 6, since 6 × 6 = 36;\\\\n\\\\nSquare root of 49: √49 = 7, since 7 × 7 = 49;\\\\n\\\\nSquare root of 64: √64 = 8, since 8 × 8 = 64;\\\\n\\\\nSquare root of 81: √81 = 9, since 9 × 9 = 81;\\\\n\\\\nSquare root of 100: √100 = 10, since 10 × 10 = 100;\", \"score\": 0.35093334}]', name='tavily_search_results_json', id='00b0d987-6e07-4fb5-948e-4677e1331e77', tool_call_id='qj2aexk4s', artifact={'query': 'square root of 42', 'follow_up_questions': None, 'answer': None, 'images': [], 'results': [{'url': 'https://byjus.com/maths/square-root-of-42/', 'title': \"Square Root of 42 - BYJU'S\", 'content': 'What is the value of the square root of 42? The value of the square root of 42 is approximately equal to 6.481, which is rounded to three decimal places.', 'score': 0.9323611, 'raw_content': None}, {'url': 'https://www.vedantu.com/maths/square-root-of-42', 'title': 'Square Root of 42 | Learn Important Terms and Concepts - Vedantu', 'content': 'Square root of 42 in Decimal = 6.4807\\n\\nSquare root of 42 in Radical = \\\\[\\\\sqrt {42} \\\\]\\n\\nThe square root of 42 without actual multiplication = 6.461\\n\\n## What is the Square Root of 42?\\n\\nThe square root of 42 is a number when it is multiplied by the number itself gives us 42. The symbol of representation of the square root is “\\\\[\\\\sqrt {} \\\\]”, so we can represent the square root of 42 as\\\\[\\\\sqrt {42} \\\\]. Let’s take the square root of 42 as “x”.\\n\\nHence, \\\\[\\\\sqrt {42} = \\\\sqrt {x \\\\times x} \\\\]. [...] The value of \\\\[\\\\sqrt {42} \\\\] or we can say the square root of 42 is 6.4807.\\n\\nIn the radical form, we can write a square root of 42, which can not be reduced further.\\n\\nIn the exponential form, we can write the square root of 42 as \\\\[{42^{\\\\dfrac{1}{2}}}\\\\].\\n\\n## Prime Factorization Method to Find the Square Root of 42\\n\\nFor the Prime factorization method, first we have to find the prime factors of 42 and then the square root of 42.\\n\\nPrime factors of 42 = 2, 3, & 7 [...] Now take the square roots of all numbers.\\n\\nSquare Root of 42 on the Number Line\\n\\nSquare Root of 42 on the Number Line\\n\\nSquare Root of 42 on the Number Line\\n\\nThe square root of 42 lies near 6.5 on a number line.\\n\\n## Interesting Facts\\n\\nThe square of square root is a number of a number that is the same number.\\n\\nA perfect square root exists for a perfect square number.\\n\\nThe square roots of 0 and 1 are 0 and 1, respectively.\\n\\n## Solved Examples', 'score': 0.91435975, 'raw_content': None}, {'url': 'https://www.cuemath.com/algebra/square-root-of-42/', 'title': 'How to Find the Square Root of 42? - Cuemath', 'content': 'Square root of 42\\n\\nSo, we get the square root of √42 = 6.480 by the long division method.\\n\\nExplore square roots using illustrations and interactive examples.\\n\\nImportant Notes:\\n\\n## Square Root of 42 Solved Examples\\n\\nExample 1: Alex is riding her car at a speed of √42 m/s. By how much she should increase her speed so that she can cover 1 km in 100 seconds? [...] The negative square root of 42 is -6.4807.\\n\\n### What is the square of 42?\\n\\nThe square of 42 is (42)2 = 1764.\\n\\n### Can we find the square root of 42 using the prime factorization form?\\n\\nNo, we can’t find the square root of 42 by the prime factorization method as it cannot be reduced further.  \\nBecause the number 42 has three prime factors 2, 3, and 7.\\n\\n### Can we calculate the square root of 42 using the repeated subtraction method? [...] cuemath_logo\\ncuemath_logo\\n\\n# Square Root of 42\\n\\nThe number 42 is a number with three prime factors 2, 3, and 7. So, its prime factorization. The square root of a number is both positive and negative. We will now calculate the square root of 42 using various methods and learn a few interesting facts and questions as well.', 'score': 0.9121316, 'raw_content': None}, {'url': 'https://www.youtube.com/watch?v=Yuldm4-qC_Q', 'title': 'SQUARE ROOT OF 42 - YouTube', 'content': '# SQUARE ROOT OF 42\\n\\nLast Night Study\\n103 likes\\n9473 views\\n13 Mar 2021\\n\\n6 comments', 'score': 0.46701634, 'raw_content': None}, {'url': 'https://www.omnicalculator.com/math/square-root', 'title': 'Square Root Calculator', 'content': \"√8 = √(4 × 2) = √4 × √2 = 2√2\\n\\nWhen can you simplify a root? To answer this question, we need to find the factors of the radicand. Suppose that the radicand has a perfect square factor, i.e., 4, 9, 16, 25, 36, 49, 64, and so on (these numbers can be respectively expressed as 2², 3², 4², 5², 6², 7², hence the name). Then, you can simplify the square root by following these steps:\\n\\nBy combining these steps, we get √8 = 2√2 as we wanted! Let's take a look at more examples: [...] digits in the above example). [...] Square root of 1: √1 = 1, since 1 × 1 = 1;\\n\\nSquare root of 4: √4 = 2, since 2 × 2 = 4;\\n\\nSquare root of 9: √9 = 3, since 3 × 3 = 9;\\n\\nSquare root of 16: √16 = 4, since 4 × 4 = 16;\\n\\nSquare root of 25: √25 = 5, since 5 × 5 = 25;\\n\\nSquare root of 36: √36 = 6, since 6 × 6 = 36;\\n\\nSquare root of 49: √49 = 7, since 7 × 7 = 49;\\n\\nSquare root of 64: √64 = 8, since 8 × 8 = 64;\\n\\nSquare root of 81: √81 = 9, since 9 × 9 = 81;\\n\\nSquare root of 100: √100 = 10, since 10 × 10 = 100;\", 'score': 0.35093334, 'raw_content': None}], 'response_time': 5.13})]}})\n",
      "----\n",
      "(('researcher:1f306fa0-9046-4d2e-d074-063b8b7ab0bd',), {'agent': {'messages': [AIMessage(content='The square root of 42 is approximately 6.481.', additional_kwargs={'reasoning_content': \"Alright, so the user is asking for the square root of 42. I know that 42 isn't a perfect square, so the square root won't be an integer. Let me think about how to explain this. \\n\\nFirst, I should probably mention that the square root of 42 is an irrational number, which means it can't be expressed exactly as a simple fraction and its decimal goes on forever without repeating. But I can provide an approximate value.\\n\\nI remember from math class that the square of 6 is 36 and the square of 7 is 49. So, the square root of 42 should be somewhere between 6 and 7. To get a better estimate, I can try squaring numbers like 6.4, 6.5, and so on to see where 42 falls.\\n\\nLet me do a quick calculation: 6.4 squared is 40.96, which is just below 42. 6.5 squared is 42.25, which is a bit above 42. So, the square root of 42 is between 6.4 and 6.5. To get a more precise value, I can use linear approximation or a calculator, but since I'm doing this manually, I'll estimate it to be around 6.48 or 6.481.\\n\\nI should also mention that in mathematical terms, the square root of 42 can be written as √42, and it's approximately 6.481. This way, the user gets both the exact form and an approximate decimal value.\\n\\nI need to make sure the explanation is clear and not too technical, so the user can understand without getting confused. I'll avoid using complex terms and keep it straightforward.\\n\"}, response_metadata={'token_usage': {'completion_tokens': 372, 'prompt_tokens': 1694, 'total_tokens': 2066, 'completion_time': 1.790913494, 'prompt_time': 0.132831294, 'queue_time': 0.10122740800000002, 'total_time': 1.923744788}, 'model_name': 'deepseek-r1-distill-llama-70b', 'system_fingerprint': 'fp_1bbe7845ec', 'finish_reason': 'stop', 'logprobs': None}, id='run--3b43bb70-a82c-42f0-822f-74994b2d925f-0', usage_metadata={'input_tokens': 1694, 'output_tokens': 372, 'total_tokens': 2066})]}})\n",
      "----\n",
      "((), {'researcher': {'messages': [HumanMessage(content='The square root of 42 is approximately 6.481.', additional_kwargs={}, response_metadata={}, name='researcher')]}})\n",
      "----\n"
     ]
    },
    {
     "name": "stderr",
     "output_type": "stream",
     "text": [
      "Task supervisor with path ('__pregel_pull', 'supervisor') wrote to unknown channel branch:to:__end__, ignoring it.\n"
     ]
    },
    {
     "name": "stdout",
     "output_type": "stream",
     "text": [
      "below my goto**********************************\n",
      "FINISH\n",
      "((), {'supervisor': {'next': '__end__'}})\n",
      "----\n"
     ]
    }
   ],
   "source": [
    "# With the graph created, we can now invoke it and see how it performs!\n",
    "for s in app.stream({\"messages\": [(\"user\", \"What's the square root of 42?\")]}, subgraphs=True):\n",
    "    print(s)\n",
    "    print(\"----\")"
   ]
  },
  {
   "cell_type": "code",
   "execution_count": 24,
   "metadata": {},
   "outputs": [
    {
     "name": "stdout",
     "output_type": "stream",
     "text": [
      "below my goto**********************************\n",
      "coder\n",
      "below my goto**********************************\n",
      "researcher\n",
      "below my goto**********************************\n",
      "researcher\n",
      "below my goto**********************************\n",
      "researcher\n"
     ]
    },
    {
     "name": "stderr",
     "output_type": "stream",
     "text": [
      "Task supervisor with path ('__pregel_pull', 'supervisor') wrote to unknown channel branch:to:__end__, ignoring it.\n"
     ]
    },
    {
     "name": "stdout",
     "output_type": "stream",
     "text": [
      "below my goto**********************************\n",
      "FINISH\n"
     ]
    },
    {
     "data": {
      "text/plain": [
       "{'messages': [HumanMessage(content=\"What's the square root of 42?\", additional_kwargs={}, response_metadata={}, id='f3a22aa2-5140-468f-a67e-d62ac1349945'),\n",
       "  HumanMessage(content='The square root of 42 is approximately **6.4807**.', additional_kwargs={}, response_metadata={}, name='coder', id='2cb3b7f5-f393-4c4b-8c7c-3a1cb9f76234'),\n",
       "  HumanMessage(content='The square root of 42 is approximately **6.4807**.', additional_kwargs={}, response_metadata={}, name='researcher', id='d4a6a10f-cc0e-4216-b7a2-bea60cefec97'),\n",
       "  HumanMessage(content='The square root of 42 is approximately **6.48**. This estimation is based on the understanding that 42 lies between the perfect squares 36 (6²) and 49 (7²), and further refined by calculating that 6.48 squared is very close to 42.', additional_kwargs={}, response_metadata={}, name='researcher', id='d37b60ad-aea4-426c-b268-9ba628af6f4d'),\n",
       "  HumanMessage(content='\\n\\nTo find the square root of 42, I can use the fact that 42 lies between the perfect squares 36 (6²) and 49 (7²). By estimating, I can determine that the square root of 42 is approximately 6.4807.', additional_kwargs={}, response_metadata={}, name='researcher', id='a7247440-1aa7-4c32-bdd6-216a92feedd7')],\n",
       " 'next': '__end__'}"
      ]
     },
     "execution_count": 24,
     "metadata": {},
     "output_type": "execute_result"
    }
   ],
   "source": [
    "app.invoke({\"messages\": [(\"user\", \"What's the square root of 42?\")]}, subgraphs=True)"
   ]
  },
  {
   "cell_type": "code",
   "execution_count": 25,
   "id": "9c66e7e1",
   "metadata": {},
   "outputs": [
    {
     "name": "stdout",
     "output_type": "stream",
     "text": [
      "below my goto**********************************\n",
      "coder\n",
      "below my goto**********************************\n",
      "coder\n",
      "below my goto**********************************\n",
      "researcher\n",
      "below my goto**********************************\n",
      "researcher\n",
      "below my goto**********************************\n",
      "coder\n"
     ]
    },
    {
     "ename": "BadRequestError",
     "evalue": "Error code: 400 - {'error': {'message': \"Failed to call a function. Please adjust your prompt. See 'failed_generation' for more details.\", 'type': 'invalid_request_error', 'code': 'tool_use_failed', 'failed_generation': '\\nOkay, so I need to figure out an efficient way to get prime numbers using Python. I\\'ve heard about the Sieve of Eratosthenes before, but I\\'m not exactly sure how it works. Let me try to break it down.\\n\\nFirst, what is a prime number? Oh right, a prime number is a number greater than 1 that has no divisors other than 1 and itself. So, numbers like 2, 3, 5, 7, etc., are primes.\\n\\nNow, the Sieve of Eratosthenes... I think it\\'s an ancient algorithm for finding all prime numbers up to a certain limit. The name sounds Greek, maybe named after someone named Eratosthenes.\\n\\nHow does it work? From what I remember, it\\'s like a sieve that filters out non-prime numbers. You start with a list of numbers, and then you iteratively mark the multiples of each prime number starting from 2.\\n\\nLet me try to outline the steps:\\n\\n1. Create a list of boolean values representing numbers from 0 to the limit. Initially, all entries are set to True, meaning all numbers are considered prime at the start.\\n2. Set the entries at indices 0 and 1 to False because 0 and 1 are not prime numbers.\\n3. Start with the first prime number, which is 2. Mark all multiples of 2 as not prime.\\n4. Move to the next number that is still marked as prime (which would be 3), and mark all its multiples as not prime.\\n5. Continue this process up to the square root of the limit. Why the square root? Oh, because if a number has a factor larger than its square root, the corresponding smaller factor would have already been marked.\\n6. After processing, collect all indices that are still marked as True. These are your prime numbers.\\n\\nWait, let me think about step 5 again. If I only go up to the square root of the limit, does that cover all possible non-prime numbers? For example, if the limit is 100, the square root is 10. So, checking up to 10 should be enough because any composite number larger than 10 would have factors less than or equal to 10.\\n\\nOkay, that makes sense. It reduces the number of iterations needed, making the algorithm more efficient.\\n\\nNow, how do I implement this in Python?\\n\\nI\\'ll start by defining a function called `get_primes` that takes a `limit` as an argument. Inside the function:\\n\\n- If the limit is less than 2, return an empty list because there are no primes less than 2.\\n- Create a boolean list `prime` of size `limit + 1`, initialized to `True`.\\n- Set `prime[0]` and `prime[1]` to `False`.\\n- Loop through each number starting from 2 up to the square root of the limit.\\n- For each number, if it\\'s still marked as prime, mark all its multiples starting from its square as not prime.\\n- Finally, collect all indices that are still `True` and return them as the list of primes.\\n\\nLet me try to write this out step by step.\\n\\nFirst, handle the edge case where the limit is less than 2:\\n\\n```python\\ndef get_primes(limit):\\n    if limit < 2:\\n        return []\\n```\\n\\nNext, create the boolean list and initialize it:\\n\\n```python\\n    prime = [True] * (limit + 1)\\n    prime[0], prime[1] = False, False\\n```\\n\\nNow, loop through each number from 2 to the square root of the limit:\\n\\n```python\\n    for current_prime in range(2, int(limit ** 0.5) + 1):\\n        if prime[current_prime]:\\n            for multiple in range(current_prime * current_prime, limit + 1, current_prime):\\n                prime[multiple] = False\\n```\\n\\nWait, why start marking multiples from `current_prime * current_prime`? Oh, right, because smaller multiples would have already been marked by smaller primes. For example, multiples of 2 have already been marked when `current_prime` was 2, so when `current_prime` is 3, starting at 9 ensures we don\\'t re-mark multiples that were already handled.\\n\\nFinally, collect the primes:\\n\\n```python\\n    primes = [num for num, is_prime in enumerate(prime) if is_prime]\\n    return primes\\n```\\n\\nPutting it all together:\\n\\n```python\\ndef get_primes(limit):\\n    if limit < 2:\\n        return []\\n    \\n    prime = [True] * (limit + 1)\\n    prime[0], prime[1] = False, False\\n    \\n    for current_prime in range(2, int(limit ** 0.5) + 1):\\n        if prime[current_prime]:\\n            for multiple in range(current_prime * current_prime, limit + 1, current_prime):\\n                prime[multiple] = False\\n    \\n    primes = [num for num, is_prime in enumerate(prime) if is_prime]\\n    return primes\\n\\n# Example usage:\\nprimes = get_primes(100)\\nprint(\"Primes up to 100:\", primes)\\n```\\n\\nLet me test this code with a small limit to see if it works. For example, if the limit is 10, the primes should be [2, 3, 5, 7].\\n\\nRunning the code with `get_primes(10)` should return [2, 3, 5, 7].\\n\\nYes, that seems correct. Now, let\\'s try with a larger number, like 100, as in the example. The output should list all primes up to 100.\\n\\nThis approach seems efficient and easy to understand. I think I\\'ve got it!\\n</think>\\n\\nTo efficiently find prime numbers in Python, you can use the Sieve of Eratosthenes algorithm. This method is highly efficient for generating all prime numbers up to a specified limit. Here\\'s a step-by-step explanation and implementation:\\n\\n### Sieve of Eratosthenes Algorithm\\n\\n1. **Initialization**: Create a boolean list `prime` where each index represents whether the number is prime. Initially, all values are set to `True`, except for indices 0 and 1, which are set to `False` because 0 and 1 are not prime numbers.\\n\\n2. **Mark Non-Primes**: Iterate through each number starting from 2 up to the square root of the limit. For each number that is still marked as prime:\\n   - Mark all its multiples as non-prime, starting from the square of the current prime number.\\n\\n3. **Collect Primes**: After processing, collect all indices that are still marked as `True` in the `prime` list. These indices represent the prime numbers up to the specified limit.\\n\\n### Python Implementation\\n\\n```python\\ndef get_primes(limit):\\n    if limit < 2:\\n        return []\\n    \\n    # Create a boolean list where each index represents whether the number is prime\\n    prime = [True] * (limit + 1)\\n    prime[0], prime[1] = False, False  # 0 and 1 are not primes\\n    \\n    # Iterate from 2 to sqrt(limit)\\n    for current_prime in range(2, int(limit ** 0.5) + 1):\\n        if prime[current_prime]:  # If current_prime is a prime\\n            # Mark multiples of current_prime starting from current_prime^2 as not prime\\n            for multiple in range(current_prime * current_prime, limit + 1, current_prime):\\n                prime[multiple] = False\\n    \\n    # Collect all indices that are still marked as True\\n    primes = [num for num, is_prime in enumerate(prime) if is_prime]\\n    return primes\\n\\n# Example usage:\\nprimes = get_primes(100)\\nprint(\"Primes up to 100:\", primes)\\n```\\n\\n### Explanation\\n\\n- **Initialization**: The boolean list `prime` is initialized to keep track of prime numbers. By default, all numbers are considered prime initially.\\n- **Marking Non-Primes**: For each prime number starting from 2, the algorithm marks its multiples as non-prime. This starts from the square of the current prime to avoid redundant checks.\\n- **Efficiency**: The algorithm runs in O(n log log n) time complexity, making it highly efficient for generating prime numbers up to a large limit.\\n- **Example Usage**: The function `get_primes` is called with a limit of 100, and the resulting list of prime numbers is printed.\\n\\nThis implementation provides an efficient and clear method to generate prime numbers, ideal for both small and large limits.'}}",
     "output_type": "error",
     "traceback": [
      "\u001b[31m---------------------------------------------------------------------------\u001b[39m",
      "\u001b[31mBadRequestError\u001b[39m                           Traceback (most recent call last)",
      "\u001b[36mCell\u001b[39m\u001b[36m \u001b[39m\u001b[32mIn[25]\u001b[39m\u001b[32m, line 1\u001b[39m\n\u001b[32m----> \u001b[39m\u001b[32m1\u001b[39m \u001b[43mapp\u001b[49m\u001b[43m.\u001b[49m\u001b[43minvoke\u001b[49m\u001b[43m(\u001b[49m\u001b[43m{\u001b[49m\u001b[33;43m\"\u001b[39;49m\u001b[33;43mmessages\u001b[39;49m\u001b[33;43m\"\u001b[39;49m\u001b[43m:\u001b[49m\u001b[43m \u001b[49m\u001b[43m[\u001b[49m\u001b[43m(\u001b[49m\u001b[33;43m\"\u001b[39;49m\u001b[33;43muser\u001b[39;49m\u001b[33;43m\"\u001b[39;49m\u001b[43m,\u001b[49m\u001b[43m \u001b[49m\u001b[33;43m\"\u001b[39;49m\u001b[33;43mWhat is an efficient Python code to get prime numbers?\u001b[39;49m\u001b[33;43m\"\u001b[39;49m\u001b[43m)\u001b[49m\u001b[43m]\u001b[49m\u001b[43m}\u001b[49m\u001b[43m,\u001b[49m\u001b[43m \u001b[49m\u001b[43msubgraphs\u001b[49m\u001b[43m=\u001b[49m\u001b[38;5;28;43;01mTrue\u001b[39;49;00m\u001b[43m)\u001b[49m\n",
      "\u001b[36mFile \u001b[39m\u001b[32m~/Documents/JIM/Langgraph/env/lib/python3.13/site-packages/langgraph/pregel/__init__.py:2852\u001b[39m, in \u001b[36mPregel.invoke\u001b[39m\u001b[34m(self, input, config, stream_mode, print_mode, output_keys, interrupt_before, interrupt_after, **kwargs)\u001b[39m\n\u001b[32m   2849\u001b[39m chunks: \u001b[38;5;28mlist\u001b[39m[\u001b[38;5;28mdict\u001b[39m[\u001b[38;5;28mstr\u001b[39m, Any] | Any] = []\n\u001b[32m   2850\u001b[39m interrupts: \u001b[38;5;28mlist\u001b[39m[Interrupt] = []\n\u001b[32m-> \u001b[39m\u001b[32m2852\u001b[39m \u001b[43m\u001b[49m\u001b[38;5;28;43;01mfor\u001b[39;49;00m\u001b[43m \u001b[49m\u001b[43mchunk\u001b[49m\u001b[43m \u001b[49m\u001b[38;5;129;43;01min\u001b[39;49;00m\u001b[43m \u001b[49m\u001b[38;5;28;43mself\u001b[39;49m\u001b[43m.\u001b[49m\u001b[43mstream\u001b[49m\u001b[43m(\u001b[49m\n\u001b[32m   2853\u001b[39m \u001b[43m    \u001b[49m\u001b[38;5;28;43minput\u001b[39;49m\u001b[43m,\u001b[49m\n\u001b[32m   2854\u001b[39m \u001b[43m    \u001b[49m\u001b[43mconfig\u001b[49m\u001b[43m,\u001b[49m\n\u001b[32m   2855\u001b[39m \u001b[43m    \u001b[49m\u001b[43mstream_mode\u001b[49m\u001b[43m=\u001b[49m\u001b[43m[\u001b[49m\u001b[33;43m\"\u001b[39;49m\u001b[33;43mupdates\u001b[39;49m\u001b[33;43m\"\u001b[39;49m\u001b[43m,\u001b[49m\u001b[43m \u001b[49m\u001b[33;43m\"\u001b[39;49m\u001b[33;43mvalues\u001b[39;49m\u001b[33;43m\"\u001b[39;49m\u001b[43m]\u001b[49m\n\u001b[32m   2856\u001b[39m \u001b[43m    \u001b[49m\u001b[38;5;28;43;01mif\u001b[39;49;00m\u001b[43m \u001b[49m\u001b[43mstream_mode\u001b[49m\u001b[43m \u001b[49m\u001b[43m==\u001b[49m\u001b[43m \u001b[49m\u001b[33;43m\"\u001b[39;49m\u001b[33;43mvalues\u001b[39;49m\u001b[33;43m\"\u001b[39;49m\n\u001b[32m   2857\u001b[39m \u001b[43m    \u001b[49m\u001b[38;5;28;43;01melse\u001b[39;49;00m\u001b[43m \u001b[49m\u001b[43mstream_mode\u001b[49m\u001b[43m,\u001b[49m\n\u001b[32m   2858\u001b[39m \u001b[43m    \u001b[49m\u001b[43mprint_mode\u001b[49m\u001b[43m=\u001b[49m\u001b[43mprint_mode\u001b[49m\u001b[43m,\u001b[49m\n\u001b[32m   2859\u001b[39m \u001b[43m    \u001b[49m\u001b[43moutput_keys\u001b[49m\u001b[43m=\u001b[49m\u001b[43moutput_keys\u001b[49m\u001b[43m,\u001b[49m\n\u001b[32m   2860\u001b[39m \u001b[43m    \u001b[49m\u001b[43minterrupt_before\u001b[49m\u001b[43m=\u001b[49m\u001b[43minterrupt_before\u001b[49m\u001b[43m,\u001b[49m\n\u001b[32m   2861\u001b[39m \u001b[43m    \u001b[49m\u001b[43minterrupt_after\u001b[49m\u001b[43m=\u001b[49m\u001b[43minterrupt_after\u001b[49m\u001b[43m,\u001b[49m\n\u001b[32m   2862\u001b[39m \u001b[43m    \u001b[49m\u001b[43m*\u001b[49m\u001b[43m*\u001b[49m\u001b[43mkwargs\u001b[49m\u001b[43m,\u001b[49m\n\u001b[32m   2863\u001b[39m \u001b[43m\u001b[49m\u001b[43m)\u001b[49m\u001b[43m:\u001b[49m\n\u001b[32m   2864\u001b[39m \u001b[43m    \u001b[49m\u001b[38;5;28;43;01mif\u001b[39;49;00m\u001b[43m \u001b[49m\u001b[43mstream_mode\u001b[49m\u001b[43m \u001b[49m\u001b[43m==\u001b[49m\u001b[43m \u001b[49m\u001b[33;43m\"\u001b[39;49m\u001b[33;43mvalues\u001b[39;49m\u001b[33;43m\"\u001b[39;49m\u001b[43m:\u001b[49m\n\u001b[32m   2865\u001b[39m \u001b[43m        \u001b[49m\u001b[38;5;28;43;01mif\u001b[39;49;00m\u001b[43m \u001b[49m\u001b[38;5;28;43mlen\u001b[39;49m\u001b[43m(\u001b[49m\u001b[43mchunk\u001b[49m\u001b[43m)\u001b[49m\u001b[43m \u001b[49m\u001b[43m==\u001b[49m\u001b[43m \u001b[49m\u001b[32;43m2\u001b[39;49m\u001b[43m:\u001b[49m\n",
      "\u001b[36mFile \u001b[39m\u001b[32m~/Documents/JIM/Langgraph/env/lib/python3.13/site-packages/langgraph/pregel/__init__.py:2542\u001b[39m, in \u001b[36mPregel.stream\u001b[39m\u001b[34m(self, input, config, stream_mode, print_mode, output_keys, interrupt_before, interrupt_after, checkpoint_during, debug, subgraphs)\u001b[39m\n\u001b[32m   2540\u001b[39m \u001b[38;5;28;01mfor\u001b[39;00m task \u001b[38;5;129;01min\u001b[39;00m loop.match_cached_writes():\n\u001b[32m   2541\u001b[39m     loop.output_writes(task.id, task.writes, cached=\u001b[38;5;28;01mTrue\u001b[39;00m)\n\u001b[32m-> \u001b[39m\u001b[32m2542\u001b[39m \u001b[43m\u001b[49m\u001b[38;5;28;43;01mfor\u001b[39;49;00m\u001b[43m \u001b[49m\u001b[43m_\u001b[49m\u001b[43m \u001b[49m\u001b[38;5;129;43;01min\u001b[39;49;00m\u001b[43m \u001b[49m\u001b[43mrunner\u001b[49m\u001b[43m.\u001b[49m\u001b[43mtick\u001b[49m\u001b[43m(\u001b[49m\n\u001b[32m   2543\u001b[39m \u001b[43m    \u001b[49m\u001b[43m[\u001b[49m\u001b[43mt\u001b[49m\u001b[43m \u001b[49m\u001b[38;5;28;43;01mfor\u001b[39;49;00m\u001b[43m \u001b[49m\u001b[43mt\u001b[49m\u001b[43m \u001b[49m\u001b[38;5;129;43;01min\u001b[39;49;00m\u001b[43m \u001b[49m\u001b[43mloop\u001b[49m\u001b[43m.\u001b[49m\u001b[43mtasks\u001b[49m\u001b[43m.\u001b[49m\u001b[43mvalues\u001b[49m\u001b[43m(\u001b[49m\u001b[43m)\u001b[49m\u001b[43m \u001b[49m\u001b[38;5;28;43;01mif\u001b[39;49;00m\u001b[43m \u001b[49m\u001b[38;5;129;43;01mnot\u001b[39;49;00m\u001b[43m \u001b[49m\u001b[43mt\u001b[49m\u001b[43m.\u001b[49m\u001b[43mwrites\u001b[49m\u001b[43m]\u001b[49m\u001b[43m,\u001b[49m\n\u001b[32m   2544\u001b[39m \u001b[43m    \u001b[49m\u001b[43mtimeout\u001b[49m\u001b[43m=\u001b[49m\u001b[38;5;28;43mself\u001b[39;49m\u001b[43m.\u001b[49m\u001b[43mstep_timeout\u001b[49m\u001b[43m,\u001b[49m\n\u001b[32m   2545\u001b[39m \u001b[43m    \u001b[49m\u001b[43mget_waiter\u001b[49m\u001b[43m=\u001b[49m\u001b[43mget_waiter\u001b[49m\u001b[43m,\u001b[49m\n\u001b[32m   2546\u001b[39m \u001b[43m    \u001b[49m\u001b[43mschedule_task\u001b[49m\u001b[43m=\u001b[49m\u001b[43mloop\u001b[49m\u001b[43m.\u001b[49m\u001b[43maccept_push\u001b[49m\u001b[43m,\u001b[49m\n\u001b[32m   2547\u001b[39m \u001b[43m\u001b[49m\u001b[43m)\u001b[49m\u001b[43m:\u001b[49m\n\u001b[32m   2548\u001b[39m \u001b[43m    \u001b[49m\u001b[38;5;66;43;03m# emit output\u001b[39;49;00m\n\u001b[32m   2549\u001b[39m \u001b[43m    \u001b[49m\u001b[38;5;28;43;01myield from\u001b[39;49;00m\u001b[43m \u001b[49m\u001b[43m_output\u001b[49m\u001b[43m(\u001b[49m\n\u001b[32m   2550\u001b[39m \u001b[43m        \u001b[49m\u001b[43mstream_mode\u001b[49m\u001b[43m,\u001b[49m\u001b[43m \u001b[49m\u001b[43mprint_mode\u001b[49m\u001b[43m,\u001b[49m\u001b[43m \u001b[49m\u001b[43msubgraphs\u001b[49m\u001b[43m,\u001b[49m\u001b[43m \u001b[49m\u001b[43mstream\u001b[49m\u001b[43m.\u001b[49m\u001b[43mget\u001b[49m\u001b[43m,\u001b[49m\u001b[43m \u001b[49m\u001b[43mqueue\u001b[49m\u001b[43m.\u001b[49m\u001b[43mEmpty\u001b[49m\n\u001b[32m   2551\u001b[39m \u001b[43m    \u001b[49m\u001b[43m)\u001b[49m\n\u001b[32m   2552\u001b[39m loop.after_tick()\n",
      "\u001b[36mCell\u001b[39m\u001b[36m \u001b[39m\u001b[32mIn[18]\u001b[39m\u001b[32m, line 3\u001b[39m, in \u001b[36msupervisor_node\u001b[39m\u001b[34m(state)\u001b[39m\n\u001b[32m      1\u001b[39m \u001b[38;5;28;01mdef\u001b[39;00m\u001b[38;5;250m \u001b[39m\u001b[34msupervisor_node\u001b[39m(state: State) -> Command[Literal[\u001b[33m\"\u001b[39m\u001b[33mresearcher\u001b[39m\u001b[33m\"\u001b[39m, \u001b[33m\"\u001b[39m\u001b[33mcoder\u001b[39m\u001b[33m\"\u001b[39m, \u001b[33m\"\u001b[39m\u001b[33m__end__\u001b[39m\u001b[33m\"\u001b[39m]]: \n\u001b[32m      2\u001b[39m     messages = [{\u001b[33m\"\u001b[39m\u001b[33mrole\u001b[39m\u001b[33m\"\u001b[39m: \u001b[33m\"\u001b[39m\u001b[33msystem\u001b[39m\u001b[33m\"\u001b[39m, \u001b[33m\"\u001b[39m\u001b[33mcontent\u001b[39m\u001b[33m\"\u001b[39m: system_prompt},] + state[\u001b[33m\"\u001b[39m\u001b[33mmessages\u001b[39m\u001b[33m\"\u001b[39m] \n\u001b[32m----> \u001b[39m\u001b[32m3\u001b[39m     response = \u001b[43mgroq_model\u001b[49m\u001b[43m.\u001b[49m\u001b[43mwith_structured_output\u001b[49m\u001b[43m(\u001b[49m\u001b[43mRouter\u001b[49m\u001b[43m)\u001b[49m\u001b[43m.\u001b[49m\u001b[43minvoke\u001b[49m\u001b[43m(\u001b[49m\u001b[43mmessages\u001b[49m\u001b[43m)\u001b[49m\n\u001b[32m      4\u001b[39m     goto = response[\u001b[33m\"\u001b[39m\u001b[33mnext\u001b[39m\u001b[33m\"\u001b[39m]\n\u001b[32m      5\u001b[39m     \u001b[38;5;28mprint\u001b[39m(\u001b[33m\"\u001b[39m\u001b[33mbelow my goto**********************************\u001b[39m\u001b[33m\"\u001b[39m)\n",
      "\u001b[36mFile \u001b[39m\u001b[32m~/Documents/JIM/Langgraph/env/lib/python3.13/site-packages/langchain_core/runnables/base.py:3045\u001b[39m, in \u001b[36mRunnableSequence.invoke\u001b[39m\u001b[34m(self, input, config, **kwargs)\u001b[39m\n\u001b[32m   3043\u001b[39m \u001b[38;5;28;01mwith\u001b[39;00m set_config_context(config) \u001b[38;5;28;01mas\u001b[39;00m context:\n\u001b[32m   3044\u001b[39m     \u001b[38;5;28;01mif\u001b[39;00m i == \u001b[32m0\u001b[39m:\n\u001b[32m-> \u001b[39m\u001b[32m3045\u001b[39m         input_ = \u001b[43mcontext\u001b[49m\u001b[43m.\u001b[49m\u001b[43mrun\u001b[49m\u001b[43m(\u001b[49m\u001b[43mstep\u001b[49m\u001b[43m.\u001b[49m\u001b[43minvoke\u001b[49m\u001b[43m,\u001b[49m\u001b[43m \u001b[49m\u001b[43minput_\u001b[49m\u001b[43m,\u001b[49m\u001b[43m \u001b[49m\u001b[43mconfig\u001b[49m\u001b[43m,\u001b[49m\u001b[43m \u001b[49m\u001b[43m*\u001b[49m\u001b[43m*\u001b[49m\u001b[43mkwargs\u001b[49m\u001b[43m)\u001b[49m\n\u001b[32m   3046\u001b[39m     \u001b[38;5;28;01melse\u001b[39;00m:\n\u001b[32m   3047\u001b[39m         input_ = context.run(step.invoke, input_, config)\n",
      "\u001b[36mFile \u001b[39m\u001b[32m~/Documents/JIM/Langgraph/env/lib/python3.13/site-packages/langchain_core/runnables/base.py:5431\u001b[39m, in \u001b[36mRunnableBindingBase.invoke\u001b[39m\u001b[34m(self, input, config, **kwargs)\u001b[39m\n\u001b[32m   5424\u001b[39m \u001b[38;5;129m@override\u001b[39m\n\u001b[32m   5425\u001b[39m \u001b[38;5;28;01mdef\u001b[39;00m\u001b[38;5;250m \u001b[39m\u001b[34minvoke\u001b[39m(\n\u001b[32m   5426\u001b[39m     \u001b[38;5;28mself\u001b[39m,\n\u001b[32m   (...)\u001b[39m\u001b[32m   5429\u001b[39m     **kwargs: Optional[Any],\n\u001b[32m   5430\u001b[39m ) -> Output:\n\u001b[32m-> \u001b[39m\u001b[32m5431\u001b[39m     \u001b[38;5;28;01mreturn\u001b[39;00m \u001b[38;5;28;43mself\u001b[39;49m\u001b[43m.\u001b[49m\u001b[43mbound\u001b[49m\u001b[43m.\u001b[49m\u001b[43minvoke\u001b[49m\u001b[43m(\u001b[49m\n\u001b[32m   5432\u001b[39m \u001b[43m        \u001b[49m\u001b[38;5;28;43minput\u001b[39;49m\u001b[43m,\u001b[49m\n\u001b[32m   5433\u001b[39m \u001b[43m        \u001b[49m\u001b[38;5;28;43mself\u001b[39;49m\u001b[43m.\u001b[49m\u001b[43m_merge_configs\u001b[49m\u001b[43m(\u001b[49m\u001b[43mconfig\u001b[49m\u001b[43m)\u001b[49m\u001b[43m,\u001b[49m\n\u001b[32m   5434\u001b[39m \u001b[43m        \u001b[49m\u001b[43m*\u001b[49m\u001b[43m*\u001b[49m\u001b[43m{\u001b[49m\u001b[43m*\u001b[49m\u001b[43m*\u001b[49m\u001b[38;5;28;43mself\u001b[39;49m\u001b[43m.\u001b[49m\u001b[43mkwargs\u001b[49m\u001b[43m,\u001b[49m\u001b[43m \u001b[49m\u001b[43m*\u001b[49m\u001b[43m*\u001b[49m\u001b[43mkwargs\u001b[49m\u001b[43m}\u001b[49m\u001b[43m,\u001b[49m\n\u001b[32m   5435\u001b[39m \u001b[43m    \u001b[49m\u001b[43m)\u001b[49m\n",
      "\u001b[36mFile \u001b[39m\u001b[32m~/Documents/JIM/Langgraph/env/lib/python3.13/site-packages/langchain_core/language_models/chat_models.py:372\u001b[39m, in \u001b[36mBaseChatModel.invoke\u001b[39m\u001b[34m(self, input, config, stop, **kwargs)\u001b[39m\n\u001b[32m    360\u001b[39m \u001b[38;5;129m@override\u001b[39m\n\u001b[32m    361\u001b[39m \u001b[38;5;28;01mdef\u001b[39;00m\u001b[38;5;250m \u001b[39m\u001b[34minvoke\u001b[39m(\n\u001b[32m    362\u001b[39m     \u001b[38;5;28mself\u001b[39m,\n\u001b[32m   (...)\u001b[39m\u001b[32m    367\u001b[39m     **kwargs: Any,\n\u001b[32m    368\u001b[39m ) -> BaseMessage:\n\u001b[32m    369\u001b[39m     config = ensure_config(config)\n\u001b[32m    370\u001b[39m     \u001b[38;5;28;01mreturn\u001b[39;00m cast(\n\u001b[32m    371\u001b[39m         \u001b[33m\"\u001b[39m\u001b[33mChatGeneration\u001b[39m\u001b[33m\"\u001b[39m,\n\u001b[32m--> \u001b[39m\u001b[32m372\u001b[39m         \u001b[38;5;28;43mself\u001b[39;49m\u001b[43m.\u001b[49m\u001b[43mgenerate_prompt\u001b[49m\u001b[43m(\u001b[49m\n\u001b[32m    373\u001b[39m \u001b[43m            \u001b[49m\u001b[43m[\u001b[49m\u001b[38;5;28;43mself\u001b[39;49m\u001b[43m.\u001b[49m\u001b[43m_convert_input\u001b[49m\u001b[43m(\u001b[49m\u001b[38;5;28;43minput\u001b[39;49m\u001b[43m)\u001b[49m\u001b[43m]\u001b[49m\u001b[43m,\u001b[49m\n\u001b[32m    374\u001b[39m \u001b[43m            \u001b[49m\u001b[43mstop\u001b[49m\u001b[43m=\u001b[49m\u001b[43mstop\u001b[49m\u001b[43m,\u001b[49m\n\u001b[32m    375\u001b[39m \u001b[43m            \u001b[49m\u001b[43mcallbacks\u001b[49m\u001b[43m=\u001b[49m\u001b[43mconfig\u001b[49m\u001b[43m.\u001b[49m\u001b[43mget\u001b[49m\u001b[43m(\u001b[49m\u001b[33;43m\"\u001b[39;49m\u001b[33;43mcallbacks\u001b[39;49m\u001b[33;43m\"\u001b[39;49m\u001b[43m)\u001b[49m\u001b[43m,\u001b[49m\n\u001b[32m    376\u001b[39m \u001b[43m            \u001b[49m\u001b[43mtags\u001b[49m\u001b[43m=\u001b[49m\u001b[43mconfig\u001b[49m\u001b[43m.\u001b[49m\u001b[43mget\u001b[49m\u001b[43m(\u001b[49m\u001b[33;43m\"\u001b[39;49m\u001b[33;43mtags\u001b[39;49m\u001b[33;43m\"\u001b[39;49m\u001b[43m)\u001b[49m\u001b[43m,\u001b[49m\n\u001b[32m    377\u001b[39m \u001b[43m            \u001b[49m\u001b[43mmetadata\u001b[49m\u001b[43m=\u001b[49m\u001b[43mconfig\u001b[49m\u001b[43m.\u001b[49m\u001b[43mget\u001b[49m\u001b[43m(\u001b[49m\u001b[33;43m\"\u001b[39;49m\u001b[33;43mmetadata\u001b[39;49m\u001b[33;43m\"\u001b[39;49m\u001b[43m)\u001b[49m\u001b[43m,\u001b[49m\n\u001b[32m    378\u001b[39m \u001b[43m            \u001b[49m\u001b[43mrun_name\u001b[49m\u001b[43m=\u001b[49m\u001b[43mconfig\u001b[49m\u001b[43m.\u001b[49m\u001b[43mget\u001b[49m\u001b[43m(\u001b[49m\u001b[33;43m\"\u001b[39;49m\u001b[33;43mrun_name\u001b[39;49m\u001b[33;43m\"\u001b[39;49m\u001b[43m)\u001b[49m\u001b[43m,\u001b[49m\n\u001b[32m    379\u001b[39m \u001b[43m            \u001b[49m\u001b[43mrun_id\u001b[49m\u001b[43m=\u001b[49m\u001b[43mconfig\u001b[49m\u001b[43m.\u001b[49m\u001b[43mpop\u001b[49m\u001b[43m(\u001b[49m\u001b[33;43m\"\u001b[39;49m\u001b[33;43mrun_id\u001b[39;49m\u001b[33;43m\"\u001b[39;49m\u001b[43m,\u001b[49m\u001b[43m \u001b[49m\u001b[38;5;28;43;01mNone\u001b[39;49;00m\u001b[43m)\u001b[49m\u001b[43m,\u001b[49m\n\u001b[32m    380\u001b[39m \u001b[43m            \u001b[49m\u001b[43m*\u001b[49m\u001b[43m*\u001b[49m\u001b[43mkwargs\u001b[49m\u001b[43m,\u001b[49m\n\u001b[32m    381\u001b[39m \u001b[43m        \u001b[49m\u001b[43m)\u001b[49m.generations[\u001b[32m0\u001b[39m][\u001b[32m0\u001b[39m],\n\u001b[32m    382\u001b[39m     ).message\n",
      "\u001b[36mFile \u001b[39m\u001b[32m~/Documents/JIM/Langgraph/env/lib/python3.13/site-packages/langchain_core/language_models/chat_models.py:957\u001b[39m, in \u001b[36mBaseChatModel.generate_prompt\u001b[39m\u001b[34m(self, prompts, stop, callbacks, **kwargs)\u001b[39m\n\u001b[32m    948\u001b[39m \u001b[38;5;129m@override\u001b[39m\n\u001b[32m    949\u001b[39m \u001b[38;5;28;01mdef\u001b[39;00m\u001b[38;5;250m \u001b[39m\u001b[34mgenerate_prompt\u001b[39m(\n\u001b[32m    950\u001b[39m     \u001b[38;5;28mself\u001b[39m,\n\u001b[32m   (...)\u001b[39m\u001b[32m    954\u001b[39m     **kwargs: Any,\n\u001b[32m    955\u001b[39m ) -> LLMResult:\n\u001b[32m    956\u001b[39m     prompt_messages = [p.to_messages() \u001b[38;5;28;01mfor\u001b[39;00m p \u001b[38;5;129;01min\u001b[39;00m prompts]\n\u001b[32m--> \u001b[39m\u001b[32m957\u001b[39m     \u001b[38;5;28;01mreturn\u001b[39;00m \u001b[38;5;28;43mself\u001b[39;49m\u001b[43m.\u001b[49m\u001b[43mgenerate\u001b[49m\u001b[43m(\u001b[49m\u001b[43mprompt_messages\u001b[49m\u001b[43m,\u001b[49m\u001b[43m \u001b[49m\u001b[43mstop\u001b[49m\u001b[43m=\u001b[49m\u001b[43mstop\u001b[49m\u001b[43m,\u001b[49m\u001b[43m \u001b[49m\u001b[43mcallbacks\u001b[49m\u001b[43m=\u001b[49m\u001b[43mcallbacks\u001b[49m\u001b[43m,\u001b[49m\u001b[43m \u001b[49m\u001b[43m*\u001b[49m\u001b[43m*\u001b[49m\u001b[43mkwargs\u001b[49m\u001b[43m)\u001b[49m\n",
      "\u001b[36mFile \u001b[39m\u001b[32m~/Documents/JIM/Langgraph/env/lib/python3.13/site-packages/langchain_core/language_models/chat_models.py:776\u001b[39m, in \u001b[36mBaseChatModel.generate\u001b[39m\u001b[34m(self, messages, stop, callbacks, tags, metadata, run_name, run_id, **kwargs)\u001b[39m\n\u001b[32m    773\u001b[39m \u001b[38;5;28;01mfor\u001b[39;00m i, m \u001b[38;5;129;01min\u001b[39;00m \u001b[38;5;28menumerate\u001b[39m(input_messages):\n\u001b[32m    774\u001b[39m     \u001b[38;5;28;01mtry\u001b[39;00m:\n\u001b[32m    775\u001b[39m         results.append(\n\u001b[32m--> \u001b[39m\u001b[32m776\u001b[39m             \u001b[38;5;28;43mself\u001b[39;49m\u001b[43m.\u001b[49m\u001b[43m_generate_with_cache\u001b[49m\u001b[43m(\u001b[49m\n\u001b[32m    777\u001b[39m \u001b[43m                \u001b[49m\u001b[43mm\u001b[49m\u001b[43m,\u001b[49m\n\u001b[32m    778\u001b[39m \u001b[43m                \u001b[49m\u001b[43mstop\u001b[49m\u001b[43m=\u001b[49m\u001b[43mstop\u001b[49m\u001b[43m,\u001b[49m\n\u001b[32m    779\u001b[39m \u001b[43m                \u001b[49m\u001b[43mrun_manager\u001b[49m\u001b[43m=\u001b[49m\u001b[43mrun_managers\u001b[49m\u001b[43m[\u001b[49m\u001b[43mi\u001b[49m\u001b[43m]\u001b[49m\u001b[43m \u001b[49m\u001b[38;5;28;43;01mif\u001b[39;49;00m\u001b[43m \u001b[49m\u001b[43mrun_managers\u001b[49m\u001b[43m \u001b[49m\u001b[38;5;28;43;01melse\u001b[39;49;00m\u001b[43m \u001b[49m\u001b[38;5;28;43;01mNone\u001b[39;49;00m\u001b[43m,\u001b[49m\n\u001b[32m    780\u001b[39m \u001b[43m                \u001b[49m\u001b[43m*\u001b[49m\u001b[43m*\u001b[49m\u001b[43mkwargs\u001b[49m\u001b[43m,\u001b[49m\n\u001b[32m    781\u001b[39m \u001b[43m            \u001b[49m\u001b[43m)\u001b[49m\n\u001b[32m    782\u001b[39m         )\n\u001b[32m    783\u001b[39m     \u001b[38;5;28;01mexcept\u001b[39;00m \u001b[38;5;167;01mBaseException\u001b[39;00m \u001b[38;5;28;01mas\u001b[39;00m e:\n\u001b[32m    784\u001b[39m         \u001b[38;5;28;01mif\u001b[39;00m run_managers:\n",
      "\u001b[36mFile \u001b[39m\u001b[32m~/Documents/JIM/Langgraph/env/lib/python3.13/site-packages/langchain_core/language_models/chat_models.py:1022\u001b[39m, in \u001b[36mBaseChatModel._generate_with_cache\u001b[39m\u001b[34m(self, messages, stop, run_manager, **kwargs)\u001b[39m\n\u001b[32m   1020\u001b[39m     result = generate_from_stream(\u001b[38;5;28miter\u001b[39m(chunks))\n\u001b[32m   1021\u001b[39m \u001b[38;5;28;01melif\u001b[39;00m inspect.signature(\u001b[38;5;28mself\u001b[39m._generate).parameters.get(\u001b[33m\"\u001b[39m\u001b[33mrun_manager\u001b[39m\u001b[33m\"\u001b[39m):\n\u001b[32m-> \u001b[39m\u001b[32m1022\u001b[39m     result = \u001b[38;5;28;43mself\u001b[39;49m\u001b[43m.\u001b[49m\u001b[43m_generate\u001b[49m\u001b[43m(\u001b[49m\n\u001b[32m   1023\u001b[39m \u001b[43m        \u001b[49m\u001b[43mmessages\u001b[49m\u001b[43m,\u001b[49m\u001b[43m \u001b[49m\u001b[43mstop\u001b[49m\u001b[43m=\u001b[49m\u001b[43mstop\u001b[49m\u001b[43m,\u001b[49m\u001b[43m \u001b[49m\u001b[43mrun_manager\u001b[49m\u001b[43m=\u001b[49m\u001b[43mrun_manager\u001b[49m\u001b[43m,\u001b[49m\u001b[43m \u001b[49m\u001b[43m*\u001b[49m\u001b[43m*\u001b[49m\u001b[43mkwargs\u001b[49m\n\u001b[32m   1024\u001b[39m \u001b[43m    \u001b[49m\u001b[43m)\u001b[49m\n\u001b[32m   1025\u001b[39m \u001b[38;5;28;01melse\u001b[39;00m:\n\u001b[32m   1026\u001b[39m     result = \u001b[38;5;28mself\u001b[39m._generate(messages, stop=stop, **kwargs)\n",
      "\u001b[36mFile \u001b[39m\u001b[32m~/Documents/JIM/Langgraph/env/lib/python3.13/site-packages/langchain_groq/chat_models.py:504\u001b[39m, in \u001b[36mChatGroq._generate\u001b[39m\u001b[34m(self, messages, stop, run_manager, **kwargs)\u001b[39m\n\u001b[32m    499\u001b[39m message_dicts, params = \u001b[38;5;28mself\u001b[39m._create_message_dicts(messages, stop)\n\u001b[32m    500\u001b[39m params = {\n\u001b[32m    501\u001b[39m     **params,\n\u001b[32m    502\u001b[39m     **kwargs,\n\u001b[32m    503\u001b[39m }\n\u001b[32m--> \u001b[39m\u001b[32m504\u001b[39m response = \u001b[38;5;28;43mself\u001b[39;49m\u001b[43m.\u001b[49m\u001b[43mclient\u001b[49m\u001b[43m.\u001b[49m\u001b[43mcreate\u001b[49m\u001b[43m(\u001b[49m\u001b[43mmessages\u001b[49m\u001b[43m=\u001b[49m\u001b[43mmessage_dicts\u001b[49m\u001b[43m,\u001b[49m\u001b[43m \u001b[49m\u001b[43m*\u001b[49m\u001b[43m*\u001b[49m\u001b[43mparams\u001b[49m\u001b[43m)\u001b[49m\n\u001b[32m    505\u001b[39m \u001b[38;5;28;01mreturn\u001b[39;00m \u001b[38;5;28mself\u001b[39m._create_chat_result(response)\n",
      "\u001b[36mFile \u001b[39m\u001b[32m~/Documents/JIM/Langgraph/env/lib/python3.13/site-packages/groq/resources/chat/completions.py:368\u001b[39m, in \u001b[36mCompletions.create\u001b[39m\u001b[34m(self, messages, model, exclude_domains, frequency_penalty, function_call, functions, include_domains, logit_bias, logprobs, max_completion_tokens, max_tokens, metadata, n, parallel_tool_calls, presence_penalty, reasoning_effort, reasoning_format, response_format, search_settings, seed, service_tier, stop, store, stream, temperature, tool_choice, tools, top_logprobs, top_p, user, extra_headers, extra_query, extra_body, timeout)\u001b[39m\n\u001b[32m    181\u001b[39m \u001b[38;5;28;01mdef\u001b[39;00m\u001b[38;5;250m \u001b[39m\u001b[34mcreate\u001b[39m(\n\u001b[32m    182\u001b[39m     \u001b[38;5;28mself\u001b[39m,\n\u001b[32m    183\u001b[39m     *,\n\u001b[32m   (...)\u001b[39m\u001b[32m    229\u001b[39m     timeout: \u001b[38;5;28mfloat\u001b[39m | httpx.Timeout | \u001b[38;5;28;01mNone\u001b[39;00m | NotGiven = NOT_GIVEN,\n\u001b[32m    230\u001b[39m ) -> ChatCompletion | Stream[ChatCompletionChunk]:\n\u001b[32m    231\u001b[39m \u001b[38;5;250m    \u001b[39m\u001b[33;03m\"\"\"\u001b[39;00m\n\u001b[32m    232\u001b[39m \u001b[33;03m    Creates a model response for the given chat conversation.\u001b[39;00m\n\u001b[32m    233\u001b[39m \n\u001b[32m   (...)\u001b[39m\u001b[32m    366\u001b[39m \u001b[33;03m      timeout: Override the client-level default timeout for this request, in seconds\u001b[39;00m\n\u001b[32m    367\u001b[39m \u001b[33;03m    \"\"\"\u001b[39;00m\n\u001b[32m--> \u001b[39m\u001b[32m368\u001b[39m     \u001b[38;5;28;01mreturn\u001b[39;00m \u001b[38;5;28;43mself\u001b[39;49m\u001b[43m.\u001b[49m\u001b[43m_post\u001b[49m\u001b[43m(\u001b[49m\n\u001b[32m    369\u001b[39m \u001b[43m        \u001b[49m\u001b[33;43m\"\u001b[39;49m\u001b[33;43m/openai/v1/chat/completions\u001b[39;49m\u001b[33;43m\"\u001b[39;49m\u001b[43m,\u001b[49m\n\u001b[32m    370\u001b[39m \u001b[43m        \u001b[49m\u001b[43mbody\u001b[49m\u001b[43m=\u001b[49m\u001b[43mmaybe_transform\u001b[49m\u001b[43m(\u001b[49m\n\u001b[32m    371\u001b[39m \u001b[43m            \u001b[49m\u001b[43m{\u001b[49m\n\u001b[32m    372\u001b[39m \u001b[43m                \u001b[49m\u001b[33;43m\"\u001b[39;49m\u001b[33;43mmessages\u001b[39;49m\u001b[33;43m\"\u001b[39;49m\u001b[43m:\u001b[49m\u001b[43m \u001b[49m\u001b[43mmessages\u001b[49m\u001b[43m,\u001b[49m\n\u001b[32m    373\u001b[39m \u001b[43m                \u001b[49m\u001b[33;43m\"\u001b[39;49m\u001b[33;43mmodel\u001b[39;49m\u001b[33;43m\"\u001b[39;49m\u001b[43m:\u001b[49m\u001b[43m \u001b[49m\u001b[43mmodel\u001b[49m\u001b[43m,\u001b[49m\n\u001b[32m    374\u001b[39m \u001b[43m                \u001b[49m\u001b[33;43m\"\u001b[39;49m\u001b[33;43mexclude_domains\u001b[39;49m\u001b[33;43m\"\u001b[39;49m\u001b[43m:\u001b[49m\u001b[43m \u001b[49m\u001b[43mexclude_domains\u001b[49m\u001b[43m,\u001b[49m\n\u001b[32m    375\u001b[39m \u001b[43m                \u001b[49m\u001b[33;43m\"\u001b[39;49m\u001b[33;43mfrequency_penalty\u001b[39;49m\u001b[33;43m\"\u001b[39;49m\u001b[43m:\u001b[49m\u001b[43m \u001b[49m\u001b[43mfrequency_penalty\u001b[49m\u001b[43m,\u001b[49m\n\u001b[32m    376\u001b[39m \u001b[43m                \u001b[49m\u001b[33;43m\"\u001b[39;49m\u001b[33;43mfunction_call\u001b[39;49m\u001b[33;43m\"\u001b[39;49m\u001b[43m:\u001b[49m\u001b[43m \u001b[49m\u001b[43mfunction_call\u001b[49m\u001b[43m,\u001b[49m\n\u001b[32m    377\u001b[39m \u001b[43m                \u001b[49m\u001b[33;43m\"\u001b[39;49m\u001b[33;43mfunctions\u001b[39;49m\u001b[33;43m\"\u001b[39;49m\u001b[43m:\u001b[49m\u001b[43m \u001b[49m\u001b[43mfunctions\u001b[49m\u001b[43m,\u001b[49m\n\u001b[32m    378\u001b[39m \u001b[43m                \u001b[49m\u001b[33;43m\"\u001b[39;49m\u001b[33;43minclude_domains\u001b[39;49m\u001b[33;43m\"\u001b[39;49m\u001b[43m:\u001b[49m\u001b[43m \u001b[49m\u001b[43minclude_domains\u001b[49m\u001b[43m,\u001b[49m\n\u001b[32m    379\u001b[39m \u001b[43m                \u001b[49m\u001b[33;43m\"\u001b[39;49m\u001b[33;43mlogit_bias\u001b[39;49m\u001b[33;43m\"\u001b[39;49m\u001b[43m:\u001b[49m\u001b[43m \u001b[49m\u001b[43mlogit_bias\u001b[49m\u001b[43m,\u001b[49m\n\u001b[32m    380\u001b[39m \u001b[43m                \u001b[49m\u001b[33;43m\"\u001b[39;49m\u001b[33;43mlogprobs\u001b[39;49m\u001b[33;43m\"\u001b[39;49m\u001b[43m:\u001b[49m\u001b[43m \u001b[49m\u001b[43mlogprobs\u001b[49m\u001b[43m,\u001b[49m\n\u001b[32m    381\u001b[39m \u001b[43m                \u001b[49m\u001b[33;43m\"\u001b[39;49m\u001b[33;43mmax_completion_tokens\u001b[39;49m\u001b[33;43m\"\u001b[39;49m\u001b[43m:\u001b[49m\u001b[43m \u001b[49m\u001b[43mmax_completion_tokens\u001b[49m\u001b[43m,\u001b[49m\n\u001b[32m    382\u001b[39m \u001b[43m                \u001b[49m\u001b[33;43m\"\u001b[39;49m\u001b[33;43mmax_tokens\u001b[39;49m\u001b[33;43m\"\u001b[39;49m\u001b[43m:\u001b[49m\u001b[43m \u001b[49m\u001b[43mmax_tokens\u001b[49m\u001b[43m,\u001b[49m\n\u001b[32m    383\u001b[39m \u001b[43m                \u001b[49m\u001b[33;43m\"\u001b[39;49m\u001b[33;43mmetadata\u001b[39;49m\u001b[33;43m\"\u001b[39;49m\u001b[43m:\u001b[49m\u001b[43m \u001b[49m\u001b[43mmetadata\u001b[49m\u001b[43m,\u001b[49m\n\u001b[32m    384\u001b[39m \u001b[43m                \u001b[49m\u001b[33;43m\"\u001b[39;49m\u001b[33;43mn\u001b[39;49m\u001b[33;43m\"\u001b[39;49m\u001b[43m:\u001b[49m\u001b[43m \u001b[49m\u001b[43mn\u001b[49m\u001b[43m,\u001b[49m\n\u001b[32m    385\u001b[39m \u001b[43m                \u001b[49m\u001b[33;43m\"\u001b[39;49m\u001b[33;43mparallel_tool_calls\u001b[39;49m\u001b[33;43m\"\u001b[39;49m\u001b[43m:\u001b[49m\u001b[43m \u001b[49m\u001b[43mparallel_tool_calls\u001b[49m\u001b[43m,\u001b[49m\n\u001b[32m    386\u001b[39m \u001b[43m                \u001b[49m\u001b[33;43m\"\u001b[39;49m\u001b[33;43mpresence_penalty\u001b[39;49m\u001b[33;43m\"\u001b[39;49m\u001b[43m:\u001b[49m\u001b[43m \u001b[49m\u001b[43mpresence_penalty\u001b[49m\u001b[43m,\u001b[49m\n\u001b[32m    387\u001b[39m \u001b[43m                \u001b[49m\u001b[33;43m\"\u001b[39;49m\u001b[33;43mreasoning_effort\u001b[39;49m\u001b[33;43m\"\u001b[39;49m\u001b[43m:\u001b[49m\u001b[43m \u001b[49m\u001b[43mreasoning_effort\u001b[49m\u001b[43m,\u001b[49m\n\u001b[32m    388\u001b[39m \u001b[43m                \u001b[49m\u001b[33;43m\"\u001b[39;49m\u001b[33;43mreasoning_format\u001b[39;49m\u001b[33;43m\"\u001b[39;49m\u001b[43m:\u001b[49m\u001b[43m \u001b[49m\u001b[43mreasoning_format\u001b[49m\u001b[43m,\u001b[49m\n\u001b[32m    389\u001b[39m \u001b[43m                \u001b[49m\u001b[33;43m\"\u001b[39;49m\u001b[33;43mresponse_format\u001b[39;49m\u001b[33;43m\"\u001b[39;49m\u001b[43m:\u001b[49m\u001b[43m \u001b[49m\u001b[43mresponse_format\u001b[49m\u001b[43m,\u001b[49m\n\u001b[32m    390\u001b[39m \u001b[43m                \u001b[49m\u001b[33;43m\"\u001b[39;49m\u001b[33;43msearch_settings\u001b[39;49m\u001b[33;43m\"\u001b[39;49m\u001b[43m:\u001b[49m\u001b[43m \u001b[49m\u001b[43msearch_settings\u001b[49m\u001b[43m,\u001b[49m\n\u001b[32m    391\u001b[39m \u001b[43m                \u001b[49m\u001b[33;43m\"\u001b[39;49m\u001b[33;43mseed\u001b[39;49m\u001b[33;43m\"\u001b[39;49m\u001b[43m:\u001b[49m\u001b[43m \u001b[49m\u001b[43mseed\u001b[49m\u001b[43m,\u001b[49m\n\u001b[32m    392\u001b[39m \u001b[43m                \u001b[49m\u001b[33;43m\"\u001b[39;49m\u001b[33;43mservice_tier\u001b[39;49m\u001b[33;43m\"\u001b[39;49m\u001b[43m:\u001b[49m\u001b[43m \u001b[49m\u001b[43mservice_tier\u001b[49m\u001b[43m,\u001b[49m\n\u001b[32m    393\u001b[39m \u001b[43m                \u001b[49m\u001b[33;43m\"\u001b[39;49m\u001b[33;43mstop\u001b[39;49m\u001b[33;43m\"\u001b[39;49m\u001b[43m:\u001b[49m\u001b[43m \u001b[49m\u001b[43mstop\u001b[49m\u001b[43m,\u001b[49m\n\u001b[32m    394\u001b[39m \u001b[43m                \u001b[49m\u001b[33;43m\"\u001b[39;49m\u001b[33;43mstore\u001b[39;49m\u001b[33;43m\"\u001b[39;49m\u001b[43m:\u001b[49m\u001b[43m \u001b[49m\u001b[43mstore\u001b[49m\u001b[43m,\u001b[49m\n\u001b[32m    395\u001b[39m \u001b[43m                \u001b[49m\u001b[33;43m\"\u001b[39;49m\u001b[33;43mstream\u001b[39;49m\u001b[33;43m\"\u001b[39;49m\u001b[43m:\u001b[49m\u001b[43m \u001b[49m\u001b[43mstream\u001b[49m\u001b[43m,\u001b[49m\n\u001b[32m    396\u001b[39m \u001b[43m                \u001b[49m\u001b[33;43m\"\u001b[39;49m\u001b[33;43mtemperature\u001b[39;49m\u001b[33;43m\"\u001b[39;49m\u001b[43m:\u001b[49m\u001b[43m \u001b[49m\u001b[43mtemperature\u001b[49m\u001b[43m,\u001b[49m\n\u001b[32m    397\u001b[39m \u001b[43m                \u001b[49m\u001b[33;43m\"\u001b[39;49m\u001b[33;43mtool_choice\u001b[39;49m\u001b[33;43m\"\u001b[39;49m\u001b[43m:\u001b[49m\u001b[43m \u001b[49m\u001b[43mtool_choice\u001b[49m\u001b[43m,\u001b[49m\n\u001b[32m    398\u001b[39m \u001b[43m                \u001b[49m\u001b[33;43m\"\u001b[39;49m\u001b[33;43mtools\u001b[39;49m\u001b[33;43m\"\u001b[39;49m\u001b[43m:\u001b[49m\u001b[43m \u001b[49m\u001b[43mtools\u001b[49m\u001b[43m,\u001b[49m\n\u001b[32m    399\u001b[39m \u001b[43m                \u001b[49m\u001b[33;43m\"\u001b[39;49m\u001b[33;43mtop_logprobs\u001b[39;49m\u001b[33;43m\"\u001b[39;49m\u001b[43m:\u001b[49m\u001b[43m \u001b[49m\u001b[43mtop_logprobs\u001b[49m\u001b[43m,\u001b[49m\n\u001b[32m    400\u001b[39m \u001b[43m                \u001b[49m\u001b[33;43m\"\u001b[39;49m\u001b[33;43mtop_p\u001b[39;49m\u001b[33;43m\"\u001b[39;49m\u001b[43m:\u001b[49m\u001b[43m \u001b[49m\u001b[43mtop_p\u001b[49m\u001b[43m,\u001b[49m\n\u001b[32m    401\u001b[39m \u001b[43m                \u001b[49m\u001b[33;43m\"\u001b[39;49m\u001b[33;43muser\u001b[39;49m\u001b[33;43m\"\u001b[39;49m\u001b[43m:\u001b[49m\u001b[43m \u001b[49m\u001b[43muser\u001b[49m\u001b[43m,\u001b[49m\n\u001b[32m    402\u001b[39m \u001b[43m            \u001b[49m\u001b[43m}\u001b[49m\u001b[43m,\u001b[49m\n\u001b[32m    403\u001b[39m \u001b[43m            \u001b[49m\u001b[43mcompletion_create_params\u001b[49m\u001b[43m.\u001b[49m\u001b[43mCompletionCreateParams\u001b[49m\u001b[43m,\u001b[49m\n\u001b[32m    404\u001b[39m \u001b[43m        \u001b[49m\u001b[43m)\u001b[49m\u001b[43m,\u001b[49m\n\u001b[32m    405\u001b[39m \u001b[43m        \u001b[49m\u001b[43moptions\u001b[49m\u001b[43m=\u001b[49m\u001b[43mmake_request_options\u001b[49m\u001b[43m(\u001b[49m\n\u001b[32m    406\u001b[39m \u001b[43m            \u001b[49m\u001b[43mextra_headers\u001b[49m\u001b[43m=\u001b[49m\u001b[43mextra_headers\u001b[49m\u001b[43m,\u001b[49m\u001b[43m \u001b[49m\u001b[43mextra_query\u001b[49m\u001b[43m=\u001b[49m\u001b[43mextra_query\u001b[49m\u001b[43m,\u001b[49m\u001b[43m \u001b[49m\u001b[43mextra_body\u001b[49m\u001b[43m=\u001b[49m\u001b[43mextra_body\u001b[49m\u001b[43m,\u001b[49m\u001b[43m \u001b[49m\u001b[43mtimeout\u001b[49m\u001b[43m=\u001b[49m\u001b[43mtimeout\u001b[49m\n\u001b[32m    407\u001b[39m \u001b[43m        \u001b[49m\u001b[43m)\u001b[49m\u001b[43m,\u001b[49m\n\u001b[32m    408\u001b[39m \u001b[43m        \u001b[49m\u001b[43mcast_to\u001b[49m\u001b[43m=\u001b[49m\u001b[43mChatCompletion\u001b[49m\u001b[43m,\u001b[49m\n\u001b[32m    409\u001b[39m \u001b[43m        \u001b[49m\u001b[43mstream\u001b[49m\u001b[43m=\u001b[49m\u001b[43mstream\u001b[49m\u001b[43m \u001b[49m\u001b[38;5;129;43;01mor\u001b[39;49;00m\u001b[43m \u001b[49m\u001b[38;5;28;43;01mFalse\u001b[39;49;00m\u001b[43m,\u001b[49m\n\u001b[32m    410\u001b[39m \u001b[43m        \u001b[49m\u001b[43mstream_cls\u001b[49m\u001b[43m=\u001b[49m\u001b[43mStream\u001b[49m\u001b[43m[\u001b[49m\u001b[43mChatCompletionChunk\u001b[49m\u001b[43m]\u001b[49m\u001b[43m,\u001b[49m\n\u001b[32m    411\u001b[39m \u001b[43m    \u001b[49m\u001b[43m)\u001b[49m\n",
      "\u001b[36mFile \u001b[39m\u001b[32m~/Documents/JIM/Langgraph/env/lib/python3.13/site-packages/groq/_base_client.py:1232\u001b[39m, in \u001b[36mSyncAPIClient.post\u001b[39m\u001b[34m(self, path, cast_to, body, options, files, stream, stream_cls)\u001b[39m\n\u001b[32m   1218\u001b[39m \u001b[38;5;28;01mdef\u001b[39;00m\u001b[38;5;250m \u001b[39m\u001b[34mpost\u001b[39m(\n\u001b[32m   1219\u001b[39m     \u001b[38;5;28mself\u001b[39m,\n\u001b[32m   1220\u001b[39m     path: \u001b[38;5;28mstr\u001b[39m,\n\u001b[32m   (...)\u001b[39m\u001b[32m   1227\u001b[39m     stream_cls: \u001b[38;5;28mtype\u001b[39m[_StreamT] | \u001b[38;5;28;01mNone\u001b[39;00m = \u001b[38;5;28;01mNone\u001b[39;00m,\n\u001b[32m   1228\u001b[39m ) -> ResponseT | _StreamT:\n\u001b[32m   1229\u001b[39m     opts = FinalRequestOptions.construct(\n\u001b[32m   1230\u001b[39m         method=\u001b[33m\"\u001b[39m\u001b[33mpost\u001b[39m\u001b[33m\"\u001b[39m, url=path, json_data=body, files=to_httpx_files(files), **options\n\u001b[32m   1231\u001b[39m     )\n\u001b[32m-> \u001b[39m\u001b[32m1232\u001b[39m     \u001b[38;5;28;01mreturn\u001b[39;00m cast(ResponseT, \u001b[38;5;28;43mself\u001b[39;49m\u001b[43m.\u001b[49m\u001b[43mrequest\u001b[49m\u001b[43m(\u001b[49m\u001b[43mcast_to\u001b[49m\u001b[43m,\u001b[49m\u001b[43m \u001b[49m\u001b[43mopts\u001b[49m\u001b[43m,\u001b[49m\u001b[43m \u001b[49m\u001b[43mstream\u001b[49m\u001b[43m=\u001b[49m\u001b[43mstream\u001b[49m\u001b[43m,\u001b[49m\u001b[43m \u001b[49m\u001b[43mstream_cls\u001b[49m\u001b[43m=\u001b[49m\u001b[43mstream_cls\u001b[49m\u001b[43m)\u001b[49m)\n",
      "\u001b[36mFile \u001b[39m\u001b[32m~/Documents/JIM/Langgraph/env/lib/python3.13/site-packages/groq/_base_client.py:1034\u001b[39m, in \u001b[36mSyncAPIClient.request\u001b[39m\u001b[34m(self, cast_to, options, stream, stream_cls)\u001b[39m\n\u001b[32m   1031\u001b[39m             err.response.read()\n\u001b[32m   1033\u001b[39m         log.debug(\u001b[33m\"\u001b[39m\u001b[33mRe-raising status error\u001b[39m\u001b[33m\"\u001b[39m)\n\u001b[32m-> \u001b[39m\u001b[32m1034\u001b[39m         \u001b[38;5;28;01mraise\u001b[39;00m \u001b[38;5;28mself\u001b[39m._make_status_error_from_response(err.response) \u001b[38;5;28;01mfrom\u001b[39;00m\u001b[38;5;250m \u001b[39m\u001b[38;5;28;01mNone\u001b[39;00m\n\u001b[32m   1036\u001b[39m     \u001b[38;5;28;01mbreak\u001b[39;00m\n\u001b[32m   1038\u001b[39m \u001b[38;5;28;01massert\u001b[39;00m response \u001b[38;5;129;01mis\u001b[39;00m \u001b[38;5;129;01mnot\u001b[39;00m \u001b[38;5;28;01mNone\u001b[39;00m, \u001b[33m\"\u001b[39m\u001b[33mcould not resolve response (should never happen)\u001b[39m\u001b[33m\"\u001b[39m\n",
      "\u001b[31mBadRequestError\u001b[39m: Error code: 400 - {'error': {'message': \"Failed to call a function. Please adjust your prompt. See 'failed_generation' for more details.\", 'type': 'invalid_request_error', 'code': 'tool_use_failed', 'failed_generation': '\\nOkay, so I need to figure out an efficient way to get prime numbers using Python. I\\'ve heard about the Sieve of Eratosthenes before, but I\\'m not exactly sure how it works. Let me try to break it down.\\n\\nFirst, what is a prime number? Oh right, a prime number is a number greater than 1 that has no divisors other than 1 and itself. So, numbers like 2, 3, 5, 7, etc., are primes.\\n\\nNow, the Sieve of Eratosthenes... I think it\\'s an ancient algorithm for finding all prime numbers up to a certain limit. The name sounds Greek, maybe named after someone named Eratosthenes.\\n\\nHow does it work? From what I remember, it\\'s like a sieve that filters out non-prime numbers. You start with a list of numbers, and then you iteratively mark the multiples of each prime number starting from 2.\\n\\nLet me try to outline the steps:\\n\\n1. Create a list of boolean values representing numbers from 0 to the limit. Initially, all entries are set to True, meaning all numbers are considered prime at the start.\\n2. Set the entries at indices 0 and 1 to False because 0 and 1 are not prime numbers.\\n3. Start with the first prime number, which is 2. Mark all multiples of 2 as not prime.\\n4. Move to the next number that is still marked as prime (which would be 3), and mark all its multiples as not prime.\\n5. Continue this process up to the square root of the limit. Why the square root? Oh, because if a number has a factor larger than its square root, the corresponding smaller factor would have already been marked.\\n6. After processing, collect all indices that are still marked as True. These are your prime numbers.\\n\\nWait, let me think about step 5 again. If I only go up to the square root of the limit, does that cover all possible non-prime numbers? For example, if the limit is 100, the square root is 10. So, checking up to 10 should be enough because any composite number larger than 10 would have factors less than or equal to 10.\\n\\nOkay, that makes sense. It reduces the number of iterations needed, making the algorithm more efficient.\\n\\nNow, how do I implement this in Python?\\n\\nI\\'ll start by defining a function called `get_primes` that takes a `limit` as an argument. Inside the function:\\n\\n- If the limit is less than 2, return an empty list because there are no primes less than 2.\\n- Create a boolean list `prime` of size `limit + 1`, initialized to `True`.\\n- Set `prime[0]` and `prime[1]` to `False`.\\n- Loop through each number starting from 2 up to the square root of the limit.\\n- For each number, if it\\'s still marked as prime, mark all its multiples starting from its square as not prime.\\n- Finally, collect all indices that are still `True` and return them as the list of primes.\\n\\nLet me try to write this out step by step.\\n\\nFirst, handle the edge case where the limit is less than 2:\\n\\n```python\\ndef get_primes(limit):\\n    if limit < 2:\\n        return []\\n```\\n\\nNext, create the boolean list and initialize it:\\n\\n```python\\n    prime = [True] * (limit + 1)\\n    prime[0], prime[1] = False, False\\n```\\n\\nNow, loop through each number from 2 to the square root of the limit:\\n\\n```python\\n    for current_prime in range(2, int(limit ** 0.5) + 1):\\n        if prime[current_prime]:\\n            for multiple in range(current_prime * current_prime, limit + 1, current_prime):\\n                prime[multiple] = False\\n```\\n\\nWait, why start marking multiples from `current_prime * current_prime`? Oh, right, because smaller multiples would have already been marked by smaller primes. For example, multiples of 2 have already been marked when `current_prime` was 2, so when `current_prime` is 3, starting at 9 ensures we don\\'t re-mark multiples that were already handled.\\n\\nFinally, collect the primes:\\n\\n```python\\n    primes = [num for num, is_prime in enumerate(prime) if is_prime]\\n    return primes\\n```\\n\\nPutting it all together:\\n\\n```python\\ndef get_primes(limit):\\n    if limit < 2:\\n        return []\\n    \\n    prime = [True] * (limit + 1)\\n    prime[0], prime[1] = False, False\\n    \\n    for current_prime in range(2, int(limit ** 0.5) + 1):\\n        if prime[current_prime]:\\n            for multiple in range(current_prime * current_prime, limit + 1, current_prime):\\n                prime[multiple] = False\\n    \\n    primes = [num for num, is_prime in enumerate(prime) if is_prime]\\n    return primes\\n\\n# Example usage:\\nprimes = get_primes(100)\\nprint(\"Primes up to 100:\", primes)\\n```\\n\\nLet me test this code with a small limit to see if it works. For example, if the limit is 10, the primes should be [2, 3, 5, 7].\\n\\nRunning the code with `get_primes(10)` should return [2, 3, 5, 7].\\n\\nYes, that seems correct. Now, let\\'s try with a larger number, like 100, as in the example. The output should list all primes up to 100.\\n\\nThis approach seems efficient and easy to understand. I think I\\'ve got it!\\n</think>\\n\\nTo efficiently find prime numbers in Python, you can use the Sieve of Eratosthenes algorithm. This method is highly efficient for generating all prime numbers up to a specified limit. Here\\'s a step-by-step explanation and implementation:\\n\\n### Sieve of Eratosthenes Algorithm\\n\\n1. **Initialization**: Create a boolean list `prime` where each index represents whether the number is prime. Initially, all values are set to `True`, except for indices 0 and 1, which are set to `False` because 0 and 1 are not prime numbers.\\n\\n2. **Mark Non-Primes**: Iterate through each number starting from 2 up to the square root of the limit. For each number that is still marked as prime:\\n   - Mark all its multiples as non-prime, starting from the square of the current prime number.\\n\\n3. **Collect Primes**: After processing, collect all indices that are still marked as `True` in the `prime` list. These indices represent the prime numbers up to the specified limit.\\n\\n### Python Implementation\\n\\n```python\\ndef get_primes(limit):\\n    if limit < 2:\\n        return []\\n    \\n    # Create a boolean list where each index represents whether the number is prime\\n    prime = [True] * (limit + 1)\\n    prime[0], prime[1] = False, False  # 0 and 1 are not primes\\n    \\n    # Iterate from 2 to sqrt(limit)\\n    for current_prime in range(2, int(limit ** 0.5) + 1):\\n        if prime[current_prime]:  # If current_prime is a prime\\n            # Mark multiples of current_prime starting from current_prime^2 as not prime\\n            for multiple in range(current_prime * current_prime, limit + 1, current_prime):\\n                prime[multiple] = False\\n    \\n    # Collect all indices that are still marked as True\\n    primes = [num for num, is_prime in enumerate(prime) if is_prime]\\n    return primes\\n\\n# Example usage:\\nprimes = get_primes(100)\\nprint(\"Primes up to 100:\", primes)\\n```\\n\\n### Explanation\\n\\n- **Initialization**: The boolean list `prime` is initialized to keep track of prime numbers. By default, all numbers are considered prime initially.\\n- **Marking Non-Primes**: For each prime number starting from 2, the algorithm marks its multiples as non-prime. This starts from the square of the current prime to avoid redundant checks.\\n- **Efficiency**: The algorithm runs in O(n log log n) time complexity, making it highly efficient for generating prime numbers up to a large limit.\\n- **Example Usage**: The function `get_primes` is called with a limit of 100, and the resulting list of prime numbers is printed.\\n\\nThis implementation provides an efficient and clear method to generate prime numbers, ideal for both small and large limits.'}}",
      "During task with name 'supervisor' and id '3c357782-1b79-c555-38d1-2bf40301a78d'"
     ]
    }
   ],
   "source": [
    "app.invoke({\"messages\": [(\"user\", \"What is an efficient Python code to get prime numbers?\")]}, subgraphs=True)"
   ]
  },
  {
   "cell_type": "code",
   "execution_count": null,
   "id": "52ed7e90",
   "metadata": {},
   "outputs": [],
   "source": []
  }
 ],
 "metadata": {
  "kernelspec": {
   "display_name": "env",
   "language": "python",
   "name": "python3"
  },
  "language_info": {
   "codemirror_mode": {
    "name": "ipython",
    "version": 3
   },
   "file_extension": ".py",
   "mimetype": "text/x-python",
   "name": "python",
   "nbconvert_exporter": "python",
   "pygments_lexer": "ipython3",
   "version": "3.13.3"
  }
 },
 "nbformat": 4,
 "nbformat_minor": 5
}
