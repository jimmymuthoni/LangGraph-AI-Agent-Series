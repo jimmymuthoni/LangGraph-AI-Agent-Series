{
 "cells": [
  {
   "cell_type": "code",
   "execution_count": 1,
   "id": "4437f82e",
   "metadata": {},
   "outputs": [],
   "source": [
    "from typing_extensions import Literal\n",
    "from langchain_core.tools import tool\n",
    "from langchain_groq import ChatGroq\n",
    "from langgraph.graph import MessagesState, StateGraph,START,END\n",
    "from langgraph.types import Command\n",
    "from dotenv import load_dotenv\n",
    "from IPython.display import Image, display\n",
    "from langchain_openai import ChatOpenAI\n",
    "from langchain_core.messages import BaseMessage, HumanMessage\n",
    "from langgraph.prebuilt import create_react_agent\n",
    "from typing import Annotated\n",
    "from langchain_experimental.utilities import PythonREPL"
   ]
  },
  {
   "cell_type": "code",
   "execution_count": 2,
   "id": "79eb72ac",
   "metadata": {},
   "outputs": [
    {
     "data": {
      "text/plain": [
       "True"
      ]
     },
     "execution_count": 2,
     "metadata": {},
     "output_type": "execute_result"
    }
   ],
   "source": [
    "import os\n",
    "openai_api_key = os.getenv(\"OPENAI_API_KEY\")\n",
    "load_dotenv()"
   ]
  },
  {
   "cell_type": "code",
   "execution_count": 3,
   "metadata": {},
   "outputs": [
    {
     "data": {
      "text/plain": [
       "'Hello! How can I assist you today?'"
      ]
     },
     "execution_count": 3,
     "metadata": {},
     "output_type": "execute_result"
    }
   ],
   "source": [
    "from langchain_openai import ChatOpenAI\n",
    "openai_model = ChatOpenAI(model = \"gpt-4\", openai_api_key = openai_api_key)\n",
    "openai_model.invoke(\"Hello there\").content"
   ]
  },
  {
   "cell_type": "code",
   "execution_count": 35,
   "id": "3d2f544d",
   "metadata": {},
   "outputs": [
    {
     "data": {
      "text/plain": [
       "'<think>\\n\\n</think>\\n\\nHello! How can I assist you today? 😊'"
      ]
     },
     "execution_count": 35,
     "metadata": {},
     "output_type": "execute_result"
    }
   ],
   "source": [
    "from langchain_groq import ChatGroq\n",
    "groq_model = ChatGroq(model=\"deepseek-r1-distill-llama-70b\")\n",
    "groq_model.invoke(\"Hello there\").content"
   ]
  },
  {
   "cell_type": "code",
   "execution_count": null,
   "id": "6ff9d67e",
   "metadata": {},
   "outputs": [],
   "source": []
  },
  {
   "cell_type": "code",
   "execution_count": 23,
   "id": "b84222aa",
   "metadata": {},
   "outputs": [],
   "source": [
    "@tool\n",
    "def transfer_to_multiplication_expert():\n",
    "    \"\"\"Ask mutltiplication agent for help\"\"\"\n",
    "    return"
   ]
  },
  {
   "cell_type": "code",
   "execution_count": 24,
   "metadata": {},
   "outputs": [],
   "source": [
    "@tool\n",
    "def transfer_to_addition_expert():\n",
    "    \"\"\"Ask addition agent for help\"\"\"\n",
    "    return"
   ]
  },
  {
   "cell_type": "code",
   "execution_count": 25,
   "metadata": {},
   "outputs": [],
   "source": [
    "def additional_expert(state:MessagesState)-> Command[Literal[\"multiplication_expert\", \"__end__\"]]:\n",
    "    \n",
    "    system_prompt = (\n",
    "        \"You are an addition expert, you can ask the multiplication expert for help with multiplication.\"\n",
    "        \"Always do your portion of calculation before the handoff.\"\n",
    "    )\n",
    "    \n",
    "    messages = [{\"role\": \"system\", \"content\": system_prompt}] + state[\"messages\"]\n",
    "    ai_msg = openai_model.bind_tools([transfer_to_multiplication_expert]).invoke(messages)\n",
    "    \n",
    "    if len(ai_msg.tool_calls) > 0:\n",
    "        tool_call_id = ai_msg.tool_calls[-1][\"id\"]\n",
    "        tool_msg = {\n",
    "            \"role\": \"tool\",\n",
    "            \"content\": \"Successfully transferred\",\n",
    "            \"tool_call_id\": tool_call_id,\n",
    "        }\n",
    "        \n",
    "        return Command(\n",
    "            goto=\"multiplication_expert\", update={\"messages\": [ai_msg, tool_msg]}\n",
    "        )\n",
    "    return {\"messages\": [ai_msg]}"
   ]
  },
  {
   "cell_type": "code",
   "execution_count": 26,
   "id": "a7ef73dc",
   "metadata": {},
   "outputs": [],
   "source": [
    "def multiplication_expert(state:MessagesState)-> Command[Literal[\"additional_expert\", \"__end__\"]]:\n",
    "    \n",
    "    system_prompt = (\n",
    "        \"You are a multiplication expert, you can ask an addition expert for help with addition. \"\n",
    "        \"Always do your portion of calculation before the handoff.\"\n",
    "    )\n",
    "    \n",
    "    messages = [{\"role\": \"system\", \"content\": system_prompt}] + state[\"messages\"]\n",
    "    ai_msg = openai_model.bind_tools([transfer_to_addition_expert]).invoke(messages)\n",
    "    \n",
    "    if len(ai_msg.tool_calls) > 0:\n",
    "        tool_call_id = ai_msg.tool_calls[-1][\"id\"]\n",
    "        tool_msg = {\n",
    "            \"role\": \"tool\",\n",
    "            \"content\": \"Successfully transferred\",\n",
    "            \"tool_call_id\": tool_call_id,\n",
    "        }\n",
    "        return Command(goto=\"additional_expert\", update={\"messages\": [ai_msg, tool_msg]})\n",
    "    return {\"messages\": [ai_msg]}\n"
   ]
  },
  {
   "cell_type": "code",
   "execution_count": 27,
   "id": "c4af3820",
   "metadata": {},
   "outputs": [
    {
     "data": {
      "text/plain": [
       "<langgraph.graph.state.StateGraph at 0x778e000dc3e0>"
      ]
     },
     "execution_count": 27,
     "metadata": {},
     "output_type": "execute_result"
    }
   ],
   "source": [
    "graph = StateGraph(MessagesState)\n",
    "\n",
    "graph.add_node(\"additional_expert\", additional_expert)\n",
    "graph.add_node(\"multiplication_expert\", multiplication_expert)\n"
   ]
  },
  {
   "cell_type": "code",
   "execution_count": 28,
   "id": "1e305907",
   "metadata": {},
   "outputs": [
    {
     "data": {
      "text/plain": [
       "<langgraph.graph.state.StateGraph at 0x778e000dc3e0>"
      ]
     },
     "execution_count": 28,
     "metadata": {},
     "output_type": "execute_result"
    }
   ],
   "source": [
    "graph.add_edge(START, \"additional_expert\")"
   ]
  },
  {
   "cell_type": "code",
   "execution_count": 29,
   "metadata": {},
   "outputs": [],
   "source": [
    "app = graph.compile()"
   ]
  },
  {
   "cell_type": "code",
   "execution_count": 30,
   "metadata": {},
   "outputs": [
    {
     "data": {
      "image/png": "[encoded data removed]",
      "text/plain": [
       "<IPython.core.display.Image object>"
      ]
     },
     "metadata": {},
     "output_type": "display_data"
    }
   ],
   "source": [
    "from IPython.display import Image, display\n",
    "display(Image(app.get_graph().draw_mermaid_png()))"
   ]
  },
  {
   "cell_type": "code",
   "execution_count": 31,
   "id": "e3900952",
   "metadata": {},
   "outputs": [
    {
     "data": {
      "text/plain": [
       "{'messages': [HumanMessage(content='What is (3 + 5) * 12. Please providem me the ouput.', additional_kwargs={}, response_metadata={}, id='53645123-2828-4be7-a838-0206ab0be73c'),\n",
       "  AIMessage(content='The value of (3 + 5) is 8. Now, to find out the value of 8 * 12, I shall transfer this task to the multiplication expert.', additional_kwargs={'tool_calls': [{'id': 'call_fef4v0smCeOMc5EiTVwZFEHY', 'function': {'arguments': '{}', 'name': 'transfer_to_multiplication_expert'}, 'type': 'function'}], 'refusal': None}, response_metadata={'token_usage': {'completion_tokens': 49, 'prompt_tokens': 93, 'total_tokens': 142, 'completion_tokens_details': {'accepted_prediction_tokens': 0, 'audio_tokens': 0, 'reasoning_tokens': 0, 'rejected_prediction_tokens': 0}, 'prompt_tokens_details': {'audio_tokens': 0, 'cached_tokens': 0}}, 'model_name': 'gpt-4-0613', 'system_fingerprint': None, 'id': 'chatcmpl-Br6POVYY3ZLC0lnanS5wj0OEdOleg', 'service_tier': 'default', 'finish_reason': 'tool_calls', 'logprobs': None}, id='run--58e26ea2-707e-4d02-a0dc-a93ba583560b-0', tool_calls=[{'name': 'transfer_to_multiplication_expert', 'args': {}, 'id': 'call_fef4v0smCeOMc5EiTVwZFEHY', 'type': 'tool_call'}], usage_metadata={'input_tokens': 93, 'output_tokens': 49, 'total_tokens': 142, 'input_token_details': {'audio': 0, 'cache_read': 0}, 'output_token_details': {'audio': 0, 'reasoning': 0}}),\n",
       "  ToolMessage(content='Successfully transferred', id='93db2b02-64dc-4ccb-936c-40eef77d1f0d', tool_call_id='call_fef4v0smCeOMc5EiTVwZFEHY'),\n",
       "  AIMessage(content='The value of 8 * 12 is 96.', additional_kwargs={'refusal': None}, response_metadata={'token_usage': {'completion_tokens': 13, 'prompt_tokens': 156, 'total_tokens': 169, 'completion_tokens_details': {'accepted_prediction_tokens': 0, 'audio_tokens': 0, 'reasoning_tokens': 0, 'rejected_prediction_tokens': 0}, 'prompt_tokens_details': {'audio_tokens': 0, 'cached_tokens': 0}}, 'model_name': 'gpt-4-0613', 'system_fingerprint': None, 'id': 'chatcmpl-Br6PZPzmAw5k8d3yezcKN3L48VmfI', 'service_tier': 'default', 'finish_reason': 'stop', 'logprobs': None}, id='run--ba6847dc-5ba2-45c6-a643-e7bcd8524a6b-0', usage_metadata={'input_tokens': 156, 'output_tokens': 13, 'total_tokens': 169, 'input_token_details': {'audio': 0, 'cache_read': 0}, 'output_token_details': {'audio': 0, 'reasoning': 0}})]}"
      ]
     },
     "execution_count": 31,
     "metadata": {},
     "output_type": "execute_result"
    }
   ],
   "source": [
    "app.invoke({\"messages\": [(\"user\", \"What is (3 + 5) * 12. Please providem me the ouput.\")]})"
   ]
  },
  {
   "cell_type": "code",
   "execution_count": 32,
   "id": "557f6a57",
   "metadata": {},
   "outputs": [],
   "source": [
    "from langchain_core.messages import convert_to_messages\n",
    "def pretty_print_messages(update):\n",
    "    if isinstance(update, tuple):\n",
    "        ns, update = update\n",
    "        # skip parent graph updates in the printouts\n",
    "        if len(ns) == 0:\n",
    "            return\n",
    "\n",
    "        graph_id = ns[-1].split(\":\")[0]\n",
    "        print(f\"Update from subgraph {graph_id}:\")\n",
    "        print(\"\\n\")\n",
    "\n",
    "    for node_name, node_update in update.items():\n",
    "        print(f\"Update from node {node_name}:\")\n",
    "        print(\"\\n\")\n",
    "\n",
    "        for m in convert_to_messages(node_update[\"messages\"]):\n",
    "            m.pretty_print()\n",
    "        print(\"\\n\")"
   ]
  },
  {
   "cell_type": "code",
   "execution_count": 33,
   "id": "6e52d800",
   "metadata": {},
   "outputs": [
    {
     "name": "stdout",
     "output_type": "stream",
     "text": [
      "****chunk...****\n",
      "Update from node additional_expert:\n",
      "\n",
      "\n",
      "==================================\u001b[1m Ai Message \u001b[0m==================================\n",
      "\n",
      "The addition part of the calculation is 3 + 5 = 8.\n",
      "\n",
      "To complete the operation, I'll have to ask the multiplication expert to calculate 8 * 12. \n",
      "\n",
      "Passing it to the multiplication expert now.\n",
      "Tool Calls:\n",
      "  transfer_to_multiplication_expert (call_zkptBEekQ7vEpdx5FXSrquZm)\n",
      " Call ID: call_zkptBEekQ7vEpdx5FXSrquZm\n",
      "  Args:\n",
      "=================================\u001b[1m Tool Message \u001b[0m=================================\n",
      "\n",
      "Successfully transferred\n",
      "\n",
      "\n",
      "****chunk...****\n",
      "Update from node multiplication_expert:\n",
      "\n",
      "\n",
      "==================================\u001b[1m Ai Message \u001b[0m==================================\n",
      "\n",
      "The result of 8 * 12 is 96. So the final output of the operation (3 + 5) * 12 is 96.\n",
      "\n",
      "\n"
     ]
    }
   ],
   "source": [
    "# Let's run the graph with an expression that requires both addition and multiplication:\n",
    "for chunk in app.stream(\n",
    "    {\"messages\": [(\"user\", \"what's (3 + 5) * 12. Provide me the output\")]},\n",
    "):\n",
    "    print(\"****chunk...****\")\n",
    "    \n",
    "    pretty_print_messages(chunk)"
   ]
  },
  {
   "cell_type": "code",
   "execution_count": 34,
   "id": "aaf81013",
   "metadata": {},
   "outputs": [],
   "source": [
    "@tool\n",
    "def transfer_to_travel_advisor():\n",
    "    \"\"\"Ask travel advisor for help.\"\"\"\n",
    "    return\n",
    "@tool\n",
    "def transfer_to_hotel_advisor():\n",
    "    \"\"\"Ask hotel advisor for help.\"\"\"\n",
    "    return"
   ]
  },
  {
   "cell_type": "code",
   "execution_count": 36,
   "id": "b6546270",
   "metadata": {},
   "outputs": [],
   "source": [
    "def travel_advisor(state: MessagesState) -> Command[Literal[\"hotel_advisor\", \"__end__\"]]:\n",
    "    system_prompt = (\n",
    "        \"You are a general travel expert that can recommend travel destinations (e.g. countries, cities, etc). \"\n",
    "        \"If you need hotel recommendations, ask 'hotel_advisor' for help.\"\n",
    "    )\n",
    "    \n",
    "    messages = [{\"role\": \"system\", \"content\": system_prompt}] + state[\"messages\"]\n",
    "    \n",
    "    ai_msg = groq_model.bind_tools([transfer_to_hotel_advisor]).invoke(messages)\n",
    "    \n",
    "    if len(ai_msg.tool_calls) > 0:\n",
    "        tool_call_id = ai_msg.tool_calls[-1][\"id\"]\n",
    "        tool_msg = {\n",
    "            \"role\": \"tool\",\n",
    "            \"content\": \"Successfully transferred\",\n",
    "            \"tool_call_id\": tool_call_id,\n",
    "        }\n",
    "        \n",
    "        return Command(goto=\"hotel_advisor\", update={\"messages\": [ai_msg, tool_msg]})\n",
    "    \n",
    "    return {\"messages\": [ai_msg]}"
   ]
  },
  {
   "cell_type": "code",
   "execution_count": null,
   "id": "81a4b8bc",
   "metadata": {},
   "outputs": [],
   "source": [
    "def hotel_advisor(state: MessagesState) -> Command[Literal[\"travel_advisor\", \"__end__\"]]:\n",
    "    system_prompt = (\n",
    "        \"You are a hotel expert that can provide hotel recommendations for a given destination. \"\n",
    "        \"If you need help picking travel destinations, ask 'travel_advisor' for help.\"\n",
    "    )\n",
    "    messages = [{\"role\": \"system\", \"content\": system_prompt}] + state[\"messages\"]\n",
    "    ai_msg = groq_model.bind_tools([transfer_to_travel_advisor]).invoke(messages)\n",
    "    if len(ai_msg.tool_calls) > 0:\n",
    "        tool_call_id = ai_msg.tool_calls[-1][\"id\"]\n",
    "        tool_msg = {\n",
    "            \"role\": \"tool\",\n",
    "            \"content\": \"Successfully transferred\",\n",
    "            \"tool_call_id\": tool_call_id,\n",
    "        }\n",
    "        return Command(goto=\"travel_advisor\", update={\"messages\": [ai_msg, tool_msg]})\n",
    "    return {\"messages\": [ai_msg]}"
   ]
  },
  {
   "cell_type": "code",
   "execution_count": 38,
   "id": "ed1a77e7",
   "metadata": {},
   "outputs": [
    {
     "data": {
      "text/plain": [
       "<langgraph.graph.state.StateGraph at 0x778e000de3f0>"
      ]
     },
     "execution_count": 38,
     "metadata": {},
     "output_type": "execute_result"
    }
   ],
   "source": [
    "graph_builder = StateGraph(MessagesState)\n",
    "graph_builder.add_node(\"travel_advisor\", travel_advisor)\n",
    "graph_builder.add_node(\"hotel_advisor\", hotel_advisor)"
   ]
  },
  {
   "cell_type": "code",
   "execution_count": 39,
   "id": "f464bf97",
   "metadata": {},
   "outputs": [
    {
     "data": {
      "text/plain": [
       "<langgraph.graph.state.StateGraph at 0x778e000de3f0>"
      ]
     },
     "execution_count": 39,
     "metadata": {},
     "output_type": "execute_result"
    }
   ],
   "source": [
    "# we'll always start with a general travel advisor\n",
    "graph_builder.add_edge(START, \"travel_advisor\")"
   ]
  },
  {
   "cell_type": "code",
   "execution_count": 40,
   "id": "d8c30598",
   "metadata": {},
   "outputs": [
    {
     "data": {
      "image/png": "[encoded data removed]",
      "text/plain": [
       "<IPython.core.display.Image object>"
      ]
     },
     "metadata": {},
     "output_type": "display_data"
    }
   ],
   "source": [
    "app = graph_builder.compile()\n",
    "display(Image(app.get_graph().draw_mermaid_png()))"
   ]
  },
  {
   "cell_type": "code",
   "execution_count": 41,
   "id": "31dcb64a",
   "metadata": {},
   "outputs": [
    {
     "data": {
      "text/plain": [
       "{'messages': [HumanMessage(content='I am planning a trip to the California in the USA from Mumbai. Can you guide me on travel options and suggest the best hotel?', additional_kwargs={}, response_metadata={}, id='93fb3e99-50e7-4974-95d4-b2109bccab7e'),\n",
       "  AIMessage(content='', additional_kwargs={'reasoning_content': \"Alright, the user is planning a trip from Mumbai to California in the USA. They’re asking for travel options and hotel recommendations. First, I need to figure out the best way to assist them. Since they mentioned both travel options and hotels, I should address each part.\\n\\nFor the travel options, I can suggest flying from Mumbai to major Californian cities like Los Angeles (LAX) or San Francisco (SFO) as these have direct flights. Airlines like Air India, United, or Delta might be good options. I can also mention the typical flight duration to set their expectations.\\n\\nBut the user also asked for hotel recommendations. I remember that I have a tool called hotel_advisor that can help with that. So, I should transfer the request to that tool. I'll need to let the user know I'm connecting them to the hotel expert.\\n\\nI should make sure my response is clear and helpful, guiding them smoothly to the next step without overwhelming them with too much information at once.\\n\", 'tool_calls': [{'id': '0sf1vcf1s', 'function': {'arguments': '{}', 'name': 'transfer_to_hotel_advisor'}, 'type': 'function'}]}, response_metadata={'token_usage': {'completion_tokens': 240, 'prompt_tokens': 179, 'total_tokens': 419, 'completion_time': 1.202272454, 'prompt_time': 0.011178674, 'queue_time': 0.169152808, 'total_time': 1.213451128}, 'model_name': 'deepseek-r1-distill-llama-70b', 'system_fingerprint': 'fp_87eae35036', 'finish_reason': 'tool_calls', 'logprobs': None}, id='run--183f2892-a9e8-4e3e-9f4d-a1ec3e185d69-0', tool_calls=[{'name': 'transfer_to_hotel_advisor', 'args': {}, 'id': '0sf1vcf1s', 'type': 'tool_call'}], usage_metadata={'input_tokens': 179, 'output_tokens': 240, 'total_tokens': 419}),\n",
       "  ToolMessage(content='Successfully transferred', id='be8075d8-dba5-4d66-bf29-1104f69a9bc0', tool_call_id='0sf1vcf1s'),\n",
       "  AIMessage(content=\"Great! I’d be happy to help you with your trip to California. Could you let me know which part of California you're planning to visit (e.g., San Francisco, Los Angeles, San Diego, etc.)? Also, when are you planning to travel, and what is your approximate budget for accommodations? This will help me provide you with the best hotel recommendations!\", additional_kwargs={'reasoning_content': \"Alright, so the user is planning a trip from Mumbai to California and needs help with travel options and hotel suggestions. First, I should acknowledge their request and express enthusiasm for assisting them. Since California is a large state with many popular destinations like San Francisco, Los Angeles, and San Diego, I need to ask them which specific area they're interested in. This will help me provide more tailored recommendations. Additionally, understanding their travel dates and budget will allow me to offer more precise hotel suggestions. I should make sure to phrase this in a friendly and helpful manner to encourage them to provide the necessary details.\\n\"}, response_metadata={'token_usage': {'completion_tokens': 200, 'prompt_tokens': 228, 'total_tokens': 428, 'completion_time': 0.859825077, 'prompt_time': 0.013886798, 'queue_time': 0.151254994, 'total_time': 0.873711875}, 'model_name': 'deepseek-r1-distill-llama-70b', 'system_fingerprint': 'fp_e98d30d035', 'finish_reason': 'stop', 'logprobs': None}, id='run--6762df13-52b8-4dd5-b166-fe6578a82a21-0', usage_metadata={'input_tokens': 228, 'output_tokens': 200, 'total_tokens': 428})]}"
      ]
     },
     "execution_count": 41,
     "metadata": {},
     "output_type": "execute_result"
    }
   ],
   "source": [
    "app.invoke({\"messages\":[(\"user\",\"I am planning a trip to the California in the USA from Mumbai. Can you guide me on travel options and suggest the best hotel?\")]})"
   ]
  },
  {
   "cell_type": "code",
   "execution_count": 44,
   "id": "15dd43fa",
   "metadata": {},
   "outputs": [
    {
     "name": "stdout",
     "output_type": "stream",
     "text": [
      "****chunk****\n",
      "Update from node travel_advisor:\n",
      "\n",
      "\n",
      "==================================\u001b[1m Ai Message \u001b[0m==================================\n",
      "Tool Calls:\n",
      "  transfer_to_hotel_advisor (jacsbz2s3)\n",
      " Call ID: jacsbz2s3\n",
      "  Args:\n",
      "=================================\u001b[1m Tool Message \u001b[0m=================================\n",
      "\n",
      "Successfully transferred\n",
      "\n",
      "\n",
      "****chunk****\n",
      "Update from node hotel_advisor:\n",
      "\n",
      "\n",
      "==================================\u001b[1m Ai Message \u001b[0m==================================\n",
      "Tool Calls:\n",
      "  transfer_to_travel_advisor (j4msdn7my)\n",
      " Call ID: j4msdn7my\n",
      "  Args:\n",
      "=================================\u001b[1m Tool Message \u001b[0m=================================\n",
      "\n",
      "Successfully transferred\n",
      "\n",
      "\n",
      "****chunk****\n",
      "Update from node travel_advisor:\n",
      "\n",
      "\n",
      "==================================\u001b[1m Ai Message \u001b[0m==================================\n",
      "\n",
      "Got it! I'll help you with your travel plans to Cape Town, South Africa. First, let me assist you with travel options and then transfer you to the hotel advisor for the best accommodation recommendations.\n",
      "\n",
      "\n"
     ]
    }
   ],
   "source": [
    "for chunk in app.stream(\n",
    "    {\"messages\": [(\"user\", \"I am planning a trip to the Cape town in the south africa from Nairobi. Can you guide me on travel options and suggest the best hotel?\")]},\n",
    "):\n",
    "    print(\"****chunk****\")\n",
    "    \n",
    "    pretty_print_messages(chunk)"
   ]
  },
  {
   "cell_type": "code",
   "execution_count": 45,
   "id": "b0b8c5a7",
   "metadata": {},
   "outputs": [
    {
     "name": "stdout",
     "output_type": "stream",
     "text": [
      "****chunk****\n",
      "Update from node travel_advisor:\n",
      "\n",
      "\n",
      "==================================\u001b[1m Ai Message \u001b[0m==================================\n",
      "Tool Calls:\n",
      "  transfer_to_hotel_advisor (bv37ffh0q)\n",
      " Call ID: bv37ffh0q\n",
      "  Args:\n",
      "=================================\u001b[1m Tool Message \u001b[0m=================================\n",
      "\n",
      "Successfully transferred\n",
      "\n",
      "\n",
      "****chunk****\n",
      "Update from node hotel_advisor:\n",
      "\n",
      "\n",
      "==================================\u001b[1m Ai Message \u001b[0m==================================\n",
      "\n",
      "To address your query about the best flight options from Nairobi to South Africa and recommendations for top hotels, here's a structured approach:\n",
      "\n",
      "### Flight Options from Nairobi to South Africa\n",
      "\n",
      "1. **Direct Flights:**\n",
      "   - **Kenya Airways:** Offers direct flights from Nairobi (JKIA) to Johannesburg (OR Tambo International Airport).\n",
      "   - **South African Airways:** Although they may not operate direct flights from Nairobi, they have good connectivity within South Africa.\n",
      "\n",
      "2. **Connecting Flights:**\n",
      "   - **Ethiopian Airlines:** Flights with layovers in Addis Ababa.\n",
      "   - **RwandaAir:** Flights with layovers in Kigali.\n",
      "\n",
      "3. **Flight Comparison:**\n",
      "   - Use platforms like Skyscanner or Google Flights to compare prices, durations, and convenience.\n",
      "\n",
      "### Hotel Recommendations in South Africa\n",
      "\n",
      "1. **Johannesburg:**\n",
      "   - **The Soweto Hotel:** A stylish hotel located in the heart of Soweto, offering cultural experiences.\n",
      "   - **The Westin Cape Town:** Though in Cape Town, it's a top choice for comfort and convenience.\n",
      "\n",
      "2. **Cape Town:**\n",
      "   - **Cape Town Marriott Hotel:** Offers stunning views of the city and Table Mountain.\n",
      "   - **The Silo Hotel:** A luxurious boutique hotel with excellent service.\n",
      "\n",
      "3. **Durban:**\n",
      "   - **The Oyster Box:** A seaside hotel with elegant rooms and great amenities.\n",
      "\n",
      "### Considerations for Booking\n",
      "\n",
      "1. **Purpose of Trip:**\n",
      "   - **Business:** Choose hotels near business districts.\n",
      "   - **Tourism:** Opt for hotels near attractions or natural sites.\n",
      "\n",
      "2. **Budget and Amenities:**\n",
      "   - Look for deals on Booking.com or TripAdvisor.\n",
      "   - Ensure amenities like Wi-Fi and breakfast are included.\n",
      "\n",
      "3. **Safety:**\n",
      "   - Check recent reviews and ensure the hotel is in a secure location.\n",
      "\n",
      "4. **Transportation:**\n",
      "   - Consider proximity to public transport or rental car services.\n",
      "\n",
      "5. **Travel Documentation:**\n",
      "   - Ensure your passport is valid for at least six months beyond your travel dates.\n",
      "   - Verify visa requirements for Kenyan citizens traveling to South Africa.\n",
      "\n",
      "By following this structured approach, you can efficiently plan your trip, ensuring a comfortable and convenient stay in South Africa.\n",
      "\n",
      "\n"
     ]
    }
   ],
   "source": [
    "for chunk in app.stream(\n",
    "    {\"messages\": [(\"user\", \"What are the best flight options from Nairobi to South Africa, and can you recommend top hotels for a comfortable and convenient stay?\")]},\n",
    "):\n",
    "    print(\"****chunk****\")\n",
    "    \n",
    "    pretty_print_messages(chunk)"
   ]
  },
  {
   "cell_type": "code",
   "execution_count": null,
   "id": "be5ed0bd",
   "metadata": {},
   "outputs": [],
   "source": []
  }
 ],
 "metadata": {
  "kernelspec": {
   "display_name": "env",
   "language": "python",
   "name": "python3"
  },
  "language_info": {
   "codemirror_mode": {
    "name": "ipython",
    "version": 3
   },
   "file_extension": ".py",
   "mimetype": "text/x-python",
   "name": "python",
   "nbconvert_exporter": "python",
   "pygments_lexer": "ipython3",
   "version": "3.13.3"
  }
 },
 "nbformat": 4,
 "nbformat_minor": 5
}
